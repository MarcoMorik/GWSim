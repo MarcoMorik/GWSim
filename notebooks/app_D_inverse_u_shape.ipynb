{
 "cells": [
  {
   "cell_type": "markdown",
   "id": "82a7ffa482d63197",
   "metadata": {},
   "source": [
    "## Notebook for appendix D: *Variation of CKA values near the upper bound*\n",
    "This notebook creates the figure for appendix section D. It shows the mean vs. std scatter plot for the tan-transformed and arccos-transformed CKA values."
   ]
  },
  {
   "cell_type": "code",
   "execution_count": null,
   "id": "221cff81-a939-48c3-bb17-d2f9ed2cc37a",
   "metadata": {},
   "outputs": [],
   "source": [
    "import matplotlib.pyplot as plt\n",
    "import numpy as np\n",
    "import pandas as pd\n",
    "import seaborn as sns\n",
    "\n",
    "from constants import (\n",
    "    BASE_PATH_PROJECT,\n",
    "    BASE_PATH_RESULTS,\n",
    "    ds_list_sim_file,\n",
    "    exclude_models,\n",
    "    exclude_models_w_mae,\n",
    "    fontsizes,\n",
    "    fontsizes_cols,\n",
    "    model_config_file\n",
    ")\n",
    "from helper import (\n",
    "    load_all_datasetnames_n_info,\n",
    "    load_model_configs_and_allowed_models,\n",
    "    load_similarity_matrices,\n",
    "    pp_storing_path,\n",
    "    save_or_show\n",
    ")\n"
   ]
  },
  {
   "cell_type": "markdown",
   "id": "dce9462431f48339",
   "metadata": {},
   "source": [
    "#### Global variables"
   ]
  },
  {
   "cell_type": "code",
   "execution_count": null,
   "id": "3d502146-22b8-42e5-9355-3b5f779ebebc",
   "metadata": {},
   "outputs": [],
   "source": [
    "# Define the path to the similarity matrices\n",
    "base_path_similarity_matrices = BASE_PATH_PROJECT / 'model_similarities'\n",
    "\n",
    "# Define similarity metrics to be used\n",
    "sim_metrics = [\n",
    "    'cka_kernel_rbf_unbiased_sigma_0.4',\n",
    "    'cka_kernel_linear_unbiased',\n",
    "    'rsa_method_correlation_corr_method_spearman',\n",
    "]\n",
    "\n",
    "# Load used dataset names\n",
    "ds_list, ds_info = load_all_datasetnames_n_info(ds_list_sim_file, verbose=False)\n",
    "\n",
    "# Define model filtering suffix\n",
    "suffix = ''  # '_wo_mae'\n",
    "\n",
    "# Version\n",
    "version = 'arxiv'  #'arxiv'\n",
    "\n",
    "# Define storing information\n",
    "SAVE = True\n",
    "storing_path = pp_storing_path(BASE_PATH_RESULTS / 'plots' / 'final' / version / 'app_D_inv_u_shape', SAVE)"
   ]
  },
  {
   "cell_type": "markdown",
   "id": "82e6f369c8df1536",
   "metadata": {},
   "source": [
    "#### Load data"
   ]
  },
  {
   "cell_type": "code",
   "execution_count": null,
   "id": "8c2daa51-0e4c-46c9-bdaa-c0e4cc582647",
   "metadata": {},
   "outputs": [],
   "source": [
    "# Load model configurations and allowed models\n",
    "curr_excl_models = []\n",
    "if suffix:\n",
    "    curr_excl_models = exclude_models_w_mae if 'mae' in suffix else exclude_models\n",
    "\n",
    "model_configs, allowed_models = load_model_configs_and_allowed_models(\n",
    "    path=model_config_file,\n",
    "    exclude_models=curr_excl_models,\n",
    "    exclude_alignment=True,\n",
    ")\n"
   ]
  },
  {
   "cell_type": "code",
   "execution_count": null,
   "id": "1d3b3a2c14b82691",
   "metadata": {},
   "outputs": [],
   "source": [
    "# Load similarity matrices\n",
    "sim_mats = load_similarity_matrices(\n",
    "    path=base_path_similarity_matrices,\n",
    "    ds_list=ds_list,\n",
    "    sim_metrics=sim_metrics,\n",
    "    allowed_models=allowed_models,\n",
    ")"
   ]
  },
  {
   "cell_type": "markdown",
   "id": "c3da4c4fd4bfde05",
   "metadata": {},
   "source": [
    "#### Compute the mean and std similarity matrices using the similarity matrices over all datasets and different preprocessing methods \n"
   ]
  },
  {
   "cell_type": "code",
   "execution_count": null,
   "id": "543353b78c3c8f8d",
   "metadata": {},
   "outputs": [],
   "source": [
    "mean_stds = {}\n",
    "\n",
    "\n",
    "def build_mean_std(df):\n",
    "    mean = pd.DataFrame(df.mean(axis=0), index=allowed_models, columns=allowed_models)\n",
    "    std = pd.DataFrame(df.std(axis=0), index=allowed_models, columns=allowed_models)\n",
    "    return mean, std\n",
    "\n",
    "\n",
    "for sim_metric in sim_metrics:\n",
    "    result = np.stack(list(sim_mats[sim_metric].values()), axis=0)\n",
    "\n",
    "    mean_stds[sim_metric] = {\n",
    "        'arccos': build_mean_std(np.arccos(result)),\n",
    "        'tan': build_mean_std(np.tan(result)),\n",
    "    }"
   ]
  },
  {
   "cell_type": "markdown",
   "id": "60c5fe1d-3c07-4ec2-a213-87e848363139",
   "metadata": {},
   "source": [
    "### Mean vs. STD scatter plot and comparison of different similarity metrics\n",
    "The frist scatter plot shows the mean vs. std of the tan-transformed CKA linear values, while the second shows the relationship for arccos-transformed CKA values."
   ]
  },
  {
   "cell_type": "code",
   "execution_count": null,
   "id": "49e9f6a4-f3ee-496b-bf4b-1dc13106e252",
   "metadata": {},
   "outputs": [],
   "source": [
    "curr_fontsizes = fontsizes if version == 'arxiv' else fontsizes_cols\n",
    "wspace = 0.3 if version == 'arxiv' else 0.35\n",
    "height = 2.7 if version == 'arxiv' else 3.1"
   ]
  },
  {
   "cell_type": "code",
   "execution_count": null,
   "id": "6ed3e89d-e636-4bc0-b63e-db9deb094f29",
   "metadata": {},
   "outputs": [],
   "source": [
    "color_palette = sns.color_palette(\"viridis\", 3)\n",
    "\n",
    "fig, axs = plt.subplots(nrows=1, ncols=2, figsize=(2 * 4.1, height), sharey=False, sharex=False)\n",
    "\n",
    "for i, (pp_type, (mean_res, std_res)) in enumerate(mean_stds['cka_kernel_linear_unbiased'].items()):\n",
    "    ax = axs[i]\n",
    "    iu2 = np.triu_indices(mean_res.shape[0], k=1)\n",
    "    sns.scatterplot(\n",
    "        x=mean_res.values[iu2],\n",
    "        y=std_res.values[iu2],\n",
    "        alpha=0.6,\n",
    "        ax=ax,\n",
    "        color=color_palette[i],\n",
    "    )\n",
    "\n",
    "    ax.set_xlabel(f'Mean {pp_type}(CKA linear)', fontsize=curr_fontsizes['label'])\n",
    "    ax.set_ylabel(f'Std {pp_type}(CKA linear)', fontsize=curr_fontsizes['label'])\n",
    "    ax.tick_params('both', labelsize=curr_fontsizes['ticks'])\n",
    "\n",
    "plt.tight_layout()\n",
    "plt.subplots_adjust(wspace=wspace)\n",
    "save_or_show(fig, storing_path / f'mean_std_transf_scatter_plot{suffix}.pdf', SAVE)"
   ]
  }
 ],
 "metadata": {
  "kernelspec": {
   "display_name": "Python 3 (ipykernel)",
   "language": "python",
   "name": "python3"
  },
  "language_info": {
   "codemirror_mode": {
    "name": "ipython",
    "version": 3
   },
   "file_extension": ".py",
   "mimetype": "text/x-python",
   "name": "python",
   "nbconvert_exporter": "python",
   "pygments_lexer": "ipython3",
   "version": "3.10.13"
  }
 },
 "nbformat": 4,
 "nbformat_minor": 5
}

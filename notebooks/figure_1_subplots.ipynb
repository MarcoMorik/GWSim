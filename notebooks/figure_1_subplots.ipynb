{
 "cells": [
  {
   "cell_type": "markdown",
   "id": "247ceddc166fb71c",
   "metadata": {},
   "source": [
    "## Notebook to create the subplots for Figure 1\n",
    "This notebook creates the subplots for Figure 1. It uses the similarity matrices of the models on the datasets to create the heatmaps and scatterplot."
   ]
  },
  {
   "cell_type": "code",
   "id": "221cff81-a939-48c3-bb17-d2f9ed2cc37a",
   "metadata": {},
   "source": [
    "import matplotlib.pyplot as plt\n",
    "import numpy as np\n",
    "import seaborn as sns\n",
    "\n",
    "from constants import (\n",
    "    BASE_PATH_PROJECT,\n",
    "    BASE_PATH_RESULTS,\n",
    "    ds_info_file,\n",
    "    exclude_models,\n",
    "    exclude_models_w_mae,\n",
    "    model_config_file\n",
    ")\n",
    "from helper import (\n",
    "    load_all_datasetnames_n_info,\n",
    "    load_model_configs_and_allowed_models,\n",
    "    load_similarity_matrices,\n",
    "    pp_storing_path,\n",
    "    save_or_show\n",
    ")"
   ],
   "outputs": [],
   "execution_count": null
  },
  {
   "metadata": {},
   "cell_type": "markdown",
   "source": "#### Global variables",
   "id": "c2ba030d4ef62551"
  },
  {
   "cell_type": "code",
   "id": "3d502146-22b8-42e5-9355-3b5f779ebebc",
   "metadata": {},
   "source": [
    "base_path_similarity_matrices = BASE_PATH_PROJECT / 'model_similarities'\n",
    "sim_metrics = [\n",
    "    'cka_kernel_rbf_unbiased_sigma_0.4',\n",
    "    'cka_kernel_linear_unbiased',\n",
    "]\n",
    "\n",
    "### Config datasets\n",
    "ds_list, ds_info = load_all_datasetnames_n_info(ds_info_file, verbose=True)\n",
    "\n",
    "ds_oi = ['imagenet-subset-10k', 'wds_vtab_flowers']\n",
    "\n",
    "### Model sets\n",
    "model_sets = {\n",
    "    'Image-Text': [\n",
    "        'OpenCLIP_EVA02-L-14_merged2b_s4b_b131k',\n",
    "        'OpenCLIP_RN50_openai',\n",
    "        'OpenCLIP_ViT-L-14_laion2b_s32b_b82k',\n",
    "        'OpenCLIP_ViT-L-14_laion400m_e32',\n",
    "        'vit_huge_patch14_clip_224.laion2b'],\n",
    "    'Self-Supervised': [\n",
    "        'dino-xcit-medium-24-p16',\n",
    "        'dino-xcit-small-12-p16',\n",
    "        'dinov2-vit-large-p14',\n",
    "        'simclr-rn50',\n",
    "        'vicreg-rn50'\n",
    "    ],\n",
    "    'Supervised': [\n",
    "        'beit_large_patch16_224.in22k_ft_in22k',\n",
    "        'deit3_base_patch16_224.fb_in22k_ft_in1k',\n",
    "        'efficientnet_b7',\n",
    "        'resnet152',\n",
    "        'resnet50',\n",
    "        'vgg19',\n",
    "        'vit_large_patch16_224'\n",
    "    ]\n",
    "}\n",
    "\n",
    "## Storing info\n",
    "\n",
    "suffix = ''\n",
    "# suffix = '_wo_mae'\n",
    "\n",
    "SAVE = False\n",
    "storing_path = pp_storing_path(BASE_PATH_RESULTS / f'plots/figure_1_subplots', SAVE)"
   ],
   "outputs": [],
   "execution_count": null
  },
  {
   "metadata": {},
   "cell_type": "markdown",
   "source": "#### Load model configs and similarity matrices",
   "id": "628cd51c8ea15c5c"
  },
  {
   "cell_type": "code",
   "id": "8c2daa51-0e4c-46c9-bdaa-c0e4cc582647",
   "metadata": {},
   "source": [
    "curr_excl_models = []\n",
    "if suffix:\n",
    "    curr_excl_models = exclude_models_w_mae if 'mae' in suffix else exclude_models\n",
    "\n",
    "model_configs, allowed_models = load_model_configs_and_allowed_models(\n",
    "    path=model_config_file,\n",
    "    exclude_models=curr_excl_models,\n",
    "    exclude_alignment=True,\n",
    ")\n"
   ],
   "outputs": [],
   "execution_count": null
  },
  {
   "cell_type": "code",
   "id": "1d3b3a2c14b82691",
   "metadata": {},
   "source": [
    "sim_mats = load_similarity_matrices(\n",
    "    path=base_path_similarity_matrices,\n",
    "    ds_list=ds_list,\n",
    "    sim_metrics=sim_metrics,\n",
    "    allowed_models=allowed_models,\n",
    ")"
   ],
   "outputs": [],
   "execution_count": null
  },
  {
   "metadata": {},
   "cell_type": "markdown",
   "source": "### Heatmaps and Scatterplot",
   "id": "f694bdae72a79aa7"
  },
  {
   "cell_type": "code",
   "id": "a84b9a1d-4137-4735-ba24-187ab34c9ffe",
   "metadata": {},
   "source": [
    "curr_sim_metric = 'cka_kernel_linear_unbiased'\n",
    "sim_data = sim_mats[curr_sim_metric]"
   ],
   "outputs": [],
   "execution_count": null
  },
  {
   "cell_type": "code",
   "id": "03d764f1-3b67-4fc7-9e97-ad5c5186ddfb",
   "metadata": {},
   "source": [
    "phi = model_sets['Self-Supervised']\n",
    "theta = model_sets['Supervised']\n",
    "print(f'{len(phi)=}, {len(theta)=}')\n",
    "\n",
    "ds_A = sim_data[ds_oi[0]].loc[phi, theta]\n",
    "ds_B = sim_data[ds_oi[1]].loc[phi, theta]\n",
    "\n",
    "vmin = min(ds_A.min().min(), ds_B.min().min())\n",
    "vmax = max(ds_A.max().max(), ds_B.max().max())"
   ],
   "outputs": [],
   "execution_count": null
  },
  {
   "cell_type": "code",
   "id": "560b0bcb-c3dd-4655-9fd3-c6ab8ab77af4",
   "metadata": {},
   "source": [
    "def get_heatmap(df, palette):\n",
    "    plt.figure(figsize=df.shape)\n",
    "\n",
    "    sns.heatmap(\n",
    "        df.T,\n",
    "        xticklabels=False,\n",
    "        yticklabels=False,\n",
    "        cbar=False,\n",
    "        vmin=vmin,\n",
    "        vmax=vmax,\n",
    "        cmap=palette\n",
    "    )\n",
    "    return plt.gcf()"
   ],
   "outputs": [],
   "execution_count": null
  },
  {
   "cell_type": "markdown",
   "id": "c2a8e91478014b80",
   "metadata": {},
   "source": [
    "#### Heatmaps"
   ]
  },
  {
   "cell_type": "code",
   "id": "f1946bc0-f21d-4313-9bec-da91e7571202",
   "metadata": {},
   "source": [
    "fig = get_heatmap(ds_A, palette='Purples')\n",
    "save_or_show(fig, storing_path / f'ds_A_heatmap.pdf', SAVE)"
   ],
   "outputs": [],
   "execution_count": null
  },
  {
   "cell_type": "code",
   "id": "1dbb85ba-c531-4a5f-bf36-eb8f89f8f112",
   "metadata": {},
   "source": [
    "fig = get_heatmap(ds_B, palette='OrRd')\n",
    "save_or_show(fig, storing_path / f'ds_B_heatmap.pdf', SAVE)"
   ],
   "outputs": [],
   "execution_count": null
  },
  {
   "cell_type": "markdown",
   "id": "9f4fdf6e90bee556",
   "metadata": {},
   "source": [
    "#### Scatterplot"
   ]
  },
  {
   "cell_type": "code",
   "id": "d25c9ee0-3a2f-436e-b771-5c66abd9475d",
   "metadata": {},
   "source": [
    "corr_coef = np.corrcoef(ds_A.values.flatten(), ds_B.values.flatten())[0, 1]\n",
    "print(corr_coef)\n",
    "\n",
    "# Create the plot\n",
    "plt.figure(figsize=(6, 4))\n",
    "sns.regplot(\n",
    "    x=ds_B.values.flatten(),\n",
    "    y=ds_A.values.flatten(),\n",
    "    color='darkgrey',\n",
    "    line_kws=dict(alpha=1, ls='--', lw=3),\n",
    "    scatter_kws=dict(alpha=1, s=75),\n",
    "    ci=None,\n",
    ")\n",
    "sns.despine()\n",
    "\n",
    "plt.tick_params('both', bottom=False, left=False, labelbottom=False, labelleft=False)\n",
    "save_or_show(plt.gcf(), storing_path / f'scatter_phi_theta.pdf', SAVE)"
   ],
   "outputs": [],
   "execution_count": null
  }
 ],
 "metadata": {
  "kernelspec": {
   "display_name": "Python 3 (ipykernel)",
   "language": "python",
   "name": "python3"
  },
  "language_info": {
   "codemirror_mode": {
    "name": "ipython",
    "version": 3
   },
   "file_extension": ".py",
   "mimetype": "text/x-python",
   "name": "python",
   "nbconvert_exporter": "python",
   "pygments_lexer": "ipython3",
   "version": "3.10.13"
  }
 },
 "nbformat": 4,
 "nbformat_minor": 5
}

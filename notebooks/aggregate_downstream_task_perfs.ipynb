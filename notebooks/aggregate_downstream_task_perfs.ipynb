{
 "cells": [
  {
   "cell_type": "markdown",
   "id": "a540557eca33ce1b",
   "metadata": {},
   "source": [
    "## Notebook to aggregate the downstream task performances for each model\n",
    "After running single model evaluation with `../scripts/single_model_evaluation.py` for all models and datasets with can gather the linear probe results and store the aggregated information in a single csv file. "
   ]
  },
  {
   "cell_type": "code",
   "execution_count": null,
   "id": "60d4c5d5b774e88c",
   "metadata": {},
   "outputs": [],
   "source": [
    "from itertools import product\n",
    "\n",
    "import pandas as pd\n",
    "\n",
    "from sim_consistency.analysis.utils import retrieve_performance\n",
    "from constants import (\n",
    "    BASE_PATH_RESULTS,\n",
    "    ds_list_perf_file,\n",
    "    exclude_models,\n",
    "    model_config_file\n",
    ")\n",
    "from helper import (\n",
    "    load_all_datasetnames_n_info,\n",
    "    load_model_configs_and_allowed_models,\n",
    "    pp_storing_path\n",
    ")"
   ]
  },
  {
   "cell_type": "markdown",
   "id": "d72ef81fa2ccaf6f",
   "metadata": {},
   "source": [
    "#### Global variables"
   ]
  },
  {
   "cell_type": "code",
   "execution_count": null,
   "id": "65d9c81e0c5f8cbe",
   "metadata": {},
   "outputs": [],
   "source": [
    "# Datasets\n",
    "ds_list_perf, ds_info = load_all_datasetnames_n_info(ds_list_perf_file, verbose=True)\n",
    "\n",
    "# Results of downstream task linear probes \n",
    "results_root = BASE_PATH_RESULTS / 'linear_probe/single_model'\n",
    "\n",
    "storing_path = pp_storing_path(BASE_PATH_RESULTS / f'aggregated/single_model_performance', True)"
   ]
  },
  {
   "cell_type": "markdown",
   "id": "b868c7b9d33e597c",
   "metadata": {},
   "source": [
    "#### Load config"
   ]
  },
  {
   "cell_type": "code",
   "execution_count": null,
   "id": "ced88ccd0460de04",
   "metadata": {},
   "outputs": [],
   "source": [
    "model_configs, allowed_models = load_model_configs_and_allowed_models(\n",
    "    path=model_config_file,\n",
    "    exclude_models=exclude_models,\n",
    "    exclude_alignment=True,\n",
    ")"
   ]
  },
  {
   "cell_type": "markdown",
   "id": "d284599b7172282b",
   "metadata": {},
   "source": [
    "### Aggreggate downstream task performance for all combinations of (ds_list_perf, allowed_models)"
   ]
  },
  {
   "cell_type": "code",
   "execution_count": null,
   "id": "initial_id",
   "metadata": {},
   "outputs": [],
   "source": [
    "res = []\n",
    "for ds, mid in product(ds_list_perf, allowed_models):\n",
    "    performance = retrieve_performance(\n",
    "        model_id=mid,\n",
    "        dataset_id=ds,\n",
    "        metric_column='test_lp_acc1',\n",
    "        results_root=results_root,\n",
    "        regularization=\"weight_decay\",\n",
    "        allow_db_results=False\n",
    "    )\n",
    "    res.append({\n",
    "        'DS': ds,\n",
    "        'Model': mid,\n",
    "        'TestAcc': performance\n",
    "    })\n",
    "perf_res = pd.DataFrame(res)"
   ]
  },
  {
   "cell_type": "code",
   "execution_count": null,
   "id": "4cd5e93bc04c167b",
   "metadata": {},
   "outputs": [],
   "source": [
    "fn = storing_path / 'all_ds.csv'\n",
    "print(f\"Storing aggrgated results at {fn}\")\n",
    "perf_res.to_csv(fn, index=False)"
   ]
  }
 ],
 "metadata": {
  "kernelspec": {
   "display_name": "Python 3 (ipykernel)",
   "language": "python",
   "name": "python3"
  },
  "language_info": {
   "codemirror_mode": {
    "name": "ipython",
    "version": 3
   },
   "file_extension": ".py",
   "mimetype": "text/x-python",
   "name": "python",
   "nbconvert_exporter": "python",
   "pygments_lexer": "ipython3",
   "version": "3.9.20"
  }
 },
 "nbformat": 4,
 "nbformat_minor": 5
}

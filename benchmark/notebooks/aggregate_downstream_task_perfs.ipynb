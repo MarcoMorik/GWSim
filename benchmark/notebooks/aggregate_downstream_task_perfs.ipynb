{
 "cells": [
  {
   "metadata": {},
   "cell_type": "markdown",
   "source": [
    "## Notebook to aggregate the downstream task performances for each model\n",
    "After running single model evaluation with `../scripts/single_model_evaluation.py` for all models and datasets with can gather the linear probe results and store the aggregated information in a single csv file. "
   ],
   "id": "a540557eca33ce1b"
  },
  {
   "metadata": {},
   "cell_type": "code",
   "outputs": [],
   "execution_count": null,
   "source": [
    "from itertools import product\n",
    "\n",
    "import pandas as pd\n",
    "\n",
    "from clip_benchmark.analysis.utils import retrieve_performance\n",
    "from constants import exclude_models, model_config_file, BASE_PATH_RESULTS\n",
    "from helper import load_all_datasetnames_n_info, load_model_configs_and_allowed_models, pp_storing_path"
   ],
   "id": "60d4c5d5b774e88c"
  },
  {
   "metadata": {},
   "cell_type": "markdown",
   "source": "#### Global variables",
   "id": "d72ef81fa2ccaf6f"
  },
  {
   "metadata": {},
   "cell_type": "code",
   "outputs": [],
   "execution_count": null,
   "source": [
    "ds_list_perf, ds_info = load_all_datasetnames_n_info('../scripts/webdatasets_w_in1k.txt', verbose=True)\n",
    "\n",
    "results_root = BASE_PATH_RESULTS / 'linear_probe/single_model'\n",
    "\n",
    "SAVE = False\n",
    "storing_path = pp_storing_path(BASE_PATH_RESULTS / f'aggregated/single_model_performance', SAVE)"
   ],
   "id": "65d9c81e0c5f8cbe"
  },
  {
   "metadata": {},
   "cell_type": "markdown",
   "source": "#### Load config",
   "id": "b868c7b9d33e597c"
  },
  {
   "metadata": {},
   "cell_type": "code",
   "outputs": [],
   "execution_count": null,
   "source": [
    "model_configs, allowed_models = load_model_configs_and_allowed_models(\n",
    "    path=model_config_file,\n",
    "    exclude_models=exclude_models,\n",
    "    exclude_alignment=True,\n",
    ")"
   ],
   "id": "ced88ccd0460de04"
  },
  {
   "metadata": {},
   "cell_type": "markdown",
   "source": "### Aggreggate downstream task performance for all combinations of (ds_list_perf, allowed_models)",
   "id": "d284599b7172282b"
  },
  {
   "cell_type": "code",
   "execution_count": null,
   "id": "initial_id",
   "metadata": {
    "collapsed": true
   },
   "outputs": [],
   "source": [
    "res = []\n",
    "for ds, mid in product(ds_list_perf, allowed_models):\n",
    "    performance = retrieve_performance(\n",
    "        model_id=mid,\n",
    "        dataset_id=ds,\n",
    "        metric_column='test_lp_acc1',\n",
    "        results_root=results_root,\n",
    "        regularization=\"weight_decay\",\n",
    "        allow_db_results=False\n",
    "    )\n",
    "    res.append({\n",
    "        'DS': ds,\n",
    "        'Model': mid,\n",
    "        'TestAcc': performance\n",
    "    })\n",
    "perf_res = pd.DataFrame(res)"
   ]
  },
  {
   "metadata": {},
   "cell_type": "code",
   "outputs": [],
   "execution_count": null,
   "source": [
    "if SAVE:\n",
    "    perf_res.to_csv(storing_path / f'all_ds.csv', index=False)"
   ],
   "id": "4cd5e93bc04c167b"
  }
 ],
 "metadata": {
  "kernelspec": {
   "display_name": "Python 3",
   "language": "python",
   "name": "python3"
  },
  "language_info": {
   "codemirror_mode": {
    "name": "ipython",
    "version": 2
   },
   "file_extension": ".py",
   "mimetype": "text/x-python",
   "name": "python",
   "nbconvert_exporter": "python",
   "pygments_lexer": "ipython2",
   "version": "2.7.6"
  }
 },
 "nbformat": 4,
 "nbformat_minor": 5
}

{
 "cells": [
  {
   "cell_type": "code",
   "execution_count": 1,
   "id": "381a5a4a-0c91-4af4-94f2-c69af7ea9bbe",
   "metadata": {},
   "outputs": [],
   "source": [
    "import os\n",
    "import json \n",
    "import pandas as pd\n",
    "import sys\n",
    "from itertools import product\n",
    "from tqdm.notebook import tqdm\n",
    "from pathlib import Path\n",
    "import torch\n",
    "import seaborn as sns\n",
    "import matplotlib.pyplot as plt\n",
    "\n",
    "from clip_benchmark.utils.utils import retrieve_model_dataset_results\n",
    "\n",
    "#from constants import sim_metric_name_mapping\n",
    "#from helper import get_model_ids\n",
    "\n",
    "sys.path.append('..')\n",
    "from scripts.helper import load_models, get_hyperparams, parse_datasets"
   ]
  },
  {
   "cell_type": "markdown",
   "id": "a8a789ce-3e29-4be4-ac9d-811dc5722843",
   "metadata": {},
   "source": [
    "#### Global variables"
   ]
  },
  {
   "cell_type": "code",
   "execution_count": 179,
   "id": "a2c39ea7-903e-4905-a3a5-0dbcbec6ee1e",
   "metadata": {},
   "outputs": [],
   "source": [
    "## DATASET AND MODEL CONFIG\n",
    "datasets = \"../scripts/webdatasets_wo_imagenet.txt\"\n",
    "model_config = \"../scripts/filtered_models_config.json\"\n",
    "#anchor_model = \"OpenCLIP_ViT-L-14_openai\" # ANCHOR MODEL 1\n",
    "anchor_model = \"resnet50\" # ANCHOR MODEL 2\n",
    "combiner='concat'\n",
    "\n",
    "## SIMILARITY METRICS \n",
    "similarity_metrics = [\n",
    "    'cka_kernel_rbf_unbiased_sigma_0.2',\n",
    "    'cka_kernel_rbf_unbiased_sigma_0.4',\n",
    "    'cka_kernel_rbf_unbiased_sigma_0.6',\n",
    "    'cka_kernel_rbf_unbiased_sigma_0.8',  \n",
    "    'cka_kernel_linear_unbiased',\n",
    "    'rsa_method_correlation_corr_method_pearson',\n",
    "    'rsa_method_correlation_corr_method_spearman',\n",
    "]\n",
    "sim_metric  = similarity_metrics[1]\n",
    "\n",
    "### IMAGENET SUBSET SIMILARITIES\n",
    "base_subset = 'imagenet-subset-10k'\n",
    "model_similarities_base_path = Path('/home/space/diverse_priors/model_similarities') / base_subset\n",
    "model_similarities_path = model_similarities_base_path / sim_metric\n",
    "\n",
    "### AGGREGATED RESULTS --> GOTTEN WITH gather_anchor_exp_results.ipynb\n",
    "base_path_aggregated_results = Path('/home/space/diverse_priors/results/aggregated')\n",
    "\n",
    "### SINGLE MODEL BEST PERFORMANCES --> structure path / [L1, L2, weight_decay] / [DATASET].json\n",
    "single_model_best_perf_path = Path('/home/space/diverse_priors/results/aggregated/max_performance_per_model_n_ds')\n",
    "\n",
    "### Imagenet Performance base path\n",
    "singe_model_imgnet_path = Path(\"/home/space/diverse_priors/results/linear_probe/single_model/wds_imagenet1k\")"
   ]
  },
  {
   "cell_type": "code",
   "execution_count": null,
   "id": "652954ff-deff-407b-8512-63df992dea86",
   "metadata": {},
   "outputs": [],
   "source": []
  },
  {
   "cell_type": "markdown",
   "id": "5c0c9e45-5a78-4cda-9d5b-5baf5abc2073",
   "metadata": {},
   "source": [
    "#### Storing information"
   ]
  },
  {
   "cell_type": "code",
   "execution_count": 180,
   "id": "471a763e-0c49-45ad-be90-e5df563ad559",
   "metadata": {},
   "outputs": [],
   "source": [
    "# base_storing_path = Path('/home/lciernik/projects/divers-priors/diverse_priors/benchmark/scripts/test_results/neg_corr_exp')\n",
    "base_storing_path = Path('/home/space/diverse_priors/results/plots/performance_gap_imagenet_acc')\n",
    "storing_path = base_storing_path / f\"{base_subset.replace('-', '_')}__{anchor_model}\"\n",
    "SAVE = True\n",
    "\n",
    "if SAVE:\n",
    "    storing_path.mkdir(parents=True, exist_ok=True)"
   ]
  },
  {
   "cell_type": "markdown",
   "id": "d5563f7e-15d5-41c5-840c-a20d8e8658df",
   "metadata": {},
   "source": [
    "#### Load similarity values"
   ]
  },
  {
   "cell_type": "code",
   "execution_count": 181,
   "id": "e682a7e0-7879-40b4-8398-95fa2f4826d2",
   "metadata": {},
   "outputs": [
    {
     "name": "stdout",
     "output_type": "stream",
     "text": [
      "sim_mat.shape=(57, 57)\n"
     ]
    }
   ],
   "source": [
    "model_ids_fn = model_similarities_path / 'model_ids.txt'\n",
    "sim_mat_fn = model_similarities_path / 'similarity_matrix.pt'\n",
    "\n",
    "def get_model_ids(fn):\n",
    "    with open(fn, 'r') as file:\n",
    "        lines = file.readlines()\n",
    "    lines = [line.strip() for line in lines]\n",
    "    return lines\n",
    "\n",
    "model_ids = get_model_ids(model_ids_fn)\n",
    "sim_mat = torch.load(sim_mat_fn)\n",
    "sim_mat = pd.DataFrame(sim_mat, index = model_ids, columns=model_ids)\n",
    "\n",
    "# filter models \n",
    "models, nmodels = load_models(model_config)\n",
    "allowed_models = sorted(list(models.keys()))\n",
    "sim_mat = sim_mat.loc[allowed_models, allowed_models]\n",
    "print(f\"{sim_mat.shape=}\")"
   ]
  },
  {
   "cell_type": "markdown",
   "id": "9b27926f-4315-43f3-a34b-c1152d15b34f",
   "metadata": {},
   "source": [
    "#### Load experiment results"
   ]
  },
  {
   "cell_type": "code",
   "execution_count": 182,
   "id": "0854bbfe-17a0-48ab-92dc-ec952382403d",
   "metadata": {},
   "outputs": [],
   "source": [
    "os.listdir(single_model_best_perf_path/\"L2\")\n",
    "def read_json(ds, reg):\n",
    "    with open(single_model_best_perf_path/reg/(ds+\".json\")) as f:\n",
    "        d = json.load(f)\n",
    "    return d\n",
    "\n",
    "single_results = {ds: {reg: read_json(ds, reg) for  reg in df[\"regularization\"].unique()} for ds in df[\"dataset\"].unique()}\n"
   ]
  },
  {
   "cell_type": "code",
   "execution_count": null,
   "id": "6522dfe7-a2e5-4575-be79-3befde7284bd",
   "metadata": {},
   "outputs": [],
   "source": []
  },
  {
   "cell_type": "code",
   "execution_count": 183,
   "id": "62ea1f21-9112-4eb8-8010-0e90a4d5f89e",
   "metadata": {},
   "outputs": [],
   "source": [
    "df = pd.read_pickle(base_path_aggregated_results / f'anchor_{anchor_model}.pkl')"
   ]
  },
  {
   "cell_type": "code",
   "execution_count": 184,
   "id": "c6e9108e-97bb-4aff-ba41-76c39504f290",
   "metadata": {},
   "outputs": [],
   "source": [
    "HYPER_PARAM_COLS = ['task', 'mode', 'combiner', 'dataset', 'model_ids', 'fewshot_k', 'fewshot_epochs', 'batch_size', 'regularization']"
   ]
  },
  {
   "cell_type": "code",
   "execution_count": 185,
   "id": "a30496c6-b169-4ab3-b815-07cdac165570",
   "metadata": {},
   "outputs": [],
   "source": [
    "df['model_ids'] = df['model_ids'].apply(eval).apply(tuple)\n",
    "df['dataset'] = df['dataset'].apply(lambda x: x.replace('/', '_'))"
   ]
  },
  {
   "cell_type": "code",
   "execution_count": 186,
   "id": "13b5aa8b-c906-4c66-90b3-dbaade7378d8",
   "metadata": {},
   "outputs": [],
   "source": [
    "mean_df = df.groupby(HYPER_PARAM_COLS, dropna=False).test_lp_acc1.mean().reset_index()"
   ]
  },
  {
   "cell_type": "markdown",
   "id": "ca75110a-bac4-4e70-bce6-e8c7f94d4c2b",
   "metadata": {},
   "source": [
    "#### Prepare data for plotting\n",
    "Steps:\n",
    "1. Compute performance gap between combined model (concat or ensemble) and single model for each dataset.\n",
    "2. Add similarity value for each pair of model"
   ]
  },
  {
   "cell_type": "code",
   "execution_count": 187,
   "id": "2d003f28-b253-48e2-8b73-7da1cbaf856f",
   "metadata": {},
   "outputs": [
    {
     "name": "stdout",
     "output_type": "stream",
     "text": [
      "single_performance.shape=(72, 10), concat_performance.shape=(4029, 10), ensemble_performance.shape=(4029, 10)\n"
     ]
    }
   ],
   "source": [
    "single_performance = mean_df[mean_df['mode'] == 'single_model'].copy().reset_index(drop=True)\n",
    "concat_performance = mean_df[mean_df['mode'] == 'combined_models'].copy().reset_index(drop=True)\n",
    "ensemble_performance = mean_df[mean_df['mode'] == 'ensemble'].copy().reset_index(drop=True)\n",
    "print(f\"{single_performance.shape=}, {concat_performance.shape=}, {ensemble_performance.shape=}\")"
   ]
  },
  {
   "cell_type": "code",
   "execution_count": 188,
   "id": "8fc3f2be-034d-4601-ba68-71ba901061ed",
   "metadata": {},
   "outputs": [],
   "source": [
    "concat_performance['other_model'] = concat_performance['model_ids'].apply(lambda x: x[0] if x[1] == anchor_model else x[1])\n",
    "ensemble_performance['other_model'] = ensemble_performance['model_ids'].apply(lambda x: x[0] if x[1] == anchor_model else x[1])"
   ]
  },
  {
   "cell_type": "code",
   "execution_count": 189,
   "id": "c0c8fe22-f691-47f4-a2db-0e12a30c36e0",
   "metadata": {},
   "outputs": [],
   "source": [
    "def read_img_json(model, reg):\n",
    "    with open(singe_model_imgnet_path/model/\"no_fewshot\"/\"fewshot_epochs_20\"/f\"regularization_{reg}\"/'batch_size_1024'/\"seed_0\"/\"results.json\") as f:\n",
    "        d = json.load(f)\n",
    "    return d[\"test_lp_acc1\"][\"0\"]\n",
    "\n",
    "imgnet_results = {reg: {model: read_img_json(model, reg) for model in concat_performance[\"other_model\"].unique()} for  reg in df[\"regularization\"].unique()}\n"
   ]
  },
  {
   "cell_type": "code",
   "execution_count": 190,
   "id": "314b73c5-7543-44c9-9d80-ce09f2b851d8",
   "metadata": {},
   "outputs": [],
   "source": [
    "ensemble_performance[\"other_model_dsacc\"] = ensemble_performance.apply(lambda x: single_results[x[\"dataset\"]][x[\"regularization\"]][x[\"other_model\"]],axis=1)\n",
    "concat_performance[\"other_model_dsacc\"] = concat_performance.apply(lambda x: single_results[x[\"dataset\"]][x[\"regularization\"]][x[\"other_model\"]],axis=1)\n",
    "ensemble_performance[\"other_model_imgacc\"] = ensemble_performance.apply(lambda x: imgnet_results[x[\"regularization\"]][x[\"other_model\"]],axis=1)\n",
    "concat_performance[\"other_model_imgacc\"] = concat_performance.apply(lambda x: imgnet_results[x[\"regularization\"]][x[\"other_model\"]],axis=1)"
   ]
  },
  {
   "cell_type": "code",
   "execution_count": 191,
   "id": "4daf14d2-e360-4298-b12d-a7fe640b4aba",
   "metadata": {},
   "outputs": [
    {
     "data": {
      "text/html": [
       "<div>\n",
       "<style scoped>\n",
       "    .dataframe tbody tr th:only-of-type {\n",
       "        vertical-align: middle;\n",
       "    }\n",
       "\n",
       "    .dataframe tbody tr th {\n",
       "        vertical-align: top;\n",
       "    }\n",
       "\n",
       "    .dataframe thead th {\n",
       "        text-align: right;\n",
       "    }\n",
       "</style>\n",
       "<table border=\"1\" class=\"dataframe\">\n",
       "  <thead>\n",
       "    <tr style=\"text-align: right;\">\n",
       "      <th>regularization</th>\n",
       "      <th>L1</th>\n",
       "      <th>L2</th>\n",
       "      <th>weight_decay</th>\n",
       "    </tr>\n",
       "    <tr>\n",
       "      <th>dataset</th>\n",
       "      <th></th>\n",
       "      <th></th>\n",
       "      <th></th>\n",
       "    </tr>\n",
       "  </thead>\n",
       "  <tbody>\n",
       "    <tr>\n",
       "      <th>cifar100-coarse</th>\n",
       "      <td>0.822600</td>\n",
       "      <td>0.821467</td>\n",
       "      <td>0.823400</td>\n",
       "    </tr>\n",
       "    <tr>\n",
       "      <th>entity13</th>\n",
       "      <td>0.606974</td>\n",
       "      <td>0.629128</td>\n",
       "      <td>0.605590</td>\n",
       "    </tr>\n",
       "    <tr>\n",
       "      <th>entity30</th>\n",
       "      <td>0.572722</td>\n",
       "      <td>0.627278</td>\n",
       "      <td>0.625500</td>\n",
       "    </tr>\n",
       "    <tr>\n",
       "      <th>living17</th>\n",
       "      <td>0.873725</td>\n",
       "      <td>0.872549</td>\n",
       "      <td>0.877255</td>\n",
       "    </tr>\n",
       "    <tr>\n",
       "      <th>nonliving26</th>\n",
       "      <td>0.567051</td>\n",
       "      <td>0.595513</td>\n",
       "      <td>0.591538</td>\n",
       "    </tr>\n",
       "    <tr>\n",
       "      <th>wds_cars</th>\n",
       "      <td>0.469137</td>\n",
       "      <td>0.468225</td>\n",
       "      <td>0.461634</td>\n",
       "    </tr>\n",
       "    <tr>\n",
       "      <th>wds_country211</th>\n",
       "      <td>0.130079</td>\n",
       "      <td>0.133239</td>\n",
       "      <td>0.129115</td>\n",
       "    </tr>\n",
       "    <tr>\n",
       "      <th>wds_fer2013</th>\n",
       "      <td>0.533250</td>\n",
       "      <td>0.528977</td>\n",
       "      <td>0.533528</td>\n",
       "    </tr>\n",
       "    <tr>\n",
       "      <th>wds_fgvc_aircraft</th>\n",
       "      <td>0.314831</td>\n",
       "      <td>0.313631</td>\n",
       "      <td>0.311431</td>\n",
       "    </tr>\n",
       "    <tr>\n",
       "      <th>wds_gtsrb</th>\n",
       "      <td>0.789918</td>\n",
       "      <td>0.791291</td>\n",
       "      <td>0.784086</td>\n",
       "    </tr>\n",
       "    <tr>\n",
       "      <th>wds_stl10</th>\n",
       "      <td>0.979833</td>\n",
       "      <td>0.980125</td>\n",
       "      <td>0.977792</td>\n",
       "    </tr>\n",
       "    <tr>\n",
       "      <th>wds_voc2007</th>\n",
       "      <td>0.837585</td>\n",
       "      <td>0.838519</td>\n",
       "      <td>0.834825</td>\n",
       "    </tr>\n",
       "    <tr>\n",
       "      <th>wds_vtab_caltech101</th>\n",
       "      <td>0.887866</td>\n",
       "      <td>0.885730</td>\n",
       "      <td>0.879102</td>\n",
       "    </tr>\n",
       "    <tr>\n",
       "      <th>wds_vtab_cifar10</th>\n",
       "      <td>0.919700</td>\n",
       "      <td>0.918600</td>\n",
       "      <td>0.918633</td>\n",
       "    </tr>\n",
       "    <tr>\n",
       "      <th>wds_vtab_cifar100</th>\n",
       "      <td>0.744700</td>\n",
       "      <td>0.744500</td>\n",
       "      <td>0.745833</td>\n",
       "    </tr>\n",
       "    <tr>\n",
       "      <th>wds_vtab_diabetic_retinopathy</th>\n",
       "      <td>0.753465</td>\n",
       "      <td>0.752957</td>\n",
       "      <td>0.753590</td>\n",
       "    </tr>\n",
       "    <tr>\n",
       "      <th>wds_vtab_dmlab</th>\n",
       "      <td>0.498893</td>\n",
       "      <td>0.497969</td>\n",
       "      <td>0.498614</td>\n",
       "    </tr>\n",
       "    <tr>\n",
       "      <th>wds_vtab_dtd</th>\n",
       "      <td>0.695745</td>\n",
       "      <td>0.693794</td>\n",
       "      <td>0.694326</td>\n",
       "    </tr>\n",
       "    <tr>\n",
       "      <th>wds_vtab_eurosat</th>\n",
       "      <td>0.960864</td>\n",
       "      <td>0.960926</td>\n",
       "      <td>0.960926</td>\n",
       "    </tr>\n",
       "    <tr>\n",
       "      <th>wds_vtab_flowers</th>\n",
       "      <td>0.782024</td>\n",
       "      <td>0.787987</td>\n",
       "      <td>0.779205</td>\n",
       "    </tr>\n",
       "    <tr>\n",
       "      <th>wds_vtab_pcam</th>\n",
       "      <td>0.812673</td>\n",
       "      <td>0.816996</td>\n",
       "      <td>0.808044</td>\n",
       "    </tr>\n",
       "    <tr>\n",
       "      <th>wds_vtab_pets</th>\n",
       "      <td>0.919324</td>\n",
       "      <td>0.920505</td>\n",
       "      <td>0.914418</td>\n",
       "    </tr>\n",
       "    <tr>\n",
       "      <th>wds_vtab_resisc45</th>\n",
       "      <td>0.894180</td>\n",
       "      <td>0.890423</td>\n",
       "      <td>0.894497</td>\n",
       "    </tr>\n",
       "    <tr>\n",
       "      <th>wds_vtab_svhn</th>\n",
       "      <td>0.676654</td>\n",
       "      <td>0.667333</td>\n",
       "      <td>0.679113</td>\n",
       "    </tr>\n",
       "  </tbody>\n",
       "</table>\n",
       "</div>"
      ],
      "text/plain": [
       "regularization                       L1        L2  weight_decay\n",
       "dataset                                                        \n",
       "cifar100-coarse                0.822600  0.821467      0.823400\n",
       "entity13                       0.606974  0.629128      0.605590\n",
       "entity30                       0.572722  0.627278      0.625500\n",
       "living17                       0.873725  0.872549      0.877255\n",
       "nonliving26                    0.567051  0.595513      0.591538\n",
       "wds_cars                       0.469137  0.468225      0.461634\n",
       "wds_country211                 0.130079  0.133239      0.129115\n",
       "wds_fer2013                    0.533250  0.528977      0.533528\n",
       "wds_fgvc_aircraft              0.314831  0.313631      0.311431\n",
       "wds_gtsrb                      0.789918  0.791291      0.784086\n",
       "wds_stl10                      0.979833  0.980125      0.977792\n",
       "wds_voc2007                    0.837585  0.838519      0.834825\n",
       "wds_vtab_caltech101            0.887866  0.885730      0.879102\n",
       "wds_vtab_cifar10               0.919700  0.918600      0.918633\n",
       "wds_vtab_cifar100              0.744700  0.744500      0.745833\n",
       "wds_vtab_diabetic_retinopathy  0.753465  0.752957      0.753590\n",
       "wds_vtab_dmlab                 0.498893  0.497969      0.498614\n",
       "wds_vtab_dtd                   0.695745  0.693794      0.694326\n",
       "wds_vtab_eurosat               0.960864  0.960926      0.960926\n",
       "wds_vtab_flowers               0.782024  0.787987      0.779205\n",
       "wds_vtab_pcam                  0.812673  0.816996      0.808044\n",
       "wds_vtab_pets                  0.919324  0.920505      0.914418\n",
       "wds_vtab_resisc45              0.894180  0.890423      0.894497\n",
       "wds_vtab_svhn                  0.676654  0.667333      0.679113"
      ]
     },
     "execution_count": 191,
     "metadata": {},
     "output_type": "execute_result"
    }
   ],
   "source": [
    "## THESE ARE THE ANCHOR MODEL PERFORMANCES FOR DIFFERENT REGULARIZATIONS\n",
    "single_performance_pivot = pd.pivot_table(\n",
    "    single_performance,\n",
    "    index='dataset',\n",
    "    columns='regularization',\n",
    "    values='test_lp_acc1'\n",
    ")\n",
    "single_performance_pivot"
   ]
  },
  {
   "cell_type": "code",
   "execution_count": 192,
   "id": "8578a6ee-b3c9-4b7b-9786-8ca9709a413c",
   "metadata": {},
   "outputs": [],
   "source": [
    "def get_performance_gap_n_sim_metric(row):\n",
    "    other_model = row['other_model']\n",
    "    comb_perf = row['test_lp_acc1']\n",
    "    sing_perf = single_performance_pivot.loc[row['dataset'], row['regularization']]\n",
    "    gap = comb_perf - sing_perf\n",
    "    single_gap = row[\"other_model_dsacc\"]-sing_perf    \n",
    "    sim_val = sim_mat.loc[other_model, anchor_model]\n",
    "    return gap, sim_val, single_gap "
   ]
  },
  {
   "cell_type": "code",
   "execution_count": 193,
   "id": "4fea739e-915c-431b-be4a-4e9692fe21fa",
   "metadata": {},
   "outputs": [],
   "source": [
    "concat_performance = pd.concat([concat_performance, \n",
    "                                pd.DataFrame(concat_performance.apply(get_performance_gap_n_sim_metric, axis=1).tolist(), \n",
    "                                             columns=['gap', 'sim_value', \"ds_acc_gap\"])], \n",
    "                               axis=1)\n",
    "\n",
    "ensemble_performance = pd.concat([ensemble_performance,\n",
    "                                  pd.DataFrame(ensemble_performance.apply(get_performance_gap_n_sim_metric, axis=1).tolist(),\n",
    "                                               columns=['gap', 'sim_value', \"ds_acc_gap\"])],\n",
    "                                 axis=1)"
   ]
  },
  {
   "cell_type": "code",
   "execution_count": 194,
   "id": "be8733f8-bf86-4bb9-bc26-2258057247f5",
   "metadata": {},
   "outputs": [
    {
     "data": {
      "text/plain": [
       "0       0.440057\n",
       "1       0.440057\n",
       "2       0.440057\n",
       "3       0.365083\n",
       "4       0.365083\n",
       "          ...   \n",
       "4024    0.727668\n",
       "4025    0.727668\n",
       "4026    0.516069\n",
       "4027    0.516069\n",
       "4028    0.516069\n",
       "Name: sim_value, Length: 4029, dtype: float64"
      ]
     },
     "execution_count": 194,
     "metadata": {},
     "output_type": "execute_result"
    }
   ],
   "source": [
    "ensemble_performance[\"sim_value\"]"
   ]
  },
  {
   "cell_type": "markdown",
   "id": "f1876158-14fd-4d36-9424-8edb2a50cd90",
   "metadata": {},
   "source": [
    "#### Plot scatter plot and add correlation coefficient "
   ]
  },
  {
   "cell_type": "code",
   "execution_count": 195,
   "id": "06c49ca6-7e7c-4b89-bd24-78b4ee519b01",
   "metadata": {},
   "outputs": [],
   "source": [
    "def plot_scatter(df, title,x='ds_acc_gap'):\n",
    "    g = sns.relplot(\n",
    "        df,\n",
    "        x=x,\n",
    "        y='gap',\n",
    "        col='regularization',\n",
    "        row='dataset',\n",
    "        height=3, \n",
    "        aspect=1.25,\n",
    "        facet_kws={'sharey': False, 'sharex': False}\n",
    "    )\n",
    "    g.set_titles(\"{row_name} – {col_name}\")\n",
    "    \n",
    "    def annotate_correlation(data, **kwargs):\n",
    "        r = data[x].corr(data['gap'],method=\"spearman\")\n",
    "        ax = plt.gca()\n",
    "        ax.text(0.05, 0.95, f'r = {r:.2f}', transform=ax.transAxes, \n",
    "                fontsize=12, verticalalignment='top')\n",
    "        if max(data['gap'])>0:\n",
    "            ax.axhspan(0, max(data['gap']), facecolor='lightgreen', alpha=0.2, zorder=-1)\n",
    "        if max(data['ds_acc_gap'])>0:\n",
    "            ax.axvspan(0, max(data['ds_acc_gap']), facecolor='lightgreen', alpha=0.2, zorder=-1)\n",
    "        if min(data['gap'])<0:\n",
    "            ax.axhspan(min(data['gap']), 0, facecolor='lightcoral', alpha=0.2, zorder=-1)\n",
    "    \n",
    "    g.map_dataframe(annotate_correlation)\n",
    "\n",
    "    g.fig.suptitle(title, y=1)\n",
    "    g.fig.tight_layout()\n",
    "    return g.fig"
   ]
  },
  {
   "cell_type": "code",
   "execution_count": 196,
   "id": "54f05779-2725-44cf-8a83-527adbf251cb",
   "metadata": {},
   "outputs": [
    {
     "name": "stdout",
     "output_type": "stream",
     "text": [
      "stored concat img\n"
     ]
    }
   ],
   "source": [
    "SAVE = True\n",
    "fig = plot_scatter(concat_performance, \n",
    "                   f\"Combined models (Concat) with anchor {anchor_model} and Single Downstream Accuracy Gap.\")\n",
    "if SAVE:\n",
    "    fig.savefig(storing_path / 'combined_concat_ds.pdf', bbox_inches='tight')\n",
    "    plt.close(fig)\n",
    "    print('stored concat img')\n",
    "else:\n",
    "    plt.show(fig)"
   ]
  },
  {
   "cell_type": "code",
   "execution_count": 197,
   "id": "80d32802-f491-4171-8556-4cb396314405",
   "metadata": {},
   "outputs": [
    {
     "name": "stdout",
     "output_type": "stream",
     "text": [
      "stored ensemble img\n"
     ]
    }
   ],
   "source": [
    "fig = plot_scatter(ensemble_performance, \n",
    "                   f\"Ensemble with anchor {anchor_model}and Single Downstream Accuracy Gap.\")\n",
    "if SAVE:\n",
    "    fig.savefig(storing_path / 'ensemble_ds.pdf', bbox_inches='tight')\n",
    "    plt.close(fig)\n",
    "    print('stored ensemble img')\n",
    "else:\n",
    "    plt.show(fig)"
   ]
  },
  {
   "cell_type": "code",
   "execution_count": 198,
   "id": "284b9f94-f918-4a34-8ac7-d968d73bbd8f",
   "metadata": {},
   "outputs": [
    {
     "name": "stdout",
     "output_type": "stream",
     "text": [
      "stored concat img\n"
     ]
    }
   ],
   "source": [
    "\n",
    "fig = plot_scatter(concat_performance, \n",
    "                   f\"Combined models (Concat) with anchor {anchor_model} and Imagenet Accuracy\", \"other_model_imgacc\" )\n",
    "if SAVE:\n",
    "    fig.savefig(storing_path / 'combined_concat_imgacc.pdf', bbox_inches='tight')\n",
    "    plt.close(fig)\n",
    "    print('stored concat img')\n",
    "else:\n",
    "    plt.show(fig)"
   ]
  },
  {
   "cell_type": "code",
   "execution_count": 199,
   "id": "a5abcf79-a8f8-43e6-9a30-0193bffcff4a",
   "metadata": {},
   "outputs": [
    {
     "name": "stdout",
     "output_type": "stream",
     "text": [
      "stored ensemble img\n"
     ]
    }
   ],
   "source": [
    "fig = plot_scatter(ensemble_performance, \n",
    "                   f\"Ensemble with anchor {anchor_model} and Imagenet Accuracy\", \"other_model_imgacc\" )\n",
    "if SAVE:\n",
    "    fig.savefig(storing_path / 'ensemble_imgacc.pdf', bbox_inches='tight')\n",
    "    plt.close(fig)\n",
    "    print('stored ensemble img')\n",
    "else:\n",
    "    plt.show(fig)"
   ]
  },
  {
   "cell_type": "code",
   "execution_count": null,
   "id": "e30e4a6d-b0d3-4a98-b421-6fa4575079e7",
   "metadata": {},
   "outputs": [],
   "source": []
  },
  {
   "cell_type": "code",
   "execution_count": null,
   "id": "84a4c711-590a-43e0-b691-31091d159966",
   "metadata": {},
   "outputs": [],
   "source": []
  },
  {
   "cell_type": "code",
   "execution_count": null,
   "id": "9057be08-f21d-4fb4-a730-0835e8192196",
   "metadata": {},
   "outputs": [],
   "source": []
  },
  {
   "cell_type": "code",
   "execution_count": null,
   "id": "8de76cb3-fa1b-4629-b2bf-4fc7759432d3",
   "metadata": {},
   "outputs": [],
   "source": []
  },
  {
   "cell_type": "code",
   "execution_count": null,
   "id": "498dbe19-82d1-425c-a61c-17e81ad5bd5c",
   "metadata": {},
   "outputs": [],
   "source": []
  },
  {
   "cell_type": "code",
   "execution_count": null,
   "id": "58a6fd9a-6d96-4aab-b705-b564374588c5",
   "metadata": {},
   "outputs": [],
   "source": []
  },
  {
   "cell_type": "code",
   "execution_count": null,
   "id": "d869c77d-1baf-4e7e-99ec-365173447d55",
   "metadata": {},
   "outputs": [],
   "source": []
  },
  {
   "cell_type": "code",
   "execution_count": null,
   "id": "2bcde6d1-c460-472d-8de0-9821c77de025",
   "metadata": {},
   "outputs": [],
   "source": []
  }
 ],
 "metadata": {
  "kernelspec": {
   "display_name": "Python 3 (ipykernel)",
   "language": "python",
   "name": "python3"
  },
  "language_info": {
   "codemirror_mode": {
    "name": "ipython",
    "version": 3
   },
   "file_extension": ".py",
   "mimetype": "text/x-python",
   "name": "python",
   "nbconvert_exporter": "python",
   "pygments_lexer": "ipython3",
   "version": "3.10.13"
  }
 },
 "nbformat": 4,
 "nbformat_minor": 5
}

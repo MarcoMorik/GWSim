{
 "cells": [
  {
   "metadata": {},
   "cell_type": "markdown",
   "source": [
    "## Notebook appendix F: *Distribution correlation coefficients downstream task performance vs. model similarity*\n",
    "This notebook creates the plots for section F in the appendix. It shows the correlations between the downstream task performance differences and the model similarities for each dataset category and dataset. The correlations are calculated using the Spearman and Pearson correlations. "
   ],
   "id": "12c1c5368b6f12fd"
  },
  {
   "cell_type": "code",
   "id": "22f88e1e-0ced-4d1e-8684-e5c6c3560294",
   "metadata": {},
   "source": [
    "\n",
    "import sys\n",
    "\n",
    "import matplotlib.pyplot as plt\n",
    "import numpy as np\n",
    "import pandas as pd\n",
    "from scipy.stats import spearmanr, pearsonr\n",
    "\n",
    "from constants import exclude_models, exclude_models_w_mae, cat_name_mapping, model_config_file, \\\n",
    "    BASE_PATH_RESULTS\n",
    "from helper import load_model_configs_and_allowed_models, save_or_show, load_all_datasetnames_n_info, \\\n",
    "    pp_storing_path\n",
    "\n",
    "sys.path.append('..')\n"
   ],
   "outputs": [],
   "execution_count": null
  },
  {
   "cell_type": "code",
   "id": "4a9c7d53-9388-462f-aea4-1481454938fb",
   "metadata": {},
   "source": [
    "### Config datasets\n",
    "ds_list_perf, ds_info = load_all_datasetnames_n_info('../scripts/webdatasets_w_in1k.txt', verbose=True)\n",
    "\n",
    "### Config similarity data\n",
    "sim_data_path = BASE_PATH_RESULTS / 'aggregated' / 'model_sims/all_metric_ds_model_pair_similarity.csv'\n",
    "assert sim_data_path.exists(), f\"Path does not exist: {sim_data_path}. Aggregated similarity data not found, please run `aggregate_similarities_across_datasets.ipynb` before.\"\n",
    "\n",
    "### Config performance data\n",
    "perf_data_path = BASE_PATH_RESULTS / f'aggregated/single_model_performance/all_ds.csv'\n",
    "assert perf_data_path.exists(), f\"Path does not exist: {perf_data_path}. Aggregated performance data not found, please run `aggregate_downstream_task_perfs.ipynb` before.\"\n",
    "\n",
    "### Config datasets to include\n",
    "ds_to_include = set(ds_list_perf) - set(['cifar100-coarse', 'entity13'])\n",
    "ds_to_include.add('imagenet-subset-10k')\n",
    "remaining_ds = sorted(list(set(ds_list_perf) - set(ds_to_include)))\n",
    "\n",
    "## Storing information\n",
    "suffix = ''\n",
    "# suffix = '_ wo_mae'\n",
    "\n",
    "SAVE = False\n",
    "storing_path = pp_storing_path(BASE_PATH_RESULTS / f'plots/scatter_sim_vs_performance_v2', SAVE)"
   ],
   "outputs": [],
   "execution_count": null
  },
  {
   "metadata": {},
   "cell_type": "markdown",
   "source": "#### Load the model configurations and allowed models",
   "id": "3b6095ad82d1eca1"
  },
  {
   "cell_type": "code",
   "id": "4a906935-71d2-4ed4-955b-424e2f7c8fb8",
   "metadata": {},
   "source": [
    "curr_excl_models = exclude_models_w_mae if 'mae' in suffix else exclude_models\n",
    "\n",
    "model_configs, allowed_models = load_model_configs_and_allowed_models(\n",
    "    path=model_config_file,\n",
    "    exclude_models=curr_excl_models,\n",
    "    exclude_alignment=True,\n",
    ")"
   ],
   "outputs": [],
   "execution_count": null
  },
  {
   "metadata": {},
   "cell_type": "markdown",
   "source": "#### Load similarity data",
   "id": "d2f63fd722120cce"
  },
  {
   "metadata": {},
   "cell_type": "code",
   "source": "sim_data = pd.read_csv(sim_data_path)",
   "id": "b6713b21cb6dfc28",
   "outputs": [],
   "execution_count": null
  },
  {
   "metadata": {},
   "cell_type": "code",
   "source": [
    "## Filter similarity data only for desired datasets\n",
    "print(sim_data.shape)\n",
    "if ds_to_include:\n",
    "    sim_data = sim_data[sim_data['DS'].isin(ds_to_include)].reset_index(drop=True)\n",
    "print(sim_data.shape)"
   ],
   "id": "ce4109a6-f2e8-4357-94c6-9fdfda095f99",
   "outputs": [],
   "execution_count": null
  },
  {
   "metadata": {},
   "cell_type": "code",
   "source": [
    "## Rename datasets with info\n",
    "sim_data['DS category'] = sim_data['DS'].apply(lambda x: ds_info.loc[x, 'domain'])\n",
    "sim_data['DS'] = sim_data['DS'].apply(lambda x: ds_info.loc[x, 'name'])"
   ],
   "id": "e86e4ea7207b2abc",
   "outputs": [],
   "execution_count": null
  },
  {
   "metadata": {},
   "cell_type": "code",
   "source": [
    "## Post-process 'pair' columns\n",
    "def pp_pair_col(df_col):\n",
    "    return df_col.apply(eval).apply(lambda x: f\"{cat_name_mapping[x[0]]}, {cat_name_mapping[x[1]]}\")\n",
    "\n",
    "\n",
    "pair_columns = [col for col in sim_data.columns if 'pair' in col]\n",
    "sim_data[pair_columns] = sim_data[pair_columns].apply(pp_pair_col, axis=0)\n",
    "pair_columns += [None]"
   ],
   "id": "faa022cd-d2a2-49e3-b32f-ba830e73caa1",
   "outputs": [],
   "execution_count": null
  },
  {
   "cell_type": "code",
   "id": "8fbb4868cec85324",
   "metadata": {},
   "source": [
    "## Filter only for allowed models\n",
    "sim_data = sim_data[sim_data['Model 1'].isin(allowed_models) & sim_data['Model 2'].isin(allowed_models)].reset_index(\n",
    "    drop=True)"
   ],
   "outputs": [],
   "execution_count": null
  },
  {
   "metadata": {},
   "cell_type": "markdown",
   "source": "#### Load performance data",
   "id": "5b00674a23950edb"
  },
  {
   "cell_type": "code",
   "id": "ea041adb-439f-41f2-bf7d-e6c6b7002ab5",
   "metadata": {},
   "source": "perf_res = pd.read_csv(perf_data_path)",
   "outputs": [],
   "execution_count": null
  },
  {
   "cell_type": "code",
   "id": "442331298e1b7c85",
   "metadata": {},
   "source": [
    "if ds_to_include:\n",
    "    perf_res = perf_res[perf_res['DS'].isin(ds_to_include)].reset_index(drop=True)\n",
    "perf_res['DS category'] = perf_res['DS'].apply(lambda x: ds_info.loc[x, 'domain'])\n",
    "perf_res['DS'] = perf_res['DS'].apply(lambda x: ds_info.loc[x, 'name'])\n",
    "perf_res = perf_res[perf_res['Model'].isin(allowed_models)].reset_index(drop=True)"
   ],
   "outputs": [],
   "execution_count": null
  },
  {
   "cell_type": "markdown",
   "id": "240bc00b-d869-400e-9f01-bdbd7204125b",
   "metadata": {},
   "source": [
    "#### Combine model similarities and performance measures"
   ]
  },
  {
   "cell_type": "code",
   "id": "7a588a9f-92df-4445-bcb1-bb8de121d082",
   "metadata": {},
   "source": [
    "def get_model_perf(row):\n",
    "    m1_perf = perf_res.loc[(perf_res['Model'] == row['Model 1']) & (perf_res['DS'] == row['DS']), 'TestAcc'].item()\n",
    "    m2_perf = perf_res.loc[(perf_res['Model'] == row['Model 2']) & (perf_res['DS'] == row['DS']), 'TestAcc'].item()\n",
    "    return m1_perf, m2_perf, np.abs(m1_perf - m2_perf)\n"
   ],
   "outputs": [],
   "execution_count": null
  },
  {
   "cell_type": "code",
   "id": "a23fb4e6-5465-4286-9c86-b970694da0b7",
   "metadata": {},
   "source": [
    "performance_per_pair = pd.DataFrame(sim_data.apply(get_model_perf, axis=1).tolist(),\n",
    "                                    columns=['Model 1 perf.', 'Model 2 perf.', 'abs. diff. perf.']).reset_index(\n",
    "    drop=True)"
   ],
   "outputs": [],
   "execution_count": null
  },
  {
   "cell_type": "code",
   "id": "e05604c7-52f7-4cf1-87cc-51a10ab4fa08",
   "metadata": {},
   "source": [
    "sim_data_new = pd.concat([sim_data, performance_per_pair], axis=1)"
   ],
   "outputs": [],
   "execution_count": null
  },
  {
   "cell_type": "markdown",
   "id": "aeafaa1d-2b2d-41a0-8f2c-05d4db6c7016",
   "metadata": {},
   "source": [
    "#### Compute the correlations between the performance gaps and the model similarities"
   ]
  },
  {
   "cell_type": "code",
   "id": "d9a8822f47a78afd",
   "metadata": {},
   "source": [
    "def get_correlation(subset_data):\n",
    "    corr_sp, _ = spearmanr(subset_data['Similarity value'], subset_data['abs. diff. perf.'])\n",
    "    corr_pr, _ = pearsonr(subset_data['Similarity value'], subset_data['abs. diff. perf.'])\n",
    "    return {'spearmanr': corr_sp, 'pearsonr': corr_pr}\n",
    "\n",
    "\n",
    "r_coeffs = sim_data_new.groupby(['Similarity metric', 'DS'])[['Similarity value', 'abs. diff. perf.']].apply(\n",
    "    get_correlation)\n",
    "r_coeffs = pd.DataFrame(r_coeffs.tolist(), index=r_coeffs.index)"
   ],
   "outputs": [],
   "execution_count": null
  },
  {
   "cell_type": "code",
   "id": "1476f9f1a24c51be",
   "metadata": {
    "scrolled": true
   },
   "source": [
    "r_coeffs_tmp = r_coeffs.reset_index()\n",
    "r_coeffs_tmp['name'] = r_coeffs_tmp['DS']\n",
    "tmp = pd.merge(r_coeffs_tmp, ds_info.reset_index(names=['DS']), how='left', on='name')\n",
    "tmp = tmp.drop(columns=['DS_y'])\n",
    "tmp = tmp[~tmp.duplicated()].reset_index(drop=True)\n",
    "tmp = tmp.sort_values(['Similarity metric', 'domain', 'spearmanr']).reset_index(drop=True)\n",
    "if SAVE:\n",
    "    fn = storing_path / 'corr_perf_vs_sim_per_ds.csv'\n",
    "    tmp.to_csv(fn, index=False)\n",
    "# tmp"
   ],
   "outputs": [],
   "execution_count": null
  },
  {
   "cell_type": "code",
   "id": "4ade499e-c021-4ea7-a1f0-224d4131a151",
   "metadata": {},
   "source": [
    "melted_ds_perf_sim_corr = pd.melt(\n",
    "    tmp,\n",
    "    id_vars=['Similarity metric', 'DS_x', 'name', 'domain'],\n",
    "    var_name='Correlation metric',\n",
    "    value_name='Correlation coefficient'\n",
    ")"
   ],
   "outputs": [],
   "execution_count": null
  },
  {
   "cell_type": "markdown",
   "id": "6636564c-c9f6-4f60-833c-307c1c4b1245",
   "metadata": {},
   "source": "### Plot the barplots (i.e., correlation distributions) for each dataset category"
  },
  {
   "cell_type": "code",
   "id": "0e24bc9c-adb9-4a32-82e0-1d744462bc7b",
   "metadata": {},
   "source": [
    "domain_colors = {\n",
    "    'pearsonr': {\n",
    "        'Natural (multi-domain)': '#1f77b4',\n",
    "        'Natural (single-domain)': '#ff7f0e',\n",
    "        'Specialized': '#2ca02c',\n",
    "        'Structured': '#d62728'\n",
    "    },\n",
    "    'spearmanr': {\n",
    "        'Natural (multi-domain)': '#aec7e8',\n",
    "        'Natural (single-domain)': '#ffbb78',\n",
    "        'Specialized': '#98df8a',\n",
    "        'Structured': '#ff9896'\n",
    "    }\n",
    "}\n",
    "\n",
    "df = melted_ds_perf_sim_corr[(melted_ds_perf_sim_corr['Similarity metric'] == 'CKA linear')]\n",
    "\n",
    "# Create the plot\n",
    "plt.figure(figsize=(10, 5))\n",
    "\n",
    "# Calculate bar positions\n",
    "unique_names = df['name'].unique()\n",
    "x = np.arange(len(unique_names))\n",
    "width = 0.4\n",
    "\n",
    "# Plot bars for each metric\n",
    "for i, metric in enumerate(['pearsonr', 'spearmanr']):\n",
    "    mask = df['Correlation metric'] == metric\n",
    "    data = df[mask]\n",
    "\n",
    "    # Create colors list\n",
    "    colors = [domain_colors[metric][domain] for domain in data['domain']]\n",
    "\n",
    "    plt.bar(x[data['name'].isin(unique_names)] + (width if metric == 'spearmanr' else -width) / 2,\n",
    "            data['Correlation coefficient'],\n",
    "            width,\n",
    "            label=metric,\n",
    "            color=colors)\n",
    "\n",
    "# Customize the plot\n",
    "plt.ylabel('Correlation Coefficient', fontsize=12)\n",
    "plt.xticks(x, unique_names, rotation=45, ha='right', fontsize=11)\n",
    "plt.tick_params('both', labelsize=11)\n",
    "plt.axhline(-.3, alpha=0.5, ls=':', c='grey', zorder=-1)\n",
    "plt.axhline(-.5, alpha=0.5, ls=':', c='grey', zorder=-1)\n",
    "plt.axhline(-.7, alpha=0.5, ls=':', c='grey', zorder=-1)\n",
    "\n",
    "# Create custom legend for domains and metrics\n",
    "domain_patches = [plt.Rectangle((0, 0), 1, 1, fc=color, label=domain)\n",
    "                  for domain, color in domain_colors['pearsonr'].items()]\n",
    "metric_patches = [\n",
    "    plt.Rectangle((0, 0), 1, 1, fc='gray', label='Pearson coefficient (Darker)'),\n",
    "    plt.Rectangle((0, 0), 1, 1, fc='gray', alpha=0.7, label='Spearman coefficient (Lighter)')\n",
    "]\n",
    "# Add both legends\n",
    "plt.legend(handles=domain_patches + metric_patches,\n",
    "           loc='upper left',\n",
    "           bbox_to_anchor=(1, 1),\n",
    "           title='Domains and Metrics',\n",
    "           frameon=False,\n",
    "           fontsize=11,\n",
    "           title_fontsize=11)\n",
    "plt.tight_layout()\n",
    "save_or_show(plt.gcf(), storing_path / f'bar_corr_perf_vs_sim_per_ds_cat_cka_linear.pdf', SAVE)"
   ],
   "outputs": [],
   "execution_count": null
  }
 ],
 "metadata": {
  "kernelspec": {
   "display_name": "Python 3 (ipykernel)",
   "language": "python",
   "name": "python3"
  },
  "language_info": {
   "codemirror_mode": {
    "name": "ipython",
    "version": 3
   },
   "file_extension": ".py",
   "mimetype": "text/x-python",
   "name": "python",
   "nbconvert_exporter": "python",
   "pygments_lexer": "ipython3",
   "version": "3.10.13"
  }
 },
 "nbformat": 4,
 "nbformat_minor": 5
}

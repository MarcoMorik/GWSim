{
 "cells": [
  {
   "cell_type": "code",
   "execution_count": null,
   "id": "51850cf9-6dc1-46d3-a709-590b5dac4723",
   "metadata": {},
   "outputs": [],
   "source": [
    "import sys\n",
    "from itertools import combinations, product \n",
    "from pathlib import Path\n",
    "\n",
    "import pandas as pd\n",
    "from scipy.stats import spearmanr, kendalltau, pearsonr\n",
    "from tqdm.notebook import tqdm\n",
    "\n",
    "from constants import exclude_models, exclude_models_w_mae\n",
    "from helper import load_model_configs_and_allowed_models, load_similarity_matrices\n",
    "\n",
    "sys.path.append('..')\n",
    "from scripts.helper import parse_datasets\n",
    "from constants import sim_metric_name_mapping, anchors"
   ]
  },
  {
   "cell_type": "code",
   "execution_count": null,
   "id": "662a5072-6caf-4891-b2de-bdc8f73d043f",
   "metadata": {},
   "outputs": [],
   "source": [
    "base_path_similarity_matrices = Path('/home/space/diverse_priors/model_similarities')\n",
    "sim_metrics = [\n",
    "    'cka_kernel_rbf_unbiased_sigma_0.4',\n",
    "    'cka_kernel_linear_unbiased',\n",
    "    'rsa_method_correlation_corr_method_spearman',\n",
    "]\n",
    "\n",
    "corr_methods = ['spearmanr', 'pearsonr', 'kendalltau']\n",
    "\n",
    "combs = list(product(corr_methods, [exclude_models, exclude_models_w_mae]))\n",
    "print(f\"{len(combs)=}\")\n",
    "corr_method, curr_model_excl = combs[5]\n",
    "print(f\"{corr_method=}, {curr_model_excl=}\")\n",
    "\n",
    "suffix = '_wo_swav_pirl_timm_clip' if len(curr_model_excl)==3 else '_wo_mae_swav_pirl_timm_clip'\n",
    "\n",
    "\n",
    "ds_list = parse_datasets('../scripts/webdatasets_w_insub10k.txt')\n",
    "ds_list = list(map(lambda x: x.replace('/', '_'), ds_list))\n",
    "\n",
    "storing_path = Path('/home/space/diverse_priors/results/aggregated/r_coeff_dist')\n",
    "storing_path.mkdir(parents=True, exist_ok=True)"
   ]
  },
  {
   "cell_type": "code",
   "execution_count": null,
   "id": "345a0386-420d-4014-8371-ce8e3a615298",
   "metadata": {},
   "outputs": [],
   "source": [
    "model_configs, allowed_models = load_model_configs_and_allowed_models(\n",
    "    path='../scripts/models_config_wo_barlowtwins_n_alignment.json',\n",
    "    exclude_models=curr_model_excl,\n",
    "    exclude_alignment=True,\n",
    ")"
   ]
  },
  {
   "cell_type": "code",
   "execution_count": null,
   "id": "ea8aa18f-6b40-443b-ae15-88ede0415cc7",
   "metadata": {},
   "outputs": [],
   "source": [
    "if 'mae' in suffix:\n",
    "    anchors.remove('mae-vit-large-p16')"
   ]
  },
  {
   "cell_type": "code",
   "execution_count": null,
   "id": "9a6b762f-a344-48af-896c-b8aa2ce0c70f",
   "metadata": {},
   "outputs": [],
   "source": [
    "model_configs['objective'].value_counts()"
   ]
  },
  {
   "cell_type": "code",
   "execution_count": null,
   "id": "59f147d1c3dc137a",
   "metadata": {},
   "outputs": [],
   "source": [
    "sim_mats = load_similarity_matrices(\n",
    "    path=base_path_similarity_matrices,\n",
    "    ds_list=ds_list,\n",
    "    sim_metrics=sim_metrics,\n",
    "    allowed_models=allowed_models,\n",
    ")"
   ]
  },
  {
   "cell_type": "code",
   "execution_count": null,
   "id": "f1688941b55bd2f1",
   "metadata": {},
   "outputs": [],
   "source": [
    "anchor_col = 'Anchor Model'\n",
    "other_col = 'Other Model'\n",
    "other_ds_col = 'Dataset'\n",
    "sim_metric_col = 'Similarity metric'\n",
    "sim_ds_col = 'Similarity value DS'\n",
    "# sim_imgnet_col = 'Similarity value IN'\n",
    "info_orig_cols = ['objective', 'architecture_class', 'dataset_class', 'size_class']\n",
    "info_cols = ['Objective', 'Architecture', 'Dataset size', 'Model size']\n",
    "id_cols = [anchor_col, other_col, sim_metric_col] + info_cols\n",
    "comp_cat_col = 'Comparison category'\n",
    "comp_cat_orig_col = 'Comparison category (orig. name)'\n",
    "comp_val_col = 'Comparison values'\n",
    "r_col = 'r coeff'\n",
    "\n",
    "\n",
    "def get_other_model_info(mid):\n",
    "    model_config = model_configs.loc[mid]\n",
    "    return model_config['objective'], model_config['architecture_class'], model_config['dataset_class'], model_config[\n",
    "        'size_class']\n",
    "\n",
    "\n",
    "def get_melted_sim_values_metric_anchor(anch, met, met_ds_mats):\n",
    "    sim_vals_ds = []\n",
    "    # for each dataset, get the similarity values of the anchor model to all other models\n",
    "    for ds, curr_sim_mat in met_ds_mats.items():\n",
    "        cols = curr_sim_mat.columns.tolist()\n",
    "        cols.remove(anch)\n",
    "        cols = sorted(list(set(cols).intersection(allowed_models)))\n",
    "        row_sim_mat = curr_sim_mat.loc[anch, cols]\n",
    "        row_sim_mat.name = ds\n",
    "        sim_vals_ds.append(row_sim_mat)\n",
    "\n",
    "    # concatenate the similarity values of the anchor model to all other models for all datasets\n",
    "    anchor_sim_vals = pd.concat(sim_vals_ds, axis=1)\n",
    "    anchor_sim_vals = anchor_sim_vals.reset_index(names=[other_col])\n",
    "    # get the model information for all other models and add it to the dataframe\n",
    "    anchor_sim_vals = pd.concat([anchor_sim_vals,\n",
    "                                 pd.DataFrame(anchor_sim_vals[other_col].apply(get_other_model_info).tolist(),\n",
    "                                              columns=info_cols)], axis=1)\n",
    "    anchor_sim_vals[sim_metric_col] = sim_metric_name_mapping[met]\n",
    "    anchor_sim_vals[anchor_col] = anch\n",
    "    # melt the dataframe to have one row per dataset and anchor & other model pair \n",
    "    anchor_sim_vals = pd.melt(anchor_sim_vals,\n",
    "                              id_vars=id_cols,\n",
    "                              var_name=other_ds_col,\n",
    "                              value_name=sim_ds_col,\n",
    "                              )\n",
    "    return anchor_sim_vals"
   ]
  },
  {
   "cell_type": "code",
   "execution_count": null,
   "id": "08683e86-1fdb-4aa4-b2d4-07664b8e9616",
   "metadata": {},
   "outputs": [],
   "source": [
    "# get the similarity values for all anchor models and similarity metrics\n",
    "dfs = []\n",
    "for anchor in anchors:\n",
    "    for sim_metric, ds_sim_mat in sim_mats.items():\n",
    "        anchor_sim_vals = get_melted_sim_values_metric_anchor(anchor, sim_metric, ds_sim_mat)\n",
    "        dfs.append(anchor_sim_vals)\n",
    "\n",
    "all_sims = pd.concat(dfs, axis=0).reset_index(drop=True)"
   ]
  },
  {
   "cell_type": "code",
   "execution_count": null,
   "id": "e3ce1b0a-2fe2-4ec5-bdcc-44d471dd966d",
   "metadata": {},
   "outputs": [],
   "source": [
    "all_sims.head()"
   ]
  },
  {
   "cell_type": "code",
   "execution_count": null,
   "id": "63ad8cb4-85d3-4754-880e-68a4425ed28d",
   "metadata": {},
   "outputs": [],
   "source": [
    "# get all unique datasets and create all possible pairs\n",
    "all_datasets = all_sims[other_ds_col].unique()\n",
    "ds_pairs = list(combinations(all_datasets, 2))\n",
    "print('Nr. dataset pairs: ', len(ds_pairs))"
   ]
  },
  {
   "cell_type": "code",
   "execution_count": null,
   "id": "eb9c2789-81e5-49d8-befc-e26be3fb36bd",
   "metadata": {},
   "outputs": [],
   "source": [
    "def correlation(x,y):\n",
    "    if corr_method == 'spearmanr':\n",
    "        corr, _ = spearmanr(x, y)\n",
    "    elif corr_method == 'kendalltau':\n",
    "        corr, _ = kendalltau(x, y)\n",
    "    elif corr_method == 'pearsonr':\n",
    "        corr, _ = pearsonr(x, y)\n",
    "    return corr\n",
    "\n",
    "\n",
    "def compute_corr(data):\n",
    "    res = []\n",
    "    for ds1, ds2 in ds_pairs:\n",
    "        x = data[data[other_ds_col] == ds1][sim_ds_col]\n",
    "        y = data[data[other_ds_col] == ds2][sim_ds_col]\n",
    "        corr = correlation(x, y)\n",
    "        res.append((ds1, ds2, corr))\n",
    "    return res\n",
    "\n",
    "\n",
    "def post_process_group_op(df):\n",
    "    df = df.explode(r_col).reset_index(drop=True)\n",
    "    df_split = df[r_col].apply(pd.Series)\n",
    "    df_split.columns = ['DS 1', 'DS 2', r_col]\n",
    "    df.drop(columns=[r_col], inplace=True)\n",
    "    df = pd.concat([df, df_split], axis=1)\n",
    "    return df\n",
    "\n",
    "\n",
    "r_dfs = []\n",
    "for strata in tqdm(info_cols):\n",
    "    grouping_cols = [sim_metric_col, anchor_col, strata]\n",
    "\n",
    "    strata_rs = all_sims.groupby(grouping_cols, dropna=False).apply(compute_corr, include_groups=False).reset_index()\n",
    "    strata_rs.columns = grouping_cols + [r_col]\n",
    "    strata_rs = post_process_group_op(strata_rs)\n",
    "\n",
    "    all_rs = all_sims.groupby(grouping_cols[:-1], dropna=False).apply(compute_corr, include_groups=False).reset_index()\n",
    "    all_rs.columns = grouping_cols[:-1] + [r_col]\n",
    "    all_rs = post_process_group_op(all_rs)\n",
    "    all_rs[strata] = 'All'\n",
    "\n",
    "    rs = pd.concat([all_rs, strata_rs], axis=0).reset_index(drop=True)\n",
    "    rs = rs.sort_values([sim_metric_col, anchor_col]).reset_index(drop=True)\n",
    "    r_dfs.append(rs)"
   ]
  },
  {
   "cell_type": "code",
   "execution_count": null,
   "id": "0261425c-abb1-4a18-8895-2b06c371c75c",
   "metadata": {},
   "outputs": [],
   "source": [
    "for i in range(len(r_dfs)):\n",
    "    r_dfs[i][comp_cat_col] = info_cols[i]\n",
    "    r_dfs[i][comp_cat_orig_col] = info_orig_cols[i]\n",
    "    r_dfs[i].rename(columns={info_cols[i]: comp_val_col}, inplace=True)"
   ]
  },
  {
   "cell_type": "code",
   "execution_count": null,
   "id": "899e1ba1-aa7d-4121-a11f-c179c31d3524",
   "metadata": {},
   "outputs": [],
   "source": [
    "r_df = pd.concat(r_dfs, axis=0)\n",
    "r_df.head()"
   ]
  },
  {
   "cell_type": "code",
   "execution_count": null,
   "id": "0e5e3f97-48f7-41fb-96dc-8d97ebb33b75",
   "metadata": {},
   "outputs": [],
   "source": [
    "r_df.to_csv(storing_path / f'agg_{corr_method}_all_ds{suffix}.csv', index=False)\n",
    "print(f\"Stored aggregated data at: {storing_path / f'agg_{corr_method}_all_ds{suffix}.csv'}\")"
   ]
  }
 ],
 "metadata": {
  "kernelspec": {
   "display_name": "Python 3 (ipykernel)",
   "language": "python",
   "name": "python3"
  },
  "language_info": {
   "codemirror_mode": {
    "name": "ipython",
    "version": 3
   },
   "file_extension": ".py",
   "mimetype": "text/x-python",
   "name": "python",
   "nbconvert_exporter": "python",
   "pygments_lexer": "ipython3",
   "version": "3.10.13"
  }
 },
 "nbformat": 4,
 "nbformat_minor": 5
}

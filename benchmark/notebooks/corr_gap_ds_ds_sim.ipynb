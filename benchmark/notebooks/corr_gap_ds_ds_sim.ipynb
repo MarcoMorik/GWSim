{
 "cells": [
  {
   "cell_type": "code",
   "execution_count": null,
   "id": "381a5a4a-0c91-4af4-94f2-c69af7ea9bbe",
   "metadata": {},
   "outputs": [],
   "source": [
    "import sys\n",
    "from pathlib import Path\n",
    "\n",
    "import numpy as np\n",
    "import pandas as pd\n",
    "import torch\n",
    "\n",
    "from constants import sim_metric_name_mapping, similarity_metrics\n",
    "from helper import get_model_ids, plot_r_coeff_distribution, save_or_show, plot_scatter\n",
    "\n",
    "sys.path.append('..')\n",
    "from scripts.helper import load_models"
   ]
  },
  {
   "cell_type": "markdown",
   "id": "a8a789ce-3e29-4be4-ac9d-811dc5722843",
   "metadata": {},
   "source": [
    "#### Global variables"
   ]
  },
  {
   "cell_type": "code",
   "execution_count": null,
   "id": "a2c39ea7-903e-4905-a3a5-0dbcbec6ee1e",
   "metadata": {},
   "outputs": [],
   "source": [
    "## DATASET AND MODEL CONFIG\n",
    "datasets = \"../scripts/webdatasets_wo_imagenet.txt\"\n",
    "model_config = \"../scripts/filtered_models_config.json\"\n",
    "# anchor_model = \"OpenCLIP_ViT-L-14_openai\"  # ANCHOR MODEL 1\n",
    "anchor_model = \"resnet50\"  # ANCHOR MODEL 2\n",
    "combiner = 'concat'\n",
    "\n",
    "## SIMILARITY METRICS \n",
    "regularitzation = 'L2'  # L1, L2 , 'weight_decay'\n",
    "\n",
    "### IMAGENET SUBSET SIMILARITIES\n",
    "model_similarities_base_path = Path('/home/space/diverse_priors/model_similarities')\n",
    "\n",
    "### AGGREGATED RESULTS --> GOTTEN WITH gather_anchor_exp_results.ipynb\n",
    "base_path_aggregated_results = Path('/home/space/diverse_priors/results/aggregated')\n",
    "\n",
    "### SINGLE MODEL BEST PERFORMANCES --> structure path / [L1, L2, weight_decay] / [DATASET].json\n",
    "single_model_best_perf_path = Path('/home/space/diverse_priors/results/aggregated/max_performance_per_model_n_ds')"
   ]
  },
  {
   "cell_type": "markdown",
   "id": "5c0c9e45-5a78-4cda-9d5b-5baf5abc2073",
   "metadata": {},
   "source": [
    "#### Storing information"
   ]
  },
  {
   "cell_type": "code",
   "execution_count": null,
   "id": "471a763e-0c49-45ad-be90-e5df563ad559",
   "metadata": {},
   "outputs": [],
   "source": [
    "# base_storing_path = Path('/home/lciernik/projects/divers-priors/diverse_priors/benchmark/scripts/test_results/neg_corr_exp')\n",
    "storing_path = Path('/home/space/diverse_priors/results/plots/performance_gap_ds__ds_sim')\n",
    "storing_path = storing_path / f\"{anchor_model}__{regularitzation}\"\n",
    "SAVE = True\n",
    "\n",
    "if SAVE:\n",
    "    storing_path.mkdir(parents=True, exist_ok=True)"
   ]
  },
  {
   "cell_type": "markdown",
   "id": "9b27926f-4315-43f3-a34b-c1152d15b34f",
   "metadata": {},
   "source": [
    "#### Load experiment results"
   ]
  },
  {
   "cell_type": "code",
   "execution_count": null,
   "id": "62ea1f21-9112-4eb8-8010-0e90a4d5f89e",
   "metadata": {},
   "outputs": [],
   "source": [
    "df = pd.read_pickle(base_path_aggregated_results / f'anchor_{anchor_model}.pkl')"
   ]
  },
  {
   "cell_type": "code",
   "execution_count": null,
   "id": "c6e9108e-97bb-4aff-ba41-76c39504f290",
   "metadata": {},
   "outputs": [],
   "source": [
    "HYPER_PARAM_COLS = ['task', 'mode', 'combiner', 'dataset', 'model_ids', 'fewshot_k', 'fewshot_epochs', 'batch_size',\n",
    "                    'regularization']"
   ]
  },
  {
   "cell_type": "code",
   "execution_count": null,
   "id": "a30496c6-b169-4ab3-b815-07cdac165570",
   "metadata": {},
   "outputs": [],
   "source": [
    "df['model_ids'] = df['model_ids'].apply(eval).apply(tuple)\n",
    "df['dataset'] = df['dataset'].apply(lambda x: x.replace('/', '_'))"
   ]
  },
  {
   "cell_type": "code",
   "execution_count": null,
   "id": "13b5aa8b-c906-4c66-90b3-dbaade7378d8",
   "metadata": {},
   "outputs": [],
   "source": [
    "mean_df = df.groupby(HYPER_PARAM_COLS, dropna=False).test_lp_acc1.mean().reset_index()"
   ]
  },
  {
   "cell_type": "code",
   "execution_count": null,
   "id": "c9b8df6e-cfae-45d8-b9fe-5bb56789360c",
   "metadata": {},
   "outputs": [],
   "source": [
    "mean_df = mean_df[mean_df['regularization'] == regularitzation].copy().reset_index(drop=True)\n",
    "assert len(mean_df) > 0, f\"No values found for {regularitzation=}.\""
   ]
  },
  {
   "cell_type": "code",
   "execution_count": null,
   "id": "6b04ee59-92e3-48ba-8966-a83737ec1980",
   "metadata": {},
   "outputs": [],
   "source": [
    "mean_df['dataset'].unique()"
   ]
  },
  {
   "cell_type": "markdown",
   "id": "d5563f7e-15d5-41c5-840c-a20d8e8658df",
   "metadata": {},
   "source": [
    "#### Load similarity values"
   ]
  },
  {
   "cell_type": "code",
   "execution_count": null,
   "id": "e682a7e0-7879-40b4-8398-95fa2f4826d2",
   "metadata": {},
   "outputs": [],
   "source": [
    "sim_mats = {}\n",
    "\n",
    "models, nmodels = load_models(model_config)\n",
    "allowed_models = sorted(list(models.keys()))\n",
    "\n",
    "for ds in mean_df['dataset'].unique():\n",
    "    sim_mats[ds] = {}\n",
    "    for sim_metric in similarity_metrics:\n",
    "        model_similarities_path = model_similarities_base_path / ds / sim_metric\n",
    "\n",
    "        model_ids_fn = model_similarities_path / 'model_ids.txt'\n",
    "        sim_mat_fn = model_similarities_path / 'similarity_matrix.pt'\n",
    "\n",
    "        model_ids = get_model_ids(model_ids_fn)\n",
    "        sim_mat = torch.load(sim_mat_fn)\n",
    "        sim_mat = pd.DataFrame(sim_mat, index=model_ids, columns=model_ids)\n",
    "\n",
    "        avail_models = sorted(list(set(allowed_models).intersection(model_ids)))\n",
    "        sim_mat = sim_mat.loc[avail_models, avail_models]\n",
    "        sim_mats[ds][sim_metric] = sim_mat"
   ]
  },
  {
   "cell_type": "markdown",
   "id": "ca75110a-bac4-4e70-bce6-e8c7f94d4c2b",
   "metadata": {},
   "source": [
    "#### Prepare data for plotting\n",
    "Steps:\n",
    "1. Compute performance gap between combined model (concat or ensemble) and single model for each dataset.\n",
    "2. Add similarity value for each pair of model"
   ]
  },
  {
   "cell_type": "code",
   "execution_count": null,
   "id": "2d003f28-b253-48e2-8b73-7da1cbaf856f",
   "metadata": {},
   "outputs": [],
   "source": [
    "single_performance = mean_df[mean_df['mode'] == 'single_model'].copy().reset_index(drop=True)\n",
    "concat_performance = mean_df[mean_df['mode'] == 'combined_models'].copy().reset_index(drop=True)\n",
    "ensemble_performance = mean_df[mean_df['mode'] == 'ensemble'].copy().reset_index(drop=True)\n",
    "print(f\"{single_performance.shape=}, {concat_performance.shape=}, {ensemble_performance.shape=}\")"
   ]
  },
  {
   "cell_type": "code",
   "execution_count": null,
   "id": "8fc3f2be-034d-4601-ba68-71ba901061ed",
   "metadata": {},
   "outputs": [],
   "source": [
    "concat_performance['other_model'] = concat_performance['model_ids'].apply(\n",
    "    lambda x: x[0] if x[1] == anchor_model else x[1])\n",
    "ensemble_performance['other_model'] = ensemble_performance['model_ids'].apply(\n",
    "    lambda x: x[0] if x[1] == anchor_model else x[1])"
   ]
  },
  {
   "cell_type": "code",
   "execution_count": null,
   "id": "4daf14d2-e360-4298-b12d-a7fe640b4aba",
   "metadata": {},
   "outputs": [],
   "source": [
    "## THESE ARE THE ANCHOR MODEL PERFORMANCES FOR DIFFERENT REGULARIZATIONS\n",
    "single_performance_pivot = pd.pivot_table(\n",
    "    single_performance,\n",
    "    index='dataset',\n",
    "    columns='regularization',\n",
    "    values='test_lp_acc1'\n",
    ")"
   ]
  },
  {
   "cell_type": "code",
   "execution_count": null,
   "id": "8578a6ee-b3c9-4b7b-9786-8ca9709a413c",
   "metadata": {},
   "outputs": [],
   "source": [
    "def get_performance_gap_n_sim_metric(row):\n",
    "    other_model = row['other_model']\n",
    "    comb_perf = row['test_lp_acc1']\n",
    "    sing_perf = single_performance_pivot.loc[row['dataset'], row['regularization']]\n",
    "    gap = comb_perf - sing_perf\n",
    "\n",
    "    res = {'gap': gap}\n",
    "    for key, curr_sim_mat in sim_mats[row['dataset']].items():\n",
    "        try:\n",
    "            res[sim_metric_name_mapping[key]] = curr_sim_mat.loc[other_model, anchor_model]\n",
    "        except KeyError:\n",
    "            print(row['dataset'], other_model, anchor_model, key)\n",
    "            res[sim_metric_name_mapping[key]] = np.nan\n",
    "    return pd.Series(res)"
   ]
  },
  {
   "cell_type": "code",
   "execution_count": null,
   "id": "c1eb1e5f-a90f-4bb0-a197-19d290ca4c1c",
   "metadata": {},
   "outputs": [],
   "source": [
    "n_cols_before = concat_performance.shape[1]\n",
    "assert n_cols_before == ensemble_performance.shape[1]"
   ]
  },
  {
   "cell_type": "code",
   "execution_count": null,
   "id": "4fea739e-915c-431b-be4a-4e9692fe21fa",
   "metadata": {},
   "outputs": [],
   "source": [
    "concat_performance = pd.concat([concat_performance,\n",
    "                                concat_performance.apply(get_performance_gap_n_sim_metric, axis=1)],\n",
    "                               axis=1)\n",
    "\n",
    "ensemble_performance = pd.concat([ensemble_performance,\n",
    "                                  ensemble_performance.apply(get_performance_gap_n_sim_metric, axis=1)],\n",
    "                                 axis=1)"
   ]
  },
  {
   "cell_type": "code",
   "execution_count": null,
   "id": "e3eddf70-35a5-4c2d-aeb6-a2474e2046f3",
   "metadata": {},
   "outputs": [],
   "source": [
    "sim_val_col = 'Similarity value'\n",
    "sim_met_col = 'Similarity metric'\n",
    "\n",
    "\n",
    "def pp_df(cur_df):\n",
    "    return pd.melt(\n",
    "        cur_df,\n",
    "        id_vars=cur_df.columns.tolist()[:(n_cols_before + 1)],\n",
    "        var_name=sim_met_col,\n",
    "        value_name=sim_val_col,\n",
    "    )\n",
    "\n",
    "\n",
    "concat_performance = pp_df(concat_performance)\n",
    "ensemble_performance = pp_df(ensemble_performance)"
   ]
  },
  {
   "cell_type": "markdown",
   "id": "f1876158-14fd-4d36-9424-8edb2a50cd90",
   "metadata": {},
   "source": [
    "#### Plot scatter plot and add correlation coefficient "
   ]
  },
  {
   "cell_type": "code",
   "execution_count": null,
   "id": "54f05779-2725-44cf-8a83-527adbf251cb",
   "metadata": {},
   "outputs": [],
   "source": [
    "fig = plot_scatter(concat_performance,\n",
    "                   f\"Combined models (Concat) with anchor {anchor_model} and {regularitzation} regularitzation.\",\n",
    "                   \"Downstream Dataset\",\n",
    "                   sim_met_col,\n",
    "                   sim_val_col)\n",
    "\n",
    "save_or_show(fig, storing_path / 'combined_concat.pdf', SAVE)"
   ]
  },
  {
   "cell_type": "code",
   "execution_count": null,
   "id": "80d32802-f491-4171-8556-4cb396314405",
   "metadata": {},
   "outputs": [],
   "source": [
    "fig = plot_scatter(ensemble_performance,\n",
    "                   f\"Ensemble with anchor {anchor_model} and {regularitzation} regularitzation.\",\n",
    "                   \"Downstream Dataset\",\n",
    "                   sim_met_col,\n",
    "                   sim_val_col)\n",
    "\n",
    "save_or_show(fig, storing_path / 'ensemble.pdf', SAVE)"
   ]
  },
  {
   "cell_type": "code",
   "execution_count": null,
   "id": "56dea497-b066-4e2d-81f8-d9dab9bb4a1a",
   "metadata": {},
   "outputs": [],
   "source": [
    "fig = plot_r_coeff_distribution(concat_performance, sim_met_col, sim_val_col)\n",
    "save_or_show(fig, storing_path / 'combined_concat_dist_r.pdf', SAVE)"
   ]
  },
  {
   "cell_type": "code",
   "execution_count": null,
   "id": "ed4bef4c-f888-4226-b378-9ae3ea14549d",
   "metadata": {},
   "outputs": [],
   "source": [
    "fig = plot_r_coeff_distribution(ensemble_performance, sim_met_col, sim_val_col)\n",
    "save_or_show(fig, storing_path / 'ensemble_dist_r.pdf', SAVE)"
   ]
  }
 ],
 "metadata": {
  "kernelspec": {
   "display_name": "Python 3 (ipykernel)",
   "language": "python",
   "name": "python3"
  },
  "language_info": {
   "codemirror_mode": {
    "name": "ipython",
    "version": 3
   },
   "file_extension": ".py",
   "mimetype": "text/x-python",
   "name": "python",
   "nbconvert_exporter": "python",
   "pygments_lexer": "ipython3",
   "version": "3.9.17"
  }
 },
 "nbformat": 4,
 "nbformat_minor": 5
}

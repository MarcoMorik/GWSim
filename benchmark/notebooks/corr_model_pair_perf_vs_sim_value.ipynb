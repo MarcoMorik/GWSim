{
 "cells": [
  {
   "cell_type": "code",
   "id": "22f88e1e-0ced-4d1e-8684-e5c6c3560294",
   "metadata": {},
   "source": [
    "import json\n",
    "import sys\n",
    "from pathlib import Path\n",
    "\n",
    "import matplotlib.pyplot as plt\n",
    "import matplotlib.ticker as ticker\n",
    "import numpy as np\n",
    "import pandas as pd\n",
    "import seaborn as sns\n",
    "from scipy.stats import spearmanr, pearsonr\n",
    "\n",
    "from constants import exclude_models, exclude_models_w_mae, cat_name_mapping\n",
    "from helper import load_model_configs_and_allowed_models, save_or_show\n",
    "\n",
    "sys.path.append('..')\n",
    "from scripts.helper import parse_datasets"
   ],
   "outputs": [],
   "execution_count": null
  },
  {
   "cell_type": "code",
   "id": "4a9c7d53-9388-462f-aea4-1481454938fb",
   "metadata": {},
   "source": [
    "# base_path_aggregated = '/home/space/diverse_priors/results/aggregated'\n",
    "base_path_aggregated = Path('/Users/lciernik/Documents/TUB/projects/divers_prios/results/aggregated')\n",
    "\n",
    "### Config similarity data\n",
    "sim_data = pd.read_csv(base_path_aggregated / 'model_sims/all_metric_ds_model_pair_similarity.csv')\n",
    "\n",
    "### Config performance data\n",
    "ds_list_perf = parse_datasets('../scripts/webdatasets_wo_ood.txt')\n",
    "ds_list_perf = list(map(lambda x: x.replace('/', '_'), ds_list_perf))\n",
    "with open('../scripts/dataset_info.json', 'r') as f:\n",
    "    ds_info = json.load(f)\n",
    "    ds_info = {k.replace('/', '_'): v for k, v in ds_info.items()}\n",
    "ds_info = pd.DataFrame(ds_info).T\n",
    "\n",
    "results_root = '/home/space/diverse_priors/results/linear_probe/single_model'\n",
    "\n",
    "### Config datasets to include\n",
    "# ds_to_include = ['wds_imagenet1k', 'imagenet-subset-10k', 'wds_vtab_flowers', 'wds_vtab_pcam']\n",
    "ds_to_include = ['imagenet-subset-10k', 'wds_imagenet1k', 'wds_vtab_cifar100', 'entity30'] + \\\n",
    "                ['wds_cars', 'wds_vtab_flowers', 'wds_vtab_pets'] + \\\n",
    "                ['wds_vtab_diabetic_retinopathy', 'wds_vtab_eurosat', 'wds_vtab_pcam'] + \\\n",
    "                ['wds_fer2013', 'wds_vtab_dmlab', 'wds_vtab_dtd']\n",
    "\n",
    "remaining_ds = sorted(list(set(ds_list_perf) - set(ds_to_include)))\n",
    "\n",
    "## Storing information\n",
    "suffix = ''\n",
    "# suffix = '_ wo_mae'\n",
    "\n",
    "SAVE = True\n",
    "# f'/home/space/diverse_priors/results/plots/scatter_sim_vs_performance'\n",
    "storing_path = Path(\n",
    "    f'/Users/lciernik/Documents/TUB/projects/divers_prios/results/analysis_model_similarities_across_datasets/scatter_sim_vs_performance'\n",
    ")\n",
    "if SAVE:\n",
    "    storing_path.mkdir(parents=True, exist_ok=True)"
   ],
   "outputs": [],
   "execution_count": null
  },
  {
   "cell_type": "code",
   "id": "ce4109a6-f2e8-4357-94c6-9fdfda095f99",
   "metadata": {},
   "source": [
    "## Filter similarity data only for desired datasets\n",
    "if ds_to_include:\n",
    "    sim_data = sim_data[sim_data['DS'].isin(ds_to_include)].reset_index(drop=True)"
   ],
   "outputs": [],
   "execution_count": null
  },
  {
   "metadata": {},
   "cell_type": "code",
   "source": [
    "## Rename datasets with info\n",
    "sim_data['DS category'] = sim_data['DS'].apply(lambda x: ds_info.loc[x, 'domain'])\n",
    "sim_data['DS'] = sim_data['DS'].apply(lambda x: ds_info.loc[x, 'name'])"
   ],
   "id": "e86e4ea7207b2abc",
   "outputs": [],
   "execution_count": null
  },
  {
   "cell_type": "code",
   "id": "faa022cd-d2a2-49e3-b32f-ba830e73caa1",
   "metadata": {},
   "source": [
    "## Post-process 'pair' columns\n",
    "def pp_pair_col(df_col):\n",
    "    return df_col.apply(eval).apply(lambda x: f\"{cat_name_mapping[x[0]]}, {cat_name_mapping[x[1]]}\")\n",
    "\n",
    "\n",
    "pair_columns = [col for col in sim_data.columns if 'pair' in col]\n",
    "sim_data[pair_columns] = sim_data[pair_columns].apply(pp_pair_col, axis=0)"
   ],
   "outputs": [],
   "execution_count": null
  },
  {
   "cell_type": "code",
   "id": "4a906935-71d2-4ed4-955b-424e2f7c8fb8",
   "metadata": {},
   "source": [
    "curr_excl_models = exclude_models_w_mae if 'mae' in suffix else exclude_models\n",
    "print(curr_excl_models)\n",
    "\n",
    "model_configs, allowed_models = load_model_configs_and_allowed_models(\n",
    "    path='../scripts/models_config_wo_barlowtwins_n_alignment.json',\n",
    "    exclude_models=exclude_models,\n",
    "    exclude_alignment=True,\n",
    ")"
   ],
   "outputs": [],
   "execution_count": null
  },
  {
   "metadata": {},
   "cell_type": "code",
   "source": "sim_data = sim_data[sim_data['Model 1'].isin(allowed_models) & sim_data['Model 2'].isin(allowed_models)]",
   "id": "8fbb4868cec85324",
   "outputs": [],
   "execution_count": null
  },
  {
   "cell_type": "code",
   "id": "87cc003f-9ecd-417b-96fd-6ef8df216e2c",
   "metadata": {},
   "source": [
    "# res = []\n",
    "# for ds, mid in product(ds_list_perf, allowed_models):\n",
    "#     performance = retrieve_performance(\n",
    "#         model_id=mid, \n",
    "#         dataset_id=ds, \n",
    "#         metric_column='test_lp_acc1',\n",
    "#         results_root='/home/space/diverse_priors/results/linear_probe/single_model',\n",
    "#         regularization=\"weight_decay\",\n",
    "#         allow_db_results=False\n",
    "#     )\n",
    "#     res.append({\n",
    "#         'DS': ds,\n",
    "#         'Model': mid,\n",
    "#         'TestAcc': performance\n",
    "#     })\n",
    "# perf_res = pd.DataFrame(res)"
   ],
   "outputs": [],
   "execution_count": null
  },
  {
   "cell_type": "code",
   "id": "d5e3e893-a2dd-46b0-9c7d-1dd195cf2bd5",
   "metadata": {},
   "source": "# perf_res.to_csv(base_path_aggregated/ f'single_model_performance/all_ds{suffix}.csv', index=False)",
   "outputs": [],
   "execution_count": null
  },
  {
   "cell_type": "code",
   "id": "ea041adb-439f-41f2-bf7d-e6c6b7002ab5",
   "metadata": {},
   "source": "perf_res = pd.read_csv(base_path_aggregated / f'single_model_performance/all_ds.csv')",
   "outputs": [],
   "execution_count": null
  },
  {
   "metadata": {},
   "cell_type": "code",
   "source": [
    "if ds_to_include:\n",
    "    perf_res = perf_res[perf_res['DS'].isin(ds_to_include)].reset_index(drop=True)\n",
    "perf_res['DS category'] = perf_res['DS'].apply(lambda x: ds_info.loc[x, 'domain'])\n",
    "# perf_res['DS'] = perf_res['DS'].apply(lambda x: f\"{ds_info.loc[x, 'name']} ({ds_info.loc[x, 'domain']})\")\n",
    "perf_res['DS'] = perf_res['DS'].apply(lambda x: ds_info.loc[x, 'name'])\n",
    "perf_res.head()"
   ],
   "id": "442331298e1b7c85",
   "outputs": [],
   "execution_count": null
  },
  {
   "cell_type": "code",
   "id": "950fdc6b-4f72-4db1-bc0a-a9ffe56e391c",
   "metadata": {},
   "source": "# perf_res.loc[perf_res['DS'] == 'wds_imagenet1k', 'DS'] = 'imagenet-subset-10k'",
   "outputs": [],
   "execution_count": null
  },
  {
   "cell_type": "code",
   "id": "7a588a9f-92df-4445-bcb1-bb8de121d082",
   "metadata": {},
   "source": [
    "def get_model_perf(row):\n",
    "    m1_perf = perf_res.loc[(perf_res['Model'] == row['Model 1']) & (perf_res['DS'] == row['DS']), 'TestAcc'].item()\n",
    "    m2_perf = perf_res.loc[(perf_res['Model'] == row['Model 2']) & (perf_res['DS'] == row['DS']), 'TestAcc'].item()\n",
    "    return m1_perf, m2_perf, np.abs(m1_perf - m2_perf)\n"
   ],
   "outputs": [],
   "execution_count": null
  },
  {
   "cell_type": "code",
   "id": "a23fb4e6-5465-4286-9c86-b970694da0b7",
   "metadata": {},
   "source": [
    "performance_per_pair = pd.DataFrame(sim_data.apply(get_model_perf, axis=1).tolist(),\n",
    "                                    columns=['Model 1 perf.', 'Model 2 perf.', 'abs. diff. perf.']).reset_index()"
   ],
   "outputs": [],
   "execution_count": null
  },
  {
   "cell_type": "code",
   "id": "e05604c7-52f7-4cf1-87cc-51a10ab4fa08",
   "metadata": {},
   "source": [
    "sim_data_new = pd.concat([sim_data, performance_per_pair], axis=1)"
   ],
   "outputs": [],
   "execution_count": null
  },
  {
   "metadata": {},
   "cell_type": "code",
   "source": [
    "def get_correlation(subset_data):\n",
    "    corr_sp, _ = spearmanr(subset_data['Similarity value'], subset_data['abs. diff. perf.'])\n",
    "    corr_pr, _ = pearsonr(subset_data['Similarity value'], subset_data['abs. diff. perf.'])\n",
    "    return {'spearmanr': corr_sp, 'pearsonr': corr_pr}\n",
    "\n",
    "\n",
    "r_coeffs = sim_data_new.groupby(['Similarity metric', 'DS'])[['Similarity value', 'abs. diff. perf.']].apply(\n",
    "    get_correlation)\n",
    "r_coeffs = pd.DataFrame(r_coeffs.tolist(), index=r_coeffs.index)"
   ],
   "id": "d9a8822f47a78afd",
   "outputs": [],
   "execution_count": null
  },
  {
   "metadata": {},
   "cell_type": "code",
   "source": "sim_data_new = sim_data_new[sim_data_new['Similarity metric'] == 'CKA linear']",
   "id": "1476f9f1a24c51be",
   "outputs": [],
   "execution_count": null
  },
  {
   "metadata": {},
   "cell_type": "code",
   "source": "sim_data_new = sim_data_new.sort_values(['DS category', 'DS']).reset_index(drop=True)",
   "id": "2d28e0b141daf159",
   "outputs": [],
   "execution_count": null
  },
  {
   "metadata": {},
   "cell_type": "code",
   "source": [
    "ds_order = ['ImageNet-1K', 'Flowers', 'Diabetic Retinopathy', 'DTD',\n",
    "            'CIFAR-100', 'Pets', 'EuroSAT', 'Dmlab',\n",
    "            'Entity-30', 'Stanford Cars', 'PCAM', 'FER2013']"
   ],
   "id": "d8ee4b307d39f7f9",
   "outputs": [],
   "execution_count": null
  },
  {
   "metadata": {},
   "cell_type": "code",
   "source": [
    "def get_scatter_grid(hue_col, figsize=(9, 7), corr_type='spearmanr'):\n",
    "    n, m = 3, 4\n",
    "    cm = 0.393701\n",
    "    fontsize_title = 12\n",
    "    fontsize_label = 12\n",
    "    fontsize_ticks = 11\n",
    "\n",
    "    fig, axes = plt.subplots(nrows=n, ncols=m, figsize=(figsize[0] * cm * m, figsize[1] * cm * n), sharex=True,\n",
    "                             sharey=False)\n",
    "    axes = axes.flatten()\n",
    "\n",
    "    for i, (col, ax) in enumerate(zip(ds_order, axes)):\n",
    "        group_data = sim_data_new[sim_data_new['DS'] == col]\n",
    "\n",
    "        sns.scatterplot(\n",
    "            group_data,\n",
    "            x='Similarity value',\n",
    "            y='abs. diff. perf.',\n",
    "            hue=hue_col,\n",
    "            alpha=0.5,\n",
    "            ax=ax,\n",
    "            s=15,\n",
    "        )\n",
    "        xlbl = 'Similarity value' if i // m == 2 else ''\n",
    "        ax.set_xlabel(xlbl, fontsize=fontsize_label)\n",
    "\n",
    "        ylbl = f'Model Performance Gap' if i % m == 0 else ''\n",
    "        ax.set_ylabel(ylbl, fontsize=fontsize_label)\n",
    "\n",
    "        col_cat = ds_info.loc[ds_info['name'] == col, 'domain'].unique()[0]\n",
    "        # title = f\"{col_cat}\\n{col}\" if i//m == 0 else col\n",
    "        title = f\"$\\\\it{{{col_cat}}}$\\n{col}\" if i // m == 0 else col\n",
    "        ax.set_title(title, fontsize=fontsize_title)\n",
    "\n",
    "        # \n",
    "        if i == 3:\n",
    "            sns.move_legend(ax,\n",
    "                            loc='upper left',\n",
    "                            title=hue_col,\n",
    "                            bbox_to_anchor=(1, 1), fontsize=fontsize_label,\n",
    "                            title_fontsize=fontsize_label, frameon=False)\n",
    "        else:\n",
    "            ax.get_legend().remove()\n",
    "\n",
    "        ax.xaxis.set_major_formatter(ticker.FormatStrFormatter('%.1f'))\n",
    "        ax.yaxis.set_major_formatter(ticker.FormatStrFormatter('%.2f'))\n",
    "        ax.tick_params(axis='both',  # Apply to both x and y axes\n",
    "                       which='major',  # Apply to major ticks\n",
    "                       labelsize=fontsize_ticks)\n",
    "        if corr_type == 'spearmanr':\n",
    "            r_coeff = r_coeffs.loc[('CKA linear', col), 'spearmanr']\n",
    "        else:\n",
    "            r_coeff = r_coeffs.loc[('CKA linear', col), 'pearsonr']\n",
    "\n",
    "        ax.text(0.95, 0.9, f'r coeff.: {r_coeff:.2f}',\n",
    "                transform=ax.transAxes, fontsize=fontsize_label,\n",
    "                bbox=dict(facecolor='white', alpha=0.5),\n",
    "                ha='right')  # Align text to the right\n",
    "    fig.subplots_adjust(wspace=0.2, hspace=0.1)\n",
    "    fig.tight_layout()\n",
    "    return fig\n"
   ],
   "id": "b5659a3208dc1f59",
   "outputs": [],
   "execution_count": null
  },
  {
   "metadata": {},
   "cell_type": "code",
   "source": [
    "sns.set_style('ticks')\n",
    "corr_type = 'pearsonr'\n",
    "for hue_col, figsize in zip(pair_columns, [(9, 7), (9, 7), (10, 8), (10, 8)]):\n",
    "    fig = get_scatter_grid(hue_col, figsize, corr_type)\n",
    "    save_or_show(fig, storing_path / f'scatter_3_4_{corr_type}_grid_cka_linear_{hue_col.replace(\" \", \"_\")}.pdf', SAVE)"
   ],
   "id": "b4bfb3bcb575c3f1",
   "outputs": [],
   "execution_count": null
  },
  {
   "metadata": {},
   "cell_type": "markdown",
   "source": "#### Old code",
   "id": "2aeb05fe8c963a31"
  },
  {
   "cell_type": "code",
   "id": "74e2d00c-ad99-4e53-bad4-c963c6a72503",
   "metadata": {
    "scrolled": true
   },
   "source": [
    "# def get_scatter_n_compute_correlation(hue_col):\n",
    "#     n = sim_data_new['Similarity metric'].nunique()\n",
    "#     m = sim_data_new['DS'].nunique()\n",
    "#     box_size = 4\n",
    "# \n",
    "#     fig, axes = plt.subplots(nrows=n, ncols=m, figsize=(box_size * m, box_size * n), sharex=True, sharey=False)\n",
    "#     axes = axes.flatten()\n",
    "# \n",
    "#     r_vals_sr, r_vals_pr = [], []\n",
    "#     for i, (keys, group_data) in enumerate(sim_data_new.groupby(['Similarity metric', 'DS'])):\n",
    "#         ax = axes[i]\n",
    "#         sns.scatterplot(\n",
    "#             group_data,\n",
    "#             x='Similarity value',\n",
    "#             y='abs. diff. perf.',\n",
    "#             hue=hue_col,\n",
    "#             alpha=0.5,\n",
    "#             ax=ax,\n",
    "#             s=15,\n",
    "#         )\n",
    "# \n",
    "#         xlbl = 'Similarity value' if i // m == 1 else ''\n",
    "#         ax.set_xlabel(xlbl, fontsize=11)\n",
    "# \n",
    "#         ylbl = f'{keys[0]}\\n Model Performance Gap' if i % m == 0 else ''\n",
    "#         ax.set_ylabel(ylbl, fontsize=12)\n",
    "# \n",
    "#         title = keys[1] if i // m == 0 else ''\n",
    "#         ax.set_title(title, fontsize=12)\n",
    "# \n",
    "#         if i % m == (m - 1) and i // m == 0:\n",
    "#             sns.move_legend(ax,\n",
    "#                             loc='upper left',\n",
    "#                             title=hue_col,\n",
    "#                             bbox_to_anchor=(1, 1), fontsize=12,\n",
    "#                             title_fontsize=12, frameon=False)\n",
    "#         else:\n",
    "#             ax.get_legend().remove()\n",
    "# \n",
    "#         sp_r_coeff = r_coeffs.loc[keys, 'spearmanr']\n",
    "#         pr_r_coeff = r_coeffs.loc[keys, 'pearsonr']\n",
    "# \n",
    "#         ax.text(0.95, 0.9, f'r_spearman: {sp_r_coeff:.2f}',\n",
    "#                 transform=ax.transAxes, fontsize=11,\n",
    "#                 bbox=dict(facecolor='white', alpha=0.5),\n",
    "#                 ha='right')  # Align text to the right\n",
    "# \n",
    "#         ax.text(0.95, 0.8, f'r_pearson: {pr_r_coeff:.2f}',\n",
    "#                 transform=ax.transAxes, fontsize=11,\n",
    "#                 bbox=dict(facecolor='white', alpha=0.5),\n",
    "#                 ha='right')  # Align text to the right\n",
    "# \n",
    "#         # for cat, subset_data in group_data.groupby(hue_col):\n",
    "#         #     corr_sp, _ = spearmanr(subset_data['Similarity value'], subset_data['abs. diff. perf.'])\n",
    "#         #     corr_pr, _ = pearsonr(subset_data['Similarity value'], subset_data['abs. diff. perf.'])\n",
    "#         #     r_vals_sr.append(tuple(list(keys) + [cat, corr_sp]))\n",
    "#         #     r_vals_pr.append(tuple(list(keys) + [cat, corr_pr]))\n",
    "# \n",
    "#     fig.subplots_adjust(wspace=0.2, hspace=0.1)\n",
    "#     # r_vals_sr = pd.DataFrame(r_vals_sr, columns=['DS', 'Similarity metric', hue_col, 'corr'])\n",
    "#     # r_vals_pr = pd.DataFrame(r_vals_pr, columns=['DS', 'Similarity metric', hue_col, 'corr'])\n",
    "# \n",
    "#     return fig, r_vals_sr, r_vals_pr"
   ],
   "outputs": [],
   "execution_count": null
  },
  {
   "cell_type": "code",
   "id": "7821f002-2476-46c6-9a77-b431d3419d19",
   "metadata": {},
   "source": [
    "# sns.set_style('ticks')\n",
    "# for hue_col in pair_columns:\n",
    "#     fig, _, _ = get_scatter_n_compute_correlation(hue_col)\n",
    "#     curr_suffix = suffix + f'_{\"_\".join(ds_to_include)}' if ds_to_include else suffix\n",
    "#     save_or_show(fig, storing_path / f'scatter_{hue_col.replace(\" \", \"_\")}{curr_suffix}.pdf', SAVE)"
   ],
   "outputs": [],
   "execution_count": null
  },
  {
   "metadata": {},
   "cell_type": "markdown",
   "source": "",
   "id": "dd8013cc4f5649dc"
  },
  {
   "cell_type": "code",
   "id": "330faa1c-6158-4fa4-a50d-80347c44b990",
   "metadata": {},
   "source": [],
   "outputs": [],
   "execution_count": null
  }
 ],
 "metadata": {
  "kernelspec": {
   "display_name": "Python 3 (ipykernel)",
   "language": "python",
   "name": "python3"
  },
  "language_info": {
   "codemirror_mode": {
    "name": "ipython",
    "version": 3
   },
   "file_extension": ".py",
   "mimetype": "text/x-python",
   "name": "python",
   "nbconvert_exporter": "python",
   "pygments_lexer": "ipython3",
   "version": "3.10.13"
  }
 },
 "nbformat": 4,
 "nbformat_minor": 5
}

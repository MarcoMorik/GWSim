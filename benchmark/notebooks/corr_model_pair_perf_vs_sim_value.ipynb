{
 "cells": [
  {
   "cell_type": "code",
   "execution_count": 1,
   "id": "22f88e1e-0ced-4d1e-8684-e5c6c3560294",
   "metadata": {},
   "outputs": [],
   "source": [
    "import os\n",
    "import sys\n",
    "from itertools import combinations, product\n",
    "from pathlib import Path\n",
    "import numpy as np\n",
    "import pandas as pd\n",
    "from scipy.stats import spearmanr, kendalltau, pearsonr\n",
    "from tqdm.notebook import tqdm\n",
    "\n",
    "from helper import load_model_configs_and_allowed_models, load_similarity_matrices, save_or_show\n",
    "from clip_benchmark.analysis.utils import retrieve_performance \n",
    "import seaborn as sns\n",
    "import matplotlib.pyplot as plt\n",
    "from scipy.stats import spearmanr, pearsonr\n",
    "\n",
    "from constants import exclude_models, exclude_models_w_mae, ds_name_mapping, cat_name_mapping\n",
    "\n",
    "sys.path.append('..')\n",
    "from scripts.helper import parse_datasets\n",
    "from constants import sim_metric_name_mapping, anchors"
   ]
  },
  {
   "cell_type": "code",
   "execution_count": 2,
   "id": "4a9c7d53-9388-462f-aea4-1481454938fb",
   "metadata": {},
   "outputs": [],
   "source": [
    "### Config similarity data\n",
    "sim_data = pd.read_csv('/home/space/diverse_priors/results/aggregated/model_sims/all_metric_ds_model_pair_similarity.csv')\n",
    "\n",
    "### Config performance data\n",
    "ds_list_perf = parse_datasets('../scripts/webdatasets_wo_ood.txt')\n",
    "ds_list_perf = list(map(lambda x: x.replace('/', '_'), ds_list_perf))\n",
    "\n",
    "results_root = '/home/space/diverse_priors/results/linear_probe/single_model'\n",
    "\n",
    "### Config datasets to include\n",
    "# ds_to_include = []\n",
    "ds_to_include = ['imagenet-subset-10k', 'wds_vtab_flowers', 'wds_vtab_pcam']\n",
    "\n",
    "## Storing information\n",
    "# suffix = '_wo_swav_pirl_timm_clip'\n",
    "suffix = '_wo_mae_swav_pirl_timm_clip'\n",
    "\n",
    "SAVE = True\n",
    "storing_path = Path(\n",
    "    f'/home/space/diverse_priors/results/plots/scatter_sim_vs_performance'\n",
    ")\n",
    "if SAVE:\n",
    "    storing_path.mkdir(parents=True, exist_ok=True)"
   ]
  },
  {
   "cell_type": "code",
   "execution_count": 3,
   "id": "ce4109a6-f2e8-4357-94c6-9fdfda095f99",
   "metadata": {},
   "outputs": [],
   "source": [
    "## Filter similarity data only for desired datasets\n",
    "if ds_to_include:\n",
    "    sim_data = sim_data[sim_data['DS'].isin(ds_to_include)].reset_index(drop=True)"
   ]
  },
  {
   "cell_type": "code",
   "execution_count": 4,
   "id": "d62098ae-8f25-4c27-a1b6-454ba74d7708",
   "metadata": {},
   "outputs": [],
   "source": [
    "## Remove MAE models if requested\n",
    "if 'mae' in suffix:\n",
    "    sim_data = sim_data[~(sim_data['Model 1'].str.contains('mae') | sim_data['Model 2'].str.contains('mae'))].reset_index(drop=True)"
   ]
  },
  {
   "cell_type": "code",
   "execution_count": 5,
   "id": "faa022cd-d2a2-49e3-b32f-ba830e73caa1",
   "metadata": {},
   "outputs": [],
   "source": [
    "## Post-process 'pair' columns\n",
    "def pp_pair_col(df_col):\n",
    "    return df_col.apply(eval).apply(lambda x: f\"{cat_name_mapping[x[0]]}, {cat_name_mapping[x[1]]}\")\n",
    "\n",
    "pair_columns = [col for col in sim_data.columns if 'pair' in col]\n",
    "sim_data[pair_columns] = sim_data[pair_columns].apply(pp_pair_col, axis=0)"
   ]
  },
  {
   "cell_type": "code",
   "execution_count": null,
   "id": "4a906935-71d2-4ed4-955b-424e2f7c8fb8",
   "metadata": {},
   "outputs": [],
   "source": [
    "curr_excl_models = exclude_models_w_mae if 'mae' in suffix else exclude_models\n",
    "\n",
    "model_configs, allowed_models = load_model_configs_and_allowed_models(\n",
    "    path='../scripts/models_config_wo_barlowtwins_n_alignment.json',\n",
    "    exclude_models=exclude_models,\n",
    "    exclude_alignment=True,\n",
    ")"
   ]
  },
  {
   "cell_type": "code",
   "execution_count": 7,
   "id": "87cc003f-9ecd-417b-96fd-6ef8df216e2c",
   "metadata": {},
   "outputs": [],
   "source": [
    "# res = []\n",
    "# for ds, mid in product(ds_list_perf, allowed_models):\n",
    "#     performance = retrieve_performance(\n",
    "#         model_id=mid, \n",
    "#         dataset_id=ds, \n",
    "#         metric_column='test_lp_acc1',\n",
    "#         results_root='/home/space/diverse_priors/results/linear_probe/single_model',\n",
    "#         regularization=\"weight_decay\",\n",
    "#         allow_db_results=False\n",
    "#     )\n",
    "#     res.append({\n",
    "#         'DS': ds,\n",
    "#         'Model': mid,\n",
    "#         'TestAcc': performance\n",
    "#     })\n",
    "# perf_res = pd.DataFrame(res)"
   ]
  },
  {
   "cell_type": "code",
   "execution_count": 8,
   "id": "d5e3e893-a2dd-46b0-9c7d-1dd195cf2bd5",
   "metadata": {},
   "outputs": [],
   "source": [
    "# perf_res.to_csv(f'/home/space/diverse_priors/results/aggregated/single_model_performance/all_ds{suffix}.csv', index=False)"
   ]
  },
  {
   "cell_type": "code",
   "execution_count": 9,
   "id": "ea041adb-439f-41f2-bf7d-e6c6b7002ab5",
   "metadata": {},
   "outputs": [],
   "source": [
    "perf_res = pd.read_csv(f'/home/space/diverse_priors/results/aggregated/single_model_performance/all_ds.csv')"
   ]
  },
  {
   "cell_type": "code",
   "execution_count": 10,
   "id": "950fdc6b-4f72-4db1-bc0a-a9ffe56e391c",
   "metadata": {},
   "outputs": [],
   "source": [
    "perf_res.loc[perf_res['DS']=='wds_imagenet1k', 'DS'] = 'imagenet-subset-10k'"
   ]
  },
  {
   "cell_type": "code",
   "execution_count": 11,
   "id": "7a588a9f-92df-4445-bcb1-bb8de121d082",
   "metadata": {},
   "outputs": [],
   "source": [
    "def get_model_perf(row):\n",
    "    m1_perf = perf_res.loc[(perf_res['Model'] == row['Model 1']) & (perf_res['DS'] == row['DS']), 'TestAcc'].item()\n",
    "    m2_perf = perf_res.loc[(perf_res['Model'] == row['Model 2']) & (perf_res['DS'] == row['DS']), 'TestAcc'].item()\n",
    "    return m1_perf, m2_perf, np.abs(m1_perf - m2_perf)\n"
   ]
  },
  {
   "cell_type": "code",
   "execution_count": 12,
   "id": "a23fb4e6-5465-4286-9c86-b970694da0b7",
   "metadata": {},
   "outputs": [],
   "source": [
    "performance_per_pair = pd.DataFrame(sim_data.apply(get_model_perf, axis=1).tolist(), columns=['Model 1 perf.', 'Model 2 perf.', 'abs. diff. perf.']).reset_index()"
   ]
  },
  {
   "cell_type": "code",
   "execution_count": 13,
   "id": "e05604c7-52f7-4cf1-87cc-51a10ab4fa08",
   "metadata": {},
   "outputs": [],
   "source": [
    "sim_data_new = pd.concat([sim_data, performance_per_pair], axis=1)"
   ]
  },
  {
   "cell_type": "code",
   "execution_count": 14,
   "id": "74e2d00c-ad99-4e53-bad4-c963c6a72503",
   "metadata": {
    "scrolled": true
   },
   "outputs": [],
   "source": [
    "def get_scatter_n_compute_correlation(hue_col):\n",
    "    n = sim_data_new['Similarity metric'].nunique()\n",
    "    m = sim_data_new['DS'].nunique()\n",
    "    box_size = 4\n",
    "    \n",
    "    fig, axes = plt.subplots(nrows=n, ncols=m, figsize=(box_size*m , box_size*n), sharex=True, sharey=False)\n",
    "    axes = axes.flatten()\n",
    "    \n",
    "    r_vals_sr, r_vals_pr = [], []\n",
    "    for i, (keys, group_data) in enumerate(sim_data_new.groupby(['Similarity metric', 'DS'])):\n",
    "        ax = axes[i]\n",
    "        sns.scatterplot(\n",
    "            group_data,\n",
    "            x='Similarity value',\n",
    "            y='abs. diff. perf.',\n",
    "            hue=hue_col,\n",
    "            alpha=0.5,\n",
    "            ax=ax,\n",
    "            s=15,\n",
    "        )\n",
    "\n",
    "        xlbl = 'Similarity value' if i//m == 1 else ''\n",
    "        ax.set_xlabel(xlbl, fontsize=11)\n",
    "        \n",
    "        ylbl = f'{keys[0]}\\n Model Performance Gap' if i%m==0 else ''\n",
    "        ax.set_ylabel(ylbl, fontsize=12)\n",
    "\n",
    "        title = ds_name_mapping[keys[1]] if i//m ==0 else ''\n",
    "        ax.set_title(title, fontsize=12)\n",
    "            \n",
    "        if i%m==(m-1) and i//m ==0:\n",
    "            sns.move_legend(ax, \n",
    "                            loc='upper left', \n",
    "                            title=hue_col,\n",
    "                            bbox_to_anchor=(1, 1), fontsize=12,\n",
    "                            title_fontsize=12, frameon=False)\n",
    "        else:\n",
    "            ax.get_legend().remove()\n",
    "    \n",
    "        for cat, subset_data in group_data.groupby(hue_col):\n",
    "            corr_sp,_ = spearmanr(subset_data['Similarity value'], subset_data['abs. diff. perf.'])\n",
    "            corr_pr,_ = pearsonr(subset_data['Similarity value'], subset_data['abs. diff. perf.'])\n",
    "            r_vals_sr.append(tuple(list(keys)+[cat, corr_sp]))\n",
    "            r_vals_pr.append(tuple(list(keys)+[cat, corr_pr]))\n",
    "    \n",
    "    fig.subplots_adjust(wspace=0.2, hspace=0.1)\n",
    "    r_vals_sr = pd.DataFrame(r_vals_sr, columns=['DS','Similarity metric', hue_col, 'corr'])\n",
    "    r_vals_pr = pd.DataFrame(r_vals_pr, columns=['DS','Similarity metric', hue_col, 'corr'])\n",
    "    \n",
    "    return fig, r_vals_sr, r_vals_pr"
   ]
  },
  {
   "cell_type": "code",
   "execution_count": 15,
   "id": "fb5ba971-d20e-4a96-b1bb-3da9d49ce68a",
   "metadata": {
    "scrolled": true
   },
   "outputs": [],
   "source": [
    "# for hue_col in pair_columns:\n",
    "#     fig, r_vals_sr, r_vals_pr = get_scatter_n_compute_correlation(hue_col)\n",
    "#     save_or_show(fig, storing_path / f'scatter_{hue_col.replace(\" \", \"_\")}{suffix}.pdf', SAVE)\n",
    "    \n",
    "#     m = sim_data_new['Similarity metric'].nunique()\n",
    "    \n",
    "#     fig, axs = plt.subplots(nrows=m, ncols=2, figsize=(5*m, 5*2), sharex=True, sharey=True)\n",
    "#     for j, (corr_metric, corr_data) in enumerate([('spearmanr', r_vals_sr), ('pearsonr', r_vals_pr)]):\n",
    "#         for i, (metric, tmp_subset) in enumerate(corr_data.groupby('Similarity metric')):\n",
    "#             ax = axs[i,j]\n",
    "#             sns.kdeplot(\n",
    "#                 tmp_subset,\n",
    "#                 x='corr',\n",
    "#                 hue=hue_col,\n",
    "#                 ax=ax\n",
    "#                 )\n",
    "#             if i==0:\n",
    "#                 ax.set_title(f\"{corr_metric.capitalize()}{' (w/o MAE)' if 'mae' in suffix else ''}\", fontsize=11)\n",
    "#             if j==0:\n",
    "#                 ax.set_ylabel(f\"{metric}\\nDensity\", fontsize=11)\n",
    "\n",
    "#             if i==0 and j==1:\n",
    "#                 sns.move_legend(ax, \n",
    "#                                 loc='upper left', \n",
    "#                                 title=hue_col,\n",
    "#                                 bbox_to_anchor=(1, 1), fontsize=11,\n",
    "#                                 title_fontsize=11, frameon=False)\n",
    "#             else:\n",
    "#                 ax.get_legend().remove()\n",
    "            \n",
    "#     fig.subplots_adjust(hspace=0.1, wspace=0.1)\n",
    "#     save_or_show(fig, storing_path / f'corr_dist_perf_vs_cka_{hue_col.replace(\" \", \"_\")}{suffix}.pdf', SAVE)"
   ]
  },
  {
   "cell_type": "code",
   "execution_count": null,
   "id": "7821f002-2476-46c6-9a77-b431d3419d19",
   "metadata": {},
   "outputs": [],
   "source": [
    "for hue_col in pair_columns:\n",
    "    fig, r_vals_sr, r_vals_pr = get_scatter_n_compute_correlation(hue_col)\n",
    "    curr_suffix = suffix + f'_{\"_\".join(ds_to_include)}' if ds_to_include else suffix\n",
    "    save_or_show(fig, storing_path / f'scatter_{hue_col.replace(\" \", \"_\")}{curr_suffix}.pdf', SAVE)"
   ]
  },
  {
   "cell_type": "code",
   "execution_count": null,
   "id": "330faa1c-6158-4fa4-a50d-80347c44b990",
   "metadata": {},
   "outputs": [],
   "source": []
  }
 ],
 "metadata": {
  "kernelspec": {
   "display_name": "Python 3 (ipykernel)",
   "language": "python",
   "name": "python3"
  },
  "language_info": {
   "codemirror_mode": {
    "name": "ipython",
    "version": 3
   },
   "file_extension": ".py",
   "mimetype": "text/x-python",
   "name": "python",
   "nbconvert_exporter": "python",
   "pygments_lexer": "ipython3",
   "version": "3.10.13"
  }
 },
 "nbformat": 4,
 "nbformat_minor": 5
}

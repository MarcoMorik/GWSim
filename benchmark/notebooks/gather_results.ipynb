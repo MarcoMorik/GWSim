{
 "cells": [
  {
   "cell_type": "code",
   "execution_count": null,
   "id": "c9ad616d-4892-4a58-82a0-f27891b04320",
   "metadata": {},
   "outputs": [],
   "source": [
    "import json\n",
    "from pathlib import Path\n",
    "import pandas as pd\n",
    "import seaborn as sns\n",
    "import matplotlib.pyplot as plt\n",
    "from matplotlib.backends.backend_pdf import PdfPages"
   ]
  },
  {
   "cell_type": "code",
   "execution_count": null,
   "id": "91de6456-d60f-4aa0-9236-aada75394745",
   "metadata": {},
   "outputs": [],
   "source": [
    "fewshot_folders = ['no_fewshot', 'fewshot_1', 'fewshot_10', 'fewshot_100']\n",
    "feat_combiner = ['feat_comb_concat', 'feat_comb_concat_pca']"
   ]
  },
  {
   "cell_type": "code",
   "execution_count": null,
   "id": "1e88cf99-b753-42e2-8327-ff1442106236",
   "metadata": {},
   "outputs": [],
   "source": [
    "base_path_experiment= Path(\"/home/space/diverse_priors/results\")\n",
    "single_model_exps = base_path_experiment / 'single_models' \n",
    "combined_model_exps = base_path_experiment / 'combined_models' "
   ]
  },
  {
   "cell_type": "code",
   "execution_count": null,
   "id": "17d42180-ea03-4a7d-a1cc-7976dca686f4",
   "metadata": {},
   "outputs": [],
   "source": [
    "def load_data(exp_path):\n",
    "    rows = []\n",
    "    fieldnames = set()\n",
    "    for res_file in exp_path.rglob('**/*.json'):        \n",
    "        def process_file(path: str):\n",
    "            data = json.load(open(path))\n",
    "            row = {}\n",
    "            try:\n",
    "                row.update(data[\"metrics\"])\n",
    "            except TypeError as e:\n",
    "                print('No metric values available for file ', res_file)   \n",
    "            row.update(data)\n",
    "            del row[\"metrics\"]\n",
    "            row['model_fullname'] = \"__\".join(row['model_ids'])\n",
    "            row['mode'] = 'single_feature' if 'single_models' in str(path) else 'combined_features'\n",
    "            row['combiner'] = 'no' if 'single_models' in str(path) else ('Concat + PCA' if 'feat_comb_concat_pca' in str(path) else 'Concat' ) \n",
    "            for field in row.keys():\n",
    "                fieldnames.add(field)\n",
    "            rows.append(row)\n",
    "        process_file(res_file)\n",
    "    return rows, fieldnames\n"
   ]
  },
  {
   "cell_type": "code",
   "execution_count": null,
   "id": "6d379935-e866-4387-9d73-536c6f81ef4b",
   "metadata": {},
   "outputs": [],
   "source": [
    "all_rows = []\n",
    "all_fieldnames = set()\n",
    "\n",
    "for fewshot in fewshot_folders:\n",
    "\n",
    "    # single feature experiments \n",
    "    exp_path = single_model_exps / fewshot\n",
    "\n",
    "    rows, fieldnames = load_data(exp_path)\n",
    "    \n",
    "    all_rows += rows\n",
    "    all_fieldnames.update(fieldnames)\n",
    "\n",
    "    # combined features experiments \n",
    "    for feat_comb in feat_combiner:\n",
    "        exp_path = combined_model_exps / fewshot / feat_comb\n",
    "\n",
    "        rows, fieldnames = load_data(exp_path)\n",
    "    \n",
    "        all_rows += rows\n",
    "        all_fieldnames.update(fieldnames)"
   ]
  },
  {
   "cell_type": "code",
   "execution_count": null,
   "id": "fb3ce004-074c-42ef-a0bb-0a2fc986f480",
   "metadata": {},
   "outputs": [],
   "source": [
    "df = pd.DataFrame(all_rows)"
   ]
  },
  {
   "cell_type": "code",
   "execution_count": null,
   "id": "f393a5ef-8c9b-4c18-8519-a7e13397e5ea",
   "metadata": {},
   "outputs": [],
   "source": [
    "df"
   ]
  },
  {
   "cell_type": "code",
   "execution_count": null,
   "id": "e32aeb5d-e927-4aa1-a0bb-23c462ff5ac1",
   "metadata": {},
   "outputs": [],
   "source": [
    "## remove vit_b_16 model \n",
    "df = df[df['model_fullname']!='vit_b_16'].copy()"
   ]
  },
  {
   "cell_type": "code",
   "execution_count": null,
   "id": "eee7c196-9b23-46f0-9254-222bf940d21a",
   "metadata": {},
   "outputs": [],
   "source": [
    "name_mapping={\n",
    "    'dinov2-vit-large-p14': 'DINOv2-VIT-L14',\n",
    "    'dino-vit-base-p16': 'DINOv1-VIT-B16',\n",
    "    'DreamSim_open_clip_vitb32': 'DreamSim-CLIP-VIT-B16',\n",
    "    'OpenCLIP_ViT-L-14_laion400m_e32': 'CLIP-VIT-L14',\n",
    "}\n",
    "def rename_string(x):\n",
    "    for key, val in name_mapping.items():\n",
    "        x = x.replace(key, val)\n",
    "    return x\n",
    "\n",
    "df['model_renamed'] = df['model_fullname'].apply(rename_string)\n",
    "df['model_renamed'] = df['model_renamed'].str.replace('__', ' & ')\n",
    "df.loc[df['mode']=='combined_features', 'model_renamed'] = df.loc[df['mode']=='combined_features', ['model_renamed', 'combiner']].apply(\n",
    "    lambda x: f\"{x['model_renamed']} ({x['combiner']})\",\n",
    "    axis=1\n",
    ")"
   ]
  },
  {
   "cell_type": "code",
   "execution_count": null,
   "id": "bb2f0aeb-ed7e-4224-a47f-a67dd2d577cf",
   "metadata": {},
   "outputs": [],
   "source": [
    "df['model_renamed'].value_counts()"
   ]
  },
  {
   "cell_type": "code",
   "execution_count": null,
   "id": "21e0f8eb-3cc1-4c46-96aa-9ab218ab45c1",
   "metadata": {},
   "outputs": [],
   "source": [
    "grouping_cols = ['fewshot_k', 'dataset', 'model_renamed']\n",
    "metrics_col = ['lp_acc1', 'lp_acc5', 'lp_mean_per_class_recall']"
   ]
  },
  {
   "cell_type": "code",
   "execution_count": null,
   "id": "f29280a4-bdc9-453e-801b-a7b124e389df",
   "metadata": {},
   "outputs": [],
   "source": [
    "grouped_df = df.groupby(grouping_cols)[metrics_col].agg(['mean', 'std']).sort_index().reset_index()"
   ]
  },
  {
   "cell_type": "code",
   "execution_count": null,
   "id": "63441a20-c7ec-4cd5-82ab-024ca2a2d666",
   "metadata": {},
   "outputs": [],
   "source": [
    "grouped_df.columns"
   ]
  },
  {
   "cell_type": "code",
   "execution_count": null,
   "id": "924c4f3e-1eea-45bd-90d1-225b22e223b9",
   "metadata": {},
   "outputs": [],
   "source": [
    "order = [ \n",
    "'DINOv2-VIT-L14',\n",
    "'DINOv1-VIT-B16', \n",
    "'CLIP-VIT-L14',\n",
    "'DreamSim-CLIP-VIT-B16',\n",
    "\n",
    "'DINOv2-VIT-L14 & DINOv1-VIT-B16 (Concat)',\n",
    "'DINOv2-VIT-L14 & CLIP-VIT-L14 (Concat)',\n",
    "'DINOv2-VIT-L14 & DreamSim-CLIP-VIT-B16 (Concat)',\n",
    "'DINOv1-VIT-B16 & CLIP-VIT-L14 (Concat)',\n",
    "'DINOv1-VIT-B16 & DreamSim-CLIP-VIT-B16 (Concat)',\n",
    "'CLIP-VIT-L14 & DreamSim-CLIP-VIT-B16 (Concat)',\n",
    "\n",
    "'DINOv2-VIT-L14 & DINOv1-VIT-B16 & CLIP-VIT-L14 (Concat)',\n",
    "'DINOv2-VIT-L14 & DINOv1-VIT-B16 & DreamSim-CLIP-VIT-B16 (Concat)',\n",
    "'DINOv2-VIT-L14 & CLIP-VIT-L14 & DreamSim-CLIP-VIT-B16 (Concat)',\n",
    "'DINOv1-VIT-B16 & CLIP-VIT-L14 & DreamSim-CLIP-VIT-B16 (Concat)',\n",
    "    \n",
    "'DINOv2-VIT-L14 & DINOv1-VIT-B16 & CLIP-VIT-L14 & DreamSim-CLIP-VIT-B16 (Concat)',\n",
    "\n",
    "'DINOv2-VIT-L14 & DINOv1-VIT-B16 (Concat + PCA)',\n",
    "'DINOv2-VIT-L14 & CLIP-VIT-L14 (Concat + PCA)',\n",
    "'DINOv2-VIT-L14 & DreamSim-CLIP-VIT-B16 (Concat + PCA)',\n",
    "'DINOv1-VIT-B16 & CLIP-VIT-L14 (Concat + PCA)',\n",
    "'DINOv1-VIT-B16 & DreamSim-CLIP-VIT-B16 (Concat + PCA)', \n",
    "'CLIP-VIT-L14 & DreamSim-CLIP-VIT-B16 (Concat + PCA)',\n",
    "\n",
    "\n",
    "'DINOv2-VIT-L14 & DINOv1-VIT-B16 & CLIP-VIT-L14 (Concat + PCA)',\n",
    "'DINOv2-VIT-L14 & DINOv1-VIT-B16 & DreamSim-CLIP-VIT-B16 (Concat + PCA)',\n",
    "'DINOv2-VIT-L14 & CLIP-VIT-L14 & DreamSim-CLIP-VIT-B16 (Concat + PCA)',\n",
    "'DINOv1-VIT-B16 & CLIP-VIT-L14 & DreamSim-CLIP-VIT-B16 (Concat + PCA)',  \n",
    "   \n",
    "'DINOv2-VIT-L14 & DINOv1-VIT-B16 & CLIP-VIT-L14 & DreamSim-CLIP-VIT-B16 (Concat + PCA)',\n",
    "   \n",
    "]"
   ]
  },
  {
   "cell_type": "code",
   "execution_count": null,
   "id": "74c79caa-d20d-4aea-8bea-48d9b2e0c8fc",
   "metadata": {},
   "outputs": [],
   "source": [
    "grouped_df = grouped_df[grouped_df.dataset !='wds/vtab/pcam'].copy()"
   ]
  },
  {
   "cell_type": "code",
   "execution_count": null,
   "id": "c1f6233d-b5fc-4d24-b43b-9c1402399918",
   "metadata": {},
   "outputs": [],
   "source": [
    "with PdfPages('results.pdf') as pdf:\n",
    "    for fewshot_mode, curr_data in grouped_df.groupby('fewshot_k'):\n",
    "        fig, axs = plt.subplots(nrows=3, ncols=1, figsize=(20, 30), sharex=True)\n",
    "        # cbar_ax = fig.add_axes([0.95, 0.15, 0.05, 0.7])\n",
    "        \n",
    "        for i, metric_col in enumerate(['lp_acc1', 'lp_acc5', 'lp_mean_per_class_recall']):\n",
    "            metric_table = pd.pivot(curr_data,\n",
    "                                    columns='model_renamed',\n",
    "                                    index='dataset',\n",
    "                                    values=(metric_col, 'mean'))\n",
    "            metric_table = metric_table.loc[:,order]\n",
    "            sns.heatmap(\n",
    "                metric_table,\n",
    "                annot=True,\n",
    "                fmt='.3f',\n",
    "                cmap='coolwarm',\n",
    "                # vmin=0.3,\n",
    "                # vmax=1,\n",
    "                ax=axs[i],\n",
    "                # cbar=i == 0,  # Only show color bar for the first subplot\n",
    "                # cbar_ax=None if i else cbar_ax  # Pass cbar_ax only for the first subplot\n",
    "                )\n",
    "            axs[i].set_title(f\"Metric {metric_col} with fewshot {'no' if fewshot_mode==-1 else fewshot_mode}\")\n",
    "        plt.tight_layout()\n",
    "        pdf.savefig(fig, bbox_inches='tight')\n",
    "        plt.show(fig)"
   ]
  },
  {
   "cell_type": "code",
   "execution_count": null,
   "id": "6ad7e125-3f88-4918-9caf-420a35f1f418",
   "metadata": {},
   "outputs": [],
   "source": [
    "with PdfPages('results_boxplots.pdf') as pdf:\n",
    "    for fewshot_mode, curr_data in grouped_df.groupby('fewshot_k'):\n",
    "        fig, axs = plt.subplots(nrows=3, ncols=1, figsize=(10,20), sharex=True)\n",
    "        # cbar_ax = fig.add_axes([0.95, 0.15, 0.05, 0.7])\n",
    "        \n",
    "        for i, metric_col in enumerate(['lp_acc1', 'lp_acc5', 'lp_mean_per_class_recall']):\n",
    "            sns.boxplot(\n",
    "                curr_data,\n",
    "                y='model_renamed',\n",
    "                x=(metric_col, 'mean'),\n",
    "                ax=axs[i],\n",
    "                order=order\n",
    "            )\n",
    "            axs[i].set_title(f\"Metric {metric_col} with fewshot {'no' if fewshot_mode==-1 else fewshot_mode}\")\n",
    "        pdf.savefig(fig, bbox_inches='tight')\n",
    "        fig.show()"
   ]
  },
  {
   "cell_type": "code",
   "execution_count": null,
   "id": "0026d588-656e-4dae-9a07-3b47853c7747",
   "metadata": {},
   "outputs": [],
   "source": [
    "tmp = grouped_df.groupby(['fewshot_k', 'model_renamed'])[[('lp_acc1', 'mean'), ('lp_acc5', 'mean'), ('lp_mean_per_class_recall', 'mean')]].median()\n",
    "tmp"
   ]
  },
  {
   "cell_type": "code",
   "execution_count": null,
   "id": "79c01237-dbb2-4c07-9108-e485a54bfd7b",
   "metadata": {},
   "outputs": [],
   "source": [
    "with PdfPages('results_median_ds.pdf') as pdf:\n",
    "    for fewshot_mode, curr_data in tmp.groupby('fewshot_k'):\n",
    "        curr_data = curr_data.droplevel(0)\n",
    "        plt.figure(figsize=(10, 10))\n",
    "        g = sns.heatmap(curr_data.loc[order,:], annot=True, fmt='.3f', cmap='coolwarm')\n",
    "        title = \"No fewshot\" if fewshot_mode==-1 else f\"Fewshot {fewshot_mode}\"\n",
    "        g.set_title(title)\n",
    "        pdf.savefig(bbox_inches='tight')\n",
    "        plt.show()"
   ]
  }
 ],
 "metadata": {
  "kernelspec": {
   "display_name": "Python 3 (ipykernel)",
   "language": "python",
   "name": "python3"
  },
  "language_info": {
   "codemirror_mode": {
    "name": "ipython",
    "version": 3
   },
   "file_extension": ".py",
   "mimetype": "text/x-python",
   "name": "python",
   "nbconvert_exporter": "python",
   "pygments_lexer": "ipython3",
   "version": "3.9.17"
  }
 },
 "nbformat": 4,
 "nbformat_minor": 5
}

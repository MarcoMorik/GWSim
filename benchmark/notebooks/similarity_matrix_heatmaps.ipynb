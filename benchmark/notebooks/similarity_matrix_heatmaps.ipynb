{
 "cells": [
  {
   "cell_type": "code",
   "execution_count": null,
   "id": "d4d93ca9-81a7-492d-90e7-b3bded7f6ea6",
   "metadata": {},
   "outputs": [],
   "source": [
    "import torch\n",
    "import pandas as pd\n",
    "import numpy as np\n",
    "from pathlib import Path\n",
    "\n",
    "import seaborn as sns\n",
    "import matplotlib\n",
    "import matplotlib.pyplot as plt"
   ]
  },
  {
   "cell_type": "code",
   "execution_count": null,
   "id": "3884568f-7576-4274-ad39-8310e11f2cea",
   "metadata": {},
   "outputs": [],
   "source": [
    "dataset = 'imagenet-subset-10k'\n",
    "model_sim_root_path = Path('/home/space/diverse_priors/model_similarities')\n",
    "model_sim_path = model_sim_root_path / dataset\n",
    "if not model_sim_path.exists():\n",
    "    raise FileNotFoundError(f\"Directory {str(model_sim_path)} does not exists!\")"
   ]
  },
  {
   "cell_type": "code",
   "execution_count": null,
   "id": "a9a39100-3b15-4f88-8574-dbc5aadaf790",
   "metadata": {},
   "outputs": [],
   "source": [
    "SAVE = True\n",
    "storing_path = model_sim_path / 'plots'\n",
    "\n",
    "if SAVE:\n",
    "    storing_path.mkdir(parents=True, exist_ok=True)"
   ]
  },
  {
   "cell_type": "code",
   "execution_count": null,
   "id": "90fa77e9-dece-4d92-8a0e-a300b5983f55",
   "metadata": {},
   "outputs": [],
   "source": [
    "storing_path"
   ]
  },
  {
   "cell_type": "code",
   "execution_count": null,
   "id": "93d902a3-8e94-4281-8748-9387c87478eb",
   "metadata": {},
   "outputs": [],
   "source": [
    "name_mapping = {\n",
    "    'cka_kernel_rbf_unbiased_sigma_0.2': 'CKA RBF 0.2',\n",
    "    'cka_kernel_rbf_unbiased_sigma_0.4': 'CKA RBF 0.4',\n",
    "    'cka_kernel_rbf_unbiased_sigma_0.6': 'CKA RBF 0.6',\n",
    "    'cka_kernel_rbf_unbiased_sigma_0.8': 'CKA RBF 0.8',\n",
    "    'cka_kernel_linear_unbiased': 'CKA linear',\n",
    "    'rsa_method_correlation_corr_method_pearson': 'RSA pearson',\n",
    "    'rsa_method_correlation_corr_method_spearman': 'RSA spearman',\n",
    "}\n",
    "\n",
    "models_to_exclude = ['SegmentAnything_vit_b']"
   ]
  },
  {
   "cell_type": "code",
   "execution_count": null,
   "id": "84ce40e2-b664-4b26-9b9f-b89443e85b96",
   "metadata": {},
   "outputs": [],
   "source": [
    "def get_model_ids(fn):\n",
    "    with open(fn, 'r') as file:\n",
    "        lines = file.readlines()\n",
    "    lines = [line.strip() for line in lines]\n",
    "    return lines"
   ]
  },
  {
   "cell_type": "code",
   "execution_count": null,
   "id": "9b080e39-2455-4de5-a1a4-c0014f2a0fb2",
   "metadata": {},
   "outputs": [],
   "source": [
    "sim_mats = {}\n",
    "storing_paths = {}\n",
    "for sim_method in model_sim_path.rglob(\"**/similarity_matrix.pt\"):\n",
    "    print(sim_method)\n",
    "    model_ids_fn = sim_method.parent / 'model_ids.txt'\n",
    "    if model_ids_fn.exists():\n",
    "        model_ids = get_model_ids(model_ids_fn)\n",
    "    else:\n",
    "        raise FileNotFoundError(f'{str(model_ids_fn)} does not exist.')\n",
    "\n",
    "    sim_mat = torch.load(sim_method)\n",
    "    df = pd.DataFrame(sim_mat, index = model_ids, columns=model_ids)\n",
    "    print(df.shape)\n",
    "    for model in models_to_exclude:\n",
    "        if model in df.columns:\n",
    "            df = df.drop(model, axis=0)\n",
    "            df = df.drop(model, axis=1)\n",
    "    print(df.shape)   \n",
    "    np.fill_diagonal(df.values, 1)\n",
    "    sim_mats[sim_method.parent.name] = df.copy()\n",
    "\n",
    "\n",
    "sim_mats = {x:sim_mats[x] for x in name_mapping.keys() if x in sim_mats.keys()}"
   ]
  },
  {
   "cell_type": "code",
   "execution_count": null,
   "id": "43262973-94a1-4fbd-9c08-a67461ef4f57",
   "metadata": {},
   "outputs": [],
   "source": [
    "# Check all matrices have the same index\n",
    "first_index = next(iter(sim_mats.values())).index\n",
    "all_same_index = all(df.index.equals(first_index) for df in sim_mats.values())\n",
    "if not all_same_index:\n",
    "    raise ValueError('All DataFrames must have the same index.')"
   ]
  },
  {
   "cell_type": "code",
   "execution_count": null,
   "id": "ee8411c9-5d7c-4892-a01d-7128e068b240",
   "metadata": {},
   "outputs": [],
   "source": [
    "vmin = min([df.min().min() for df in sim_mats.values()])\n",
    "vmax = max([df.max().max() for df in sim_mats.values()])"
   ]
  },
  {
   "cell_type": "markdown",
   "id": "7b93c6a4-55f9-43f1-a08e-c9d3f8d04e2d",
   "metadata": {},
   "source": [
    "## Create single method heatmaps"
   ]
  },
  {
   "cell_type": "code",
   "execution_count": null,
   "id": "81a73621-be9d-4cc8-a545-1c96648da3a8",
   "metadata": {},
   "outputs": [],
   "source": [
    "for sim_method, sim_mat in sim_mats.items():\n",
    "    plt.figure(figsize=(32.5,25))\n",
    "    np.fill_diagonal(sim_mat.values, 1)\n",
    "    g = sns.heatmap(sim_mat, annot=True, fmt='.2f')\n",
    "    g.set_title(f\"{dataset.upper()} {name_mapping[sim_method]}\", fontsize=18)\n",
    "    g.tick_params(axis='both', which='major', labelsize=16)\n",
    "    g.tick_params(axis='both', which='minor', labelsize=12)\n",
    "    plt.tight_layout()\n",
    "    if SAVE:\n",
    "        plt.savefig(storing_path / f'{sim_method}_sim_mat_heatmap.pdf')\n",
    "        plt.close()\n",
    "    else:\n",
    "        plt.show()"
   ]
  },
  {
   "cell_type": "markdown",
   "id": "812e4fb3-5dbd-4a83-9495-3af2a267bfe4",
   "metadata": {},
   "source": [
    "## Create single method dendogram"
   ]
  },
  {
   "cell_type": "code",
   "execution_count": null,
   "id": "2568368b-c670-4e42-ba9d-de4a442db999",
   "metadata": {},
   "outputs": [],
   "source": [
    "cka_lin_dendo_row_ordering = None\n",
    "cka_lin_dendo_col_ordering = None\n",
    "for sim_method, sim_mat in sim_mats.items():\n",
    "    np.fill_diagonal(sim_mat.values, 1)\n",
    "    g = sns.clustermap(sim_mat, annot=True, fmt='.2f',figsize=(31,30))\n",
    "    if sim_method == 'cka_kernel_linear_unbiased':\n",
    "        cka_lin_dendo_row_ordering = g.dendrogram_row.reordered_ind\n",
    "        cka_lin_dendo_col_ordering = g.dendrogram_col.reordered_ind\n",
    "    g.fig.suptitle(f\"{dataset.upper()} {name_mapping[sim_method]}\", fontsize=20)\n",
    "    g.tick_params(axis='both', which='major', labelsize=16)\n",
    "    g.tick_params(axis='both', which='minor', labelsize=12)\n",
    "    #plt.tight_layout()\n",
    "    if SAVE:\n",
    "        plt.savefig(storing_path / f'{sim_method}_sim_mat_dendogram.pdf')\n",
    "        plt.close()\n",
    "    else:\n",
    "        plt.show()"
   ]
  },
  {
   "cell_type": "markdown",
   "id": "ddcdc5c9-fe2a-4b26-9d8d-cc5e7a5347e3",
   "metadata": {},
   "source": [
    "## Create heatmap overviews"
   ]
  },
  {
   "cell_type": "code",
   "execution_count": null,
   "id": "b0c4b3d3-5675-4764-a38b-183ce60cf409",
   "metadata": {},
   "outputs": [],
   "source": [
    "n = len(sim_mats)\n",
    "fig, axs = plt.subplots(1, n, figsize=(n * 3, 3.25))\n",
    "\n",
    "if n == 1:\n",
    "    axs = [axs]\n",
    "\n",
    "for ax, (key, df) in zip(axs, sim_mats.items()):\n",
    "    sns.heatmap(df, ax=ax, cbar=False, annot=False, vmin=vmin, vmax=vmax)\n",
    "    ax.set_title(name_mapping[key], fontsize=16)\n",
    "    ax.set_xticks([])\n",
    "    ax.set_yticks([])\n",
    "\n",
    "# Adjust layout\n",
    "plt.tight_layout()\n",
    "if SAVE:\n",
    "    plt.savefig(storing_path / 'all_methods_sim_mat_heatmap.pdf')\n",
    "    plt.savefig(storing_path / 'all_methods_sim_mat_heatmap.png')\n",
    "plt.show()"
   ]
  },
  {
   "cell_type": "code",
   "execution_count": null,
   "id": "42a1c023-da9a-4f82-b01e-06d8cd1b8a0a",
   "metadata": {},
   "outputs": [],
   "source": [
    "n = len(sim_mats)\n",
    "fig, axs = plt.subplots(1, n, figsize=(n * 3, 3.25))\n",
    "\n",
    "if n == 1:\n",
    "    axs = [axs]\n",
    "\n",
    "for ax, (key, df) in zip(axs, sim_mats.items()):\n",
    "    reordered_df = df.iloc[cka_lin_dendo_row_ordering, cka_lin_dendo_col_ordering]\n",
    "    sns.heatmap(reordered_df, ax=ax, cbar=False, annot=False, vmin=vmin, vmax=vmax)\n",
    "    ax.set_title(name_mapping[key], fontsize=16)\n",
    "    ax.set_xticks([])\n",
    "    ax.set_yticks([])\n",
    "\n",
    "# Adjust layout\n",
    "plt.tight_layout()\n",
    "if SAVE:\n",
    "    plt.savefig(storing_path / 'all_methods_sim_mat_heatmap_cka_lin_dendo_ordering.pdf')\n",
    "    plt.savefig(storing_path / 'all_methods_sim_mat_heatmap_cka_lin_dendo_ordering.png')\n",
    "plt.show()"
   ]
  }
 ],
 "metadata": {
  "kernelspec": {
   "display_name": "Python 3 (ipykernel)",
   "language": "python",
   "name": "python3"
  },
  "language_info": {
   "codemirror_mode": {
    "name": "ipython",
    "version": 3
   },
   "file_extension": ".py",
   "mimetype": "text/x-python",
   "name": "python",
   "nbconvert_exporter": "python",
   "pygments_lexer": "ipython3",
   "version": "3.10.13"
  }
 },
 "nbformat": 4,
 "nbformat_minor": 5
}

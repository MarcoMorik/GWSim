{
 "cells": [
  {
   "cell_type": "code",
   "execution_count": null,
   "id": "29d1d0c8-c2ef-440c-85c3-8c18d12a2529",
   "metadata": {},
   "outputs": [],
   "source": [
    "import sys\n",
    "from itertools import combinations, product\n",
    "from pathlib import Path\n",
    "\n",
    "import matplotlib.pyplot as plt\n",
    "import numpy as np\n",
    "import pandas as pd\n",
    "import seaborn as sns\n",
    "from scipy.stats import pearsonr, spearmanr\n",
    "import json\n",
    "\n",
    "from constants import (\n",
    "    anchor_name_mapping, \n",
    "    available_data, \n",
    "    exclude_models, \n",
    "    exclude_models_w_mae, \n",
    "    cat_name_mapping, \n",
    "    model_config_file, \n",
    "    model_categories, \n",
    "    model_cat_mapping,\n",
    "    fontsizes\n",
    ")\n",
    "from helper import load_model_configs_and_allowed_models, load_similarity_matrices, save_or_show\n",
    "\n",
    "sys.path.append('..')\n",
    "from scripts.helper import parse_datasets\n",
    "from constants import sim_metric_name_mapping"
   ]
  },
  {
   "cell_type": "code",
   "execution_count": null,
   "id": "5f1117c1-b686-4b0a-a8a4-74a2a389b16e",
   "metadata": {},
   "outputs": [],
   "source": [
    "base_path_similarity_matrices = Path('/home/space/diverse_priors/model_similarities')\n",
    "sim_metrics = [\n",
    "    'cka_kernel_rbf_unbiased_sigma_0.4',\n",
    "    'cka_kernel_linear_unbiased',\n",
    "]\n",
    "sim_metrics_mapped = [sim_metric_name_mapping[k] for k in sim_metrics]\n",
    "\n",
    "ds_list = parse_datasets('../scripts/webdatasets_w_insub10k.txt')\n",
    "ds_list = list(map(lambda x: x.replace('/', '_'), ds_list))\n",
    "\n",
    "cm = 0.393701\n",
    "\n",
    "# exp_conf = 'spearmanr'\n",
    "# exp_conf = 'spearmanr_wo_mae'\n",
    "exp_conf = 'pearsonr'\n",
    "# exp_conf = 'pearsonr_wo_mae'\n",
    "\n",
    "\n",
    "SAVE = False\n",
    "storing_path = Path(\n",
    "    f'/home/space/diverse_priors/results/plots/dist_r_coeff_cats_as_anchors/{exp_conf}'\n",
    ")\n",
    "if SAVE:\n",
    "    storing_path.mkdir(parents=True, exist_ok=True)"
   ]
  },
  {
   "cell_type": "code",
   "execution_count": null,
   "id": "2417f211-e054-48e0-bac8-a08751a339fd",
   "metadata": {},
   "outputs": [],
   "source": [
    "curr_excl_models = exclude_models_w_mae if 'mae' in exp_conf else exclude_models\n",
    "\n",
    "model_configs, allowed_models = load_model_configs_and_allowed_models(\n",
    "    path=model_config_file,\n",
    "    exclude_models=curr_excl_models,\n",
    "    exclude_alignment=True,\n",
    ")\n",
    "model_configs.columns"
   ]
  },
  {
   "cell_type": "code",
   "execution_count": null,
   "id": "f3a78305-28c6-4f7c-aee9-cdd4f09c795f",
   "metadata": {},
   "outputs": [],
   "source": [
    "sim_mats = load_similarity_matrices(\n",
    "    path=base_path_similarity_matrices,\n",
    "    ds_list=ds_list,\n",
    "    sim_metrics=sim_metrics,\n",
    "    allowed_models=allowed_models,\n",
    ")\n",
    "sim_mats = {sim_metric_name_mapping[k]: v for k, v in sim_mats.items()}\n",
    "sim_mats.keys()"
   ]
  },
  {
   "cell_type": "code",
   "execution_count": null,
   "id": "1576ae29-6514-41d5-9234-97282cca18cc",
   "metadata": {},
   "outputs": [],
   "source": [
    "def get_sim_data(category, sim_metric):\n",
    "    cat_groups = model_configs.reset_index(names=['mid']).groupby(category)['mid'].unique()\n",
    "    cat_groups.index = [cat_name_mapping[x] for x in cat_groups.index]\n",
    "    sim_metric_mats = sim_mats[sim_metric]\n",
    "    return cat_groups, sim_metric_mats\n",
    "    \n",
    "\n",
    "def process_sim_mat(ds, sim_mat, cat):\n",
    "    indx_i, indx_j = np.triu_indices(n=len(sim_mat), k=1)\n",
    "    flat_sim_mat = pd.DataFrame(\n",
    "    {'Similarity value':sim_mat.values[indx_i, indx_j],\n",
    "     'Model 1': sim_mat.index.values[indx_i],\n",
    "     'Model 2': sim_mat.columns.values[indx_j]\n",
    "    })\n",
    "    flat_sim_mat['M1 obj.'] = flat_sim_mat['Model 1'].apply(lambda x : cat_name_mapping[model_configs.loc[x, cat]])\n",
    "    flat_sim_mat['M2 obj.'] = flat_sim_mat['Model 2'].apply(lambda x : cat_name_mapping[model_configs.loc[x, cat]])\n",
    "    flat_sim_mat['DS'] = ds\n",
    "    return flat_sim_mat\n",
    "\n",
    "\n",
    "def r_coeff(df, ds1, ds2):\n",
    "    x = df[df['DS'] == ds1]['Similarity value']\n",
    "    y = df[df['DS'] == ds2]['Similarity value']\n",
    "    if 'pearsonr' in exp_conf:\n",
    "        corr, _ = pearsonr(x,y)\n",
    "    elif 'spearmanr' in exp_conf:\n",
    "        corr, _ = spearmanr(x,y)\n",
    "    else:\n",
    "        raise ValueError(f'Need to select pearson or spearman r_corr in exp_conf')\n",
    "    return corr\n",
    "\n",
    "\n",
    "def get_r_coeff_df(sim_metric_mats, cat_groups):\n",
    "    # flatten each similarity matrix \n",
    "    pp_mats = []\n",
    "    for ds, sim_mat in sim_metric_mats.items():\n",
    "        pp_mats.append(process_sim_mat(ds, sim_mat, desired_cat)) \n",
    "    pp_mats = pd.concat(pp_mats)\n",
    "    # get each dataset pair \n",
    "    combs = combinations(list(pp_mats['DS'].unique()), 2)\n",
    "    r_coeffs = []\n",
    "    for ds1, ds2 in combs:\n",
    "        subset_ds  = pp_mats[pp_mats['DS'].isin([ds1, ds2])]\n",
    "        for cat in cat_groups.index.tolist():\n",
    "            subset_data = subset_ds[(subset_ds['M1 obj.']==cat) | (subset_ds['M2 obj.']==cat)].copy()\n",
    "            subset_data['other cat'] = subset_data[['M1 obj.', 'M2 obj.']].apply(lambda x: x['M2 obj.'] if x['M1 obj.'] == cat else x['M1 obj.'], axis=1)\n",
    "            for other_cat, other_cat_data in subset_data.groupby('other cat'):\n",
    "                r_coeffs.append(\n",
    "                    {\n",
    "                        'ds1': ds1,\n",
    "                        'ds2': ds2,\n",
    "                        'anchor_cat': cat, \n",
    "                        'other_cat': other_cat,\n",
    "                        'r coeff': r_coeff(other_cat_data, ds1, ds2)\n",
    "                    }\n",
    "                ) \n",
    "    df_r_coeffs = pd.DataFrame(r_coeffs) \n",
    "    return df_r_coeffs\n",
    "\n",
    "\n",
    "def get_distribution_plot(df_r_coeffs):\n",
    "    n_plots = df_r_coeffs['anchor_cat'].nunique()\n",
    "    if n_plots%2==0:\n",
    "        col_wrap = 2\n",
    "    elif n_plots%3==0:\n",
    "        col_wrap = 3\n",
    "    else:\n",
    "        col_wrap = n_plots\n",
    "\n",
    "    aspect = 1.25 if n_plots<4 else 1.5\n",
    "        \n",
    "    g = sns.catplot(\n",
    "        data = df_r_coeffs,\n",
    "        x='other_cat',\n",
    "        y='r coeff',\n",
    "        col='anchor_cat',\n",
    "        kind='boxen',\n",
    "        hue='other_cat',\n",
    "        palette='tab10',\n",
    "        height=6*cm,\n",
    "        aspect=aspect,\n",
    "        col_wrap=col_wrap\n",
    "        \n",
    "    )\n",
    "    g.set_titles('{col_name}')\n",
    "    g.set_xlabels('')\n",
    "    g.set_ylabels('Correlation coefficient')\n",
    "    for ax in g.axes.flatten():\n",
    "        ax.axhline(0.5, c='grey', ls=':', alpha=0.5, zorder=-1)\n",
    "\n",
    "    return g.fig\n",
    "\n",
    "    "
   ]
  },
  {
   "cell_type": "code",
   "execution_count": null,
   "id": "70bdbf73-bd22-46ee-b95a-e961e3743828",
   "metadata": {},
   "outputs": [],
   "source": [
    "sim_cat = product(\n",
    "    sorted(model_categories),\n",
    "    list(sim_mats.keys())\n",
    ")\n",
    "info_cols = model_cat_mapping\n",
    "\n",
    "corr_data = {}\n",
    "for desired_cat, sim_metric in sim_cat:\n",
    "    print(desired_cat, sim_metric)\n",
    "    cat_groups, sim_metric_mats = get_sim_data(desired_cat, sim_metric)\n",
    "    df_r_coeffs = get_r_coeff_df(sim_metric_mats, cat_groups)\n",
    "    df_r_coeffs['Comparison category'] = model_cat_mapping[desired_cat]\n",
    "    df_r_coeffs['Similarity metric'] = sim_metric\n",
    "    corr_data[f\"{desired_cat}_{sim_metric}\"] = df_r_coeffs"
   ]
  },
  {
   "cell_type": "code",
   "execution_count": null,
   "id": "df367549-6d8a-4c90-89ce-29523245f40f",
   "metadata": {},
   "outputs": [],
   "source": [
    "tmp2 = pd.concat(list(corr_data.values()), axis=0)\n",
    "tmp2.shape"
   ]
  },
  {
   "cell_type": "code",
   "execution_count": null,
   "id": "3dd70264-76de-41d4-9ad3-9bbbcc53496c",
   "metadata": {},
   "outputs": [],
   "source": []
  },
  {
   "cell_type": "code",
   "execution_count": null,
   "id": "ec8b4eea-ad99-42d5-8280-1c584a9a2eaa",
   "metadata": {},
   "outputs": [],
   "source": []
  },
  {
   "cell_type": "code",
   "execution_count": null,
   "id": "9602fa26-f6b8-41b6-b867-0be1fb2f974e",
   "metadata": {},
   "outputs": [],
   "source": []
  },
  {
   "cell_type": "code",
   "execution_count": null,
   "id": "80d9c617-2eea-4eb7-bc27-7902359e05ba",
   "metadata": {},
   "outputs": [],
   "source": []
  },
  {
   "cell_type": "code",
   "execution_count": 7,
   "id": "0cebea93-2b66-4cf4-b518-02ada6a0a9fa",
   "metadata": {},
   "outputs": [
    {
     "data": {
      "text/plain": [
       "(2700, 5)"
      ]
     },
     "execution_count": 7,
     "metadata": {},
     "output_type": "execute_result"
    }
   ],
   "source": [
    "tmp = corr_data['objective_CKA linear'].sort_values('r coeff').copy()\n",
    "tmp.shape"
   ]
  },
  {
   "cell_type": "code",
   "execution_count": 16,
   "id": "f31ba61e-eaef-4bb6-94a5-f9c73974934d",
   "metadata": {},
   "outputs": [
    {
     "data": {
      "text/plain": [
       "0           Img-Txt, Sup\n",
       "1           Img-Txt, Sup\n",
       "2           Img-Txt, Sup\n",
       "3           Img-Txt, Sup\n",
       "4           Img-Txt, Sup\n",
       "              ...       \n",
       "1795            Sup, Sup\n",
       "1796        Img-Txt, SSL\n",
       "1797            SSL, Sup\n",
       "1798            SSL, SSL\n",
       "1799    Img-Txt, Img-Txt\n",
       "Name: cat_pair, Length: 1800, dtype: object"
      ]
     },
     "execution_count": 16,
     "metadata": {},
     "output_type": "execute_result"
    }
   ],
   "source": [
    "tmp['cat_pair']"
   ]
  },
  {
   "cell_type": "code",
   "execution_count": 8,
   "id": "592218cc-9380-4ae3-9867-b0d447f04250",
   "metadata": {},
   "outputs": [],
   "source": [
    "tmp['cat_pair'] = tmp[['anchor_cat', 'other_cat']].apply(lambda x: tuple(sorted([x['anchor_cat'], x['other_cat']])), axis=1)"
   ]
  },
  {
   "cell_type": "code",
   "execution_count": 9,
   "id": "04011342-cd3c-4c7c-93f2-d5eb876d7fa1",
   "metadata": {},
   "outputs": [
    {
     "data": {
      "text/plain": [
       "(1800, 6)"
      ]
     },
     "execution_count": 9,
     "metadata": {},
     "output_type": "execute_result"
    }
   ],
   "source": [
    "tmp = tmp[~tmp[['ds1', 'ds2', 'cat_pair', 'r coeff']].duplicated()].reset_index(drop=True)\n",
    "tmp.shape"
   ]
  },
  {
   "cell_type": "code",
   "execution_count": 10,
   "id": "d54b5cc1-6f92-4b85-8b36-bed1f36dfd39",
   "metadata": {},
   "outputs": [
    {
     "name": "stdout",
     "output_type": "stream",
     "text": [
      "['#1f77b4', '#ff7f0e', '#2ca02c', '#d62728']\n"
     ]
    }
   ],
   "source": [
    "print(sns.color_palette('tab10', 4).as_hex())"
   ]
  },
  {
   "cell_type": "code",
   "execution_count": 11,
   "id": "84c6d516-a59f-461e-8b54-98de21b8cbae",
   "metadata": {},
   "outputs": [
    {
     "name": "stdout",
     "output_type": "stream",
     "text": [
      "[('SSL', 'SSL'), ('SSL', 'Sup'), ('Img-Txt', 'SSL'), ('Img-Txt', 'Img-Txt'), ('Sup', 'Sup'), ('Img-Txt', 'Sup')]\n"
     ]
    },
    {
     "data": {
      "text/plain": [
       "(['SSL, SSL',\n",
       "  'SSL, Sup',\n",
       "  'Img-Txt, SSL',\n",
       "  'Img-Txt, Img-Txt',\n",
       "  'Sup, Sup',\n",
       "  'Img-Txt, Sup'],\n",
       " [('#ff7f0e', '#ff7f0e'),\n",
       "  ('#ff7f0e', '#2ca02c'),\n",
       "  ('#1f77b4', '#ff7f0e'),\n",
       "  ('#1f77b4', '#1f77b4'),\n",
       "  ('#2ca02c', '#2ca02c'),\n",
       "  ('#1f77b4', '#2ca02c')])"
      ]
     },
     "execution_count": 11,
     "metadata": {},
     "output_type": "execute_result"
    }
   ],
   "source": [
    "def tuple2string(tup_dat):\n",
    "    return f\"{tup_dat[0]}, {tup_dat[1]}\"\n",
    "\n",
    "color_maps = {'Img-Txt':'#1f77b4', 'SSL':'#ff7f0e', 'Sup':'#2ca02c'}\n",
    "sorting_order = tmp.groupby('cat_pair')['r coeff'].median().sort_values(ascending=False).index.tolist()\n",
    "print(sorting_order)\n",
    "colors = [(color_maps[cat1], color_maps[cat2]) for (cat1, cat2) in sorting_order]\n",
    "sorting_order = [tuple2string(tup_data) for tup_data in sorting_order]\n",
    "sorting_order, colors"
   ]
  },
  {
   "cell_type": "code",
   "execution_count": 12,
   "id": "af9e70dd-c371-4b14-a52f-fa2c9c36921b",
   "metadata": {},
   "outputs": [],
   "source": [
    "tmp['cat_pair'] = tmp['cat_pair'].apply(tuple2string)"
   ]
  },
  {
   "cell_type": "code",
   "execution_count": 13,
   "id": "b7b346c5-3030-41ac-bf04-62bedfc41ab7",
   "metadata": {},
   "outputs": [
    {
     "data": {
      "text/plain": [
       "<matplotlib.lines.Line2D at 0x7f3236c43e50>"
      ]
     },
     "execution_count": 13,
     "metadata": {},
     "output_type": "execute_result"
    },
    {
     "data": {
      "image/png": "[encoded data removed]",
      "text/plain": [
       "<Figure size 700x400 with 1 Axes>"
      ]
     },
     "metadata": {},
     "output_type": "display_data"
    }
   ],
   "source": [
    "from matplotlib.colors import LinearSegmentedColormap\n",
    "\n",
    "plt.figure(figsize=(7, 4))\n",
    "g = sns.boxplot(\n",
    "    tmp,\n",
    "    x='cat_pair',\n",
    "    y='r coeff',\n",
    "    order = sorting_order\n",
    ")\n",
    "g.tick_params(axis='x', which='major', labelsize=fontsizes['ticks'], rotation=45)\n",
    "g.tick_params(axis='y', which='major', labelsize=fontsizes['ticks'])\n",
    "\n",
    "for patch, color in zip(g.patches, colors):\n",
    "    patch.set_facecolor('none')\n",
    "    \n",
    "    vertices = patch.get_path().vertices\n",
    "\n",
    "    # Get box position and dimensions\n",
    "    x = vertices[0, 0]  # left x position\n",
    "    width = vertices[2, 0] - x  # width of the box\n",
    "    y_bottom = vertices[1, 1]  # bottom of the box\n",
    "    y_top = vertices[2, 1]  # top of the box\n",
    "    height = y_top - y_bottom  # height of the box\n",
    "\n",
    "    cmap = LinearSegmentedColormap.from_list('gradient', [color[0], color[1]])\n",
    "\n",
    "    gradient = np.linspace(0, 1, 256).reshape(1, -1)\n",
    "    g.imshow(gradient, aspect='auto', cmap=cmap, \n",
    "              extent=(x, x + width, y_bottom, y_top), zorder=-1)\n",
    "\n",
    "g.set_xlim(-1, len(colors))\n",
    "g.set_ylim(-0.21, 1.05)  \n",
    "g.set_xlabel('')\n",
    "g.set_ylabel('Correlation coefficient', fontsize=fontsizes['label'])\n",
    "g.axhline(0.5, c='grey', ls=':', alpha=0.5, zorder=-1)"
   ]
  },
  {
   "cell_type": "code",
   "execution_count": 133,
   "id": "212cb93b-d6a8-4cd1-bf18-d2d368da7c58",
   "metadata": {},
   "outputs": [
    {
     "data": {
      "text/plain": [
       "(6,\n",
       " array([[-0.4       ,  0.88651181],\n",
       "        [ 0.4       ,  0.88651181],\n",
       "        [ 0.4       ,  0.95131786],\n",
       "        [-0.4       ,  0.95131786],\n",
       "        [-0.4       ,  0.88651181],\n",
       "        [-0.4       ,  0.88651181]]))"
      ]
     },
     "execution_count": 133,
     "metadata": {},
     "output_type": "execute_result"
    }
   ],
   "source": [
    "len(g.patches), g.patches[0].get_path().vertices"
   ]
  },
  {
   "cell_type": "code",
   "execution_count": null,
   "id": "71dc2778-b5b8-4288-8dc4-5beca29da5b0",
   "metadata": {},
   "outputs": [],
   "source": [
    "sim_cat = product(\n",
    "    sorted(model_categories),\n",
    "    list(sim_mats.keys())\n",
    ")\n",
    "\n",
    "for desired_cat, sim_metric in sim_cat:\n",
    "    df_r_coeffs = corr_data[f\"{desired_cat}_{sim_metric}\"]\n",
    "    fig = get_distribution_plot(df_r_coeffs)\n",
    "    sm_name = sim_metric.replace(\" \", \"_\").lower()\n",
    "    save_or_show(fig,\n",
    "                 storing_path / f'dist_r_coeff_cat_anchor_{desired_cat}_{sm_name}.pdf',\n",
    "                 SAVE)\n",
    "    break"
   ]
  }
 ],
 "metadata": {
  "kernelspec": {
   "display_name": "Python 3 (ipykernel)",
   "language": "python",
   "name": "python3"
  },
  "language_info": {
   "codemirror_mode": {
    "name": "ipython",
    "version": 3
   },
   "file_extension": ".py",
   "mimetype": "text/x-python",
   "name": "python",
   "nbconvert_exporter": "python",
   "pygments_lexer": "ipython3",
   "version": "3.10.13"
  }
 },
 "nbformat": 4,
 "nbformat_minor": 5
}

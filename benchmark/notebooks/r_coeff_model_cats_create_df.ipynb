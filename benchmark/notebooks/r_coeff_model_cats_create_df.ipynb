{
 "cells": [
  {
   "cell_type": "code",
   "execution_count": null,
   "id": "29d1d0c8-c2ef-440c-85c3-8c18d12a2529",
   "metadata": {},
   "outputs": [],
   "source": [
    "import sys\n",
    "from itertools import combinations, product\n",
    "from pathlib import Path\n",
    "\n",
    "import matplotlib.pyplot as plt\n",
    "import numpy as np\n",
    "import pandas as pd\n",
    "import seaborn as sns\n",
    "from scipy.stats import pearsonr, spearmanr\n",
    "import json\n",
    "\n",
    "from constants import (\n",
    "    anchor_name_mapping, \n",
    "    available_data, \n",
    "    exclude_models, \n",
    "    exclude_models_w_mae, \n",
    "    cat_name_mapping, \n",
    "    model_config_file, \n",
    "    model_categories, \n",
    "    model_cat_mapping,\n",
    "    fontsizes\n",
    ")\n",
    "from helper import load_model_configs_and_allowed_models, load_similarity_matrices, save_or_show\n",
    "\n",
    "sys.path.append('..')\n",
    "from scripts.helper import parse_datasets\n",
    "from constants import sim_metric_name_mapping"
   ]
  },
  {
   "cell_type": "code",
   "execution_count": null,
   "id": "5f1117c1-b686-4b0a-a8a4-74a2a389b16e",
   "metadata": {},
   "outputs": [],
   "source": [
    "base_path_similarity_matrices = Path('/home/space/diverse_priors/model_similarities')\n",
    "sim_metrics = [\n",
    "    'cka_kernel_rbf_unbiased_sigma_0.4',\n",
    "    'cka_kernel_linear_unbiased',\n",
    "]\n",
    "sim_metrics_mapped = [sim_metric_name_mapping[k] for k in sim_metrics]\n",
    "\n",
    "ds_list = parse_datasets('../scripts/webdatasets_w_insub10k.txt')\n",
    "ds_list = list(map(lambda x: x.replace('/', '_'), ds_list))\n",
    "\n",
    "\n",
    "corr_type = 'pearsonr' # 'pearsonr', 'spearmanr'\n",
    "suffix = '_wo_mae' # '', '_wo_mae'\n",
    "\n",
    "SAVE = True\n",
    "storing_path = Path(\n",
    "    '/home/space/diverse_priors/results/aggregated/r_coeff_dist/with_cats_as_anchors'\n",
    ")\n",
    "if SAVE:\n",
    "    storing_path.mkdir(parents=True, exist_ok=True)"
   ]
  },
  {
   "cell_type": "code",
   "execution_count": null,
   "id": "2417f211-e054-48e0-bac8-a08751a339fd",
   "metadata": {},
   "outputs": [],
   "source": [
    "curr_excl_models = exclude_models_w_mae if 'mae' in suffix else exclude_models\n",
    "\n",
    "model_configs, allowed_models = load_model_configs_and_allowed_models(\n",
    "    path=model_config_file,\n",
    "    exclude_models=curr_excl_models,\n",
    "    exclude_alignment=True,\n",
    ")\n",
    "model_configs.columns"
   ]
  },
  {
   "cell_type": "code",
   "execution_count": null,
   "id": "f3a78305-28c6-4f7c-aee9-cdd4f09c795f",
   "metadata": {},
   "outputs": [],
   "source": [
    "sim_mats = load_similarity_matrices(\n",
    "    path=base_path_similarity_matrices,\n",
    "    ds_list=ds_list,\n",
    "    sim_metrics=sim_metrics,\n",
    "    allowed_models=allowed_models,\n",
    ")\n",
    "sim_mats = {sim_metric_name_mapping[k]: v for k, v in sim_mats.items()}\n",
    "sim_mats.keys()"
   ]
  },
  {
   "cell_type": "code",
   "execution_count": null,
   "id": "1576ae29-6514-41d5-9234-97282cca18cc",
   "metadata": {},
   "outputs": [],
   "source": [
    "def get_sim_data(category, sim_metric):\n",
    "    cat_groups = model_configs.reset_index(names=['mid']).groupby(category)['mid'].unique()\n",
    "    cat_groups.index = [cat_name_mapping[x] for x in cat_groups.index]\n",
    "    sim_metric_mats = sim_mats[sim_metric]\n",
    "    return cat_groups, sim_metric_mats\n",
    "    \n",
    "\n",
    "def process_sim_mat(ds, sim_mat, cat):\n",
    "    indx_i, indx_j = np.triu_indices(n=len(sim_mat), k=1)\n",
    "    flat_sim_mat = pd.DataFrame(\n",
    "    {'Similarity value':sim_mat.values[indx_i, indx_j],\n",
    "     'Model 1': sim_mat.index.values[indx_i],\n",
    "     'Model 2': sim_mat.columns.values[indx_j]\n",
    "    })\n",
    "    flat_sim_mat['M1 obj.'] = flat_sim_mat['Model 1'].apply(lambda x : cat_name_mapping[model_configs.loc[x, cat]])\n",
    "    flat_sim_mat['M2 obj.'] = flat_sim_mat['Model 2'].apply(lambda x : cat_name_mapping[model_configs.loc[x, cat]])\n",
    "    flat_sim_mat['DS'] = ds\n",
    "    return flat_sim_mat\n",
    "\n",
    "\n",
    "def r_coeff(df, ds1, ds2):\n",
    "    x = df[df['DS'] == ds1]['Similarity value']\n",
    "    y = df[df['DS'] == ds2]['Similarity value']\n",
    "    if 'pearsonr' == corr_type:\n",
    "        corr, _ = pearsonr(x,y)\n",
    "    elif 'spearmanr' == corr_type:\n",
    "        corr, _ = spearmanr(x,y)\n",
    "    else:\n",
    "        raise ValueError(f'Unknown {corr_type=}! Need to select pearsonr or spearmanr r_corr in corr_type.')\n",
    "    return corr\n",
    "\n",
    "\n",
    "def get_r_coeff_df(sim_metric_mats, cat_groups):\n",
    "    # flatten each similarity matrix \n",
    "    pp_mats = []\n",
    "    for ds, sim_mat in sim_metric_mats.items():\n",
    "        pp_mats.append(process_sim_mat(ds, sim_mat, desired_cat)) \n",
    "    pp_mats = pd.concat(pp_mats)\n",
    "    # get each dataset pair \n",
    "    combs = combinations(list(pp_mats['DS'].unique()), 2)\n",
    "    r_coeffs = []\n",
    "    for ds1, ds2 in combs:\n",
    "        subset_ds  = pp_mats[pp_mats['DS'].isin([ds1, ds2])]\n",
    "        for cat in cat_groups.index.tolist():\n",
    "            subset_data = subset_ds[(subset_ds['M1 obj.']==cat) | (subset_ds['M2 obj.']==cat)].copy()\n",
    "            subset_data['other cat'] = subset_data[['M1 obj.', 'M2 obj.']].apply(lambda x: x['M2 obj.'] if x['M1 obj.'] == cat else x['M1 obj.'], axis=1)\n",
    "            for other_cat, other_cat_data in subset_data.groupby('other cat'):\n",
    "                r_coeffs.append(\n",
    "                    {\n",
    "                        'ds1': ds1,\n",
    "                        'ds2': ds2,\n",
    "                        'anchor_cat': cat, \n",
    "                        'other_cat': other_cat,\n",
    "                        'r coeff': r_coeff(other_cat_data, ds1, ds2)\n",
    "                    }\n",
    "                ) \n",
    "    df_r_coeffs = pd.DataFrame(r_coeffs) \n",
    "    return df_r_coeffs\n"
   ]
  },
  {
   "cell_type": "code",
   "execution_count": null,
   "id": "70bdbf73-bd22-46ee-b95a-e961e3743828",
   "metadata": {},
   "outputs": [],
   "source": [
    "sim_cat = product(\n",
    "    sorted(model_categories),\n",
    "    list(sim_mats.keys())\n",
    ")\n",
    "info_cols = model_cat_mapping\n",
    "\n",
    "corr_data = {}\n",
    "for desired_cat, sim_metric in sim_cat:\n",
    "    print(desired_cat, sim_metric)\n",
    "    cat_groups, sim_metric_mats = get_sim_data(desired_cat, sim_metric)\n",
    "    df_r_coeffs = get_r_coeff_df(sim_metric_mats, cat_groups)\n",
    "    df_r_coeffs['Comparison category'] = model_cat_mapping[desired_cat]\n",
    "    df_r_coeffs['Similarity metric'] = sim_metric\n",
    "    corr_data[f\"{desired_cat}_{sim_metric}\"] = df_r_coeffs"
   ]
  },
  {
   "cell_type": "code",
   "execution_count": null,
   "id": "df367549-6d8a-4c90-89ce-29523245f40f",
   "metadata": {},
   "outputs": [],
   "source": [
    "r_df = pd.concat(list(corr_data.values()), axis=0)"
   ]
  },
  {
   "cell_type": "code",
   "execution_count": null,
   "id": "ec8b4eea-ad99-42d5-8280-1c584a9a2eaa",
   "metadata": {},
   "outputs": [],
   "source": [
    "r_df.head()"
   ]
  },
  {
   "cell_type": "code",
   "execution_count": null,
   "id": "3dd70264-76de-41d4-9ad3-9bbbcc53496c",
   "metadata": {},
   "outputs": [],
   "source": [
    "if SAVE:\n",
    "    fn = storing_path / f'agg_{corr_type}_all_ds{suffix}.csv'\n",
    "    r_df.to_csv(fn, index=False)\n",
    "    print(f\"Stored aggregated data at: {fn}\")"
   ]
  }
 ],
 "metadata": {
  "kernelspec": {
   "display_name": "Python 3 (ipykernel)",
   "language": "python",
   "name": "python3"
  },
  "language_info": {
   "codemirror_mode": {
    "name": "ipython",
    "version": 3
   },
   "file_extension": ".py",
   "mimetype": "text/x-python",
   "name": "python",
   "nbconvert_exporter": "python",
   "pygments_lexer": "ipython3",
   "version": "3.10.13"
  }
 },
 "nbformat": 4,
 "nbformat_minor": 5
}

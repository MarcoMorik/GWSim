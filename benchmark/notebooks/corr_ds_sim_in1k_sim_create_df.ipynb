{
 "cells": [
  {
   "cell_type": "code",
   "execution_count": null,
   "id": "51850cf9-6dc1-46d3-a709-590b5dac4723",
   "metadata": {},
   "outputs": [],
   "source": [
    "import sys\n",
    "from collections import defaultdict\n",
    "from pathlib import Path\n",
    "\n",
    "import pandas as pd\n",
    "import torch\n",
    "from scipy.stats import spearmanr\n",
    "\n",
    "from helper import load_model_configs_and_allowed_models\n",
    "\n",
    "sys.path.append('..')\n",
    "from scripts.helper import parse_datasets\n",
    "from constants import sim_metric_name_mapping, anchors"
   ]
  },
  {
   "cell_type": "code",
   "execution_count": null,
   "id": "662a5072-6caf-4891-b2de-bdc8f73d043f",
   "metadata": {},
   "outputs": [],
   "source": [
    "base_path_similarity_matrices = Path('/home/space/diverse_priors/model_similarities')\n",
    "# sim_metrics = similarity_metrics\n",
    "sim_metrics = [\n",
    "    'cka_kernel_rbf_unbiased_sigma_0.4',\n",
    "    'cka_kernel_linear_unbiased',\n",
    "    'rsa_method_correlation_corr_method_spearman',\n",
    "]\n",
    "\n",
    "x_axis_ds = 'imagenet-subset-10k'\n",
    "y_axis_ds = parse_datasets('../scripts/webdatasets_wo_imagenet.txt')\n",
    "y_axis_ds = list(map(lambda x: x.replace('/', '_'), y_axis_ds))\n",
    "\n",
    "storing_path = Path('/home/space/diverse_priors/results/aggregated/r_coeff_dist')\n",
    "storing_path.mkdir(parents=True, exist_ok=True)"
   ]
  },
  {
   "cell_type": "code",
   "execution_count": null,
   "id": "345a0386-420d-4014-8371-ce8e3a615298",
   "metadata": {},
   "outputs": [],
   "source": [
    "model_configs, allowed_models = load_model_configs_and_allowed_models(\n",
    "    path='../scripts/models_config.json',\n",
    "    exclude_models=['SegmentAnything_vit_b', 'DreamSim_dino_vitb16', 'DreamSim_open_clip_vitb32'],\n",
    "    exclude_alignment=True,\n",
    ")\n",
    "\n",
    "print(model_configs.shape, len(allowed_models))"
   ]
  },
  {
   "cell_type": "code",
   "execution_count": null,
   "id": "0e082e66-5b07-430b-b75d-632c255333ea",
   "metadata": {},
   "outputs": [],
   "source": [
    "def get_model_ids(fn):\n",
    "    with open(fn, 'r') as file:\n",
    "        lines = file.readlines()\n",
    "    lines = [line.strip() for line in lines]\n",
    "    return lines\n",
    "\n",
    "\n",
    "def load_sim_martix(path):\n",
    "    model_ids_fn = path / 'model_ids.txt'\n",
    "    sim_mat_fn = path / 'similarity_matrix.pt'\n",
    "    if model_ids_fn.exists():\n",
    "        model_ids = get_model_ids(model_ids_fn)\n",
    "    else:\n",
    "        raise FileNotFoundError(f'{str(model_ids_fn)} does not exist.')\n",
    "    sim_mat = torch.load(sim_mat_fn)\n",
    "    df = pd.DataFrame(sim_mat, index=model_ids, columns=model_ids)\n",
    "\n",
    "    available_models = sorted(list(set(model_ids).intersection(allowed_models)))\n",
    "\n",
    "    df = df.loc[available_models, available_models]\n",
    "    return df"
   ]
  },
  {
   "cell_type": "code",
   "execution_count": null,
   "id": "26ef8ec1-b531-49a7-a6ff-9132127d3cfa",
   "metadata": {},
   "outputs": [],
   "source": [
    "sim_mats = defaultdict(dict)\n",
    "for sim_metric in sim_metrics:\n",
    "    for ds in [x_axis_ds] + y_axis_ds:\n",
    "        sim_mats[sim_metric][ds] = load_sim_martix(base_path_similarity_matrices / ds / sim_metric)"
   ]
  },
  {
   "cell_type": "code",
   "execution_count": null,
   "id": "08683e86-1fdb-4aa4-b2d4-07664b8e9616",
   "metadata": {},
   "outputs": [],
   "source": [
    "anchor_col = 'Anchor Model'\n",
    "other_col = 'Other Model'\n",
    "other_ds_col = 'Other Dataset'\n",
    "sim_metric_col = 'Similarity metric'\n",
    "sim_ds_col = 'Similarity value DS'\n",
    "sim_imgnet_col = 'Similarity value IN'\n",
    "info_orig_cols = ['objective', 'architecture_class', 'dataset_class', 'size_class']\n",
    "info_cols = ['Objective', 'Architecture', 'Dataset size', 'Model size']\n",
    "id_cols = [anchor_col, other_col, sim_metric_col] + info_cols + [x_axis_ds]\n",
    "comp_cat_col = 'Comparison category'\n",
    "comp_cat_orig_col = 'Comparison category (orig. name)'\n",
    "comp_val_col = 'Comparison values'\n",
    "r_col = 'r coeff'\n",
    "\n",
    "\n",
    "def get_other_model_info(mid):\n",
    "    model_config = model_configs.loc[mid]\n",
    "    return model_config['objective'], model_config['architecture_class'], model_config['dataset_class'], model_config[\n",
    "        'size_class']\n",
    "\n",
    "\n",
    "def get_melted_sim_values_metric_anchor(anch, met, met_ds_mats):\n",
    "    sim_vals_ds = []\n",
    "    for ds, curr_sim_mat in met_ds_mats.items():\n",
    "        cols = curr_sim_mat.columns.tolist()\n",
    "        cols.remove(anch)\n",
    "        cols = sorted(list(set(cols).intersection(allowed_models)))\n",
    "        row_sim_mat = curr_sim_mat.loc[anch, cols]\n",
    "        row_sim_mat.name = ds\n",
    "        sim_vals_ds.append(row_sim_mat)\n",
    "\n",
    "    anchor_sim_vals = pd.concat(sim_vals_ds, axis=1)\n",
    "    anchor_sim_vals = anchor_sim_vals.reset_index(names=[other_col])\n",
    "    anchor_sim_vals = pd.concat([anchor_sim_vals,\n",
    "                                 pd.DataFrame(anchor_sim_vals[other_col].apply(get_other_model_info).tolist(),\n",
    "                                              columns=info_cols)], axis=1)\n",
    "    anchor_sim_vals[sim_metric_col] = sim_metric_name_mapping[sim_metric]\n",
    "    anchor_sim_vals[anchor_col] = anch\n",
    "    anchor_sim_vals = pd.melt(anchor_sim_vals,\n",
    "                              id_vars=id_cols,\n",
    "                              var_name=other_ds_col,\n",
    "                              value_name=sim_ds_col,\n",
    "                              )\n",
    "    anchor_sim_vals.rename(columns={x_axis_ds: sim_imgnet_col}, inplace=True)\n",
    "    return anchor_sim_vals\n",
    "\n",
    "\n",
    "dfs = []\n",
    "for anchor in anchors:\n",
    "    for sim_metric, ds_sim_mat in sim_mats.items():\n",
    "        anchor_sim_vals = get_melted_sim_values_metric_anchor(anchor, sim_metric, ds_sim_mat)\n",
    "        dfs.append(anchor_sim_vals)\n",
    "\n",
    "all_sims = pd.concat(dfs, axis=0).reset_index(drop=True)"
   ]
  },
  {
   "cell_type": "code",
   "execution_count": null,
   "id": "eb9c2789-81e5-49d8-befc-e26be3fb36bd",
   "metadata": {},
   "outputs": [],
   "source": [
    "def compute_corr(data):\n",
    "    x = data[sim_imgnet_col]\n",
    "    y = data[sim_ds_col]\n",
    "    corr, _ = spearmanr(x, y)\n",
    "    return corr\n",
    "\n",
    "\n",
    "r_dfs = []\n",
    "for strata in info_cols:\n",
    "    grouping_cols = [sim_metric_col, anchor_col, other_ds_col, strata]\n",
    "\n",
    "    strata_rs = all_sims.groupby(grouping_cols, dropna=False).apply(compute_corr, include_groups=False).reset_index()\n",
    "    strata_rs.columns = [sim_metric_col, anchor_col, other_ds_col, strata, r_col]\n",
    "\n",
    "    all_rs = all_sims.groupby(grouping_cols[:-1], dropna=False).apply(compute_corr, include_groups=False).reset_index()\n",
    "    all_rs.columns = [sim_metric_col, anchor_col, other_ds_col, r_col]\n",
    "    all_rs[strata] = 'All'\n",
    "\n",
    "    rs = pd.concat([all_rs, strata_rs], axis=0).reset_index(drop=True)\n",
    "    rs = rs.sort_values([sim_metric_col, anchor_col, other_ds_col]).reset_index(drop=True)\n",
    "    r_dfs.append(rs)"
   ]
  },
  {
   "cell_type": "code",
   "execution_count": null,
   "id": "0261425c-abb1-4a18-8895-2b06c371c75c",
   "metadata": {},
   "outputs": [],
   "source": [
    "for i in range(len(r_dfs)):\n",
    "    r_dfs[i][comp_cat_col] = info_cols[i]\n",
    "    r_dfs[i][comp_cat_orig_col] = info_orig_cols[i]\n",
    "    r_dfs[i].rename(columns={info_cols[i]: comp_val_col}, inplace=True)"
   ]
  },
  {
   "cell_type": "code",
   "execution_count": null,
   "id": "899e1ba1-aa7d-4121-a11f-c179c31d3524",
   "metadata": {},
   "outputs": [],
   "source": [
    "r_df = pd.concat(r_dfs, axis=0)"
   ]
  },
  {
   "cell_type": "code",
   "execution_count": null,
   "id": "0e5e3f97-48f7-41fb-96dc-8d97ebb33b75",
   "metadata": {},
   "outputs": [],
   "source": [
    "r_df.to_csv(storing_path / f'agg_corr_coeffs.csv', index=False)"
   ]
  }
 ],
 "metadata": {
  "kernelspec": {
   "display_name": "Python 3 (ipykernel)",
   "language": "python",
   "name": "python3"
  },
  "language_info": {
   "codemirror_mode": {
    "name": "ipython",
    "version": 3
   },
   "file_extension": ".py",
   "mimetype": "text/x-python",
   "name": "python",
   "nbconvert_exporter": "python",
   "pygments_lexer": "ipython3",
   "version": "3.10.13"
  }
 },
 "nbformat": 4,
 "nbformat_minor": 5
}

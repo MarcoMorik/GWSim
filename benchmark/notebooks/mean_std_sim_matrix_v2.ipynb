{
 "cells": [
  {
   "cell_type": "code",
   "execution_count": null,
   "id": "221cff81-a939-48c3-bb17-d2f9ed2cc37a",
   "metadata": {},
   "outputs": [],
   "source": [
    "import sys\n",
    "from pathlib import Path\n",
    "\n",
    "import matplotlib.gridspec as gridspec\n",
    "import matplotlib.pyplot as plt\n",
    "import numpy as np\n",
    "import pandas as pd\n",
    "import seaborn as sns\n",
    "import matplotlib.ticker as ticker\n",
    "import scipy\n",
    "from scipy.cluster.hierarchy import dendrogram, linkage\n",
    "import textwrap\n",
    "from mpl_toolkits.axes_grid1 import make_axes_locatable\n",
    "import matplotlib.pyplot as plt\n",
    "from mpl_toolkits.axes_grid1 import make_axes_locatable\n",
    "import matplotlib.gridspec as gridspec\n",
    "\n",
    "from constants import (\n",
    "    exclude_models, \n",
    "    exclude_models_w_mae, \n",
    "    ds_name_mapping, \n",
    "    model_categories, \n",
    "    model_cat_mapping, \n",
    "    model_config_file, \n",
    "    ds_info_file,\n",
    "    fontsizes\n",
    ")\n",
    "from helper import load_model_configs_and_allowed_models, load_similarity_matrices, save_or_show, load_ds_info, get_fmt_name\n",
    "\n",
    "sys.path.append('..')\n",
    "from scripts.helper import parse_datasets\n",
    "from constants import sim_metric_name_mapping"
   ]
  },
  {
   "cell_type": "code",
   "execution_count": null,
   "id": "3d502146-22b8-42e5-9355-3b5f779ebebc",
   "metadata": {},
   "outputs": [],
   "source": [
    "base_path_similarity_matrices = Path('/home/space/diverse_priors/model_similarities')\n",
    "# sim_metrics = similarity_metrics\n",
    "sim_metrics = [\n",
    "    'cka_kernel_rbf_unbiased_sigma_0.4',\n",
    "    'cka_kernel_linear_unbiased',\n",
    "    # 'rsa_method_correlation_corr_method_spearman',\n",
    "]\n",
    "\n",
    "ds_list = parse_datasets('../scripts/webdatasets_w_insub10k.txt')\n",
    "ds_list = list(map(lambda x: x.replace('/', '_'), ds_list))\n",
    "print(len(ds_list))\n",
    "\n",
    "ds_info = load_ds_info(ds_info_file)\n",
    "\n",
    "\n",
    "suffix=''\n",
    "# suffix = '_wo_mae'\n",
    "\n",
    "cm = 0.393701\n",
    "\n",
    "SAVE = True\n",
    "storing_path = Path('/home/space/diverse_priors/results/plots/mean_std_sim_matrix_v2')\n",
    "if SAVE:\n",
    "    storing_path.mkdir(parents=True, exist_ok=True)"
   ]
  },
  {
   "cell_type": "code",
   "execution_count": null,
   "id": "8c2daa51-0e4c-46c9-bdaa-c0e4cc582647",
   "metadata": {},
   "outputs": [],
   "source": [
    "curr_excl_models = []\n",
    "if suffix:\n",
    "    curr_excl_models = exclude_models_w_mae if 'mae' in suffix else exclude_models\n",
    "\n",
    "model_configs, allowed_models = load_model_configs_and_allowed_models(\n",
    "    path=model_config_file,\n",
    "    exclude_models=curr_excl_models,\n",
    "    exclude_alignment=True,\n",
    ")\n"
   ]
  },
  {
   "cell_type": "code",
   "execution_count": null,
   "id": "2007787d-91b1-4001-b9c7-6210e90891bb",
   "metadata": {},
   "outputs": [],
   "source": [
    "info_orig_cols = model_categories\n",
    "info_cols = list(model_cat_mapping.values())"
   ]
  },
  {
   "cell_type": "code",
   "execution_count": null,
   "id": "1d3b3a2c14b82691",
   "metadata": {},
   "outputs": [],
   "source": [
    "sim_mats = load_similarity_matrices(\n",
    "    path=base_path_similarity_matrices,\n",
    "    ds_list=ds_list,\n",
    "    sim_metrics=sim_metrics,\n",
    "    allowed_models=allowed_models,\n",
    ")"
   ]
  },
  {
   "cell_type": "code",
   "execution_count": null,
   "id": "1cbee446-f2b5-4e9e-9d8d-9a62cf36cd59",
   "metadata": {},
   "outputs": [],
   "source": [
    "from itertools import product\n",
    "def compute_ordering(sim_mat):\n",
    "    if not isinstance(sim_mat, pd.DataFrame):\n",
    "        sim_mat = pd.DataFrame(sim_mat)\n",
    "    dist_mat = 1 - sim_mat.values\n",
    "    upper_tri_indices = np.triu_indices_from(dist_mat, k=1)\n",
    "    linkage_matrix = linkage(dist_mat[upper_tri_indices], method='average')\n",
    "    idx_new = np.array(dendrogram(linkage_matrix)['leaves'])\n",
    "    plt.close()\n",
    "    return idx_new"
   ]
  },
  {
   "cell_type": "code",
   "execution_count": null,
   "id": "543353b78c3c8f8d",
   "metadata": {},
   "outputs": [],
   "source": [
    "mean_sim_mats = {}\n",
    "std_sim_mats = {}\n",
    "\n",
    "mean_tanh_sim_mats = {}\n",
    "std_tanh_sim_mats = {}\n",
    "\n",
    "mean_tan_sim_mats = {}\n",
    "std_tan_sim_mats = {}\n",
    "\n",
    "ordering = {}\n",
    "\n",
    "def build_mean_std(df):\n",
    "    mean = pd.DataFrame(df.mean(axis=0), index=allowed_models, columns=allowed_models)\n",
    "    std =  pd.DataFrame(df.std(axis=0), index=allowed_models, columns=allowed_models)\n",
    "    return mean, std \n",
    "\n",
    "\n",
    "for sim_metric in sim_metrics:\n",
    "    result = np.stack(list(sim_mats[sim_metric].values()), axis=0)\n",
    "    mean_sim_mats[sim_metric], std_sim_mats[sim_metric] = build_mean_std(result)\n",
    "    \n",
    "    ordering[sim_metric] = np.array(allowed_models)[compute_ordering(mean_sim_mats[sim_metric])]\n",
    "\n",
    "    mean_tanh_sim_mats[sim_metric], std_tanh_sim_mats[sim_metric] = build_mean_std(np.tanh(result))\n",
    "    \n",
    "    mean_tan_sim_mats[sim_metric], std_tan_sim_mats[sim_metric] = build_mean_std(np.tan(result))"
   ]
  },
  {
   "cell_type": "markdown",
   "id": "5683e9e0bee2eecc",
   "metadata": {},
   "source": [
    "### Similarity matrices plots"
   ]
  },
  {
   "cell_type": "markdown",
   "id": "2fb7197fd5f6fab4",
   "metadata": {},
   "source": [
    "Create figures with 3 subplots in the first row showing the similarity matrices for three different datasets (one natural images, single domain ds, and structured data). The second row should contain two subplots showing the mean and std of the similarity matrices across all datasets.\n",
    "We create one figure for each similarity metric."
   ]
  },
  {
   "cell_type": "code",
   "execution_count": null,
   "id": "dd8efc38e3dd42f7",
   "metadata": {},
   "outputs": [],
   "source": [
    "ds_lists = dict(\n",
    "    ds_row_1_v2=['imagenet-subset-10k', 'wds_vtab_flowers', 'wds_vtab_pcam'],\n",
    ")"
   ]
  },
  {
   "cell_type": "code",
   "execution_count": null,
   "id": "dc79eece-0bf8-4e3d-8e44-81e268de5eba",
   "metadata": {},
   "outputs": [],
   "source": [
    "def plot_one_heatmap(df, ordering, title, ax, cmap, vmin=0, vmax=1, cbar=False):\n",
    "    df = df.loc[ordering, ordering]\n",
    "    # g = sns.heatmap(df, ax=ax, vmin=vmin, vmax=vmax, cbar=cbar, cmap=cmap, square=True)\n",
    "    g = sns.heatmap(df, ax=ax, vmin=vmin, vmax=vmax, cbar=cbar, cmap=cmap)\n",
    "    new_title = \"\\n(N\".join(title.split(' (N'))\n",
    "    ax.set_title(new_title, fontsize=fontsizes['title'], y=1.01)\n",
    "    ax.axis('off')\n",
    "    return g\n",
    "\n",
    "\n",
    "def get_mat_plot(curr_sim_metrics_data, mean_res, std_res, ds_list, ordering):\n",
    "    # Create a GridSpec layout with extra columns for the colorbars\n",
    "    fig = plt.figure(figsize=(3 * (len(ds_list) + 2) + 1.5, 3))\n",
    "    gs = gridspec.GridSpec(1, len(ds_list) + 4, width_ratios=[0.05] + [1] * (len(ds_list) + 2) + [0.05])\n",
    "    \n",
    "    vmin, vmax = 0, 1\n",
    "\n",
    "    # Plot the heatmaps for each dataset\n",
    "    axs = []\n",
    "    for i, ds in enumerate(ds_list):\n",
    "        if i == 0:\n",
    "            ax_bar = fig.add_subplot(gs[i])\n",
    "        ax = fig.add_subplot(gs[i+1])\n",
    "        df = curr_sim_metrics_data[ds]\n",
    "        g = plot_one_heatmap(df, ordering, get_fmt_name(ds, ds_info), ax, 'rocket', vmin, vmax)\n",
    "        if i == 0: \n",
    "            cbar = plt.colorbar(g.collections[0], cax=ax_bar, format=\"{x:.2f}\", location='left')\n",
    "            cbar.outline.set_edgecolor('none')\n",
    "            cbar.ax.tick_params(labelsize=fontsizes['ticks'])\n",
    "    \n",
    "    # Plot the mean and std heatmaps\n",
    "    mean_ax = fig.add_subplot(gs[-3])\n",
    "    std_ax = fig.add_subplot(gs[-2])\n",
    "    std_ax_bar = fig.add_subplot(gs[-1])\n",
    "    \n",
    "    \n",
    "    mean_heatmap = plot_one_heatmap(mean_res, ordering, \"Mean CKA over $\\mathcal{D}$\", mean_ax, 'rocket', vmin, vmax, False)\n",
    "    std_heatmap = plot_one_heatmap(std_res, ordering, \"Std CKA over $\\mathcal{D}$\", std_ax, 'mako', std_res.min().min(), std_res.max().max(), False)\n",
    "    cbar = plt.colorbar(std_heatmap.collections[0], cax=std_ax_bar, format=\"{x:.2f}\")\n",
    "    cbar.outline.set_edgecolor('none') \n",
    "    cbar.ax.tick_params(labelsize=fontsizes['ticks'])\n",
    "\n",
    "    fig.subplots_adjust(wspace=0.1, hspace=0.1)\n",
    "    return fig\n",
    "\n",
    "\n",
    "for sim_metric in sim_metrics:\n",
    "    curr_sim_metrics_data = sim_mats[sim_metric]\n",
    "    mean_res = mean_sim_mats[sim_metric]\n",
    "    std_res = std_sim_mats[sim_metric]\n",
    "    curr_ordering = ordering[sim_metric] \n",
    "    for ds_list in ds_lists.values():\n",
    "        fig = get_mat_plot(curr_sim_metrics_data, mean_res, std_res, ds_list, curr_ordering)\n",
    "        save_or_show(fig, storing_path / f'mean_std_sim_matrix_{sim_metric}_DS{\"_\".join(ds_list)}{suffix}.pdf', SAVE)\n"
   ]
  },
  {
   "cell_type": "code",
   "execution_count": null,
   "id": "89b85fa0-cc47-4ab9-ae51-b470b1220b25",
   "metadata": {},
   "outputs": [],
   "source": []
  },
  {
   "cell_type": "code",
   "execution_count": null,
   "id": "203f2db4-686d-477e-af61-935174ac5176",
   "metadata": {},
   "outputs": [],
   "source": []
  },
  {
   "cell_type": "markdown",
   "id": "c6d699210c72b70b",
   "metadata": {},
   "source": [
    "### Mean vs. STD scatter plot"
   ]
  },
  {
   "cell_type": "code",
   "execution_count": null,
   "id": "d18330ec-c832-4e59-b98d-05b324cbf95d",
   "metadata": {},
   "outputs": [],
   "source": [
    "def plot_mean_std_scatter(mean_data, std_data):\n",
    "    n = len(sim_metrics)\n",
    "    fig, axs = plt.subplots(nrows=1, ncols=n, sharex=True, sharey=True, figsize=(n * 14 * cm, 10 * cm))\n",
    "    for i, curr_sim_metric in enumerate(sim_metrics):\n",
    "        mean_res = mean_data[curr_sim_metric].values\n",
    "        std_res = std_data[curr_sim_metric].values\n",
    "        iu2 = np.triu_indices(mean_res.shape[0], k=1)\n",
    "        g = sns.scatterplot(\n",
    "            x=mean_res[iu2],\n",
    "            y=std_res[iu2],\n",
    "            alpha=0.6,\n",
    "            ax=axs[i],\n",
    "        )\n",
    "        g.set_xlabel('Mean CKA value across all datasets', fontsize=fontsizes['label'])\n",
    "        g.set_ylabel('Std of CKA values across all datasets', fontsize=fontsizes['label'])\n",
    "        g.set_title(sim_metric_name_mapping[curr_sim_metric], fontsize=fontsizes['title'])\n",
    "        g.tick_params('both', labelsize=fontsizes['ticks'])\n",
    "    \n",
    "    fig.tight_layout()\n",
    "    return fig\n",
    "    "
   ]
  },
  {
   "cell_type": "markdown",
   "id": "3aa651a0-1602-49c8-a08a-f12184d3ed6a",
   "metadata": {},
   "source": [
    "**Original CKA values**"
   ]
  },
  {
   "cell_type": "code",
   "execution_count": null,
   "id": "932e8154-0a2e-4c7a-9f18-e004fb962bfb",
   "metadata": {},
   "outputs": [],
   "source": [
    "fig = plot_mean_std_scatter(mean_sim_mats, std_sim_mats)\n",
    "save_or_show(fig, storing_path / f'mean_std_scatter_plot{suffix}.pdf', SAVE)"
   ]
  },
  {
   "cell_type": "markdown",
   "id": "d28329ec-32bf-449f-914e-81db048655e7",
   "metadata": {},
   "source": [
    "**Tanh transformed CKA values**"
   ]
  },
  {
   "cell_type": "code",
   "execution_count": null,
   "id": "03d37763-4ea0-4ed2-bf40-11935982d0f0",
   "metadata": {},
   "outputs": [],
   "source": [
    "fig = plot_mean_std_scatter(mean_tanh_sim_mats, std_tanh_sim_mats)\n",
    "save_or_show(fig, storing_path / f'mean_std_tanh_scatter_plot{suffix}.pdf', SAVE)"
   ]
  },
  {
   "cell_type": "markdown",
   "id": "d95cec4c-c52e-4eca-bcd8-d00fdbb4bd2e",
   "metadata": {},
   "source": [
    "**Tan transformed CKA values**"
   ]
  },
  {
   "cell_type": "code",
   "execution_count": null,
   "id": "15a40518-c3bc-459c-937e-34a83b1b1b4a",
   "metadata": {},
   "outputs": [],
   "source": [
    "fig = plot_mean_std_scatter(mean_tan_sim_mats, std_tan_sim_mats)\n",
    "save_or_show(fig, storing_path / f'mean_std_tan_scatter_plot{suffix}.pdf', SAVE)"
   ]
  },
  {
   "cell_type": "markdown",
   "id": "ce065498-6878-4738-a36d-3caad8e7af2f",
   "metadata": {},
   "source": [
    "#### With categories as colors"
   ]
  },
  {
   "cell_type": "code",
   "execution_count": null,
   "id": "47f1532a-69a0-48aa-90a6-7a7c16ebc637",
   "metadata": {},
   "outputs": [],
   "source": [
    "# pairs = [\n",
    "#     ('Image-Text', 'Image-Text'),\n",
    "#     ('Image-Text', 'Self-Supervised'),\n",
    "#     ('Image-Text', 'Supervised'),\n",
    "#     ('Self-Supervised', 'Self-Supervised'),\n",
    "#     ('Self-Supervised', 'Supervised'),\n",
    "#     ('Supervised', 'Supervised'),\n",
    "# ]\n",
    "# comb = []\n",
    "# for i, val in enumerate(model_configs['objective']):\n",
    "#     for j, val2 in enumerate(model_configs['objective']):\n",
    "#         if i >= j:\n",
    "#             continue\n",
    "#         if val == val2 or (val, val2) in pairs:\n",
    "#             comb.append(f\"{val}, {val2}\")\n",
    "#         elif (val2, val) in pairs:\n",
    "#             comb.append(f\"{val2}, {val}\")\n",
    "#         else:\n",
    "#             raise ValueError(\"Unknown pair\")"
   ]
  },
  {
   "cell_type": "code",
   "execution_count": null,
   "id": "e9c6ff9f6ccd6e0a",
   "metadata": {},
   "outputs": [],
   "source": [
    "# n = len(sim_metrics)\n",
    "# fig, axs = plt.subplots(nrows=1, ncols=n, sharey=True, figsize=(n * 14 * cm, 10 * cm))\n",
    "# for i, curr_sim_metric in enumerate(sim_metrics):\n",
    "#     mean_res = mean_sim_mats[curr_sim_metric].values\n",
    "#     std_res = std_sim_mats[curr_sim_metric].values\n",
    "#     iu2 = np.triu_indices(mean_res.shape[0], k=1)\n",
    "#     g = sns.scatterplot(\n",
    "#         x=mean_res[iu2],\n",
    "#         y=std_res[iu2],\n",
    "#         hue=comb,\n",
    "#         alpha=0.6,\n",
    "#         ax=axs[i],\n",
    "#         legend=False if i == 0 else True\n",
    "#     )\n",
    "#     g.set_xlabel('Mean CKA value across all datasets', fontsize=10)\n",
    "#     g.set_ylabel('Std of CKA values across all datasets', fontsize=10)\n",
    "#     g.set_title(sim_metric_name_mapping[curr_sim_metric], fontsize=12)\n",
    "#     g.tick_params('both', labelsize=10)\n",
    "#     if i > 0:\n",
    "#         sns.move_legend(g, \"upper left\", bbox_to_anchor=(1, 1), frameon=False, fontsize=10)\n",
    "\n",
    "# fig.tight_layout()\n",
    "# save_or_show(fig, storing_path / f'mean_std_scatter_plot{suffix}.pdf', SAVE)"
   ]
  }
 ],
 "metadata": {
  "kernelspec": {
   "display_name": "Python 3 (ipykernel)",
   "language": "python",
   "name": "python3"
  },
  "language_info": {
   "codemirror_mode": {
    "name": "ipython",
    "version": 3
   },
   "file_extension": ".py",
   "mimetype": "text/x-python",
   "name": "python",
   "nbconvert_exporter": "python",
   "pygments_lexer": "ipython3",
   "version": "3.10.13"
  }
 },
 "nbformat": 4,
 "nbformat_minor": 5
}

{
 "cells": [
  {
   "cell_type": "markdown",
   "id": "601f2535fb55c810",
   "metadata": {},
   "source": [
    "## Notebook for computing consistency for model set pairs across datasets and similarity metrics\n",
    "This notebook computes for s."
   ]
  },
  {
   "cell_type": "code",
   "execution_count": null,
   "id": "29d1d0c8-c2ef-440c-85c3-8c18d12a2529",
   "metadata": {},
   "outputs": [],
   "source": [
    "from itertools import combinations, product\n",
    "\n",
    "import numpy as np\n",
    "import pandas as pd\n",
    "from scipy.stats import pearsonr, spearmanr\n",
    "\n",
    "from constants import (\n",
    "    exclude_models,\n",
    "    exclude_models_w_mae,\n",
    "    cat_name_mapping,\n",
    "    model_config_file,\n",
    "    model_categories,\n",
    "    sim_metric_name_mapping,\n",
    "    model_cat_mapping,\n",
    "    BASE_PATH_PROJECT,\n",
    "    BASE_PATH_RESULTS,\n",
    "    ds_list_sim_file\n",
    ")\n",
    "from helper import (\n",
    "    load_model_configs_and_allowed_models,\n",
    "    load_similarity_matrices,\n",
    "    pp_storing_path,\n",
    "    load_all_datasetnames_n_info\n",
    ")"
   ]
  },
  {
   "cell_type": "markdown",
   "id": "b3f9a281e35c9f89",
   "metadata": {},
   "source": [
    "#### Global variables"
   ]
  },
  {
   "cell_type": "code",
   "execution_count": null,
   "id": "5f1117c1-b686-4b0a-a8a4-74a2a389b16e",
   "metadata": {},
   "outputs": [],
   "source": [
    "base_path_similarity_matrices = BASE_PATH_PROJECT / 'model_similarities'\n",
    "sim_metrics = [\n",
    "    'cka_kernel_rbf_unbiased_sigma_0.4',\n",
    "    'cka_kernel_linear_unbiased',\n",
    "    'rsa_method_correlation_corr_method_spearman'\n",
    "]\n",
    "sim_metrics_mapped = [sim_metric_name_mapping[k] for k in sim_metrics]\n",
    "\n",
    "ds_list, _ = load_all_datasetnames_n_info(ds_list_sim_file, verbose=False)\n",
    "\n",
    "# Define model set pair:\n",
    "# - A model set pair is a tuple of two lists, where each list specifies model selection criteria\n",
    "# - Each list can contain either:\n",
    "#   a) Model categories/subcategories (e.g., ('objective', 'Image-Text'))\n",
    "#   b) Specific model names with their config column (e.g., ('index', 'mae-vit-base-p16'))\n",
    "#\n",
    "# Examples:\n",
    "# 1. Comparing model categories:\n",
    "#    ([('objective', 'Image-Text')],  # First set: only image-text models\n",
    "#     [('objective', 'Image-Text'),   # Second set: union of image-text and supervised models\n",
    "#      ('objective', 'Supervised')])\n",
    "#\n",
    "mode_set_pair_1 = ([('+', 'objective', 'Image-Text')],                # First set: all image-text models\n",
    "                   [('+', 'objective', 'Image-Text'),                 # Second set: image-text models plus\n",
    "                    ('+', 'index', 'mae-vit-base-p16'),              # specific MAE models\n",
    "                    ('+', 'index', 'mae-vit-huge-p14'),\n",
    "                    ('+', 'index', 'mae-vit-large-p16')])\n",
    "\n",
    "mode_set_pair_2 = ([('+', 'objective', 'Image-Text')], \n",
    "                   [('+', 'objective', 'Image-Text'), \n",
    "                    ('+', 'objective', 'Supervised')])\n",
    "\n",
    "mode_set_pair_3 = ([('+', 'objective', 'Self-Supervised'), \n",
    "                    ('-', 'index', 'mae-vit-base-p16'),    \n",
    "                    ('-', 'index', 'mae-vit-huge-p14'),\n",
    "                    ('-', 'index', 'mae-vit-large-p16')],  \n",
    "                   [('+', 'objective', 'Self-Supervised'), \n",
    "                    ('-', 'index', 'mae-vit-base-p16'),\n",
    "                    ('-', 'index', 'mae-vit-huge-p14'),\n",
    "                    ('-', 'index', 'mae-vit-large-p16')])\n",
    "\n",
    "curr_mode_set_pair = mode_set_pair_2"
   ]
  },
  {
   "cell_type": "markdown",
   "id": "5b8065355a26c752",
   "metadata": {},
   "source": [
    "#### Load model configurations and similarity matrices"
   ]
  },
  {
   "cell_type": "code",
   "execution_count": null,
   "id": "2417f211-e054-48e0-bac8-a08751a339fd",
   "metadata": {},
   "outputs": [],
   "source": [
    "model_configs, allowed_models = load_model_configs_and_allowed_models(\n",
    "    path=model_config_file,\n",
    "    exclude_models=[],\n",
    "    exclude_alignment=True,\n",
    ")"
   ]
  },
  {
   "cell_type": "code",
   "execution_count": null,
   "id": "c2b332a5-026e-4f33-aacc-ff43051c2ca2",
   "metadata": {},
   "outputs": [],
   "source": [
    "def get_model_sets(model_configs, mode_set_pair):\n",
    "    \"\"\"\n",
    "    Extract model IDs (indices) for each model set based on specified criteria.\n",
    "    \n",
    "    Parameters:\n",
    "    -----------\n",
    "    model_configs : pd.DataFrame\n",
    "        DataFrame containing model configurations with model characteristics\n",
    "    mode_set_pair : tuple of lists\n",
    "        Tuple containing two lists, each specifying selection criteria for a model set\n",
    "        Each list can contain tuples of (column_name, value) for filtering\n",
    "    \n",
    "    Returns:\n",
    "    --------\n",
    "    tuple\n",
    "        Tuple of two sets containing model IDs (indices) for each model set\n",
    "    \"\"\"\n",
    "    model_sets = []\n",
    "    \n",
    "    # Process each model set criteria\n",
    "    for criteria_list in mode_set_pair:\n",
    "        # Start with all model indices\n",
    "        current_set = set()\n",
    "        \n",
    "        # Apply each criterion\n",
    "        for update_type, column, value in criteria_list:\n",
    "            # Filter models that match the current criterion\n",
    "            if column == 'index':\n",
    "                if value not in model_configs.index:\n",
    "                    raise ValueError(f\"Value not in `model_configs.index`. Passed (column, value) pair invalid!\")\n",
    "                matching_models = set([value])\n",
    "            else:\n",
    "                matching_models = set(model_configs[model_configs[column] == value].index)\n",
    "            if update_type == '+':\n",
    "                current_set.update(matching_models)\n",
    "            elif update_type == '-':\n",
    "                current_set -= matching_models\n",
    "            else:\n",
    "                raise ValueError(f'Unknown update type {update_type}. Allowed values [\"+\", \"-\"]')\n",
    "                \n",
    "            \n",
    "        model_sets.append(current_set)\n",
    "    if any([len(m_set)<=0 for m_set in model_sets]):\n",
    "        raise ValuesError('For current model set pair configuration no models have been found!')\n",
    "    \n",
    "    return tuple(model_sets)\n",
    "\n",
    "\n",
    "def get_model_combinations(model_sets):\n",
    "    \"\"\"\n",
    "    Generate all possible combinations of models between two model sets.\n",
    "    \"\"\"\n",
    "    set1, set2 = model_sets\n",
    "    combinations = list(set([tuple(sorted([model1, model2])) for model1 in set1 for model2 in set2 if model1!=model2]))\n",
    "    return combinations"
   ]
  },
  {
   "cell_type": "code",
   "execution_count": null,
   "id": "84620b12-e778-44fe-a255-0fd8aa3b8a62",
   "metadata": {},
   "outputs": [],
   "source": [
    "model_sets = get_model_sets(model_configs, curr_mode_set_pair)\n",
    "allowed_model_combinations = get_model_combinations(model_sets)"
   ]
  },
  {
   "cell_type": "code",
   "execution_count": null,
   "id": "026967be-eb40-47c5-9390-d0710a07ce64",
   "metadata": {},
   "outputs": [],
   "source": [
    "len(allowed_model_combinations)"
   ]
  },
  {
   "cell_type": "code",
   "execution_count": null,
   "id": "f3a78305-28c6-4f7c-aee9-cdd4f09c795f",
   "metadata": {},
   "outputs": [],
   "source": [
    "sim_mats = load_similarity_matrices(\n",
    "    path=base_path_similarity_matrices,\n",
    "    ds_list=ds_list,\n",
    "    sim_metrics=sim_metrics,\n",
    "    allowed_models=allowed_models,\n",
    ")\n",
    "sim_mats = {sim_metric_name_mapping[k]: v for k, v in sim_mats.items()}\n",
    "sim_mats.keys()"
   ]
  },
  {
   "cell_type": "markdown",
   "id": "2cc8c01d7d56ddb3",
   "metadata": {},
   "source": [
    "#### Helper functions"
   ]
  },
  {
   "cell_type": "code",
   "execution_count": null,
   "id": "1576ae29-6514-41d5-9234-97282cca18cc",
   "metadata": {},
   "outputs": [],
   "source": [
    "def get_sim_data(category, sim_metric):\n",
    "    cat_groups = model_configs.reset_index(names=['mid']).groupby(category)['mid'].unique()\n",
    "    cat_groups.index = [cat_name_mapping[x] for x in cat_groups.index]\n",
    "    sim_metric_mats = sim_mats[sim_metric]\n",
    "    return cat_groups, sim_metric_mats\n",
    "\n",
    "\n",
    "def process_sim_mat(ds, sim_mat):\n",
    "    indx_i, indx_j = np.triu_indices(n=len(sim_mat), k=1)\n",
    "    flat_sim_mat = pd.DataFrame(\n",
    "        {'Similarity value': sim_mat.values[indx_i, indx_j],\n",
    "         'Model 1': sim_mat.index.values[indx_i],\n",
    "         'Model 2': sim_mat.columns.values[indx_j]\n",
    "         })\n",
    "    flat_sim_mat['DS'] = ds\n",
    "    return flat_sim_mat\n",
    "\n",
    "\n",
    "def r_coeff(df, ds1, ds2, corr_type):\n",
    "    x = df[df['DS'] == ds1]['Similarity value']\n",
    "    y = df[df['DS'] == ds2]['Similarity value']\n",
    "    if 'pearsonr' == corr_type:\n",
    "        corr, _ = pearsonr(x, y)\n",
    "    elif 'spearmanr' == corr_type:\n",
    "        corr, _ = spearmanr(x, y)\n",
    "    else:\n",
    "        raise ValueError(f'Unknown {corr_type=}! Need to select pearsonr or spearmanr r_corr in corr_type.')\n",
    "    return corr\n",
    "\n",
    "\n",
    "def get_r_coeff_df(sim_metric_mats, corr_type, allowed_model_combinations):\n",
    "    pp_mats = []\n",
    "    for ds, sim_mat in sim_metric_mats.items():\n",
    "        pp_mats.append(process_sim_mat(ds, sim_mat))\n",
    "    pp_mats = pd.concat(pp_mats).reset_index(drop=True)\n",
    "    \n",
    "    pp_mats['Model pair'] = pp_mats[['Model 1', 'Model 2']].apply(lambda x: tuple(sorted([x['Model 1'], x['Model 2']])), axis=1)\n",
    "    \n",
    "    pp_mats = pp_mats[pp_mats['Model pair'].isin(allowed_model_combinations)].reset_index(drop=True)\n",
    "\n",
    "    combs = list(combinations(list(pp_mats['DS'].unique()), 2))\n",
    "    r_coeffs = []\n",
    "    for ds1, ds2 in combs:\n",
    "        subset_ds = pp_mats[pp_mats['DS'].isin([ds1, ds2])]\n",
    "        r_coeffs.append({\n",
    "            'ds1': ds1,\n",
    "            'ds2': ds2,\n",
    "            'r coeff': r_coeff(subset_ds, ds1, ds2, corr_type),\n",
    "            })\n",
    "    df_r_coeffs = pd.DataFrame(r_coeffs)\n",
    "    return df_r_coeffs\n",
    "    "
   ]
  },
  {
   "cell_type": "markdown",
   "id": "f0289fbdebe8e001",
   "metadata": {},
   "source": [
    "### Aggregating r-coefficients for model set pairs across datasets and similarity metrics"
   ]
  },
  {
   "cell_type": "code",
   "execution_count": null,
   "id": "d0976bf0-693b-4892-891f-58c1a3d45c78",
   "metadata": {},
   "outputs": [],
   "source": [
    "for corr_type, sim_metric in product(['pearsonr', 'spearmanr'], list(sim_mats.keys())):\n",
    "    sim_metric_mats = sim_mats[sim_metric]\n",
    "    df_r_coeffs = get_r_coeff_df(sim_metric_mats, corr_type, allowed_model_combinations)\n",
    "\n",
    "    print(corr_type, sim_metric)\n",
    "    print(df_r_coeffs['r coeff'].describe())\n",
    "    print()"
   ]
  }
 ],
 "metadata": {
  "kernelspec": {
   "display_name": "Python 3 (ipykernel)",
   "language": "python",
   "name": "python3"
  },
  "language_info": {
   "codemirror_mode": {
    "name": "ipython",
    "version": 3
   },
   "file_extension": ".py",
   "mimetype": "text/x-python",
   "name": "python",
   "nbconvert_exporter": "python",
   "pygments_lexer": "ipython3",
   "version": "3.10.13"
  }
 },
 "nbformat": 4,
 "nbformat_minor": 5
}

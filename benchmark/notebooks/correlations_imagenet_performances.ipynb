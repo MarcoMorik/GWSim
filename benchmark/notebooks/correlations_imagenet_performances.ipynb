{
 "cells": [
  {
   "cell_type": "code",
   "execution_count": null,
   "id": "bc997c4e-ed4e-4fea-b7ec-5387a0777ac1",
   "metadata": {},
   "outputs": [],
   "source": [
    "import json\n",
    "from pathlib import Path\n",
    "\n",
    "import matplotlib.pyplot as plt\n",
    "import numpy as np\n",
    "import pandas as pd\n",
    "import plotly.express as px\n",
    "import plotly.io as pio\n",
    "import seaborn as sns\n",
    "\n",
    "from constants import similarity_metrics"
   ]
  },
  {
   "cell_type": "code",
   "execution_count": null,
   "id": "15416d68-4aea-4fa8-9977-750ed7485030",
   "metadata": {},
   "outputs": [],
   "source": [
    "num_clusters = 7\n",
    "# similarity_metric = similarity_metrics[-2]\n",
    "similarity_metric = similarity_metrics[2]\n",
    "\n",
    "suffix = '_w_wd'"
   ]
  },
  {
   "cell_type": "code",
   "execution_count": null,
   "id": "27c6d428-0067-41b0-8dd6-8beb2217aeee",
   "metadata": {},
   "outputs": [],
   "source": [
    "storing_path = Path(\n",
    "    f'/home/space/diverse_priors/results/plots/single_models{suffix}/{similarity_metric}/num_clusters_{num_clusters}/cluster_qr')\n",
    "SAVE = True\n",
    "if SAVE:\n",
    "    storing_path.mkdir(parents=True, exist_ok=True)"
   ]
  },
  {
   "cell_type": "code",
   "execution_count": null,
   "id": "8f61745d-5915-48cb-aa2f-7a5e49f32bc5",
   "metadata": {},
   "outputs": [],
   "source": [
    "base_path_perf = Path(\n",
    "    f'/home/lciernik/projects/divers-priors/diverse_priors/benchmark/scripts/test_results/max_performance_per_model{suffix}')\n",
    "\n",
    "all_series = {}\n",
    "for path in base_path_perf.glob('max_performance_per_model_*.json'):\n",
    "    ds = path.stem.split('max_performance_per_model_')[1]\n",
    "    with open(path, 'r') as f:\n",
    "        res_dict = json.load(f)\n",
    "    all_series[ds] = pd.Series(res_dict)"
   ]
  },
  {
   "cell_type": "code",
   "execution_count": null,
   "id": "1eabad16-cc28-4026-916b-a3fe50b28c8a",
   "metadata": {},
   "outputs": [],
   "source": [
    "df = pd.DataFrame(all_series)\n",
    "df.head()"
   ]
  },
  {
   "cell_type": "code",
   "execution_count": null,
   "id": "659da075-31e1-42e6-8ac1-0b8544a75504",
   "metadata": {},
   "outputs": [],
   "source": [
    "path_clustering = Path(\n",
    "    f'/home/space/diverse_priors/clustering/imagenet-subset-10k/{similarity_metric}/num_clusters_{num_clusters}/cluster_qr/cluster_labels.csv')\n",
    "clustering = pd.read_csv(path_clustering)\n",
    "clustering.set_index('model_id', inplace=True)\n",
    "clustering.index.name = 'models'\n",
    "clustering.drop(columns=['Unnamed: 0'], inplace=True)"
   ]
  },
  {
   "cell_type": "code",
   "execution_count": null,
   "id": "099158d3-4ee8-422a-b8be-2d0739369426",
   "metadata": {},
   "outputs": [],
   "source": [
    "df['cluster'] = clustering.astype('category')"
   ]
  },
  {
   "cell_type": "code",
   "execution_count": null,
   "id": "94cc085b-8110-47b9-b8aa-22d20eb95524",
   "metadata": {},
   "outputs": [],
   "source": [
    "df = df.reset_index(names='models')"
   ]
  },
  {
   "cell_type": "code",
   "execution_count": null,
   "id": "cc7d7b47-d81d-40d1-b4ff-91120cfeda1b",
   "metadata": {},
   "outputs": [],
   "source": [
    "col_oders = [\n",
    "    'models', 'cluster', 'wds_imagenet1k',\n",
    "    # 'wds_imagenet-a'     , 'wds_imagenet-r'  , 'wds_imagenet_sketch', 'wds_imagenetv2',\n",
    "    'cifar100-coarse', 'entity13', 'entity30', 'living17',\n",
    "    'nonliving26', 'wds_cars', 'wds_country211', 'wds_fer2013',\n",
    "    'wds_fgvc_aircraft', 'wds_gtsrb', 'wds_stl10', 'wds_voc2007',\n",
    "    'wds_vtab_caltech101', 'wds_vtab_cifar10', 'wds_vtab_cifar100', 'wds_vtab_diabetic_retinopathy',\n",
    "    'wds_vtab_dmlab', 'wds_vtab_dtd', 'wds_vtab_eurosat', 'wds_vtab_flowers',\n",
    "    'wds_vtab_pcam', 'wds_vtab_pets', 'wds_vtab_resisc45', 'wds_vtab_svhn'\n",
    "]\n",
    "df = df[col_oders].copy()\n",
    "df = df[~df['cluster'].isna()].reset_index(drop=True).copy()"
   ]
  },
  {
   "cell_type": "code",
   "execution_count": null,
   "id": "ffa73908-a976-478b-910f-2e6c0409c1e5",
   "metadata": {},
   "outputs": [],
   "source": [
    "df.sort_values('wds_imagenet1k', ascending=True).head(5)"
   ]
  },
  {
   "cell_type": "code",
   "execution_count": null,
   "id": "71981564-4ef4-4e1b-b3a4-406d536592e0",
   "metadata": {},
   "outputs": [],
   "source": [
    "r_values = {}\n",
    "for col in col_oders[3:]:\n",
    "    subset = df[['wds_imagenet1k', col]].copy()\n",
    "    subset = subset[~subset[col].isna()]\n",
    "    r = np.corrcoef(subset['wds_imagenet1k'], subset[col])[0, 1]\n",
    "    r_values[col] = r"
   ]
  },
  {
   "cell_type": "code",
   "execution_count": null,
   "id": "ab07f868-ea44-4797-8528-508b5b1b8c5a",
   "metadata": {},
   "outputs": [],
   "source": [
    "df_melted = pd.melt(df,\n",
    "                    id_vars=['models', 'cluster', 'wds_imagenet1k'],\n",
    "                    var_name='Dataset',\n",
    "                    value_name='Top-1 Acc of dataset')"
   ]
  },
  {
   "cell_type": "code",
   "execution_count": null,
   "id": "da9a1752-47cf-4dda-8567-d869921f0217",
   "metadata": {},
   "outputs": [],
   "source": [
    "x_col = \"Top-1 Acc of dataset\"\n",
    "y_col = \"wds_imagenet1k\"\n",
    "split_col = \"Dataset\"\n",
    "hue_col = 'cluster'\n",
    "g = sns.relplot(data=df_melted, y=y_col, x=x_col, hue=hue_col, col=split_col, col_wrap=4, height=3, aspect=1,\n",
    "                facet_kws={'sharex': False, 'sharey': True})\n",
    "\n",
    "g.set_axis_labels(x_col, \"ImageNet1k Top-1 Val Acc\")\n",
    "g.set_titles(\"Dataset: {col_name}\", fontsize=16)\n",
    "\n",
    "\n",
    "def annotate(data, **kws):\n",
    "    r = r_values[data[split_col].unique()[0]]\n",
    "    ax = plt.gca()\n",
    "    # ax.text(.05, .95, f'r = {r:.2f}', transform=ax.transAxes, \n",
    "    ax.text(.7, .1, f'r = {r:.2f}', transform=ax.transAxes,\n",
    "            fontsize=12, verticalalignment='top')\n",
    "\n",
    "\n",
    "g.map_dataframe(annotate);\n",
    "\n",
    "if SAVE:\n",
    "    plt.savefig(storing_path / f'scatter_in1k_vs_all_ds.pdf', bbox_inches='tight')\n",
    "    plt.savefig(storing_path / f'scatter_in1k_vs_all_ds.png', bbox_inches='tight')"
   ]
  },
  {
   "cell_type": "code",
   "execution_count": null,
   "id": "762003f8-2009-40c6-87e6-72adc0f761d9",
   "metadata": {},
   "outputs": [],
   "source": [
    "pio.renderers.default = 'iframe'\n",
    "\n",
    "x_col = \"Top-1 Acc of dataset\"\n",
    "y_col = \"wds_imagenet1k\"\n",
    "split_col = \"Dataset\"\n",
    "hue_col = 'cluster'\n",
    "\n",
    "# Create the Plotly express scatter plot\n",
    "fig = px.scatter(\n",
    "    df_melted,\n",
    "    x=x_col,\n",
    "    y=y_col,\n",
    "    color=hue_col,\n",
    "    facet_col=split_col,\n",
    "    facet_col_wrap=4,\n",
    "    hover_data=['models'],\n",
    "    width=1200,\n",
    "    height=1750\n",
    ")\n",
    "fig.update_xaxes(matches=None, showticklabels=True)\n",
    "fig.update_yaxes(matches=None, showticklabels=True)\n",
    "\n",
    "for i, annotation in enumerate(fig.layout.annotations):\n",
    "    ds = annotation.text.split('=')[1]\n",
    "    r = r_values[ds]\n",
    "    subset = df_melted[df_melted[split_col] == ds]\n",
    "    x_ax_min, x_ax_max = subset[x_col].min(), subset[x_col].max()\n",
    "    y_ax_min, y_ax_max = subset[y_col].min(), subset[y_col].max()\n",
    "    x = x_ax_min + 0.1 * (x_ax_max - x_ax_min)\n",
    "    y = y_ax_min + 0.9 * (y_ax_max - y_ax_min)\n",
    "\n",
    "    xref = f\"x{i + 1}\"\n",
    "    yref = f\"y{i + 1}\"\n",
    "\n",
    "    fig.add_annotation(\n",
    "        x=x,\n",
    "        y=y,\n",
    "        xref=xref,\n",
    "        yref=yref,\n",
    "        text=f'r = {r:.3f}',\n",
    "        showarrow=False,\n",
    "        xanchor='center',\n",
    "        yanchor='bottom',\n",
    "    )\n",
    "\n",
    "# Save the figure as an HTML file\n",
    "if SAVE:\n",
    "    fig_html = storing_path / \"scatter_in1k_vs_all_ds.html\"\n",
    "    pio.write_html(fig, file=fig_html, auto_open=True)\n",
    "fig.show()"
   ]
  },
  {
   "cell_type": "code",
   "execution_count": null,
   "id": "fb1a6e59-469a-4f03-8355-096903c1e5d0",
   "metadata": {},
   "outputs": [],
   "source": [
    "raise ValueError()"
   ]
  },
  {
   "cell_type": "code",
   "execution_count": null,
   "id": "5cebd979-a742-49b1-89b1-7f40ea77b09f",
   "metadata": {},
   "outputs": [],
   "source": [
    "pio.renderers.default = 'iframe'\n",
    "\n",
    "# Create the Plotly express scatter plot\n",
    "fig = px.scatter(tmp, x=\"Top-1 Acc\", y=\"wds_imagenet1k\", facet_col=\"OOD Dataset\", facet_col_wrap=4,\n",
    "                 hover_data=['models'])\n",
    "\n",
    "for i, ood_dataset in enumerate(tmp['OOD Dataset'].unique()):\n",
    "    subset = tmp[tmp['OOD Dataset'] == ood_dataset]\n",
    "    corr = np.corrcoef(subset['Top-1 Acc'], subset['wds_imagenet1k'])[0, 1]\n",
    "\n",
    "    # Determine the domain for the current facet\n",
    "    col_num = i + 1\n",
    "    xref = f\"x{col_num}\" if col_num > 1 else \"x\"\n",
    "    yref = f\"y{col_num}\" if col_num > 1 else \"y\"\n",
    "\n",
    "    fig.add_annotation(\n",
    "        x=0.2,\n",
    "        y=0.9,\n",
    "        xref=f\"{xref} domain\",\n",
    "        yref=f\"{yref} domain\",\n",
    "        xanchor='center',\n",
    "        yanchor='bottom',\n",
    "        text=f'r = {corr:.2f}',\n",
    "        showarrow=False,\n",
    "        font=dict(size=12)\n",
    "    )\n",
    "\n",
    "# Save the figure as an HTML file\n",
    "fig_html = storing_path / \"scatter_in1k_vs_ood.html\"\n",
    "pio.write_html(fig, file=fig_html, auto_open=True)\n",
    "\n",
    "fig.show()\n"
   ]
  }
 ],
 "metadata": {
  "kernelspec": {
   "display_name": "Python 3 (ipykernel)",
   "language": "python",
   "name": "python3"
  },
  "language_info": {
   "codemirror_mode": {
    "name": "ipython",
    "version": 3
   },
   "file_extension": ".py",
   "mimetype": "text/x-python",
   "name": "python",
   "nbconvert_exporter": "python",
   "pygments_lexer": "ipython3",
   "version": "3.9.17"
  }
 },
 "nbformat": 4,
 "nbformat_minor": 5
}

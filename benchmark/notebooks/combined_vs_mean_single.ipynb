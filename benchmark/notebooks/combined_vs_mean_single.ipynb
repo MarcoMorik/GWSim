{
 "cells": [
  {
   "cell_type": "code",
   "execution_count": 1,
   "id": "23e69864-6893-4865-b102-a51913a3aa32",
   "metadata": {},
   "outputs": [],
   "source": [
    "import sys\n",
    "import pandas as pd\n",
    "import numpy as np\n",
    "from pathlib import Path\n",
    "import seaborn as sns\n",
    "import matplotlib.pyplot as plt\n",
    "\n",
    "from helper import save_or_show\n",
    "\n",
    "sys.path.append('..')\n",
    "from scripts.helper import parse_datasets"
   ]
  },
  {
   "cell_type": "code",
   "execution_count": 2,
   "id": "d66f632a-d0f2-438a-9b46-e1366cdb8437",
   "metadata": {},
   "outputs": [],
   "source": [
    "SAVE = True\n",
    "storing_path = Path('/home/space/diverse_priors/results/plots/combined_vs_mean_single')\n",
    "\n",
    "combined = True\n",
    "suffix = 'combined_concat' if combined else 'ensemble'"
   ]
  },
  {
   "cell_type": "code",
   "execution_count": 3,
   "id": "5207cde6-637a-46a1-8feb-b5f9df463e03",
   "metadata": {},
   "outputs": [],
   "source": [
    "datasets = \"../scripts/webdatasets_wo_imagenet.txt\"\n",
    "datasets = parse_datasets(datasets)\n",
    "datasets = map(lambda ds: ds.replace('/', '_'), datasets)\n",
    "datasets = sorted(list(datasets))\n",
    "ncols = 4 \n",
    "nrows = len(datasets) // 4"
   ]
  },
  {
   "cell_type": "code",
   "execution_count": 4,
   "id": "93df0b2b-d056-4040-8478-ba32a9e0e7fa",
   "metadata": {},
   "outputs": [],
   "source": [
    "def get_data_combined(ds, combined=True):\n",
    "    sm = pd.read_pickle(f'/home/space/diverse_priors/results/aggregated/{ds}/single_model/results_hp_size_imagenet1k.pkl')\n",
    "    if combined:\n",
    "        cm = pd.read_pickle(f'/home/space/diverse_priors/results/aggregated/{ds}/combined_models_concat/results_hp_size_imagenet1k.pkl')\n",
    "    else:\n",
    "        cm = pd.read_pickle(f'/home/space/diverse_priors/results/aggregated/{ds}/ensemble/results_hp_size_imagenet1k.pkl')\n",
    "\n",
    "    # Only look at weight_decay and seed 0 \n",
    "    sm = sm[(sm['regularization'] == 'weight_decay') & (sm['seed'] == 0)].copy().reset_index(drop=True)\n",
    "    cm = cm[(cm['regularization'] == 'weight_decay') & (cm['seed'] == 0)].copy().reset_index(drop=True)\n",
    "\n",
    "    # Only look at unique modelsets:\n",
    "    cm = cm[~cm['model_ids'].duplicated()].copy().reset_index(drop=True)\n",
    "\n",
    "    # pp single models\n",
    "    sm['single_model'] = sm['model_ids'].apply(lambda x: x[0])\n",
    "    sm = sm.set_index('single_model')\n",
    "\n",
    "    res = []\n",
    "    for idx, row in cm.iterrows():\n",
    "        modelset = row['model_ids']\n",
    "        mean_modelset_perf = np.mean(list(map(lambda x: sm.loc[x, 'test_lp_acc1'], modelset)))\n",
    "    \n",
    "        res.append({\n",
    "            'modelset': modelset,\n",
    "            'mean_modelset_perf': mean_modelset_perf,\n",
    "            'modelset_perf': row['test_lp_acc1'],\n",
    "            'n_models': len(modelset),\n",
    "            'dataset': ds,\n",
    "        })\n",
    "    res = pd.DataFrame(res)\n",
    "    res['n_models'] = res['n_models'].astype('category') \n",
    "    return res"
   ]
  },
  {
   "cell_type": "code",
   "execution_count": 5,
   "id": "9bdb3ecb-fd3d-49fe-a2e9-e25e0db017e7",
   "metadata": {},
   "outputs": [],
   "source": [
    "def plot_one_facet(res, ax, show_xlbl=True, show_ylbl=True):\n",
    "    sns.scatterplot(\n",
    "       res,\n",
    "       x='mean_modelset_perf',\n",
    "       y='modelset_perf',\n",
    "       hue = 'n_models', \n",
    "        ax = ax\n",
    "    )\n",
    "    vmin = res.min(numeric_only=True).min()\n",
    "    vmax = res.max(numeric_only=True).max()\n",
    "    x = np.linspace(vmin, vmax, 20)\n",
    "    ax.plot(x,x, c='grey', ls=':', alpha=0.5, zorder=-1)\n",
    "    \n",
    "    bad_perf = res[(res['modelset_perf'] - res['mean_modelset_perf'])<0]\n",
    "    if len(bad_perf)>0:\n",
    "        print(bad_perf['dataset'].unique()[0])\n",
    "        for idx, row in bad_perf.iterrows():\n",
    "            print(f\"modelset={row['modelset']}, mean_single={round(row['mean_modelset_perf'], 3)}, combined={round(row['modelset_perf'],3)}\")\n",
    "        print('\\n\\n')\n",
    "    # for idx, row in bad_perf.iterrows():\n",
    "    #     txt = 'models:\\n' + \"\\n\".join(row[\"modelset\"])\n",
    "    #     ax.text(row['mean_modelset_perf'], row['modelset_perf'], \n",
    "    #            txt, \n",
    "    #            fontsize=8, verticalalignment='top')\n",
    "    ax.set_xlabel('Mean acc. single models' if show_xlbl else '');\n",
    "    ax.set_ylabel('Acc. combined models' if show_ylbl else '');\n",
    "    \n",
    "    ax.set_title(ds);"
   ]
  },
  {
   "cell_type": "code",
   "execution_count": 6,
   "id": "dbf92784-989a-47e2-9a39-015929d3bae7",
   "metadata": {},
   "outputs": [],
   "source": [
    "data_per_ds = {}\n",
    "for ds in datasets:\n",
    "    data_per_ds[ds] = get_data_combined(ds, combined = True)"
   ]
  },
  {
   "cell_type": "code",
   "execution_count": null,
   "id": "62c65e36-f384-401d-a383-a2aa28c5521c",
   "metadata": {},
   "outputs": [
    {
     "name": "stdout",
     "output_type": "stream",
     "text": [
      "entity13\n",
      "modelset=('OpenCLIP_ViT-L-14_laion400m_e32', 'beit_large_patch16_224', 'dino-vit-base-p16_gLocal', 'efficientnet_b6', 'mae-vit-huge-p14', 'swin_base_patch4_window7_224', 'vgg19'), mean_single=0.701, combined=0.691\n",
      "modelset=('OpenCLIP_ViT-L-14_laion400m_e32_gLocal', 'beit_base_patch16_224', 'efficientnet_b7', 'mae-vit-huge-p14'), mean_single=0.699, combined=0.69\n",
      "modelset=('dino-vit-base-p16_gLocal', 'mae-vit-huge-p14', 'seresnet50', 'vgg16'), mean_single=0.701, combined=0.694\n",
      "modelset=('beit_base_patch16_224.in22k_ft_in22k', 'efficientnet_b3', 'vgg19'), mean_single=0.664, combined=0.656\n",
      "modelset=('beit_large_patch16_224.in22k_ft_in22k', 'dino-vit-base-p16_gLocal', 'efficientnet_b6'), mean_single=0.651, combined=0.575\n",
      "modelset=('OpenCLIP_ViT-B-16_openai', 'mae-vit-huge-p14', 'resnet152'), mean_single=0.715, combined=0.711\n",
      "modelset=('beit_base_patch16_224.in22k_ft_in22k', 'efficientnet_b7', 'vit_base_patch16_224.augreg_in21k'), mean_single=0.667, combined=0.644\n",
      "modelset=('OpenCLIP_EVA02-L-14_merged2b_s4b_b131k', 'beit_large_patch16_224', 'swin_base_patch4_window7_224'), mean_single=0.758, combined=0.754\n",
      "modelset=('dino-vit-base-p16_gLocal', 'efficientnet_b6', 'mae-vit-large-p16'), mean_single=0.659, combined=0.634\n",
      "\n",
      "\n",
      "\n",
      "entity30\n",
      "modelset=('beit_large_patch16_224.in22k_ft_in22k', 'dino-vit-base-p16_gLocal', 'efficientnet_b6'), mean_single=0.633, combined=0.616\n",
      "modelset=('beit_base_patch16_224.in22k_ft_in22k', 'efficientnet_b7', 'vit_base_patch16_224.augreg_in21k'), mean_single=0.663, combined=0.636\n",
      "modelset=('dino-vit-base-p16_gLocal', 'efficientnet_b6', 'mae-vit-large-p16'), mean_single=0.64, combined=0.623\n",
      "\n",
      "\n",
      "\n",
      "living17\n",
      "modelset=('OpenCLIP_EVA01-g-14-plus_merged2b_s11b_b114k', 'OpenCLIP_EVA02-L-14_merged2b_s4b_b131k', 'convnext_large', 'deit3_large_patch16_224.fb_in22k_ft_in1k'), mean_single=0.942, combined=0.931\n",
      "modelset=('OpenCLIP_ViT-B-16-SigLIP_webli', 'beit_base_patch16_224.in22k_ft_in22k', 'deit3_large_patch16_224.fb_in22k_ft_in1k', 'efficientnet_b7'), mean_single=0.904, combined=0.898\n",
      "modelset=('OpenCLIP_EVA01-g-14-plus_merged2b_s11b_b114k', 'OpenCLIP_EVA02-L-14_merged2b_s4b_b131k', 'convnext_large', 'deit3_large_patch16_224.fb_in22k_ft_in1k', 'swin_large_patch4_window7_224'), mean_single=0.942, combined=0.926\n",
      "\n",
      "\n",
      "\n",
      "nonliving26\n",
      "modelset=('beit_large_patch16_224', 'swin_base_patch4_window7_224', 'vit_large_patch14_clip_224.laion2b'), mean_single=0.649, combined=0.635\n",
      "modelset=('beit_base_patch16_224.in22k_ft_in22k', 'efficientnet_b7', 'vit_base_patch16_224.augreg_in21k'), mean_single=0.626, combined=0.613\n",
      "\n",
      "\n",
      "\n"
     ]
    }
   ],
   "source": [
    "fig, axes = plt.subplots(nrows=nrows, ncols=ncols, figsize=(5*ncols, 5*nrows))\n",
    "for i, (ds, res_data) in enumerate(data_per_ds.items()):\n",
    "    ax = axes.flatten()[i]\n",
    "    plot_one_facet(res_data, ax)\n",
    "fig.tight_layout()\n",
    "\n",
    "save_or_show(fig, storing_path / f'{suffix}.pdf', SAVE)"
   ]
  }
 ],
 "metadata": {
  "kernelspec": {
   "display_name": "Python 3 (ipykernel)",
   "language": "python",
   "name": "python3"
  },
  "language_info": {
   "codemirror_mode": {
    "name": "ipython",
    "version": 3
   },
   "file_extension": ".py",
   "mimetype": "text/x-python",
   "name": "python",
   "nbconvert_exporter": "python",
   "pygments_lexer": "ipython3",
   "version": "3.9.17"
  }
 },
 "nbformat": 4,
 "nbformat_minor": 5
}

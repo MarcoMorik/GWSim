{
 "cells": [
  {
   "cell_type": "code",
   "execution_count": null,
   "id": "381a5a4a-0c91-4af4-94f2-c69af7ea9bbe",
   "metadata": {},
   "outputs": [],
   "source": [
    "import os\n",
    "import json \n",
    "import pandas as pd\n",
    "import sys\n",
    "from itertools import product\n",
    "from tqdm.notebook import tqdm\n",
    "\n",
    "from clip_benchmark.utils.utils import retrieve_model_dataset_results\n",
    "\n",
    "sys.path.append('..')\n",
    "from scripts.helper import load_models, get_hyperparams, parse_datasets"
   ]
  },
  {
   "cell_type": "code",
   "execution_count": null,
   "id": "a2c39ea7-903e-4905-a3a5-0dbcbec6ee1e",
   "metadata": {},
   "outputs": [],
   "source": [
    "datasets = \"../scripts/webdatasets_wo_imagenet.txt\"\n",
    "model_config = \"../scripts/filtered_models_config.json\"\n",
    "anchor_model = \"OpenCLIP_ViT-L-14_openai\"\n",
    "# anchor_model = \"resnet50\"\n",
    "combiner='concat'\n",
    "\n",
    "single_path = '/home/space/diverse_priors/results/linear_probe/single_model'\n",
    "ensemble_path = '/home/space/diverse_priors/results/linear_probe/ensemble'\n",
    "combined_path = '/home/space/diverse_priors/results/linear_probe/combined_models'"
   ]
  },
  {
   "cell_type": "code",
   "execution_count": null,
   "id": "04c7c507-535e-45ef-810c-a93fcedc29b8",
   "metadata": {},
   "outputs": [],
   "source": [
    "datasets = parse_datasets(datasets)\n",
    "datasets = [ds.replace('/', '_') for ds in datasets]"
   ]
  },
  {
   "cell_type": "code",
   "execution_count": null,
   "id": "8014745c-17d6-4360-8815-6d9c7ea8638f",
   "metadata": {},
   "outputs": [],
   "source": [
    "models, n_models = load_models(model_config)\n",
    "    \n",
    "assert anchor_model in models.keys(), f\"Model in {anchor_model} not available in {MODELS_CONFIG=}.\"\n",
    "models.pop(anchor_model)\n",
    "\n",
    "if 'SegmentAnything_vit_b' in models.keys():\n",
    "    models.pop('SegmentAnything_vit_b')\n",
    "\n",
    "model_keys = [sorted([anchor_model, val]) for val in models.keys()]"
   ]
  },
  {
   "cell_type": "code",
   "execution_count": null,
   "id": "79ed5adf-5fc0-466e-a51d-437e579a388d",
   "metadata": {},
   "outputs": [],
   "source": [
    "dfs = []\n",
    "for ds, (m1, m2) in tqdm(product(datasets, model_keys), total=len(datasets)*len(model_keys), desc=f\"Loading combined ({combiner}) results\"):\n",
    "    model_id = f\"{m1}__{m2}_{combiner}\" \n",
    "    curr_path = os.path.join(combined_path, ds, model_id)\n",
    "    try:\n",
    "        df = retrieve_model_dataset_results(curr_path, allow_db_results=False)\n",
    "    except FileNotFoundError as e:\n",
    "        print(e)\n",
    "        print(f\"No results found for dataset={ds} and {model_id=}!\")\n",
    "        continue\n",
    "    dfs.append(df)\n",
    "\n",
    "for ds, (m1, m2) in tqdm(product(datasets, model_keys), total=len(datasets)*len(model_keys), desc=\"Loading ensemble results\"):\n",
    "    model_id = f\"{m1}__{m2}\" \n",
    "    curr_path = os.path.join(ensemble_path, ds, model_id)\n",
    "    try:\n",
    "        df = retrieve_model_dataset_results(curr_path, allow_db_results=False)\n",
    "    except FileNotFoundError as e:\n",
    "        print(e)\n",
    "        print(f\"No results found for dataset={ds} and {model_id=}!\")\n",
    "        continue\n",
    "    dfs.append(df)\n",
    "\n",
    "for ds in tqdm(datasets, desc=f\"Loading {anchor_model} results\"):\n",
    "    curr_path = os.path.join(single_path, ds, anchor_model)\n",
    "    try:\n",
    "        df = retrieve_model_dataset_results(curr_path, allow_db_results=False)\n",
    "    except FileNotFoundError as e:\n",
    "        print(e)\n",
    "        print(f\"No results found for dataset={ds} and {model_id=}!\")\n",
    "        continue\n",
    "    dfs.append(df)\n",
    "    \n",
    "df = pd.concat(dfs, axis=0)"
   ]
  },
  {
   "cell_type": "code",
   "execution_count": null,
   "id": "ccddc8fd-7924-42cf-bf5d-bddaa82dc4ab",
   "metadata": {},
   "outputs": [],
   "source": [
    "hyper_params, _ = get_hyperparams(num_seeds=3, size='imagenet1k')\n",
    "_ = hyper_params.pop('fewshot_lrs')\n",
    "_ = hyper_params.pop('reg_lambda')\n",
    "hyper_params[\"fewshot_k\"] = hyper_params.pop(\"fewshot_ks\")\n",
    "hyper_params[\"seed\"] = hyper_params.pop(\"seeds\")\n",
    "for k, v in hyper_params.items():\n",
    "    try:\n",
    "        hyper_params[k] = [float(x) for x in v]\n",
    "    except ValueError:\n",
    "        pass"
   ]
  },
  {
   "cell_type": "code",
   "execution_count": null,
   "id": "cea89b6e-25b0-48db-94b4-5a9776845d84",
   "metadata": {},
   "outputs": [],
   "source": [
    "for k, v in hyper_params.items():\n",
    "    df = df[df[k].isin(v)]"
   ]
  },
  {
   "cell_type": "code",
   "execution_count": null,
   "id": "17611ae0-e682-4229-b2ab-5d6586d0ea68",
   "metadata": {},
   "outputs": [],
   "source": [
    "df.to_pickle(f'/home/lciernik/projects/divers-priors/diverse_priors/benchmark/scripts/test_results/aggregated/anchor_{anchor_model}.pkl')"
   ]
  },
  {
   "cell_type": "code",
   "execution_count": null,
   "id": "c6e9108e-97bb-4aff-ba41-76c39504f290",
   "metadata": {},
   "outputs": [],
   "source": [
    "HYPER_PARAM_COLS = ['task', 'mode', 'combiner', 'dataset', 'model_ids', 'fewshot_k', 'fewshot_epochs', 'batch_size', 'regularization']"
   ]
  },
  {
   "cell_type": "code",
   "execution_count": null,
   "id": "a30496c6-b169-4ab3-b815-07cdac165570",
   "metadata": {},
   "outputs": [],
   "source": [
    "df['model_ids'] = df['model_ids'].apply(eval).apply(tuple)"
   ]
  },
  {
   "cell_type": "code",
   "execution_count": null,
   "id": "9fd82c5e-c9f5-4cf8-a07c-d87bc739f7e0",
   "metadata": {},
   "outputs": [],
   "source": [
    "df[['dataset', 'mode', 'regularization']].value_counts()"
   ]
  },
  {
   "cell_type": "code",
   "execution_count": null,
   "id": "83608a6a-d80e-400e-9d51-d804ffacd6a5",
   "metadata": {},
   "outputs": [],
   "source": [
    "df.groupby(HYPER_PARAM_COLS, dropna=False).test_lp_acc1.count().value_counts()"
   ]
  }
 ],
 "metadata": {
  "kernelspec": {
   "display_name": "Python 3 (ipykernel)",
   "language": "python",
   "name": "python3"
  },
  "language_info": {
   "codemirror_mode": {
    "name": "ipython",
    "version": 3
   },
   "file_extension": ".py",
   "mimetype": "text/x-python",
   "name": "python",
   "nbconvert_exporter": "python",
   "pygments_lexer": "ipython3",
   "version": "3.9.17"
  }
 },
 "nbformat": 4,
 "nbformat_minor": 5
}

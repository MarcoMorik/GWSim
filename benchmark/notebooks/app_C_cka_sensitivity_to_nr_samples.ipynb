{
 "cells": [
  {
   "metadata": {},
   "cell_type": "markdown",
   "source": "## Notebook appendix C: *CKA sensitivity to number of samples in dataset*",
   "id": "cc698773131c0734"
  },
  {
   "cell_type": "code",
   "execution_count": null,
   "id": "d4d93ca9-81a7-492d-90e7-b3bded7f6ea6",
   "metadata": {},
   "outputs": [],
   "source": [
    "import torch\n",
    "import pandas as pd\n",
    "import numpy as np\n",
    "from pathlib import Path\n",
    "\n",
    "import seaborn as sns\n",
    "import matplotlib\n",
    "import matplotlib.pyplot as plt\n",
    "\n",
    "from constants import sim_metric_name_mapping, fontsizes, BASE_PATH_PROJECT, BASE_PATH_RESULTS\n",
    "from helper import save_or_show, pp_storing_path"
   ]
  },
  {
   "cell_type": "code",
   "execution_count": null,
   "id": "3884568f-7576-4274-ad39-8310e11f2cea",
   "metadata": {},
   "outputs": [],
   "source": [
    "# Define datasets\n",
    "datasets = [f'imagenet-subset-{i}k' for i in [1,5,10,20,30,40]]\n",
    "model_sim_root_path = BASE_PATH_PROJECT/ 'model_similarities_old_model_set'\n",
    "model_sim_paths = [model_sim_root_path / dataset for dataset in datasets]\n",
    "if not all([path.exists() for path in model_sim_paths]):\n",
    "    raise FileNotFoundError(f\"Some experiment directory does not exist!\")"
   ]
  },
  {
   "cell_type": "code",
   "execution_count": null,
   "id": "a9a39100-3b15-4f88-8574-dbc5aadaf790",
   "metadata": {},
   "outputs": [],
   "source": [
    "SAVE = True\n",
    "storing_path = pp_storing_path(BASE_PATH_RESULTS / 'plots/nr_samples_for_cka_stability', SAVE)"
   ]
  },
  {
   "cell_type": "code",
   "execution_count": null,
   "id": "93d902a3-8e94-4281-8748-9387c87478eb",
   "metadata": {},
   "outputs": [],
   "source": [
    "name_mapping = {k:v for k,v in sim_metric_name_mapping.items() if 'cka' in k}\n",
    "\n",
    "name_mapping_ds = {\n",
    "    'imagenet-subset-1k': '1 sample per class', \n",
    "    'imagenet-subset-5k': '5 samples per class', \n",
    "    'imagenet-subset-10k': '10 samples per class', \n",
    "    'imagenet-subset-20k': '20 samples per class', \n",
    "    'imagenet-subset-30k': '30 samples per class',\n",
    "    'imagenet-subset-40k': '40 samples per class', \n",
    "}\n",
    "\n",
    "models_to_exclude = ['SegmentAnything_vit_b']"
   ]
  },
  {
   "cell_type": "code",
   "execution_count": null,
   "id": "84ce40e2-b664-4b26-9b9f-b89443e85b96",
   "metadata": {},
   "outputs": [],
   "source": [
    "def get_model_ids(fn):\n",
    "    with open(fn, 'r') as file:\n",
    "        lines = file.readlines()\n",
    "    lines = [line.strip() for line in lines]\n",
    "    return lines"
   ]
  },
  {
   "cell_type": "code",
   "execution_count": null,
   "id": "9b080e39-2455-4de5-a1a4-c0014f2a0fb2",
   "metadata": {},
   "outputs": [],
   "source": [
    "sim_mats = {}\n",
    "for model_sim_path in model_sim_paths:\n",
    "    print(model_sim_path)\n",
    "    sim_mats[model_sim_path.name] = {}\n",
    "    for sim_method in model_sim_path.rglob(\"**/similarity_matrix.pt\"):\n",
    "        if 'cka_kernel' not in str(sim_method):\n",
    "            continue\n",
    "        model_ids_fn = sim_method.parent / 'model_ids.txt'\n",
    "        if model_ids_fn.exists():\n",
    "            model_ids = get_model_ids(model_ids_fn)\n",
    "        else:\n",
    "            raise FileNotFoundError(f'{str(model_ids_fn)} does not exist.')\n",
    "    \n",
    "        sim_mat = torch.load(sim_method)\n",
    "        df = pd.DataFrame(sim_mat, index = model_ids, columns=model_ids)\n",
    "        for model in models_to_exclude:\n",
    "            if model in df.columns:\n",
    "                df = df.drop(model, axis=0)\n",
    "                df = df.drop(model, axis=1)\n",
    "        np.fill_diagonal(df.values, 1)\n",
    "        sim_mats[model_sim_path.name][sim_method.parent.name] = df.copy()\n",
    "\n",
    "sim_mats = {key: {x:curr_sim_mats[x] for x in name_mapping.keys()} for key, curr_sim_mats in sim_mats.items()}"
   ]
  },
  {
   "cell_type": "code",
   "execution_count": null,
   "id": "34e654be-29b1-4765-a0f9-176099a629eb",
   "metadata": {},
   "outputs": [],
   "source": [
    "flattened_dict = {}\n",
    "# Iterate through the nested dictionary and flatten it\n",
    "for outer_key, inner_dict in sim_mats.items():\n",
    "    for inner_key, df in inner_dict.items():\n",
    "        # Create a new key for the flattened dictionary\n",
    "        new_key = f\"{outer_key}_{inner_key}\"\n",
    "        # Add the dataframe to the flattened dictionary\n",
    "        flattened_dict[new_key] = df"
   ]
  },
  {
   "cell_type": "code",
   "execution_count": null,
   "id": "43262973-94a1-4fbd-9c08-a67461ef4f57",
   "metadata": {},
   "outputs": [],
   "source": [
    "# Check all matrices have the same index\n",
    "first_index = next(iter(flattened_dict.values())).index\n",
    "all_same_index = all(df.index.equals(first_index) for df in flattened_dict.values())\n",
    "if not all_same_index:\n",
    "    raise ValueError('All DataFrames must have the same index.')"
   ]
  },
  {
   "cell_type": "code",
   "execution_count": null,
   "id": "ee8411c9-5d7c-4892-a01d-7128e068b240",
   "metadata": {},
   "outputs": [],
   "source": [
    "vmin = min([df.min().min() for df in flattened_dict.values()])\n",
    "vmax = max([df.max().max() for df in flattened_dict.values()])"
   ]
  },
  {
   "cell_type": "markdown",
   "id": "ddcdc5c9-fe2a-4b26-9d8d-cc5e7a5347e3",
   "metadata": {},
   "source": [
    "## Create heatmap overviews"
   ]
  },
  {
   "cell_type": "code",
   "execution_count": null,
   "id": "b0c4b3d3-5675-4764-a38b-183ce60cf409",
   "metadata": {},
   "outputs": [],
   "source": [
    "# n_ds = len(sim_mats)\n",
    "# n_sim_met = len(sim_mats['imagenet-subset-10k'])\n",
    "# n_ds, n_sim_met\n",
    "# fig, axs = plt.subplots(n_ds, n_sim_met, figsize=(n_sim_met * 2, n_ds * 2))\n",
    "# for i, (ds, ds_sim_mat) in enumerate(sim_mats.items()):\n",
    "#     for j, (sim_met, df) in enumerate(ds_sim_mat.items()):\n",
    "#         ax = axs[i, j]\n",
    "#         sns.heatmap(df, ax=ax, cbar=False, annot=False, vmin=vmin, vmax=vmax)\n",
    "#         if i == 0:\n",
    "#             ax.set_title(name_mapping[sim_met], fontsize=14)\n",
    "#         if j == 0:\n",
    "#             ax.set_ylabel(name_mapping_ds[ds], fontsize=14)\n",
    "#         ax.set_xticks([])\n",
    "#         ax.set_yticks([])\n",
    "# # fig.suptitle('Similarity matrices for different ImageNet-1k subsets.', fontsize=15)\n",
    "\n",
    "# # Adjust layout\n",
    "# plt.tight_layout()\n",
    "# save_or_show(fig, storing_path / 'cka_nr_samples_mats.pdf', SAVE)"
   ]
  },
  {
   "cell_type": "markdown",
   "id": "a064a0c3-5133-4a42-aa95-f1f08056ab46",
   "metadata": {},
   "source": [
    "## Create heatmap overviews sorted dendogram"
   ]
  },
  {
   "cell_type": "code",
   "execution_count": null,
   "id": "7b5f2610-c0d7-408c-8dbc-96b85bfa20d1",
   "metadata": {},
   "outputs": [],
   "source": [
    "g = sns.clustermap(sim_mats['imagenet-subset-10k']['cka_kernel_linear_unbiased'], annot=True, fmt='.2f')\n",
    "cka_lin_dendo_row_ordering = g.dendrogram_row.reordered_ind\n",
    "cka_lin_dendo_col_ordering = g.dendrogram_col.reordered_ind\n",
    "plt.close()"
   ]
  },
  {
   "cell_type": "code",
   "execution_count": null,
   "id": "1edf2645-a9e7-491f-95fb-978bfce326fc",
   "metadata": {},
   "outputs": [],
   "source": [
    "n_ds = len(sim_mats)\n",
    "n_sim_met = len(sim_mats['imagenet-subset-10k'])\n",
    "fig, axs = plt.subplots(n_ds, n_sim_met, figsize=(n_sim_met * 2, n_ds * 2))\n",
    "\n",
    "for i, (ds, ds_sim_mat) in enumerate(sim_mats.items()):\n",
    "    for j, (sim_met, df) in enumerate(ds_sim_mat.items()):\n",
    "        ax = axs[i, j]\n",
    "        reordered_df = df.iloc[cka_lin_dendo_row_ordering, cka_lin_dendo_col_ordering]\n",
    "        sns.heatmap(reordered_df, ax=ax, cbar=False, annot=False, vmin=vmin, vmax=vmax)\n",
    "        if i == 0:\n",
    "            ax.set_title(name_mapping[sim_met], fontsize=fontsizes['label'])\n",
    "        if j == 0:\n",
    "            ax.set_ylabel(name_mapping_ds[ds], fontsize=fontsizes['label'])\n",
    "        ax.set_xticks([])\n",
    "        ax.set_yticks([])\n",
    "\n",
    "# Adjust layout\n",
    "plt.tight_layout()\n",
    "\n",
    "save_or_show(fig, storing_path / 'cka_nr_samples_mats_dendogram.pdf', SAVE)"
   ]
  },
  {
   "cell_type": "markdown",
   "id": "ecf977ed-209d-47ea-a394-569f48e61bb2",
   "metadata": {},
   "source": [
    "## Create box/violin plots showing the difference plots"
   ]
  },
  {
   "cell_type": "code",
   "execution_count": null,
   "id": "58f98d11-9137-41c9-81b5-6b469aafb75f",
   "metadata": {},
   "outputs": [],
   "source": [
    "flat_triu_sim_mats = {}\n",
    "\n",
    "for i, (ds, ds_sim_mat) in enumerate(sim_mats.items()):\n",
    "    for j, (sim_met, df) in enumerate(ds_sim_mat.items()):\n",
    "        if sim_met not in flat_triu_sim_mats.keys():\n",
    "            flat_triu_sim_mats[sim_met] = {}\n",
    "\n",
    "        matrix = df.values\n",
    "        upper_triangular_indices = np.triu_indices(matrix.shape[0], k=1)\n",
    "        flat_triu_sim_mats[sim_met][ds] = matrix[upper_triangular_indices]"
   ]
  },
  {
   "cell_type": "code",
   "execution_count": null,
   "id": "a62c8a77",
   "metadata": {},
   "outputs": [],
   "source": [
    "def subset_size(col_name):\n",
    "    return col_name.split('-')[-1]\n",
    "\n",
    "flat_triu_diff_mats = {}\n",
    "col_subset_comp = 'compared_subsets' \n",
    "col_abs_diff = 'absolute_difference'\n",
    "\n",
    "\n",
    "for sim_met, flat_arr in flat_triu_sim_mats.items():\n",
    "    curr_df = pd.DataFrame(flat_arr) \n",
    "    diff_df = curr_df.diff(axis=1).abs().iloc[:,1:].copy()\n",
    "    \n",
    "    all_cols = list(curr_df.columns)\n",
    "    new_cols = [ f\"{subset_size(all_cols[i])} and {subset_size(all_cols[i+1])}\" for i in range(0, len(all_cols)-1, 1)]\n",
    "    diff_df.columns = new_cols\n",
    "\n",
    "    melted_diff_df = pd.melt(diff_df, \n",
    "                            var_name=col_subset_comp,\n",
    "                            value_name=col_abs_diff)\n",
    "\n",
    "    flat_triu_diff_mats[sim_met] = melted_diff_df"
   ]
  },
  {
   "cell_type": "code",
   "execution_count": null,
   "id": "e7ca51ce-1d1c-4296-b89f-f6af37379259",
   "metadata": {},
   "outputs": [],
   "source": [
    "plot_fn = sns.boxplot\n",
    "# plot_fn = sns.violinplot"
   ]
  },
  {
   "cell_type": "markdown",
   "id": "b66ffe28-27a1-45bc-a2a7-524cc1e73e4e",
   "metadata": {},
   "source": [
    "##### Distribution difference for each similarity metric and and nr. of samples"
   ]
  },
  {
   "cell_type": "code",
   "execution_count": null,
   "id": "cbb55ce1-e947-470b-910d-438c2ad4f43c",
   "metadata": {},
   "outputs": [],
   "source": [
    "# #### Single model similarity metrics\n",
    "# cmap = plt.get_cmap('tab10')\n",
    "\n",
    "# for i, (sim_met, melted_diff_df) in enumerate(flat_triu_diff_mats.items()):\n",
    "#     plt.figure(figsize=(8,6))\n",
    "#     plot_fn(data=melted_diff_df, x=col_subset_comp, y=col_abs_diff, color=cmap(i))\n",
    "#     plt.xlabel('Compared ImageNet-1k subsets', fontsize=11)\n",
    "#     plt.ylabel('Absolute difference of pairwise model similarities', fontsize=11)\n",
    "#     plt.title(f'Influence of ImageNet1k subset size on pairwise model similarities ({name_mapping[sim_met]}).', fontsize=12)\n",
    "#     if SAVE:\n",
    "#         # plt.savefig(storing_path / f'boxplot_sim_diff_{sim_met}.pdf', bbox_inches='tight')\n",
    "#         # plt.savefig(storing_path / f'boxplot_sim_diff_{sim_met}.png', bbox_inches='tight')\n",
    "#         plt.close()\n",
    "#     else:\n",
    "#         plt.show()"
   ]
  },
  {
   "cell_type": "markdown",
   "id": "b6d2a69c-b428-485b-9c0f-2ba747f45da4",
   "metadata": {},
   "source": [
    "##### Overview distribution difference for each similarity metric and and nr. of samples"
   ]
  },
  {
   "cell_type": "code",
   "execution_count": null,
   "id": "e1d7f6a4-8346-4807-a0fa-2cf5489c679b",
   "metadata": {},
   "outputs": [],
   "source": [
    "dfs = []\n",
    "met_col = 'Similarity metrics'\n",
    "for sim_met, melted_diff_df in flat_triu_diff_mats.items():\n",
    "    melted_diff_df[met_col] = name_mapping[sim_met]\n",
    "    dfs.append(melted_diff_df)"
   ]
  },
  {
   "cell_type": "code",
   "execution_count": null,
   "id": "8dfbb713-b63b-43f7-acc6-68de6431e50d",
   "metadata": {},
   "outputs": [],
   "source": [
    "all_sim_diffs = pd.concat(dfs)"
   ]
  },
  {
   "cell_type": "code",
   "execution_count": null,
   "id": "4c337309-23d5-41ea-bb1d-b207d7344945",
   "metadata": {},
   "outputs": [],
   "source": [
    "plt.figure(figsize=(10,5))\n",
    "sns.boxplot(data=all_sim_diffs, x=col_subset_comp, y=col_abs_diff, hue=met_col)\n",
    "\n",
    "plt.xticks(fontsize=fontsizes['label'])\n",
    "plt.yticks(fontsize=fontsizes['ticks'])\n",
    "\n",
    "plt.xlabel('')\n",
    "plt.ylabel('Abs. Similarity Difference', fontsize=fontsizes['label'])\n",
    "\n",
    "plt.legend(fontsize=fontsizes['legend'])\n",
    "save_or_show(plt.gcf(), storing_path / 'cka_nr_samples_box_diff.pdf', SAVE)"
   ]
  }
 ],
 "metadata": {
  "kernelspec": {
   "display_name": "Python 3 (ipykernel)",
   "language": "python",
   "name": "python3"
  },
  "language_info": {
   "codemirror_mode": {
    "name": "ipython",
    "version": 3
   },
   "file_extension": ".py",
   "mimetype": "text/x-python",
   "name": "python",
   "nbconvert_exporter": "python",
   "pygments_lexer": "ipython3",
   "version": "3.10.13"
  }
 },
 "nbformat": 4,
 "nbformat_minor": 5
}

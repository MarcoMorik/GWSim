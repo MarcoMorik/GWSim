{
 "cells": [
  {
   "cell_type": "code",
   "execution_count": null,
   "id": "51850cf9-6dc1-46d3-a709-590b5dac4723",
   "metadata": {},
   "outputs": [],
   "source": [
    "import torch \n",
    "import pandas as pd\n",
    "import numpy as np\n",
    "import seaborn as sns\n",
    "import sys\n",
    "from scipy.stats import spearmanr\n",
    "import matplotlib.pyplot as plt\n",
    "from pathlib import Path\n",
    "sys.path.append('..')\n",
    "from scripts.helper import parse_datasets\n",
    "from constants import sim_metric_name_mapping"
   ]
  },
  {
   "cell_type": "code",
   "execution_count": null,
   "id": "662a5072-6caf-4891-b2de-bdc8f73d043f",
   "metadata": {},
   "outputs": [],
   "source": [
    "base_path_similarity_matrices = Path('/home/space/diverse_priors/model_similarities')\n",
    "sim_metrics = [\n",
    "    # 'cka_kernel_rbf_unbiased_sigma_0.2',\n",
    "    'cka_kernel_rbf_unbiased_sigma_0.4',\n",
    "    # 'cka_kernel_rbf_unbiased_sigma_0.6',\n",
    "    # 'cka_kernel_rbf_unbiased_sigma_0.8',\n",
    "    'cka_kernel_linear_unbiased',\n",
    "    # 'rsa_method_correlation_corr_method_pearson',\n",
    "    'rsa_method_correlation_corr_method_spearman',\n",
    "]\n",
    "\n",
    "x_axis_ds = ['imagenet-subset-10k']\n",
    "y_axis_ds = parse_datasets('../scripts/webdatasets_wo_imagenet.txt')\n",
    "y_axis_ds = list(map(lambda x: x.replace('/', '_'), y_axis_ds))\n",
    "\n",
    "SAVE = True\n",
    "if SAVE:\n",
    "    storing_path = Path('/home/space/diverse_priors/model_similarities/plots/diversity')\n",
    "    storing_path.mkdir(parents=True, exist_ok=True)\n",
    "\n",
    "# anchor_model = None\n",
    "# anchor_model = \"OpenCLIP_ViT-L-14_openai\" # ANCHOR MODEL 1\n",
    "anchor_model = \"resnet50\" # ANCHOR MODEL 2\n",
    "suffix = f'_anchor_{anchor_model}' if anchor_model else ''"
   ]
  },
  {
   "cell_type": "code",
   "execution_count": null,
   "id": "0e082e66-5b07-430b-b75d-632c255333ea",
   "metadata": {},
   "outputs": [],
   "source": [
    "def get_model_ids(fn):\n",
    "    with open(fn, 'r') as file:\n",
    "        lines = file.readlines()\n",
    "    lines = [line.strip() for line in lines]\n",
    "    return lines\n",
    "\n",
    "def load_sim_martix(path):\n",
    "    model_ids_fn = path / 'model_ids.txt'\n",
    "    sim_mat_fn = path / 'similarity_matrix.pt'\n",
    "    if model_ids_fn.exists():\n",
    "        model_ids = get_model_ids(model_ids_fn)\n",
    "    else:\n",
    "        raise FileNotFoundError(f'{str(model_ids_fn)} does not exist.')\n",
    "    sim_mat = torch.load(sim_mat_fn)\n",
    "    df = pd.DataFrame(sim_mat, index = model_ids, columns=model_ids)\n",
    "    return df"
   ]
  },
  {
   "cell_type": "code",
   "execution_count": null,
   "id": "57766ad1-0674-493b-bf5a-77e461f473ed",
   "metadata": {},
   "outputs": [],
   "source": [
    "sim_mats = {\n",
    "    'x_axis':{},\n",
    "    'y_axis':{}\n",
    "}\n",
    "\n",
    "for sim_metric in sim_metrics:\n",
    "    sim_mats['x_axis'][sim_metric] = {}\n",
    "    sim_mats['y_axis'][sim_metric] = {}\n",
    "\n",
    "    for ds in x_axis_ds:\n",
    "        sim_mats['x_axis'][sim_metric][ds] = load_sim_martix(base_path_similarity_matrices / ds / sim_metric)\n",
    "\n",
    "    for ds in y_axis_ds:\n",
    "        sim_mats['y_axis'][sim_metric][ds] = load_sim_martix(base_path_similarity_matrices / ds / sim_metric)"
   ]
  },
  {
   "cell_type": "code",
   "execution_count": null,
   "id": "6172a32d-e1dc-4fc3-a87d-0ad8f4b7d8c2",
   "metadata": {},
   "outputs": [],
   "source": [
    "def process_sim_mat(df, anchor):\n",
    "    df = df.where(np.triu(np.ones(df.shape), k=1).astype(bool))\n",
    "    df = df.reset_index(names=['models_1'])\n",
    "    df_melted = pd.melt(\n",
    "        df,\n",
    "        id_vars='models_1',\n",
    "        var_name='models_2',\n",
    "        value_name='Similarity value', \n",
    "    )\n",
    "    df_melted = df_melted.dropna().reset_index(drop=True)\n",
    "    df_melted['Model pair'] = df_melted['models_1'] + ', ' + df_melted['models_2']\n",
    "    df_melted = df_melted[['Model pair', 'Similarity value']].copy()\n",
    "    if anchor:\n",
    "        df_melted = df_melted[df_melted['Model pair'].apply(lambda x: anchor in x)].reset_index(drop=True)\n",
    "    return df_melted\n",
    "    "
   ]
  },
  {
   "cell_type": "code",
   "execution_count": null,
   "id": "2427a884-4d06-44b4-8026-722b58da1daa",
   "metadata": {},
   "outputs": [],
   "source": [
    "y_dfs = []\n",
    "\n",
    "for k1, v1 in sim_mats.items():\n",
    "    for k2, v2 in v1.items():\n",
    "        for k3, df in v2.items():\n",
    "            df = process_sim_mat(df, anchor_model)\n",
    "            df['Dataset'] = k3\n",
    "            df['sim_metric'] = k2\n",
    "            df['Similarity metric'] = sim_metric_name_mapping[k2]\n",
    "            if k1 == 'y_axis':\n",
    "                y_dfs.append(df.copy())\n",
    "            else:\n",
    "               sim_mats[k1][k2][k3] = df.copy() \n",
    "\n",
    "y_df = pd.concat(y_dfs, ignore_index=True)"
   ]
  },
  {
   "cell_type": "code",
   "execution_count": null,
   "id": "7ee4ec4a-9e5a-4a0c-bae3-ba6e7a4f6a0a",
   "metadata": {},
   "outputs": [],
   "source": [
    "y_df.shape"
   ]
  },
  {
   "cell_type": "code",
   "execution_count": null,
   "id": "0729bf8a-6024-4ece-903d-3dcf2a98a3cb",
   "metadata": {},
   "outputs": [],
   "source": [
    "def get_imagenet_sim_value(row):\n",
    "    model_pair = row['Model pair']\n",
    "    sim_metric = row['sim_metric']\n",
    "    df = sim_mats['x_axis'][sim_metric]['imagenet-subset-10k']\n",
    "    new_row = df[df['Model pair'] == model_pair]\n",
    "    if len(new_row) != 1:\n",
    "        raise ValueError(f'Found more/less than one entry in the data: {new_row}')\n",
    "    return new_row.iloc[0]['Similarity value']"
   ]
  },
  {
   "cell_type": "code",
   "execution_count": null,
   "id": "ee05d206-c418-44e0-9e08-85081da9ba90",
   "metadata": {},
   "outputs": [],
   "source": [
    "y_df['Similarity value ImageNet subset'] = y_df.apply(get_imagenet_sim_value, axis=1)"
   ]
  },
  {
   "cell_type": "code",
   "execution_count": null,
   "id": "b5d21422-79c6-4b1b-b5e7-ac4415b74dc1",
   "metadata": {},
   "outputs": [],
   "source": [
    "row_order = sorted(y_df['Dataset'].unique())"
   ]
  },
  {
   "cell_type": "code",
   "execution_count": null,
   "id": "5895f6fb-4d2f-4fd6-a509-a23b811b8056",
   "metadata": {},
   "outputs": [],
   "source": [
    "x_col = \"Similarity value ImageNet subset\"\n",
    "y_col = \"Similarity value\"\n",
    "\n",
    "g = sns.relplot(\n",
    "    data=y_df, \n",
    "    x=x_col, \n",
    "    y=y_col,  \n",
    "    col=\"Similarity metric\", \n",
    "    row=\"Dataset\",\n",
    "    row_order=row_order,\n",
    "    height=2,\n",
    "    aspect=1.5\n",
    ")\n",
    "\n",
    "g.set_titles('{col_name}')\n",
    "for ax, ds in zip(g.axes[:, 0], row_order):\n",
    "    ax.set_ylabel(f'Similarity value\\n{ds}')\n",
    "\n",
    "def add_correlation(data, **kws):\n",
    "    x = data[x_col]\n",
    "    y = data[y_col]\n",
    "    ax = plt.gca()\n",
    "    corr, _ = spearmanr(x, y)\n",
    "    ax.text(.05, .95, f'r = {corr:.2f}', transform=ax.transAxes, \n",
    "            fontsize=11, verticalalignment='top')\n",
    "    \n",
    "g.map_dataframe(add_correlation)\n",
    "\n",
    "g.fig.suptitle(f\"Correlation diversity in ImageNet vs other datasets{ ' ( anchor = '+anchor_model+' )' if anchor_model else ''}\", y=1)\n",
    "g.fig.tight_layout()\n",
    "\n",
    "if SAVE:\n",
    "    plt.savefig(storing_path / f'diversity_imgnet_vs_ds{suffix}.pdf', bbox_inches='tight')"
   ]
  },
  {
   "cell_type": "code",
   "execution_count": null,
   "id": "c2c838e8-9b22-4283-b179-b202eb3a18af",
   "metadata": {},
   "outputs": [],
   "source": [
    "r_vals = []\n",
    "for key, group_data in y_df.groupby([\"Similarity metric\", \"Dataset\"]):\n",
    "    x = group_data[x_col]\n",
    "    y = group_data[y_col]\n",
    "    corr, _ = spearmanr(x, y)\n",
    "    r_vals.append({\n",
    "        \"Similarity metric\": key[0], \n",
    "        \"Dataset\": key[1],\n",
    "        \"r\": corr\n",
    "    })\n",
    "    \n",
    "r_values = pd.DataFrame(r_vals)"
   ]
  },
  {
   "cell_type": "code",
   "execution_count": null,
   "id": "88754dad-dbda-4438-bed8-332e8231483d",
   "metadata": {},
   "outputs": [],
   "source": [
    "fig, axs = plt.subplots(nrows=1, ncols=2, figsize=(10, 5))\n",
    "sns.histplot(\n",
    "    r_values,\n",
    "    x='r',\n",
    "    hue='Similarity metric',\n",
    "    bins=15,\n",
    "    kde=True ,\n",
    "    ax=axs[0],\n",
    "    alpha=0.25,\n",
    "    \n",
    ")\n",
    "sns.kdeplot(\n",
    "    r_values,\n",
    "    x='r',\n",
    "    hue='Similarity metric',\n",
    "    ax=axs[1]\n",
    ")\n",
    "\n",
    "fig.suptitle(f\"Distribution spearman correlation coefficients for different kernels{ ' ( anchor = '+anchor_model+' )' if anchor_model else ''}\")\n",
    "plt.tight_layout()\n",
    "if SAVE:\n",
    "    plt.savefig(storing_path / f'distr_corr_coeff_over_datasets{suffix}.pdf', bbox_inches='tight')"
   ]
  },
  {
   "cell_type": "code",
   "execution_count": null,
   "id": "bb58cbb1-52ae-4f06-a215-1b2510cf4537",
   "metadata": {},
   "outputs": [],
   "source": []
  }
 ],
 "metadata": {
  "kernelspec": {
   "display_name": "Python 3 (ipykernel)",
   "language": "python",
   "name": "python3"
  },
  "language_info": {
   "codemirror_mode": {
    "name": "ipython",
    "version": 3
   },
   "file_extension": ".py",
   "mimetype": "text/x-python",
   "name": "python",
   "nbconvert_exporter": "python",
   "pygments_lexer": "ipython3",
   "version": "3.9.17"
  }
 },
 "nbformat": 4,
 "nbformat_minor": 5
}

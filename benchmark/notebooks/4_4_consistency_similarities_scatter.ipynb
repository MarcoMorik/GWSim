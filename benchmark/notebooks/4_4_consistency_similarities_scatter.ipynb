{
 "cells": [
  {
   "cell_type": "markdown",
   "id": "ea6ca5ac1bf3cf8d",
   "metadata": {},
   "source": [
    "## Notebook for section 4.4: *Do relative representation similarities remain consistent across different datasets?*\n",
    "This notebook creates the figures for the section 4.4. It plots the similarity values of all model pairs for three dataset pairs (upper row) and with colored training objectives (lower row)."
   ]
  },
  {
   "cell_type": "code",
   "execution_count": null,
   "id": "29d1d0c8-c2ef-440c-85c3-8c18d12a2529",
   "metadata": {},
   "outputs": [],
   "source": [
    "from itertools import combinations\n",
    "\n",
    "import matplotlib.pyplot as plt\n",
    "import pandas as pd\n",
    "import seaborn as sns\n",
    "from matplotlib.lines import Line2D\n",
    "from scipy.stats import spearmanr, pearsonr\n",
    "\n",
    "from constants import (\n",
    "    exclude_models,\n",
    "    exclude_models_w_mae,\n",
    "    cat_name_mapping,\n",
    "    model_config_file,\n",
    "    fontsizes,\n",
    "    model_cat_mapping,\n",
    "    BASE_PATH_RESULTS,\n",
    "    ds_list_sim_file\n",
    ")\n",
    "from helper import load_model_configs_and_allowed_models, save_or_show, pp_storing_path, load_all_datasetnames_n_info"
   ]
  },
  {
   "cell_type": "markdown",
   "id": "db5b4c57b0855d",
   "metadata": {},
   "source": [
    "#### Global variables"
   ]
  },
  {
   "cell_type": "code",
   "execution_count": null,
   "id": "5f1117c1-b686-4b0a-a8a4-74a2a389b16e",
   "metadata": {},
   "outputs": [],
   "source": [
    "# Get list of all datasets\n",
    "ds_list, ds_info = load_all_datasetnames_n_info(ds_list_sim_file, verbose=True)\n",
    "\n",
    "# Get subset of datasets\n",
    "ds_lists = dict(\n",
    "    ds_row_1_v2=['imagenet-subset-10k', 'wds_vtab_flowers', 'wds_vtab_pcam'],\n",
    ")\n",
    "curr_ds_list = ds_lists['ds_row_1_v2']\n",
    "\n",
    "# Experiment configuration\n",
    "suffix = ''  # '', '_wo_mae'\n",
    "\n",
    "# Path to all similarities\n",
    "sim_data_path = BASE_PATH_RESULTS / 'aggregated/model_sims/all_metric_ds_model_pair_similarity.csv'\n",
    "assert sim_data_path.exists(), f\"Path does not exist: {sim_data_path}. Aggregated similarity data not found, please run aggregate_similarities_across_datasets.ipynb before.\"\n",
    "\n",
    "# Path to store plots\n",
    "SAVE = False\n",
    "storing_path = pp_storing_path(BASE_PATH_RESULTS / 'plots/scatter_similarity_v5', SAVE)\n"
   ]
  },
  {
   "cell_type": "markdown",
   "id": "a1f0c97ce4eb9594",
   "metadata": {},
   "source": [
    "#### Load model configurations and similarities"
   ]
  },
  {
   "cell_type": "code",
   "execution_count": null,
   "id": "2417f211-e054-48e0-bac8-a08751a339fd",
   "metadata": {},
   "outputs": [],
   "source": [
    "# Load model configurations and allowed models\n",
    "curr_excl_models = exclude_models_w_mae if 'mae' in suffix else exclude_models\n",
    "\n",
    "model_configs, allowed_models = load_model_configs_and_allowed_models(\n",
    "    path=model_config_file,\n",
    "    exclude_models=curr_excl_models,\n",
    "    exclude_alignment=True,\n",
    ")"
   ]
  },
  {
   "cell_type": "code",
   "execution_count": null,
   "id": "48201dbb-d4ac-40db-9d4b-4035b3dacf2f",
   "metadata": {},
   "outputs": [],
   "source": [
    "# Load all similarities\n",
    "all_similarities = pd.read_csv(sim_data_path)\n",
    "all_similarities.columns = ['Similarity metric', 'DS', 'Model 1', 'Model 2', 'Similarity value', 'Objective',\n",
    "                            'Architecture', 'Dataset diversity', 'Model size']\n",
    "print(all_similarities.shape)\n",
    "# filter out models that are not in the model_configs\n",
    "all_similarities = all_similarities[\n",
    "    all_similarities['Model 1'].isin(allowed_models) & all_similarities['Model 2'].isin(allowed_models)]\n",
    "print(all_similarities.shape)"
   ]
  },
  {
   "cell_type": "code",
   "execution_count": null,
   "id": "0c6c5679-89b5-4a7e-a0aa-312983ba8b66",
   "metadata": {},
   "outputs": [],
   "source": [
    "# Convert string to tuple\n",
    "model_cats = list(model_cat_mapping.values())\n",
    "for cat in model_cats:\n",
    "    all_similarities.loc[:, cat] = all_similarities.loc[:, cat].apply(eval)\n",
    "    all_similarities.loc[:, cat] = all_similarities.loc[:, cat].apply(\n",
    "        lambda x: tuple(sorted([cat_name_mapping[x[0]], cat_name_mapping[x[1]]])))"
   ]
  },
  {
   "cell_type": "code",
   "execution_count": null,
   "id": "e930592d-6847-4d81-bcdd-ac73d63da161",
   "metadata": {},
   "outputs": [],
   "source": [
    "## Filter bad datasets\n",
    "model_similarities = all_similarities[all_similarities['DS'].isin(curr_ds_list)].copy().reset_index(drop=True)"
   ]
  },
  {
   "cell_type": "markdown",
   "id": "d7e1e53dd67583a8",
   "metadata": {},
   "source": [
    "#### Plot the similarity values of all model pairs for three dataset pairs (upper row) and with colored training objectives (lower row)"
   ]
  },
  {
   "cell_type": "code",
   "execution_count": null,
   "id": "14753e13-e1d8-4aa5-b176-46369440ddca",
   "metadata": {},
   "outputs": [],
   "source": [
    "def get_ds_subsets(ds1, ds2, df, cat_col):\n",
    "    def process_ds(ds):\n",
    "        ds_data = df[df['DS'] == ds].copy().sort_values(['Model 1', 'Model 2']).reset_index(drop=True)\n",
    "        ds_data.loc[:, cat_col] = ds_data.loc[:, cat_col].astype(str)\n",
    "        return ds_data\n",
    "\n",
    "    return process_ds(ds1), process_ds(ds2)\n",
    "\n",
    "\n",
    "def plot_reg(ax, x, y, color):\n",
    "    sns.regplot(\n",
    "        x=x, y=y, color=color,\n",
    "        line_kws=dict(alpha=1, ls='--', lw=3),\n",
    "        scatter_kws=dict(alpha=0.5, s=5),\n",
    "        ci=None, ax=ax\n",
    "    )\n",
    "    ax.set(xlim=(-0.01, 1.01), ylim=(-0.01, 1.01))\n",
    "    ax.tick_params('both', labelsize=fontsizes['ticks'])\n",
    "\n",
    "\n",
    "def set_ylabel(ax, j, ds2, name, color):\n",
    "    if j == 0:\n",
    "        ax.text(-0.2, 0.5, name, fontsize=fontsizes['title'],\n",
    "                transform=ax.transAxes, va='center', ha='right', rotation=90, color=color)\n",
    "    ax.set_ylabel(get_ds_name(ds2), fontsize=fontsizes['label'])\n",
    "\n",
    "\n",
    "def get_ds_name(ds):\n",
    "    curr_ds_info = ds_info.loc[ds]\n",
    "    return f\"{curr_ds_info['name']} {curr_ds_info['domain']}\"\n",
    "\n",
    "\n",
    "def compute_r(x, y, corr_type):\n",
    "    corr_funcs = {'spearmanr': spearmanr, 'pearsonr': pearsonr}\n",
    "    if corr_type not in corr_funcs:\n",
    "        raise ValueError(\"Unknown correlation computation type\")\n",
    "    return corr_funcs[corr_type](x, y)[0]\n",
    "\n",
    "\n",
    "def plot_all_pairs(ax, ds1_data, ds2_data, color_all, corr_type, frameon):\n",
    "    plot_reg(ax, ds1_data['Similarity value'], ds2_data['Similarity value'], color_all)\n",
    "    r_val_combi = compute_r(ds1_data['Similarity value'], ds2_data['Similarity value'], corr_type)\n",
    "    ax.legend(handles=[Line2D([0], [0], color=color_all, marker='o', linestyle='None', markersize=7, alpha=0.5)],\n",
    "              labels=[f\"r coeff.: {r_val_combi:.2f}\"],\n",
    "              fontsize=fontsizes['ticks'], framealpha=0.5, frameon=frameon, title='', loc='lower right',\n",
    "              edgecolor='white')\n",
    "    ax.set_xlabel(\"\")\n",
    "\n",
    "\n",
    "def plot_within_category(ax, ds1_data, ds2_data, cat_col, color_all, cat_colors, corr_type, frameon):\n",
    "    within_cat = ds1_data[cat_col].apply(eval).apply(lambda x: x[0] == x[1])\n",
    "    ax.scatter(x=ds1_data.loc[~within_cat, 'Similarity value'], y=ds2_data.loc[~within_cat, 'Similarity value'],\n",
    "               c=color_all, alpha=0.5, s=5)\n",
    "    ds1_data, ds2_data = ds1_data.loc[within_cat, :], ds2_data.loc[within_cat, :]\n",
    "\n",
    "    handles, labels = [], []\n",
    "    for cat_pair in ds1_data[cat_col].unique():\n",
    "        ds1_sub = ds1_data[ds1_data[cat_col] == cat_pair]\n",
    "        ds2_sub = ds2_data[ds2_data[cat_col] == cat_pair]\n",
    "        curr_color = cat_colors[eval(cat_pair)[0]]\n",
    "\n",
    "        plot_reg(ax, ds1_sub['Similarity value'], ds2_sub['Similarity value'], curr_color)\n",
    "        r_val_combi = compute_r(ds1_sub['Similarity value'], ds2_sub['Similarity value'], corr_type)\n",
    "        handles.append(Line2D([0], [0], color=curr_color, marker='o', linestyle='None', markersize=7, alpha=0.5))\n",
    "        labels.append(f\"r {eval(cat_pair)[0]} pairs: {r_val_combi:.2f}\")\n",
    "\n",
    "    ax.legend(handles=handles, labels=labels, fontsize=fontsizes['ticks'], framealpha=0.5,\n",
    "              frameon=frameon, title='', loc='lower right', edgecolor='white')\n",
    "\n",
    "\n",
    "def main_plot(curr_ds_list, tmp, cat_col, color_all, cat_colors, corr_type, frameon):\n",
    "    combs = list(combinations(curr_ds_list, 2))\n",
    "    n, m = 2, len(combs)\n",
    "    fig, axs = plt.subplots(nrows=n, ncols=m, figsize=(5 * m, 4 * n), sharex=True, sharey=True)\n",
    "\n",
    "    for j, (ds1, ds2) in enumerate(combs):\n",
    "        ds1_data, ds2_data = get_ds_subsets(ds1, ds2, tmp, cat_col)\n",
    "\n",
    "        # Upper row: all pairs\n",
    "        plot_all_pairs(axs[0, j], ds1_data, ds2_data, color_all, corr_type, frameon)\n",
    "        set_ylabel(axs[0, j], j, ds2, \"All model pairs\", 'black')\n",
    "\n",
    "        # Lower row: within category\n",
    "        plot_within_category(axs[1, j], ds1_data, ds2_data, cat_col, color_all, cat_colors, corr_type, frameon)\n",
    "        axs[1, j].set_xlabel(get_ds_name(ds1), fontsize=fontsizes['label'])\n",
    "        set_ylabel(axs[1, j], j, ds2, \"Within training objective\", 'black')\n",
    "\n",
    "    return fig"
   ]
  },
  {
   "cell_type": "code",
   "execution_count": null,
   "id": "a77b058c-cc24-4960-8882-9eb6cf5d3cce",
   "metadata": {},
   "outputs": [],
   "source": [
    "cat_col = 'Objective'\n",
    "color_all = 'darkgrey'\n",
    "frameon = True\n",
    "\n",
    "for sim_metric, data in model_similarities.groupby('Similarity metric'):\n",
    "    for corr_type in ['pearsonr', 'spearmanr']:\n",
    "        print(sim_metric, corr_type)\n",
    "        cat_ois = sorted(list(set([element for tup in data[cat_col].unique() for element in tup])))\n",
    "        cat_colors = {cat_oi: color for cat_oi, color in zip(cat_ois, sns.color_palette('tab10', len(cat_ois)))}\n",
    "        fig = main_plot(curr_ds_list, data, cat_col, color_all, cat_colors, corr_type=corr_type, frameon=frameon)\n",
    "\n",
    "        curr_sim = sim_metric.lower().replace(' ', '_')\n",
    "        save_or_show(fig, storing_path / f'{cat_col}_{corr_type}_{curr_sim}{suffix}.pdf', SAVE)"
   ]
  }
 ],
 "metadata": {
  "kernelspec": {
   "display_name": "Python 3 (ipykernel)",
   "language": "python",
   "name": "python3"
  },
  "language_info": {
   "codemirror_mode": {
    "name": "ipython",
    "version": 3
   },
   "file_extension": ".py",
   "mimetype": "text/x-python",
   "name": "python",
   "nbconvert_exporter": "python",
   "pygments_lexer": "ipython3",
   "version": "3.10.13"
  }
 },
 "nbformat": 4,
 "nbformat_minor": 5
}

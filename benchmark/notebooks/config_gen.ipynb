{
 "cells": [
  {
   "cell_type": "code",
   "execution_count": 1,
   "id": "initial_id",
   "metadata": {
    "ExecuteTime": {
     "end_time": "2024-08-16T12:36:37.585642Z",
     "start_time": "2024-08-16T12:36:37.322321Z"
    },
    "collapsed": true,
    "jupyter": {
     "outputs_hidden": true
    }
   },
   "outputs": [],
   "source": [
    "import pandas as pd\n",
    "import numpy as np\n",
    "import json\n"
   ]
  },
  {
   "cell_type": "code",
   "execution_count": 2,
   "id": "98b754121483b090",
   "metadata": {
    "ExecuteTime": {
     "end_time": "2024-08-16T12:36:37.605216Z",
     "start_time": "2024-08-16T12:36:37.590509Z"
    },
    "collapsed": false,
    "jupyter": {
     "outputs_hidden": false
    }
   },
   "outputs": [],
   "source": [
    "fn = '/Users/lciernik/Documents/TUB/projects/divers_prios/diverse_priors/benchmark/scripts/models_config.json'\n",
    "df = pd.read_json(fn).T"
   ]
  },
  {
   "cell_type": "code",
   "execution_count": 3,
   "id": "f04f21fbf26dee55",
   "metadata": {
    "ExecuteTime": {
     "end_time": "2024-08-16T12:36:37.608658Z",
     "start_time": "2024-08-16T12:36:37.605870Z"
    },
    "collapsed": false,
    "jupyter": {
     "outputs_hidden": false
    }
   },
   "outputs": [],
   "source": [
    "arch_mapping = {\n",
    "    'ConvNeXt': 'Convolutional',\n",
    "    'EfficientNet': 'Convolutional',\n",
    "    'ResNeXt': 'Convolutional',\n",
    "    'ResNet': 'Convolutional',\n",
    "    'SE-ResNet': 'Convolutional',\n",
    "    'SwinTransformer':'Transformer',\n",
    "    'VGG': 'Convolutional',\n",
    "    'ViT': 'Transformer',\n",
    "}\n",
    "\n",
    "ds_class = {\n",
    "    'COYO-700M' :               'Large DS',\n",
    "    'ImageNet1k' :              'ImageNet1k', \n",
    "    'ImageNet1k + NIGHTS' :     'ImageNet1k', \n",
    "    'ImageNet21k' :             'ImageNet21k', \n",
    "    'ImageNet21k + ImageNet1k': 'ImageNet21k', \n",
    "    'LAION2B' :                 'XLarge DS',\n",
    "    'LAION400M' :               'Large DS',\n",
    "    'LAION400M + NIGHTS':       'Large DS',\n",
    "    'LVD-142M' :                'Large DS',\n",
    "    'Merged2B':                 'XLarge DS',\n",
    "    'SA-1B' :                   'XLarge DS',\n",
    "    'WIT-400M' :                'Large DS',\n",
    "    'WebLI':                    'XLarge DS',\n",
    "}"
   ]
  },
  {
   "cell_type": "code",
   "execution_count": 4,
   "id": "8a5ec2833e92244a",
   "metadata": {
    "ExecuteTime": {
     "end_time": "2024-08-16T12:36:37.612260Z",
     "start_time": "2024-08-16T12:36:37.609545Z"
    },
    "collapsed": false,
    "jupyter": {
     "outputs_hidden": false
    }
   },
   "outputs": [],
   "source": [
    "df['architecture_class'] = df['architecture'].map(arch_mapping)\n",
    "df['dataset_class'] = df['dataset'].map(ds_class)"
   ]
  },
  {
   "cell_type": "code",
   "execution_count": 5,
   "id": "447fc729528f49a7",
   "metadata": {
    "ExecuteTime": {
     "end_time": "2024-08-16T12:36:37.616401Z",
     "start_time": "2024-08-16T12:36:37.613937Z"
    },
    "collapsed": false,
    "jupyter": {
     "outputs_hidden": false
    }
   },
   "outputs": [],
   "source": [
    "df.T.to_json(fn, indent=4)"
   ]
  }
 ],
 "metadata": {
  "kernelspec": {
   "display_name": "Python 3 (ipykernel)",
   "language": "python",
   "name": "python3"
  },
  "language_info": {
   "codemirror_mode": {
    "name": "ipython",
    "version": 3
   },
   "file_extension": ".py",
   "mimetype": "text/x-python",
   "name": "python",
   "nbconvert_exporter": "python",
   "pygments_lexer": "ipython3",
   "version": "3.10.13"
  }
 },
 "nbformat": 4,
 "nbformat_minor": 5
}

{
 "cells": [
  {
   "cell_type": "code",
   "execution_count": 1,
   "id": "initial_id",
   "metadata": {
    "collapsed": true,
    "ExecuteTime": {
     "end_time": "2024-08-16T12:36:37.585642Z",
     "start_time": "2024-08-16T12:36:37.322321Z"
    }
   },
   "outputs": [],
   "source": [
    "import pandas as pd\n",
    "import numpy as np\n",
    "import json\n"
   ]
  },
  {
   "cell_type": "code",
   "outputs": [],
   "source": [
    "fn = '/Users/lciernik/Documents/TUB/projects/divers_prios/diverse_priors/benchmark/scripts/models_config.json'\n",
    "df = pd.read_json(fn).T"
   ],
   "metadata": {
    "collapsed": false,
    "ExecuteTime": {
     "end_time": "2024-08-16T12:36:37.605216Z",
     "start_time": "2024-08-16T12:36:37.590509Z"
    }
   },
   "id": "98b754121483b090",
   "execution_count": 2
  },
  {
   "cell_type": "code",
   "outputs": [],
   "source": [
    "arch_mapping = {\n",
    "    'ConvNeXt': 'Convolutional',\n",
    "    'EfficientNet': 'Convolutional',\n",
    "    'ResNeXt': 'Convolutional',\n",
    "    'ResNet': 'Convolutional',\n",
    "    'SE-ResNet': 'Convolutional',\n",
    "    'SwinTransformer':'Transformer',\n",
    "    'VGG': 'Convolutional',\n",
    "    'ViT': 'Transformer',\n",
    "}\n",
    "\n",
    "ds_class = {\n",
    "    'COYO-700M' :               'Large DS',\n",
    "    'ImageNet1k' :              'ImageNet1k', \n",
    "    'ImageNet1k + NIGHTS' :     'ImageNet1k', \n",
    "    'ImageNet21k' :             'ImageNet21k', \n",
    "    'ImageNet21k + ImageNet1k': 'ImageNet21k', \n",
    "    'LAION2B' :                 'XLarge DS',\n",
    "    'LAION400M' :               'Large DS',\n",
    "    'LAION400M + NIGHTS':       'Large DS',\n",
    "    'LVD-142M' :                'Large DS',\n",
    "    'Merged2B':                 'XLarge DS',\n",
    "    'SA-1B' :                   'XLarge DS',\n",
    "    'WIT-400M' :                'Large DS',\n",
    "    'WebLI':                    'XLarge DS',\n",
    "}"
   ],
   "metadata": {
    "collapsed": false,
    "ExecuteTime": {
     "end_time": "2024-08-16T12:36:37.608658Z",
     "start_time": "2024-08-16T12:36:37.605870Z"
    }
   },
   "id": "f04f21fbf26dee55",
   "execution_count": 3
  },
  {
   "cell_type": "code",
   "outputs": [],
   "source": [
    "df['architecture_class'] = df['architecture'].map(arch_mapping)\n",
    "df['dataset_class'] = df['dataset'].map(ds_class)"
   ],
   "metadata": {
    "collapsed": false,
    "ExecuteTime": {
     "end_time": "2024-08-16T12:36:37.612260Z",
     "start_time": "2024-08-16T12:36:37.609545Z"
    }
   },
   "id": "8a5ec2833e92244a",
   "execution_count": 4
  },
  {
   "cell_type": "code",
   "outputs": [],
   "source": [
    "df.T.to_json(fn, indent=4)"
   ],
   "metadata": {
    "collapsed": false,
    "ExecuteTime": {
     "end_time": "2024-08-16T12:36:37.616401Z",
     "start_time": "2024-08-16T12:36:37.613937Z"
    }
   },
   "id": "447fc729528f49a7",
   "execution_count": 5
  }
 ],
 "metadata": {
  "kernelspec": {
   "display_name": "Python 3",
   "language": "python",
   "name": "python3"
  },
  "language_info": {
   "codemirror_mode": {
    "name": "ipython",
    "version": 2
   },
   "file_extension": ".py",
   "mimetype": "text/x-python",
   "name": "python",
   "nbconvert_exporter": "python",
   "pygments_lexer": "ipython2",
   "version": "2.7.6"
  }
 },
 "nbformat": 4,
 "nbformat_minor": 5
}

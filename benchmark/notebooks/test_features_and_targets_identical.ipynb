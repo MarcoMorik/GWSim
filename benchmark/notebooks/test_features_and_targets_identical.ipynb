{
 "cells": [
  {
   "cell_type": "code",
   "execution_count": 1,
   "id": "1c2f8501-52a3-45f7-8aea-958d1fc21360",
   "metadata": {},
   "outputs": [],
   "source": [
    "import torch\n",
    "from pathlib import Path\n",
    "import json"
   ]
  },
  {
   "cell_type": "code",
   "execution_count": 2,
   "id": "9c33b74c-03d9-4329-8990-064e681cccab",
   "metadata": {},
   "outputs": [],
   "source": [
    "# Define path to extracted features\n",
    "feat_root_path = Path(\"/home/space/diverse_priors/features/wds_imagenet-a_BAD\")\n",
    "\n",
    "# Define path to extracted features\n",
    "with open('/home/lciernik/projects/divers-priors/diverse_priors/benchmark/scripts/models_config.json', 'r') as f:\n",
    "    models = json.load(f)\n",
    "    model_ids  = sorted(list(models.keys()))"
   ]
  },
  {
   "cell_type": "code",
   "execution_count": 3,
   "id": "f2366eed-386e-48b7-9514-1815127146a6",
   "metadata": {},
   "outputs": [
    {
     "name": "stdout",
     "output_type": "stream",
     "text": [
      "63\n",
      "/home/space/diverse_priors/features/wds_imagenet-a_BAD/dinov2-vit-large-p14_gLocal/targets_train.pt\n",
      "/home/space/diverse_priors/features/wds_imagenet-a_BAD/vgg16_gLocal/targets_train.pt\n",
      "/home/space/diverse_priors/features/wds_imagenet-a_BAD/vgg19/targets_train.pt\n",
      "{'dinov2-vit-large-p14_gLocal', 'vgg19', 'vgg16_gLocal'}\n",
      "60\n"
     ]
    }
   ],
   "source": [
    "print(len(model_ids))\n",
    "models_to_remove = set()\n",
    "for model_id in model_ids:\n",
    "    for split in ['train', 'test']:\n",
    "        if not (feat_root_path / model_id / f\"targets_{split}.pt\").exists():\n",
    "            print((feat_root_path / model_id / f\"targets_{split}.pt\"))\n",
    "            models_to_remove.add(model_id)\n",
    "            break\n",
    "print(models_to_remove)\n",
    "model_ids = sorted(list(set(model_ids).difference(models_to_remove)))\n",
    "print(len(model_ids))"
   ]
  },
  {
   "cell_type": "code",
   "execution_count": 5,
   "id": "f6dbdc5e-d565-41a0-a7fa-e4e3588e55b3",
   "metadata": {},
   "outputs": [
    {
     "name": "stdout",
     "output_type": "stream",
     "text": [
      "\n",
      "split='train'\n",
      "Targets of DreamSim_dino_vitb16 and Kakaobrain_Align are not the same ...\n",
      "Targets of DreamSim_dino_vitb16 and OpenCLIP_ViT-L-14_laion2b_s32b_b82k_gLocal are not the same ...\n",
      "Targets of DreamSim_dino_vitb16 and SegmentAnything_vit_b are not the same ...\n",
      "Targets of DreamSim_dino_vitb16 and barlowtwins-rn50 are not the same ...\n",
      "Targets of DreamSim_dino_vitb16 and beit_base_patch16_224 are not the same ...\n",
      "Targets of DreamSim_dino_vitb16 and beit_base_patch16_224.in22k_ft_in22k are not the same ...\n",
      "Targets of DreamSim_dino_vitb16 and beit_large_patch16_224 are not the same ...\n",
      "Targets of DreamSim_dino_vitb16 and beit_large_patch16_224.in22k_ft_in22k are not the same ...\n",
      "Targets of DreamSim_dino_vitb16 and deit3_base_patch16_224 are not the same ...\n",
      "Targets of DreamSim_dino_vitb16 and deit3_base_patch16_224.fb_in22k_ft_in1k are not the same ...\n",
      "Targets of DreamSim_dino_vitb16 and deit3_large_patch16_224 are not the same ...\n",
      "Targets of DreamSim_dino_vitb16 and deit3_large_patch16_224.fb_in22k_ft_in1k are not the same ...\n",
      "Targets of DreamSim_dino_vitb16 and efficientnet_b5 are not the same ...\n",
      "Targets of DreamSim_dino_vitb16 and efficientnet_b6 are not the same ...\n",
      "Targets of DreamSim_dino_vitb16 and efficientnet_b7 are not the same ...\n",
      "Targets of DreamSim_dino_vitb16 and mocov2-rn50 are not the same ...\n",
      "Targets of DreamSim_dino_vitb16 and simclr-rn50 are not the same ...\n",
      "Targets of DreamSim_dino_vitb16 and swin_base_patch4_window7_224 are not the same ...\n",
      "Targets of DreamSim_dino_vitb16 and swin_base_patch4_window7_224.ms_in22k are not the same ...\n",
      "Targets of DreamSim_dino_vitb16 and swin_large_patch4_window7_224 are not the same ...\n",
      "Targets of DreamSim_dino_vitb16 and swin_large_patch4_window7_224.ms_in22k are not the same ...\n",
      "Targets of DreamSim_dino_vitb16 and vicreg-rn50 are not the same ...\n",
      "Targets of DreamSim_dino_vitb16 and vit_base_patch16_224 are not the same ...\n",
      "Targets of DreamSim_dino_vitb16 and vit_base_patch16_224.augreg_in21k are not the same ...\n",
      "Targets of DreamSim_dino_vitb16 and vit_huge_patch14_224.orig_in21k are not the same ...\n",
      "Targets of DreamSim_dino_vitb16 and vit_huge_patch14_clip_224.laion2b are not the same ...\n",
      "Targets of DreamSim_dino_vitb16 and vit_large_patch14_clip_224.laion2b are not the same ...\n",
      "Targets of DreamSim_dino_vitb16 and vit_large_patch16_224 are not the same ...\n",
      "Targets of DreamSim_dino_vitb16 and vit_large_patch16_224.augreg_in21k are not the same ...\n",
      "\n",
      "split='test'\n",
      "Targets of DreamSim_dino_vitb16 and Kakaobrain_Align are not the same ...\n",
      "Targets of DreamSim_dino_vitb16 and OpenCLIP_ViT-L-14_laion2b_s32b_b82k_gLocal are not the same ...\n",
      "Targets of DreamSim_dino_vitb16 and SegmentAnything_vit_b are not the same ...\n",
      "Targets of DreamSim_dino_vitb16 and barlowtwins-rn50 are not the same ...\n",
      "Targets of DreamSim_dino_vitb16 and beit_base_patch16_224 are not the same ...\n",
      "Targets of DreamSim_dino_vitb16 and beit_base_patch16_224.in22k_ft_in22k are not the same ...\n",
      "Targets of DreamSim_dino_vitb16 and beit_large_patch16_224 are not the same ...\n",
      "Targets of DreamSim_dino_vitb16 and beit_large_patch16_224.in22k_ft_in22k are not the same ...\n",
      "Targets of DreamSim_dino_vitb16 and deit3_base_patch16_224 are not the same ...\n",
      "Targets of DreamSim_dino_vitb16 and deit3_base_patch16_224.fb_in22k_ft_in1k are not the same ...\n",
      "Targets of DreamSim_dino_vitb16 and deit3_large_patch16_224 are not the same ...\n",
      "Targets of DreamSim_dino_vitb16 and deit3_large_patch16_224.fb_in22k_ft_in1k are not the same ...\n",
      "Targets of DreamSim_dino_vitb16 and efficientnet_b5 are not the same ...\n",
      "Targets of DreamSim_dino_vitb16 and efficientnet_b6 are not the same ...\n",
      "Targets of DreamSim_dino_vitb16 and efficientnet_b7 are not the same ...\n",
      "Targets of DreamSim_dino_vitb16 and mocov2-rn50 are not the same ...\n",
      "Targets of DreamSim_dino_vitb16 and simclr-rn50 are not the same ...\n",
      "Targets of DreamSim_dino_vitb16 and swin_base_patch4_window7_224 are not the same ...\n",
      "Targets of DreamSim_dino_vitb16 and swin_base_patch4_window7_224.ms_in22k are not the same ...\n",
      "Targets of DreamSim_dino_vitb16 and swin_large_patch4_window7_224 are not the same ...\n",
      "Targets of DreamSim_dino_vitb16 and swin_large_patch4_window7_224.ms_in22k are not the same ...\n",
      "Targets of DreamSim_dino_vitb16 and vicreg-rn50 are not the same ...\n",
      "Targets of DreamSim_dino_vitb16 and vit_base_patch16_224 are not the same ...\n",
      "Targets of DreamSim_dino_vitb16 and vit_base_patch16_224.augreg_in21k are not the same ...\n",
      "Targets of DreamSim_dino_vitb16 and vit_huge_patch14_224.orig_in21k are not the same ...\n",
      "Targets of DreamSim_dino_vitb16 and vit_huge_patch14_clip_224.laion2b are not the same ...\n",
      "Targets of DreamSim_dino_vitb16 and vit_large_patch14_clip_224.laion2b are not the same ...\n",
      "Targets of DreamSim_dino_vitb16 and vit_large_patch16_224 are not the same ...\n",
      "Targets of DreamSim_dino_vitb16 and vit_large_patch16_224.augreg_in21k are not the same ...\n"
     ]
    }
   ],
   "source": [
    "for split in ['train', 'test']:\n",
    "    print(f\"\\n{split=}\")\n",
    "    tar_of_model_1 = torch.load(feat_root_path / model_ids[0] / f\"targets_{split}.pt\")\n",
    "    for model_id in model_ids:\n",
    "        curr_tar = torch.load(feat_root_path / model_id / f\"targets_{split}.pt\")\n",
    "        # print(f\"{(tar_of_model_1 == curr_tar).all()=}\")\n",
    "        if not (tar_of_model_1 == curr_tar).all().item():\n",
    "            print(f\"Targets of {model_ids[0]} and {model_id} are not the same ...\")"
   ]
  },
  {
   "cell_type": "code",
   "execution_count": null,
   "id": "4f2e1e7d-b474-4dfa-a415-e61836200cdb",
   "metadata": {},
   "outputs": [],
   "source": []
  }
 ],
 "metadata": {
  "kernelspec": {
   "display_name": "Python 3 (ipykernel)",
   "language": "python",
   "name": "python3"
  },
  "language_info": {
   "codemirror_mode": {
    "name": "ipython",
    "version": 3
   },
   "file_extension": ".py",
   "mimetype": "text/x-python",
   "name": "python",
   "nbconvert_exporter": "python",
   "pygments_lexer": "ipython3",
   "version": "3.10.13"
  }
 },
 "nbformat": 4,
 "nbformat_minor": 5
}

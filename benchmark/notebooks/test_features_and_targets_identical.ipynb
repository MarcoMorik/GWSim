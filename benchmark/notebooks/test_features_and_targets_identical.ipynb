{
 "cells": [
  {
   "cell_type": "code",
   "execution_count": 1,
   "id": "1c2f8501-52a3-45f7-8aea-958d1fc21360",
   "metadata": {},
   "outputs": [],
   "source": [
    "import torch\n",
    "from pathlib import Path\n",
    "import json"
   ]
  },
  {
   "cell_type": "code",
   "execution_count": 2,
   "id": "9c33b74c-03d9-4329-8990-064e681cccab",
   "metadata": {},
   "outputs": [],
   "source": [
    "# Define path to extracted features\n",
    "feat_root_path = Path(\"/home/space/diverse_priors/features/wds_imagenet1k\")\n",
    "\n",
    "# Define path to extracted features\n",
    "with open('/home/lciernik/projects/divers-priors/diverse_priors/benchmark/scripts/models_config.json', 'r') as f:\n",
    "    models = json.load(f)\n",
    "    model_ids  = sorted(list(models.keys()))"
   ]
  },
  {
   "cell_type": "code",
   "execution_count": 3,
   "id": "f2366eed-386e-48b7-9514-1815127146a6",
   "metadata": {},
   "outputs": [
    {
     "name": "stdout",
     "output_type": "stream",
     "text": [
      "63\n",
      "/home/space/diverse_priors/features/wds_imagenet1k/OpenCLIP_ViT-L-14_laion2b_s32b_b82k/targets_train.pt\n",
      "/home/space/diverse_priors/features/wds_imagenet1k/OpenCLIP_ViT-L-14_laion2b_s32b_b82k_gLocal/targets_train.pt\n",
      "/home/space/diverse_priors/features/wds_imagenet1k/OpenCLIP_ViT-L-14_laion400m_e32_gLocal/targets_train.pt\n",
      "/home/space/diverse_priors/features/wds_imagenet1k/SegmentAnything_vit_b/targets_train.pt\n",
      "/home/space/diverse_priors/features/wds_imagenet1k/barlowtwins-rn50/targets_train.pt\n",
      "/home/space/diverse_priors/features/wds_imagenet1k/mocov2-rn50/targets_train.pt\n",
      "/home/space/diverse_priors/features/wds_imagenet1k/vgg16_gLocal/targets_train.pt\n",
      "/home/space/diverse_priors/features/wds_imagenet1k/vicreg-rn50/targets_train.pt\n",
      "['OpenCLIP_ViT-L-14_laion2b_s32b_b82k', 'OpenCLIP_ViT-L-14_laion2b_s32b_b82k_gLocal', 'OpenCLIP_ViT-L-14_laion400m_e32_gLocal', 'SegmentAnything_vit_b', 'barlowtwins-rn50', 'mocov2-rn50', 'vgg16_gLocal', 'vicreg-rn50'] 8\n",
      "55\n"
     ]
    }
   ],
   "source": [
    "print(len(model_ids))\n",
    "models_to_remove = set()\n",
    "for model_id in model_ids:\n",
    "    for split in ['train', 'test']:\n",
    "        if not (feat_root_path / model_id / f\"targets_{split}.pt\").exists():\n",
    "            print((feat_root_path / model_id / f\"targets_{split}.pt\"))\n",
    "            models_to_remove.add(model_id)\n",
    "            break\n",
    "print(sorted(list(models_to_remove)), len(models_to_remove))\n",
    "model_ids = sorted(list(set(model_ids).difference(models_to_remove)))\n",
    "print(len(model_ids))"
   ]
  },
  {
   "cell_type": "code",
   "execution_count": 4,
   "id": "f6dbdc5e-d565-41a0-a7fa-e4e3588e55b3",
   "metadata": {},
   "outputs": [
    {
     "name": "stdout",
     "output_type": "stream",
     "text": [
      "\n",
      "split='train'\n",
      "\n",
      "split='test'\n"
     ]
    }
   ],
   "source": [
    "for split in ['train', 'test']:\n",
    "    print(f\"\\n{split=}\")\n",
    "    tar_of_model_1 = torch.load(feat_root_path / model_ids[0] / f\"targets_{split}.pt\")\n",
    "    for model_id in model_ids:\n",
    "        curr_tar = torch.load(feat_root_path / model_id / f\"targets_{split}.pt\")\n",
    "        # print(f\"{(tar_of_model_1 == curr_tar).all()=}\")\n",
    "        if not (tar_of_model_1 == curr_tar).all().item():\n",
    "            print(f\"Targets of {model_ids[0]} and {model_id} are not the same ...\")"
   ]
  },
  {
   "cell_type": "code",
   "execution_count": null,
   "id": "4f2e1e7d-b474-4dfa-a415-e61836200cdb",
   "metadata": {},
   "outputs": [],
   "source": []
  }
 ],
 "metadata": {
  "kernelspec": {
   "display_name": "Python 3 (ipykernel)",
   "language": "python",
   "name": "python3"
  },
  "language_info": {
   "codemirror_mode": {
    "name": "ipython",
    "version": 3
   },
   "file_extension": ".py",
   "mimetype": "text/x-python",
   "name": "python",
   "nbconvert_exporter": "python",
   "pygments_lexer": "ipython3",
   "version": "3.10.13"
  }
 },
 "nbformat": 4,
 "nbformat_minor": 5
}

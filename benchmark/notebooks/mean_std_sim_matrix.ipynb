{
 "cells": [
  {
   "cell_type": "code",
   "id": "221cff81-a939-48c3-bb17-d2f9ed2cc37a",
   "metadata": {},
   "source": [
    "import sys\n",
    "from pathlib import Path\n",
    "\n",
    "import numpy as np\n",
    "import pandas as pd\n",
    "import seaborn as sns\n",
    "import matplotlib.pyplot as plt\n",
    "import matplotlib.gridspec as gridspec\n",
    "\n",
    "from helper import load_model_configs_and_allowed_models, load_similarity_matrices, save_or_show\n",
    "\n",
    "sys.path.append('..')\n",
    "from scripts.helper import parse_datasets\n",
    "from constants import sim_metric_name_mapping"
   ],
   "outputs": [],
   "execution_count": null
  },
  {
   "cell_type": "code",
   "id": "3d502146-22b8-42e5-9355-3b5f779ebebc",
   "metadata": {},
   "source": [
    "base_path_similarity_matrices = Path('/home/space/diverse_priors/model_similarities')\n",
    "# sim_metrics = similarity_metrics\n",
    "sim_metrics = [\n",
    "    'cka_kernel_rbf_unbiased_sigma_0.4',\n",
    "    'cka_kernel_linear_unbiased',\n",
    "    # 'rsa_method_correlation_corr_method_spearman',\n",
    "]\n",
    "\n",
    "y_axis_ds = parse_datasets('../scripts/webdatasets_wo_imagenet.txt')\n",
    "y_axis_ds = list(map(lambda x: x.replace('/', '_'), y_axis_ds))\n",
    "ds_list = ['imagenet-subset-10k'] + y_axis_ds\n",
    "\n",
    "SAVE = False\n",
    "storing_path = Path('/home/space/diverse_priors/results/plots/mean_std_sim_matrix')\n",
    "if SAVE:\n",
    "    storing_path.mkdir(parents=True, exist_ok=True)"
   ],
   "outputs": [],
   "execution_count": null
  },
  {
   "cell_type": "code",
   "id": "8c2daa51-0e4c-46c9-bdaa-c0e4cc582647",
   "metadata": {},
   "source": [
    "model_configs, allowed_models = load_model_configs_and_allowed_models(\n",
    "    path='../scripts/models_config.json',\n",
    "    exclude_models=['SegmentAnything_vit_b', 'DreamSim_dino_vitb16', 'DreamSim_open_clip_vitb32'],\n",
    "    exclude_alignment=True,\n",
    ")\n",
    "\n",
    "print(model_configs.shape, len(allowed_models))"
   ],
   "outputs": [],
   "execution_count": null
  },
  {
   "cell_type": "code",
   "id": "2007787d-91b1-4001-b9c7-6210e90891bb",
   "metadata": {},
   "source": [
    "info_orig_cols = ['objective', 'architecture_class', 'dataset_class', 'size_class']\n",
    "info_cols = ['Objective', 'Architecture', 'Dataset size', 'Model size']"
   ],
   "outputs": [],
   "execution_count": null
  },
  {
   "metadata": {},
   "cell_type": "code",
   "source": [
    "sim_mats = load_similarity_matrices(\n",
    "    path=base_path_similarity_matrices,\n",
    "    ds_list=ds_list,\n",
    "    sim_metrics=sim_metrics,\n",
    "    allowed_models=allowed_models,\n",
    ")"
   ],
   "id": "1d3b3a2c14b82691",
   "outputs": [],
   "execution_count": null
  },
  {
   "metadata": {},
   "cell_type": "code",
   "source": [
    "mean_sim_mats = {}\n",
    "std_sim_mats = {}\n",
    "for sim_metric in sim_metrics:\n",
    "    result = np.stack(list(sim_mats[sim_metric].values()), axis=0)\n",
    "    mean_res = pd.DataFrame(result.mean(axis=0), index=allowed_models, columns=allowed_models)\n",
    "    std_res = pd.DataFrame(result.std(axis=0), index=allowed_models, columns=allowed_models)\n",
    "    mean_sim_mats[sim_metric] = mean_res\n",
    "    std_sim_mats[sim_metric] = std_res"
   ],
   "id": "543353b78c3c8f8d",
   "outputs": [],
   "execution_count": null
  },
  {
   "metadata": {},
   "cell_type": "markdown",
   "source": "### Similarity matrices plots",
   "id": "5683e9e0bee2eecc"
  },
  {
   "metadata": {},
   "cell_type": "markdown",
   "source": [
    "Create figures with 3 subplots in the first row showing the similarity matrices for three different datasets (one natural images, single domain ds, and structured data). The second row should contain two subplots showing the mean and std of the similarity matrices across all datasets.\n",
    "We create one figure for each similarity metric."
   ],
   "id": "2fb7197fd5f6fab4"
  },
  {
   "metadata": {},
   "cell_type": "code",
   "source": [
    "ds_row_1_v1 = ['imagenet-subset-10k', 'wds_vtab_flowers', 'wds_vtab_eurosat']\n",
    "ds_row_1_v2 = ['imagenet-subset-10k', 'wds_vtab_flowers', 'wds_vtab_pcam']\n",
    "ds_row_1_v3 = ['imagenet-subset-10k', 'wds_vtab_pets', 'wds_vtab_eurosat']\n",
    "ds_row_1_v4 = ['imagenet-subset-10k', 'wds_vtab_pets', 'wds_vtab_pcam']"
   ],
   "id": "dd8efc38e3dd42f7",
   "outputs": [],
   "execution_count": null
  },
  {
   "metadata": {},
   "cell_type": "code",
   "source": [
    "curr_sim_metric = sim_metrics[0]\n",
    "\n",
    "curr_sim_metrics_data = sim_mats[curr_sim_metric]\n",
    "mean_res = mean_sim_mats[curr_sim_metric]\n",
    "std_res = std_sim_mats[curr_sim_metric]"
   ],
   "id": "8424c5cc1f8b8708",
   "outputs": [],
   "execution_count": null
  },
  {
   "metadata": {},
   "cell_type": "code",
   "source": [
    "# Create a figure\n",
    "fig = plt.figure(figsize=(10, 6))\n",
    "\n",
    "# Create a GridSpec with 2 rows and 6 columns (to allow for half-column spans)\n",
    "gs = gridspec.GridSpec(2, 6)\n",
    "\n",
    "# First row: 3 plots, each spanning 2 columns\n",
    "axs = []\n",
    "axs.append(fig.add_subplot(gs[0, :2]))  # First column (spanning 2 grid spaces)\n",
    "axs.append(fig.add_subplot(gs[0, 2:4])) # Second column (spanning 2 grid spaces)\n",
    "axs.append(fig.add_subplot(gs[0, 4:]))  # Third column (spanning 2 grid spaces)\n",
    "\n",
    "# Second row: 2 plots spanning different parts of the columns\n",
    "axs.append(fig.add_subplot(gs[1, :3]))  # Spans first column and first half of second column\n",
    "axs.append(fig.add_subplot(gs[1, 3:]))  # Spans second half of second column and third column\n",
    "\n",
    "\n",
    "# Plotting data on each subplot\n",
    "for i, ds in enumerate(ds_row_1_v1):\n",
    "    sns.heatmap(curr_sim_metrics_data[ds], ax=axs[i], cbar=False)\n",
    "    axs[i].set_title(ds)\n",
    "\n",
    "\n",
    "sns.heatmap(mean_res, ax=axs[3], cbar=False)\n",
    "axs[3].set_title('Mean similarity matrix across all datasets')\n",
    "\n",
    "sns.heatmap(mean_res, ax=axs[4], cbar=False)\n",
    "axs[4].set_title('Mean similarity matrix across all datasets')\n",
    "\n",
    "# Adjust layout\n",
    "plt.tight_layout()\n",
    "\n",
    "# Save or show\n",
    "save_or_show(SAVE, storing_path, f'mean_std_sim_matrix_{curr_sim_metric}')"
   ],
   "id": "72d8a206511a828a",
   "outputs": [],
   "execution_count": null
  },
  {
   "metadata": {},
   "cell_type": "code",
   "source": "",
   "id": "5ce31cd25396f3",
   "outputs": [],
   "execution_count": null
  },
  {
   "metadata": {},
   "cell_type": "markdown",
   "source": "### Mean vs. STD scatter plot",
   "id": "c6d699210c72b70b"
  },
  {
   "cell_type": "code",
   "id": "bcc10c6a-5050-4f88-b4ca-f6cdaed7358b",
   "metadata": {},
   "source": [
    "# curr_sim_metric = sim_metrics[2]\n",
    "# result = np.stack(list(sim_mats[curr_sim_metric].values()), axis=0)"
   ],
   "outputs": [],
   "execution_count": null
  },
  {
   "cell_type": "code",
   "id": "d8ec3f3b-d5a1-486c-824e-06d14ba3766b",
   "metadata": {},
   "source": [
    "# mean_res = pd.DataFrame(result.mean(axis=0), index=allowed_models, columns=allowed_models)\n",
    "# std_res = pd.DataFrame(result.std(axis=0), index=allowed_models, columns=allowed_models)"
   ],
   "outputs": [],
   "execution_count": null
  },
  {
   "cell_type": "code",
   "id": "47f1532a-69a0-48aa-90a6-7a7c16ebc637",
   "metadata": {},
   "source": [
    "pairs = [\n",
    "    ('Image-Text', 'Image-Text'),\n",
    "    ('Image-Text', 'Self-Supervised'),\n",
    "    ('Image-Text', 'Supervised'),\n",
    "    ('Self-Supervised', 'Self-Supervised'),\n",
    "    ('Self-Supervised', 'Supervised'),\n",
    "    ('Supervised', 'Supervised'),\n",
    "]\n",
    "comb = []\n",
    "for i, val in enumerate(model_configs['objective']):\n",
    "    for j, val2 in enumerate(model_configs['objective']):\n",
    "        if i >= j:\n",
    "            continue\n",
    "        if val == val2 or (val, val2) in pairs:\n",
    "            comb.append(f\"{val}, {val2}\")\n",
    "        elif (val2, val) in pairs:\n",
    "            comb.append(f\"{val2}, {val}\")\n",
    "        else:\n",
    "            raise ValueError(\"Unknown pair\")\n"
   ],
   "outputs": [],
   "execution_count": null
  },
  {
   "metadata": {},
   "cell_type": "code",
   "outputs": [],
   "execution_count": null,
   "source": [
    "cm = 0.393701\n",
    "n = len(sim_metrics)\n",
    "fig, axs = plt.subplots(nrows=1, ncols=n, sharey=True, figsize=(n*10*cm, 10*cm))\n",
    "for i, curr_sim_metric in enumerate(sim_metrics):\n",
    "    mean_res = mean_sim_mats[curr_sim_metric]\n",
    "    std_res = std_sim_mats[curr_sim_metric]\n",
    "    mean_upper = np.triu(mean_res, k=1)\n",
    "    std_upper = np.triu(std_res, k=1)\n",
    "    g = sns.scatterplot(\n",
    "        x=mean_upper[mean_upper != 0],\n",
    "        y=std_upper[std_upper != 0],\n",
    "        hue=comb,\n",
    "        alpha=0.75,\n",
    "        ax=axs[i]\n",
    "    )\n",
    "    g.set_xlabel('Mean CKA value across all datasets')\n",
    "    g.set_ylabel('Std of CKA values across all datasets')\n",
    "    g.set_title(sim_metric_name_mapping[curr_sim_metric])\n",
    "\n",
    "fig.tight_layout()\n",
    "save_or_show(SAVE, storing_path, 'mean_std_scatter_plot')"
   ],
   "id": "e9c6ff9f6ccd6e0a"
  },
  {
   "metadata": {},
   "cell_type": "code",
   "outputs": [],
   "execution_count": null,
   "source": "",
   "id": "4ec53ad15be8794d"
  },
  {
   "metadata": {},
   "cell_type": "code",
   "outputs": [],
   "execution_count": null,
   "source": "",
   "id": "bd54baa690bca263"
  },
  {
   "metadata": {},
   "cell_type": "code",
   "outputs": [],
   "execution_count": null,
   "source": "",
   "id": "6552327372224d0c"
  },
  {
   "metadata": {},
   "cell_type": "code",
   "outputs": [],
   "execution_count": null,
   "source": "",
   "id": "345c7f923988bbf9"
  },
  {
   "metadata": {},
   "cell_type": "code",
   "outputs": [],
   "execution_count": null,
   "source": "",
   "id": "e876ad52dfb96c1d"
  },
  {
   "metadata": {},
   "cell_type": "code",
   "outputs": [],
   "execution_count": null,
   "source": "",
   "id": "bea96a671c3f9ac4"
  },
  {
   "metadata": {},
   "cell_type": "code",
   "outputs": [],
   "execution_count": null,
   "source": "",
   "id": "af13b76f76515e9e"
  },
  {
   "cell_type": "code",
   "id": "9e0ac1a0-f8e8-4bb6-988f-2172194ad429",
   "metadata": {},
   "source": [
    "# sns.jointplot( x=mean_upper[mean_upper != 0], y=std_upper[std_upper != 0], hue=comb)\n",
    "mean_upper = np.triu(mean_res, k=1)\n",
    "std_upper = np.triu(std_res, k=1)\n",
    "g = sns.scatterplot(\n",
    "    x=mean_upper[mean_upper != 0],\n",
    "    y=std_upper[std_upper != 0],\n",
    "    hue=comb,\n",
    "    alpha=0.75\n",
    ")\n",
    "g.set_xlabel('Mean CKA value over all datasets')\n",
    "g.set_ylabel('Std of CKA values over all datasets')\n",
    "g.set_title(sim_metric_name_mapping[curr_sim_metric])"
   ],
   "outputs": [],
   "execution_count": null
  },
  {
   "cell_type": "code",
   "id": "f3ffb938-b01b-4fdd-81c0-48aff2d192ca",
   "metadata": {},
   "source": [
    "mean_upper = np.triu(mean_res, k=1)\n",
    "std_upper = np.triu(std_res, k=1)\n",
    "g = sns.scatterplot(\n",
    "    x=mean_upper[mean_upper != 0],\n",
    "    y=std_upper[std_upper != 0],\n",
    "    hue=comb,\n",
    "    alpha=0.75\n",
    ")\n",
    "g.set_xlabel('Mean CKA value over all datasets')\n",
    "g.set_ylabel('Std of CKA values over all datasets')\n",
    "g.set_title(curr_sim_metric)"
   ],
   "outputs": [],
   "execution_count": null
  },
  {
   "cell_type": "code",
   "id": "423afd47-7b96-49ce-9311-854c653350e0",
   "metadata": {},
   "source": [
    "fig, axs = plt.subplots(nrows=1, ncols=2, sharey=True, figsize=(24, 12))\n",
    "sns.heatmap(mean_res, ax=axs[0])\n",
    "axs[0].set_title(f'Mean {sim_metric_name_mapping[curr_sim_metric]} matrix over all datasets')\n",
    "sns.heatmap(std_res, ax=axs[1])\n",
    "fig.tight_layout()\n",
    "axs[1].set_title(f'STD {sim_metric_name_mapping[curr_sim_metric]} matrix over all datasets')"
   ],
   "outputs": [],
   "execution_count": null
  },
  {
   "cell_type": "code",
   "id": "f10da185-7159-4782-8d4b-89984141a9fd",
   "metadata": {},
   "source": [
    "similarity_mat = mean_res\n",
    "dissimilarity_mat = (1 - mean_res)"
   ],
   "outputs": [],
   "execution_count": null
  },
  {
   "cell_type": "code",
   "id": "bf68d5eb-1976-4347-95fd-833922a04594",
   "metadata": {},
   "source": [
    "from sklearn.cluster import SpectralClustering, AffinityPropagation, DBSCAN\n",
    "from sklearn.manifold import TSNE, MDS"
   ],
   "outputs": [],
   "execution_count": null
  },
  {
   "cell_type": "code",
   "id": "c92d3a88-64f8-4709-8af2-54ee330f853b",
   "metadata": {},
   "source": [
    "clustering_cols = []\n",
    "clustering = SpectralClustering(n_clusters=6,\n",
    "                                affinity='precomputed',\n",
    "                                assign_labels='cluster_qr',\n",
    "                                random_state=0)\n",
    "\n",
    "model_configs['spec_labels'] = clustering.fit_predict(similarity_mat.values, y=None)\n",
    "clustering_cols.append('spec_labels')"
   ],
   "outputs": [],
   "execution_count": null
  },
  {
   "cell_type": "code",
   "id": "5682984e-e905-4256-9e37-ed7b61913ba5",
   "metadata": {},
   "source": [
    "clustering = AffinityPropagation(damping=0.85,\n",
    "                                 affinity='precomputed',\n",
    "                                 random_state=5)\n",
    "\n",
    "model_configs['aff_labels'] = clustering.fit_predict(similarity_mat.values, y=None)\n",
    "clustering_cols.append('aff_labels')"
   ],
   "outputs": [],
   "execution_count": null
  },
  {
   "cell_type": "code",
   "id": "b2352d85-2312-4199-9c18-8c16e716c5bc",
   "metadata": {},
   "source": [
    "clustering = DBSCAN(eps=3, min_samples=2, metric='precomputed')\n",
    "\n",
    "model_configs['dbs_labels'] = clustering.fit_predict(dissimilarity_mat.values, y=None)\n",
    "clustering_cols.append('dbs_labels')"
   ],
   "outputs": [],
   "execution_count": null
  },
  {
   "cell_type": "code",
   "id": "85d81092-8791-4c78-a5fd-d6deddfa6e45",
   "metadata": {},
   "source": [
    "embs = {\n",
    "    'tsne': TSNE(n_components=2,\n",
    "                 learning_rate='auto',\n",
    "                 init='random',\n",
    "                 perplexity=10,\n",
    "                 metric='precomputed').fit_transform(dissimilarity_mat.values),\n",
    "    'mds': MDS(n_components=2,\n",
    "               normalized_stress='auto',\n",
    "               dissimilarity='precomputed').fit_transform(dissimilarity_mat.values),\n",
    "}"
   ],
   "outputs": [],
   "execution_count": null
  },
  {
   "cell_type": "code",
   "id": "2cc6db49-a332-4f89-bfb7-f9561ff71663",
   "metadata": {},
   "source": [
    "from itertools import product"
   ],
   "outputs": [],
   "execution_count": null
  },
  {
   "cell_type": "code",
   "id": "8450463d-87f0-4e32-8a94-a16fd83b8f85",
   "metadata": {},
   "source": [
    "nrows = len(info_orig_cols)\n",
    "ncols = len(embs)\n",
    "fig, axes = plt.subplots(nrows=nrows, ncols=ncols, figsize=(4 * ncols, 4 * nrows))\n",
    "axes = axes.flatten()\n",
    "\n",
    "for i, (m_cat_col, embed_type) in enumerate(product(info_orig_cols, embs.keys())):\n",
    "    ax = axes[i]\n",
    "    curr_embed = embs[embed_type]\n",
    "\n",
    "    sns.scatterplot(\n",
    "        x=curr_embed[:, 0],\n",
    "        y=curr_embed[:, 1],\n",
    "        hue=model_configs[m_cat_col],\n",
    "        palette='tab10',\n",
    "        ax=ax,\n",
    "        s=100\n",
    "    )\n",
    "    ax.set_title(f\"{info_cols[i // ncols]} – {embed_type.upper()}\")\n",
    "    if i % ncols == 0:\n",
    "        ax.get_legend().remove()\n",
    "    else:\n",
    "        sns.move_legend(ax, \"upper left\", bbox_to_anchor=(1, 1), title=info_cols[i // ncols])\n",
    "\n"
   ],
   "outputs": [],
   "execution_count": null
  },
  {
   "cell_type": "code",
   "id": "6eccd1f6-965e-4414-8c4b-e89b5a27e2e1",
   "metadata": {},
   "source": [],
   "outputs": [],
   "execution_count": null
  },
  {
   "cell_type": "code",
   "id": "0e88df40-6f69-4fbe-83d9-fded5ea69599",
   "metadata": {},
   "source": [
    "nrows = len(clustering_cols)\n",
    "ncols = len(embs)\n",
    "fig, axes = plt.subplots(nrows=nrows, ncols=ncols, figsize=(4 * ncols, 4 * nrows))\n",
    "axes = axes.flatten()\n",
    "for i, (clust_col, embed_type) in enumerate(product(clustering_cols, embs.keys())):\n",
    "    ax = axes[i]\n",
    "    curr_embed = embs[embed_type]\n",
    "    sns.scatterplot(\n",
    "        x=curr_embed[:, 0],\n",
    "        y=curr_embed[:, 1],\n",
    "        hue=model_configs[clust_col],\n",
    "        palette='tab10',\n",
    "        ax=ax,\n",
    "        s=100\n",
    "    )\n",
    "    ax.set_title(f\"{clust_col} – {embed_type.upper()}\")\n",
    "    if i % ncols == 0:\n",
    "        ax.get_legend().remove()\n",
    "    else:\n",
    "        sns.move_legend(ax, \"upper left\", bbox_to_anchor=(1, 1), title=clust_col)"
   ],
   "outputs": [],
   "execution_count": null
  },
  {
   "cell_type": "code",
   "id": "da3ffe19-0a52-4133-aa71-2fee152757a6",
   "metadata": {},
   "source": [],
   "outputs": [],
   "execution_count": null
  }
 ],
 "metadata": {
  "kernelspec": {
   "display_name": "Python 3 (ipykernel)",
   "language": "python",
   "name": "python3"
  },
  "language_info": {
   "codemirror_mode": {
    "name": "ipython",
    "version": 3
   },
   "file_extension": ".py",
   "mimetype": "text/x-python",
   "name": "python",
   "nbconvert_exporter": "python",
   "pygments_lexer": "ipython3",
   "version": "3.10.13"
  }
 },
 "nbformat": 4,
 "nbformat_minor": 5
}

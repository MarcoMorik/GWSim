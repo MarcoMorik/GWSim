{
 "cells": [
  {
   "cell_type": "code",
   "execution_count": null,
   "id": "221cff81-a939-48c3-bb17-d2f9ed2cc37a",
   "metadata": {},
   "outputs": [],
   "source": [
    "import sys\n",
    "from pathlib import Path\n",
    "\n",
    "import matplotlib.pyplot as plt\n",
    "import numpy as np\n",
    "import pandas as pd\n",
    "import seaborn as sns\n",
    "import torch\n",
    "from scipy.stats import spearmanr\n",
    "import json \n",
    "from helper import save_or_show, plot_r_coeff_distribution\n",
    "from collections import defaultdict\n",
    "from scipy.stats import ranksums\n",
    "from statsmodels.stats.multitest import multipletests\n",
    "import starbars\n",
    "\n",
    "sys.path.append('..')\n",
    "from scripts.helper import parse_datasets\n",
    "from constants import sim_metric_name_mapping"
   ]
  },
  {
   "cell_type": "code",
   "execution_count": null,
   "id": "3d502146-22b8-42e5-9355-3b5f779ebebc",
   "metadata": {},
   "outputs": [],
   "source": [
    "base_path_similarity_matrices = Path('/home/space/diverse_priors/model_similarities')\n",
    "# sim_metrics = similarity_metrics\n",
    "sim_metrics = [\n",
    "    'cka_kernel_rbf_unbiased_sigma_0.4',\n",
    "    'cka_kernel_linear_unbiased',\n",
    "    'rsa_method_correlation_corr_method_spearman',\n",
    "]\n",
    "\n",
    "x_axis_ds = 'imagenet-subset-10k'\n",
    "y_axis_ds = parse_datasets('../scripts/webdatasets_wo_imagenet.txt')\n",
    "y_axis_ds = list(map(lambda x: x.replace('/', '_'), y_axis_ds))\n",
    "\n",
    "storing_path = Path('/home/space/diverse_priors/results/aggregated/r_coeff_dist')\n",
    "storing_path.mkdir(parents=True, exist_ok=True)"
   ]
  },
  {
   "cell_type": "code",
   "execution_count": null,
   "id": "8c2daa51-0e4c-46c9-bdaa-c0e4cc582647",
   "metadata": {},
   "outputs": [],
   "source": [
    "with open('../scripts/models_config.json','r') as f: \n",
    "    model_configs = json.load(f)\n",
    "\n",
    "for mid in ['SegmentAnything_vit_b', 'DreamSim_dino_vitb16', 'DreamSim_open_clip_vitb32']:\n",
    "    if mid in model_configs.keys():\n",
    "        model_configs.pop(mid)\n",
    "\n",
    "# allowed_models = sorted(list(model_configs.keys()))\n",
    "allowed_models = sorted([ k for k, v in model_configs.items() if v['alignment'] is None])\n",
    "\n",
    "\n",
    "model_configs = pd.DataFrame(model_configs).T\n",
    "model_configs = model_configs.loc[allowed_models]\n",
    "print(model_configs.shape, len(allowed_models))"
   ]
  },
  {
   "cell_type": "code",
   "execution_count": null,
   "id": "2007787d-91b1-4001-b9c7-6210e90891bb",
   "metadata": {},
   "outputs": [],
   "source": [
    "info_orig_cols = ['objective', 'architecture_class', 'dataset_class', 'size_class']\n",
    "info_cols = ['Objective', 'Architecture', 'Dataset size', 'Model size']"
   ]
  },
  {
   "cell_type": "code",
   "execution_count": null,
   "id": "b9e46048-269e-434c-8ac5-3d414df85d54",
   "metadata": {},
   "outputs": [],
   "source": [
    "def get_model_ids(fn):\n",
    "    with open(fn, 'r') as file:\n",
    "        lines = file.readlines()\n",
    "    lines = [line.strip() for line in lines]\n",
    "    return lines\n",
    "\n",
    "\n",
    "def load_sim_martix(path):\n",
    "    model_ids_fn = path / 'model_ids.txt'\n",
    "    sim_mat_fn = path / 'similarity_matrix.pt'\n",
    "    if model_ids_fn.exists():\n",
    "        model_ids = get_model_ids(model_ids_fn)\n",
    "    else:\n",
    "        raise FileNotFoundError(f'{str(model_ids_fn)} does not exist.')\n",
    "    sim_mat = torch.load(sim_mat_fn)\n",
    "    df = pd.DataFrame(sim_mat, index=model_ids, columns=model_ids)\n",
    "    \n",
    "    available_models = sorted(list(set(model_ids).intersection(allowed_models)))\n",
    "    \n",
    "    df = df.loc[available_models, available_models]\n",
    "    return df"
   ]
  },
  {
   "cell_type": "code",
   "execution_count": null,
   "id": "fcd4ff54-a370-4b86-b5a6-0c7ce67d330a",
   "metadata": {},
   "outputs": [],
   "source": [
    "sim_mats = defaultdict(dict)\n",
    "for sim_metric in sim_metrics:\n",
    "    for ds in [x_axis_ds] + y_axis_ds:\n",
    "        sim_mats[sim_metric][ds] = load_sim_martix(base_path_similarity_matrices / ds / sim_metric)\n",
    "        np.fill_diagonal(sim_mats[sim_metric][ds].values, 1)"
   ]
  },
  {
   "cell_type": "code",
   "execution_count": null,
   "id": "52ee30f3-fe8b-4a97-afd1-c2081a5bf909",
   "metadata": {},
   "outputs": [],
   "source": [
    "\n",
    "for sim_metric, sim_mats in sim_mats.items():\n",
    "    "
   ]
  },
  {
   "cell_type": "code",
   "execution_count": null,
   "id": "bcc10c6a-5050-4f88-b4ca-f6cdaed7358b",
   "metadata": {},
   "outputs": [],
   "source": [
    "curr_sim_metric = sim_metrics[2]\n",
    "result = np.stack(list(sim_mats[curr_sim_metric].values()), axis=0)"
   ]
  },
  {
   "cell_type": "code",
   "execution_count": null,
   "id": "d8ec3f3b-d5a1-486c-824e-06d14ba3766b",
   "metadata": {},
   "outputs": [],
   "source": [
    "mean_res = pd.DataFrame(result.mean(axis=0), index = allowed_models, columns=allowed_models)\n",
    "std_res = pd.DataFrame(result.std(axis=0), index = allowed_models, columns=allowed_models)"
   ]
  },
  {
   "cell_type": "code",
   "execution_count": null,
   "id": "47f1532a-69a0-48aa-90a6-7a7c16ebc637",
   "metadata": {},
   "outputs": [],
   "source": [
    "pairs = [\n",
    "    ('Image-Text', 'Image-Text'),\n",
    "    ('Image-Text', 'Self-Supervised'),\n",
    "    ('Image-Text', 'Supervised'),\n",
    "    ('Self-Supervised', 'Self-Supervised'),\n",
    "    ('Self-Supervised', 'Supervised'),\n",
    "    ('Supervised', 'Supervised'), \n",
    "]\n",
    "comb = []\n",
    "for i, val in enumerate(model_configs['objective']):\n",
    "    for j, val2 in enumerate(model_configs['objective']):\n",
    "        if i>=j:\n",
    "            continue\n",
    "        # comb.append(f\"{val}, {val2}\")\n",
    "        if val==val2 or (val, val2) in pairs:\n",
    "            comb.append(f\"{val}, {val2}\")\n",
    "        elif (val2, val) in pairs:\n",
    "            comb.append(f\"{val2}, {val}\")\n",
    "        else:\n",
    "            raise ValueError(\"Unknown pair\")\n",
    "    "
   ]
  },
  {
   "cell_type": "code",
   "execution_count": null,
   "id": "9e0ac1a0-f8e8-4bb6-988f-2172194ad429",
   "metadata": {},
   "outputs": [],
   "source": [
    "# sns.jointplot( x=mean_upper[mean_upper != 0], y=std_upper[std_upper != 0], hue=comb)\n",
    "mean_upper = np.triu(mean_res,k=1)\n",
    "std_upper =  np.triu(std_res,k=1)\n",
    "g = sns.scatterplot(\n",
    "    x = mean_upper[mean_upper != 0],\n",
    "    y = std_upper[std_upper != 0],\n",
    "    hue = comb,\n",
    "    alpha=0.75\n",
    ")\n",
    "g.set_xlabel('Mean CKA value over all datasets')\n",
    "g.set_ylabel('Std of CKA values over all datasets')\n",
    "g.set_title(sim_metric_name_mapping[curr_sim_metric])"
   ]
  },
  {
   "cell_type": "code",
   "execution_count": null,
   "id": "f3ffb938-b01b-4fdd-81c0-48aff2d192ca",
   "metadata": {},
   "outputs": [],
   "source": [
    "mean_upper = np.triu(mean_res,k=1)\n",
    "std_upper =  np.triu(std_res,k=1)\n",
    "g = sns.scatterplot(\n",
    "    x = mean_upper[mean_upper != 0],\n",
    "    y = std_upper[std_upper != 0],\n",
    "    hue = comb,\n",
    "    alpha=0.75\n",
    ")\n",
    "g.set_xlabel('Mean CKA value over all datasets')\n",
    "g.set_ylabel('Std of CKA values over all datasets')\n",
    "g.set_title(curr_sim_metric)"
   ]
  },
  {
   "cell_type": "code",
   "execution_count": null,
   "id": "423afd47-7b96-49ce-9311-854c653350e0",
   "metadata": {},
   "outputs": [],
   "source": [
    "fig, axs = plt.subplots(nrows=1, ncols=2, sharey=True, figsize=(24, 12))\n",
    "sns.heatmap(mean_res, ax=axs[0])\n",
    "axs[0].set_title(f'Mean {sim_metric_name_mapping[curr_sim_metric]} matrix over all datasets')\n",
    "sns.heatmap(std_res, ax=axs[1])\n",
    "fig.tight_layout()\n",
    "axs[1].set_title(f'STD {sim_metric_name_mapping[curr_sim_metric]} matrix over all datasets')"
   ]
  },
  {
   "cell_type": "code",
   "execution_count": null,
   "id": "f10da185-7159-4782-8d4b-89984141a9fd",
   "metadata": {},
   "outputs": [],
   "source": [
    "similarity_mat = mean_res\n",
    "dissimilarity_mat = (1 - mean_res)"
   ]
  },
  {
   "cell_type": "code",
   "execution_count": null,
   "id": "bf68d5eb-1976-4347-95fd-833922a04594",
   "metadata": {},
   "outputs": [],
   "source": [
    "from sklearn.cluster import SpectralClustering, AffinityPropagation, DBSCAN\n",
    "from sklearn.manifold import TSNE, MDS"
   ]
  },
  {
   "cell_type": "code",
   "execution_count": null,
   "id": "c92d3a88-64f8-4709-8af2-54ee330f853b",
   "metadata": {},
   "outputs": [],
   "source": [
    "clustering_cols = []\n",
    "clustering = SpectralClustering(n_clusters=6,\n",
    "                                affinity='precomputed',\n",
    "                                assign_labels='cluster_qr',\n",
    "                                random_state=0)\n",
    "\n",
    "model_configs['spec_labels'] = clustering.fit_predict(similarity_mat.values, y=None)    \n",
    "clustering_cols.append('spec_labels')"
   ]
  },
  {
   "cell_type": "code",
   "execution_count": null,
   "id": "5682984e-e905-4256-9e37-ed7b61913ba5",
   "metadata": {},
   "outputs": [],
   "source": [
    "clustering = AffinityPropagation(damping=0.85,\n",
    "                                 affinity='precomputed',\n",
    "                                 random_state=5)\n",
    "\n",
    "\n",
    "model_configs['aff_labels'] = clustering.fit_predict(similarity_mat.values, y=None)  \n",
    "clustering_cols.append('aff_labels')"
   ]
  },
  {
   "cell_type": "code",
   "execution_count": null,
   "id": "b2352d85-2312-4199-9c18-8c16e716c5bc",
   "metadata": {},
   "outputs": [],
   "source": [
    "clustering = DBSCAN(eps=3, min_samples=2, metric='precomputed')\n",
    "\n",
    "model_configs['dbs_labels'] = clustering.fit_predict(dissimilarity_mat.values, y=None)  \n",
    "clustering_cols.append('dbs_labels')"
   ]
  },
  {
   "cell_type": "code",
   "execution_count": null,
   "id": "85d81092-8791-4c78-a5fd-d6deddfa6e45",
   "metadata": {},
   "outputs": [],
   "source": [
    "embs = {\n",
    "    'tsne':TSNE(n_components=2, \n",
    "                learning_rate='auto', \n",
    "                init='random', \n",
    "                perplexity=10,\n",
    "                metric='precomputed').fit_transform(dissimilarity_mat.values), \n",
    "    'mds': MDS(n_components=2,\n",
    "               normalized_stress='auto',\n",
    "               dissimilarity='precomputed').fit_transform(dissimilarity_mat.values),\n",
    "}"
   ]
  },
  {
   "cell_type": "code",
   "execution_count": null,
   "id": "2cc6db49-a332-4f89-bfb7-f9561ff71663",
   "metadata": {},
   "outputs": [],
   "source": [
    "from itertools import product"
   ]
  },
  {
   "cell_type": "code",
   "execution_count": null,
   "id": "8450463d-87f0-4e32-8a94-a16fd83b8f85",
   "metadata": {},
   "outputs": [],
   "source": [
    "nrows = len(info_orig_cols)\n",
    "ncols = len(embs)\n",
    "fig, axes = plt.subplots(nrows=nrows, ncols=ncols, figsize = (4*ncols, 4*nrows))\n",
    "axes = axes.flatten()\n",
    "\n",
    "for i, (m_cat_col, embed_type) in enumerate(product(info_orig_cols, embs.keys())):\n",
    "    ax = axes[i]\n",
    "    curr_embed = embs[embed_type]\n",
    "    \n",
    "    sns.scatterplot(\n",
    "        x = curr_embed[:,0],\n",
    "        y = curr_embed[:,1],\n",
    "        hue = model_configs[m_cat_col],\n",
    "        palette = 'tab10',\n",
    "        ax=ax,\n",
    "        s=100\n",
    "    )\n",
    "    ax.set_title(f\"{info_cols[i//ncols]} – {embed_type.upper()}\")\n",
    "    if i%ncols ==0:\n",
    "        ax.get_legend().remove()\n",
    "    else:\n",
    "        sns.move_legend(ax, \"upper left\", bbox_to_anchor=(1, 1), title=info_cols[i//ncols])\n",
    "\n",
    "    "
   ]
  },
  {
   "cell_type": "code",
   "execution_count": null,
   "id": "6eccd1f6-965e-4414-8c4b-e89b5a27e2e1",
   "metadata": {},
   "outputs": [],
   "source": []
  },
  {
   "cell_type": "code",
   "execution_count": null,
   "id": "0e88df40-6f69-4fbe-83d9-fded5ea69599",
   "metadata": {},
   "outputs": [],
   "source": [
    "nrows = len(clustering_cols)\n",
    "ncols = len(embs)\n",
    "fig, axes = plt.subplots(nrows=nrows, ncols=ncols, figsize = (4*ncols, 4*nrows))\n",
    "axes = axes.flatten()\n",
    "for i, (clust_col, embed_type) in enumerate(product(clustering_cols, embs.keys())):\n",
    "    ax = axes[i]\n",
    "    curr_embed = embs[embed_type]\n",
    "    sns.scatterplot(\n",
    "        x = curr_embed[:,0],\n",
    "        y = curr_embed[:,1],\n",
    "        hue = model_configs[clust_col],\n",
    "        palette = 'tab10',\n",
    "        ax=ax,\n",
    "        s=100\n",
    "    )\n",
    "    ax.set_title(f\"{clust_col} – {embed_type.upper()}\")\n",
    "    if i%ncols ==0:\n",
    "        ax.get_legend().remove()\n",
    "    else:\n",
    "        sns.move_legend(ax, \"upper left\", bbox_to_anchor=(1, 1), title=clust_col)"
   ]
  },
  {
   "cell_type": "code",
   "execution_count": null,
   "id": "da3ffe19-0a52-4133-aa71-2fee152757a6",
   "metadata": {},
   "outputs": [],
   "source": []
  }
 ],
 "metadata": {
  "kernelspec": {
   "display_name": "Python 3 (ipykernel)",
   "language": "python",
   "name": "python3"
  },
  "language_info": {
   "codemirror_mode": {
    "name": "ipython",
    "version": 3
   },
   "file_extension": ".py",
   "mimetype": "text/x-python",
   "name": "python",
   "nbconvert_exporter": "python",
   "pygments_lexer": "ipython3",
   "version": "3.10.13"
  }
 },
 "nbformat": 4,
 "nbformat_minor": 5
}

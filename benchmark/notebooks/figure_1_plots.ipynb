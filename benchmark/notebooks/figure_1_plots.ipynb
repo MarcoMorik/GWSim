{
 "cells": [
  {
   "cell_type": "code",
   "execution_count": null,
   "id": "221cff81-a939-48c3-bb17-d2f9ed2cc37a",
   "metadata": {},
   "outputs": [],
   "source": [
    "import sys\n",
    "from pathlib import Path\n",
    "\n",
    "import matplotlib.gridspec as gridspec\n",
    "import matplotlib.pyplot as plt\n",
    "import numpy as np\n",
    "import pandas as pd\n",
    "import seaborn as sns\n",
    "import matplotlib.ticker as ticker\n",
    "import scipy\n",
    "\n",
    "from sklearn.manifold import MDS, TSNE\n",
    "from sklearn.cluster import SpectralClustering, AffinityPropagation\n",
    "\n",
    "from constants import (\n",
    "    exclude_models, \n",
    "    exclude_models_w_mae, \n",
    "    ds_name_mapping, \n",
    "    model_categories, \n",
    "    model_cat_mapping, \n",
    "    model_config_file, \n",
    "    ds_info_file,\n",
    "    fontsizes,\n",
    "    cat_name_mapping,\n",
    "    sim_metric_name_mapping\n",
    ")\n",
    "from helper import load_model_configs_and_allowed_models, load_similarity_matrices, save_or_show, load_ds_info, get_fmt_name\n",
    "\n",
    "sys.path.append('..')\n",
    "from scripts.helper import parse_datasets\n",
    "from constants import sim_metric_name_mapping"
   ]
  },
  {
   "cell_type": "code",
   "execution_count": null,
   "id": "3d502146-22b8-42e5-9355-3b5f779ebebc",
   "metadata": {},
   "outputs": [],
   "source": [
    "base_path_similarity_matrices = Path('/home/space/diverse_priors/model_similarities')\n",
    "# sim_metrics = similarity_metrics\n",
    "sim_metrics = [\n",
    "    'cka_kernel_rbf_unbiased_sigma_0.4',\n",
    "    'cka_kernel_linear_unbiased',\n",
    "    # 'rsa_method_correlation_corr_method_spearman',\n",
    "]\n",
    "\n",
    "ds_list = parse_datasets('../scripts/webdatasets_w_insub10k.txt')\n",
    "ds_list = list(map(lambda x: x.replace('/', '_'), ds_list))\n",
    "\n",
    "ds_info = load_ds_info(ds_info_file)\n",
    "\n",
    "ds_oi = ['imagenet-subset-10k', 'wds_vtab_flowers']\n",
    "\n",
    "suffix=''\n",
    "# suffix = '_wo_mae'\n",
    "\n",
    "cm = 0.393701\n",
    "\n",
    "SAVE = True\n",
    "storing_path = Path('/home/space/diverse_priors/results/plots/figure_1_subplots')\n",
    "if SAVE:\n",
    "    storing_path.mkdir(parents=True, exist_ok=True)"
   ]
  },
  {
   "cell_type": "code",
   "execution_count": null,
   "id": "8c2daa51-0e4c-46c9-bdaa-c0e4cc582647",
   "metadata": {},
   "outputs": [],
   "source": [
    "curr_excl_models = []\n",
    "if suffix:\n",
    "    curr_excl_models = exclude_models_w_mae if 'mae' in suffix else exclude_models\n",
    "\n",
    "model_configs, allowed_models = load_model_configs_and_allowed_models(\n",
    "    path=model_config_file,\n",
    "    exclude_models=curr_excl_models,\n",
    "    exclude_alignment=True,\n",
    ")\n"
   ]
  },
  {
   "cell_type": "code",
   "execution_count": null,
   "id": "1d3b3a2c14b82691",
   "metadata": {},
   "outputs": [],
   "source": [
    "sim_mats = load_similarity_matrices(\n",
    "    path=base_path_similarity_matrices,\n",
    "    ds_list=ds_list,\n",
    "    sim_metrics=sim_metrics,\n",
    "    allowed_models=allowed_models,\n",
    ")"
   ]
  },
  {
   "cell_type": "code",
   "execution_count": null,
   "id": "199093e0-0981-4f85-b331-c4bdfd4ac4db",
   "metadata": {},
   "outputs": [],
   "source": [
    "# nr_models_per_model_set = [5, 6, 7] \n",
    "# model_sets = {}\n",
    "# for i, (obj, data) in enumerate(model_configs.reset_index(names=['mid']).groupby('objective')):\n",
    "#     model_sets[obj] = sorted(data['mid'].sample(nr_models_per_model_set[i]).tolist())"
   ]
  },
  {
   "cell_type": "code",
   "execution_count": null,
   "id": "79188089-4253-4036-bb9f-5ad1da8e9c21",
   "metadata": {},
   "outputs": [],
   "source": [
    "model_sets = {\n",
    "    'Image-Text': [\n",
    "        'OpenCLIP_EVA02-L-14_merged2b_s4b_b131k',\n",
    "        'OpenCLIP_RN50_openai',\n",
    "        'OpenCLIP_ViT-L-14_laion2b_s32b_b82k',\n",
    "        'OpenCLIP_ViT-L-14_laion400m_e32',\n",
    "        'vit_huge_patch14_clip_224.laion2b'],\n",
    " 'Self-Supervised': [\n",
    "     'dino-xcit-medium-24-p16',\n",
    "     'dino-xcit-small-12-p16',\n",
    "     'dinov2-vit-large-p14',\n",
    "     'dinov2-vit-small-p14',\n",
    "     'simclr-rn50',\n",
    "     'vicreg-rn50'\n",
    " ],\n",
    " 'Supervised': [\n",
    "     'beit_large_patch16_224.in22k_ft_in22k',\n",
    "     'deit3_base_patch16_224.fb_in22k_ft_in1k',\n",
    "     'efficientnet_b7',\n",
    "     'resnet152',\n",
    "     'resnet50',\n",
    "     'vgg19',\n",
    "     'vit_large_patch16_224'\n",
    " ]\n",
    "}"
   ]
  },
  {
   "cell_type": "code",
   "execution_count": null,
   "id": "a84b9a1d-4137-4735-ba24-187ab34c9ffe",
   "metadata": {},
   "outputs": [],
   "source": [
    "curr_sim_metric  = 'cka_kernel_linear_unbiased'\n",
    "sim_data = sim_mats[curr_sim_metric]"
   ]
  },
  {
   "cell_type": "code",
   "execution_count": null,
   "id": "03d764f1-3b67-4fc7-9e97-ad5c5186ddfb",
   "metadata": {},
   "outputs": [],
   "source": [
    "phi = model_sets['Self-Supervised']\n",
    "theta = model_sets['Supervised']\n",
    "print(f'{len(phi)=}, {len(theta)=}')\n",
    "\n",
    "ds_A = sim_data[ds_oi[0]].loc[phi, theta]\n",
    "ds_B = sim_data[ds_oi[1]].loc[phi, theta]\n",
    "\n",
    "vmin = min(ds_A.min().min(), ds_B.min().min())\n",
    "vmax = max(ds_A.max().max(), ds_B.max().max())"
   ]
  },
  {
   "cell_type": "code",
   "execution_count": null,
   "id": "560b0bcb-c3dd-4655-9fd3-c6ab8ab77af4",
   "metadata": {},
   "outputs": [],
   "source": [
    "def get_heatmap(df, palette):\n",
    "    plt.figure(figsize=df.shape)\n",
    "    \n",
    "    sns.heatmap(\n",
    "        df.T,\n",
    "        xticklabels=False,\n",
    "        yticklabels=False,\n",
    "        cbar=False,\n",
    "        vmin=vmin,\n",
    "        vmax=vmax,\n",
    "        cmap=palette\n",
    "    )\n",
    "    return plt.gcf()"
   ]
  },
  {
   "cell_type": "code",
   "execution_count": null,
   "id": "f1946bc0-f21d-4313-9bec-da91e7571202",
   "metadata": {},
   "outputs": [],
   "source": [
    "fig = get_heatmap(ds_A, palette='Purples')\n",
    "save_or_show(fig, storing_path / f'ds_A_heatmap.pdf', SAVE)"
   ]
  },
  {
   "cell_type": "code",
   "execution_count": null,
   "id": "1dbb85ba-c531-4a5f-bf36-eb8f89f8f112",
   "metadata": {},
   "outputs": [],
   "source": [
    "fig = get_heatmap(ds_B, palette='OrRd')\n",
    "save_or_show(fig, storing_path / f'ds_B_heatmap.pdf', SAVE)"
   ]
  },
  {
   "cell_type": "code",
   "execution_count": null,
   "id": "d25c9ee0-3a2f-436e-b771-5c66abd9475d",
   "metadata": {},
   "outputs": [],
   "source": [
    "corr_coef = np.corrcoef(ds_A.values.flatten(), ds_B.values.flatten())[0, 1]\n",
    "print(corr_coef)\n",
    "\n",
    "# Create the plot\n",
    "plt.figure(figsize=(6, 4))\n",
    "sns.regplot(\n",
    "    x=ds_A.values.flatten(),\n",
    "    y=ds_B.values.flatten(),\n",
    "    color='darkgrey',\n",
    "    line_kws=dict(alpha=1, ls='--', lw=3),\n",
    "    scatter_kws=dict(alpha=1, s=75),\n",
    "    ci=None,\n",
    ")\n",
    "\n",
    "# Add the correlation coefficient as text on the plot\n",
    "#plt.text(\n",
    "#    0.7, 0.1,  # Position of the text (x, y) in axis coordinates\n",
    "#    f'Pearson r = {corr_coef:.2f}',  # Correlation coefficient rounded to 2 decimal places\n",
    "#    horizontalalignment='left',\n",
    "#    verticalalignment='top',\n",
    "#    transform=plt.gca().transAxes,  # Use axis coordinates (0 to 1)\n",
    "#    fontsize=fontsizes['label'],\n",
    "#    bbox=dict(edgecolor='white', facecolor='white', alpha=0.5)  # Optional: Add background to the text\n",
    "#)\n",
    "\n",
    "sns.despine()\n",
    "\n",
    "plt.tick_params('both', bottom=False, left=False, labelbottom=False, labelleft=False)\n",
    "plt.xlabel('CKA($\\phi$, $\\\\theta$) on ' + ds_info.loc[ds_oi[0], 'name'], fontsize=fontsizes['label'], c='mediumpurple');\n",
    "plt.ylabel('CKA($\\phi$, $\\\\theta$) on ' + ds_info.loc[ds_oi[1], 'name'], fontsize=fontsizes['label'], c='firebrick');\n",
    "\n",
    "save_or_show(plt.gcf(), storing_path / f'scatter_phi_theta.pdf', SAVE)"
   ]
  },
  {
   "cell_type": "code",
   "execution_count": null,
   "id": "bc34d089-4b04-406c-86c5-c88510605fc4",
   "metadata": {},
   "outputs": [],
   "source": []
  }
 ],
 "metadata": {
  "kernelspec": {
   "display_name": "Python 3 (ipykernel)",
   "language": "python",
   "name": "python3"
  },
  "language_info": {
   "codemirror_mode": {
    "name": "ipython",
    "version": 3
   },
   "file_extension": ".py",
   "mimetype": "text/x-python",
   "name": "python",
   "nbconvert_exporter": "python",
   "pygments_lexer": "ipython3",
   "version": "3.10.13"
  }
 },
 "nbformat": 4,
 "nbformat_minor": 5
}

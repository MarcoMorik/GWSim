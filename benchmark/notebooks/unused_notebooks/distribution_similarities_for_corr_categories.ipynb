{
 "cells": [
  {
   "cell_type": "code",
   "execution_count": null,
   "id": "initial_id",
   "metadata": {
    "collapsed": true,
    "jupyter": {
     "outputs_hidden": true
    }
   },
   "outputs": [],
   "source": [
    "from pathlib import Path\n",
    "\n",
    "import matplotlib.pyplot as plt\n",
    "import pandas as pd\n",
    "import seaborn as sns\n",
    "from matplotlib import ticker\n",
    "\n",
    "from constants import cat_name_mapping, exclude_models_w_mae\n",
    "from notebooks.helper import save_or_show\n",
    "\n",
    "sns.set_style('ticks')"
   ]
  },
  {
   "cell_type": "code",
   "execution_count": null,
   "id": "ade98c187b640e09",
   "metadata": {},
   "outputs": [],
   "source": [
    "SAVE = False\n",
    "# f'/home/space/diverse_priors/results/plots/distribution_similarities'\n",
    "storing_path = Path(\n",
    "    f'/Users/lciernik/Documents/TUB/projects/divers_prios/results/analysis_model_similarities_across_datasets/distribution_similarities'\n",
    ")\n",
    "if SAVE:\n",
    "    storing_path.mkdir(parents=True, exist_ok=True)"
   ]
  },
  {
   "cell_type": "code",
   "execution_count": null,
   "id": "4326b809261550ac",
   "metadata": {},
   "outputs": [],
   "source": [
    "from helper import load_model_configs_and_allowed_models\n",
    "\n",
    "model_configs, allowed_models = load_model_configs_and_allowed_models(\n",
    "    path='../scripts/models_config_wo_barlowtwins_n_alignment.json',\n",
    "    exclude_models=[],\n",
    "    exclude_alignment=True,\n",
    ")\n",
    "orig_cols = {'Objective pair': 'objective', 'Architecture pair': 'architecture_class', 'Dataset pair': 'dataset_class',\n",
    "             'Model size pair': 'size_class'}"
   ]
  },
  {
   "cell_type": "code",
   "execution_count": null,
   "id": "f882cbf43297d8c0",
   "metadata": {},
   "outputs": [],
   "source": [
    "# base_path_aggregated = '/home/space/diverse_priors/results/aggregated'\n",
    "base_path_aggregated = Path('/Users/lciernik/Documents/TUB/projects/divers_prios/results/aggregated')\n",
    "\n",
    "### Config similarity data\n",
    "sim_data = pd.read_csv(base_path_aggregated / 'model_sims/all_metric_ds_model_pair_similarity.csv')"
   ]
  },
  {
   "cell_type": "code",
   "execution_count": null,
   "id": "680a68a27ad10c84",
   "metadata": {},
   "outputs": [],
   "source": [
    "sim_data = sim_data[sim_data['Model 1'].isin(allowed_models) & sim_data['Model 2'].isin(allowed_models)]"
   ]
  },
  {
   "cell_type": "code",
   "execution_count": null,
   "id": "760ccea4d9dbae25",
   "metadata": {},
   "outputs": [],
   "source": [
    "pair_columns = sorted(['Objective pair', 'Architecture pair', 'Dataset pair', 'Model size pair'])"
   ]
  },
  {
   "cell_type": "code",
   "execution_count": null,
   "id": "e3762e271424598d",
   "metadata": {},
   "outputs": [],
   "source": [
    "for col in pair_columns:\n",
    "    sim_data[col] = sim_data[col].apply(eval)\n",
    "    sim_data[f\"M1 {col}\"] = sim_data[col].apply(lambda x: cat_name_mapping[x[0]])\n",
    "    sim_data[f\"M2 {col}\"] = sim_data[col].apply(lambda x: cat_name_mapping[x[1]])\n",
    "    sim_data[col] = sim_data[col].apply(lambda x: f\"{cat_name_mapping[x[0]]} – {cat_name_mapping[x[1]]}\")"
   ]
  },
  {
   "cell_type": "code",
   "execution_count": null,
   "id": "e7c9f8d7e44f236",
   "metadata": {},
   "outputs": [],
   "source": [
    "for col in pair_columns:\n",
    "    sim_data[col] = sim_data[col].apply(str)"
   ]
  },
  {
   "cell_type": "code",
   "execution_count": null,
   "id": "e785b3b84043c02",
   "metadata": {},
   "outputs": [],
   "source": [
    "def get_box_plt_sim_distributions(all_data, curr_pair_columns):\n",
    "    # n = sim_data['Similarity metric'].nunique()\n",
    "    n = all_data['Similarity metric'].nunique()\n",
    "    m = len(curr_pair_columns)\n",
    "    cm = 0.393701\n",
    "    fontsize_title = 16\n",
    "    fontsize_lbl = 16\n",
    "    fontsize_ticks = 14\n",
    "    fig, axes = plt.subplots(n, m, figsize=(12 * cm * m, 6 * cm * n), sharey=True, sharex='col')\n",
    "    for i, metric in enumerate(all_data['Similarity metric'].unique()):\n",
    "        for j, col in enumerate(curr_pair_columns):\n",
    "            ax = axes[i, j]\n",
    "\n",
    "            data = all_data[all_data['Similarity metric'] == metric]\n",
    "            # data = data[data[f\"M1 {col}\"] == data[f\"M2 {col}\"]]  # Only same categories\n",
    "\n",
    "            data = data.sort_values(by=col)\n",
    "            sns.boxenplot(\n",
    "                data=data,\n",
    "                x=col,\n",
    "                y='Similarity value',\n",
    "                ax=ax,\n",
    "                hue=col,\n",
    "                palette='tab10',\n",
    "            )\n",
    "            ax.tick_params(axis='x',  # Apply to both x and y axes\n",
    "                           which='major',  # Apply to major ticks\n",
    "                           rotation=90,\n",
    "                           labelsize=fontsize_ticks)\n",
    "            ax.yaxis.set_major_formatter(ticker.FormatStrFormatter('%.2f'))\n",
    "\n",
    "            title = col if i == 0 else ''\n",
    "            ax.set_title(title, fontsize=fontsize_title)\n",
    "            ax.set_xlabel('', fontsize=fontsize_lbl)\n",
    "\n",
    "            ylbl = f'{metric}\\nSimilarity value' if j == 0 else ''\n",
    "            ax.set_ylabel(ylbl, fontsize=fontsize_lbl)\n",
    "\n",
    "            # ax.axhline(0.7, c='r', ls=\":\", zorder=-1)\n",
    "\n",
    "    fig.subplots_adjust(wspace=0.1, hspace=0.1)\n",
    "    return fig\n",
    "\n",
    "\n",
    "from matplotlib.backends.backend_pdf import PdfPages\n",
    "pdf = PdfPages(storing_path/'output.pdf')\n",
    "fig = get_box_plt_sim_distributions(sim_data, pair_columns)\n",
    "fig.suptitle(f\"No fixed models\", fontsize=16)\n",
    "pdf.savefig(fig, bbox_inches='tight')\n",
    "# save_or_show(fig, storing_path / f'all_categories.pdf', SAVE)"
   ]
  },
  {
   "cell_type": "code",
   "execution_count": null,
   "id": "da6d2fb2cb635586",
   "metadata": {},
   "outputs": [],
   "source": [
    "settings_to_fix_cat = [\n",
    "    {'fix_cols': ['Architecture pair'],\n",
    "     'fix_vals': ['CNN']},\n",
    "\n",
    "    {'fix_cols': ['Architecture pair'],\n",
    "     'fix_vals': ['TX']},\n",
    "\n",
    "    {'fix_cols': ['Dataset pair'],\n",
    "     'fix_vals': ['IN1k']},\n",
    "\n",
    "    {'fix_cols': ['Dataset pair'],\n",
    "     'fix_vals': ['XLarge DS']},\n",
    "\n",
    "    {'fix_cols': ['Model size pair'],\n",
    "     'fix_vals': ['small']},\n",
    "\n",
    "    {'fix_cols': ['Model size pair'],\n",
    "     'fix_vals': ['medium']},\n",
    "\n",
    "    {'fix_cols': ['Model size pair'],\n",
    "     'fix_vals': ['large']},\n",
    "\n",
    "    {'fix_cols': ['Objective pair'],\n",
    "     'fix_vals': ['Img-Txt']},\n",
    "\n",
    "    {'fix_cols': ['Objective pair'],\n",
    "     'fix_vals': ['SSL']},\n",
    "\n",
    "    {'fix_cols': ['Objective pair'],\n",
    "     'fix_vals': ['Sup']},\n",
    "\n",
    "    {'fix_cols': ['Architecture pair', 'Objective pair'],\n",
    "     'fix_vals': ['CNN', 'Sup']},\n",
    "\n",
    "    {'fix_cols': ['Architecture pair', 'Objective pair'],\n",
    "     'fix_vals': ['TX', 'Sup']},\n",
    "\n",
    "    {'fix_cols': ['Dataset pair', 'Architecture pair'],\n",
    "     'fix_vals': ['IN1k', 'CNN']},\n",
    "\n",
    "    {'fix_cols': ['Dataset pair', 'Architecture pair'],\n",
    "     'fix_vals': ['IN1k', 'TX']},\n",
    "\n",
    "    {'fix_cols': ['Dataset pair', 'Architecture pair'],\n",
    "     'fix_vals': ['Large DS', 'TX']},\n",
    "\n",
    "    {'fix_cols': ['Dataset pair', 'Objective pair'],\n",
    "     'fix_vals': ['IN1k', 'SSL']},\n",
    "\n",
    "    {'fix_cols': ['Dataset pair', 'Objective pair'],\n",
    "     'fix_vals': ['IN1k', 'Sup']},\n",
    "\n",
    "    {'fix_cols': ['Dataset pair', 'Objective pair'],\n",
    "     'fix_vals': ['IN21k', 'Sup']},\n",
    "]\n"
   ]
  },
  {
   "cell_type": "code",
   "execution_count": null,
   "id": "fdc3c4d3bb7ff42a",
   "metadata": {},
   "outputs": [],
   "source": [
    "all_model_sets = {}\n",
    "\n",
    "for setting in settings_to_fix_cat:\n",
    "    subset_data = sim_data.copy()\n",
    "    curr_pair_cols = pair_columns.copy()\n",
    "    all_fixed_vals = []\n",
    "    for col_name, fix_value in zip(setting['fix_cols'], setting['fix_vals']):\n",
    "        m1_col = f'M1 {col_name}'\n",
    "        m2_col = f'M2 {col_name}'\n",
    "        subset_data = subset_data[(subset_data[m1_col] == fix_value) & (subset_data[m2_col] == fix_value)]\n",
    "        curr_pair_cols.remove(col_name)\n",
    "        all_fixed_vals.append(fix_value)\n",
    "\n",
    "    model_set = set()\n",
    "    model_set.update(subset_data['Model 1'].unique())\n",
    "    model_set.update(subset_data['Model 2'].unique())\n",
    "    model_set = sorted(list(model_set))\n",
    "    tmp = [orig_cols[c] for c in curr_pair_cols]\n",
    "    model_set = [(mid, [cat_name_mapping[k] for k in model_configs.loc[mid, tmp].to_list()]) for mid in model_set]\n",
    "    print(f\"Models:\")\n",
    "    for mid in model_set:\n",
    "        print(f\"Model: {mid[0]}, {mid[1]}\")\n",
    "    setting_name = '_'.join(setting['fix_vals'])\n",
    "    all_model_sets[setting_name] = model_set\n",
    "    fig = get_box_plt_sim_distributions(subset_data, curr_pair_cols)\n",
    "    fig.suptitle(f\"Fixed values: {', '.join(all_fixed_vals)}\", fontsize=16)\n",
    "    pdf.savefig(fig, bbox_inches='tight')\n",
    "    plt.show(fig)"
   ]
  },
  {
   "cell_type": "code",
   "execution_count": null,
   "id": "1356e1835077b178",
   "metadata": {},
   "outputs": [],
   "source": [
    "pdf.close()"
   ]
  },
  {
   "cell_type": "code",
   "execution_count": null,
   "id": "cf10fc5a37059ca8",
   "metadata": {},
   "outputs": [],
   "source": [
    "import json\n",
    "\n",
    "with open(storing_path/'output.json', 'w') as json_file:\n",
    "    json.dump(all_model_sets, json_file, indent=4)"
   ]
  }
 ],
 "metadata": {
  "kernelspec": {
   "display_name": "Python 3 (ipykernel)",
   "language": "python",
   "name": "python3"
  },
  "language_info": {
   "codemirror_mode": {
    "name": "ipython",
    "version": 3
   },
   "file_extension": ".py",
   "mimetype": "text/x-python",
   "name": "python",
   "nbconvert_exporter": "python",
   "pygments_lexer": "ipython3",
   "version": "3.10.13"
  }
 },
 "nbformat": 4,
 "nbformat_minor": 5
}

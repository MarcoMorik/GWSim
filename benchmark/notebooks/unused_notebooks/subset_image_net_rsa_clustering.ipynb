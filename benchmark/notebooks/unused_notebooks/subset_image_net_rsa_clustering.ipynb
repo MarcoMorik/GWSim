{
 "cells": [
  {
   "cell_type": "code",
   "execution_count": null,
   "id": "1a528de1-87fe-4290-b1d1-589f886a3a96",
   "metadata": {},
   "outputs": [],
   "source": [
    "import os\n",
    "import sys\n",
    "import torch\n",
    "sys.path.append('../scripts')\n",
    "from helper import load_models, prepare_for_combined_usage\n",
    "import seaborn as sns\n",
    "import pandas as pd\n",
    "import numpy as np\n",
    "import matplotlib.pyplot as plt"
   ]
  },
  {
   "cell_type": "code",
   "execution_count": null,
   "id": "857c5b4c-d1fe-4db8-b52e-be4c32b15331",
   "metadata": {},
   "outputs": [],
   "source": [
    "corr_method = \"spearman\""
   ]
  },
  {
   "cell_type": "code",
   "execution_count": null,
   "id": "0a4a284f-8e4c-488b-88d6-f2dc801ed54e",
   "metadata": {},
   "outputs": [],
   "source": [
    "rsa_mat = torch.load(f\"/home/lciernik/projects/divers-priors/results_local/rsa_correlation_{corr_method}/imagenet_subset_10k/rsa_distance_matrix.pt\")"
   ]
  },
  {
   "cell_type": "code",
   "execution_count": null,
   "id": "b64f8cf7-84f8-41cd-8887-61630281a16c",
   "metadata": {},
   "outputs": [],
   "source": [
    "dataset = 'imagenet-subset-10k'"
   ]
  },
  {
   "cell_type": "code",
   "execution_count": null,
   "id": "a2f9ce60-b37e-4712-9268-0653696bfa55",
   "metadata": {},
   "outputs": [],
   "source": [
    "models, n_models = load_models('../scripts/models_config.json')\n",
    "model_names, sources, model_parameters, module_names = prepare_for_combined_usage(models)\n",
    "models = zip(model_names, sources, model_parameters, module_names)"
   ]
  },
  {
   "cell_type": "code",
   "execution_count": null,
   "id": "8dfb6138-bfc8-4bba-8a8c-659d113348f5",
   "metadata": {},
   "outputs": [],
   "source": [
    "def _get_model_id(model, model_parameters):\n",
    "    if not model_parameters:\n",
    "        return model\n",
    "    model_slug = model\n",
    "    model_suffix = model_parameters.get(\"variant\", \"\")\n",
    "    if model_suffix:\n",
    "        model_slug = f\"{model_slug}_{model_suffix}\"\n",
    "    model_suffix = model_parameters.get(\"dataset\", \"\")\n",
    "    if model_suffix:\n",
    "        model_slug = f\"{model_slug}_{model_suffix}\"\n",
    "    return model_slug"
   ]
  },
  {
   "cell_type": "code",
   "execution_count": null,
   "id": "b10c53c2-5c20-45d1-a3db-25a3b9ff5194",
   "metadata": {},
   "outputs": [],
   "source": [
    "# Get model ids\n",
    "model_ids = [_get_model_id(model[0], model[2]) for model in models]\n",
    "model_ids = [(model_id + '-' + dataset).replace('/', '_') for model_id in model_ids]"
   ]
  },
  {
   "cell_type": "code",
   "execution_count": null,
   "id": "4797f9fe-46f1-4ca6-9ecf-acab3b878223",
   "metadata": {},
   "outputs": [],
   "source": [
    "feature_root=\"/home/space/diverse_priors/features\"\n",
    "split='train'\n",
    "model_ids = sorted(\n",
    "        [mid for mid in model_ids if os.path.exists(os.path.join(feature_root, mid, f'features_{split}.pt'))])\n",
    "model_ids = [mid.replace(f\"-{dataset}\", \"\") for mid in model_ids]"
   ]
  },
  {
   "cell_type": "code",
   "execution_count": null,
   "id": "b623c150-d471-4b4c-bad9-fbbdec0f9b2d",
   "metadata": {},
   "outputs": [],
   "source": [
    "df = pd.DataFrame(rsa_mat.numpy(), index=model_ids, columns=model_ids)"
   ]
  },
  {
   "cell_type": "code",
   "execution_count": null,
   "id": "d41c983d-2cc9-4c3e-a7c8-83799b68a0f1",
   "metadata": {},
   "outputs": [],
   "source": [
    "plt.figure(figsize=(15,15))\n",
    "g = sns.heatmap(df, cmap='coolwarm', annot=True, fmt='.2f')\n",
    "g.set_title(f\"{dataset.upper()} RSA {corr_method} correlation\")\n",
    "plt.savefig(f'heatmap_model_rsa_{corr_method}.pdf', format='pdf')"
   ]
  },
  {
   "cell_type": "code",
   "execution_count": null,
   "id": "47ff4725-2a97-4355-ad39-85423a9fb267",
   "metadata": {},
   "outputs": [],
   "source": [
    "sns.clustermap(df, cmap='coolwarm', annot=True, fmt='.2f', figsize=(20,20))\n",
    "g.set_title(f\"{dataset.upper()} RSA {corr_method} correlation\")\n",
    "plt.savefig(f'dendogram_model_rsa_{corr_method}.pdf', format='pdf')"
   ]
  },
  {
   "cell_type": "code",
   "execution_count": null,
   "id": "a569c303-85c1-4766-b6a5-3534cb65623f",
   "metadata": {},
   "outputs": [],
   "source": [
    "affinity_mat = df.copy().abs()"
   ]
  },
  {
   "cell_type": "code",
   "execution_count": null,
   "id": "50e63be1-636a-454c-9b1b-c2b480b23521",
   "metadata": {},
   "outputs": [],
   "source": [
    "np.fill_diagonal(affinity_mat.values, 1)"
   ]
  },
  {
   "cell_type": "code",
   "execution_count": null,
   "id": "0c027dc1-75ea-402c-bd77-ec324092c281",
   "metadata": {},
   "outputs": [],
   "source": [
    "dissimilarity_mat = (1 - affinity_mat)"
   ]
  },
  {
   "cell_type": "code",
   "execution_count": null,
   "id": "9c97a204-1a93-49ac-bbe0-6bac48a0d455",
   "metadata": {},
   "outputs": [],
   "source": [
    "from sklearn.cluster import SpectralClustering, AffinityPropagation \n",
    "from sklearn.manifold import TSNE, MDS\n",
    "import textwrap"
   ]
  },
  {
   "cell_type": "code",
   "execution_count": null,
   "id": "34cb14a4-6dd6-4263-bc0f-f2dc51785fd1",
   "metadata": {},
   "outputs": [],
   "source": [
    "affinity_mat_embedded_tsne = TSNE(n_components=2, \n",
    "                                  learning_rate='auto', \n",
    "                                  init='random', \n",
    "                                  perplexity=30,\n",
    "                                  metric='precomputed').fit_transform(dissimilarity_mat.values)"
   ]
  },
  {
   "cell_type": "code",
   "execution_count": null,
   "id": "36f89cde-a07b-44c1-96fb-2b61921848d2",
   "metadata": {},
   "outputs": [],
   "source": [
    "dissim_mat_embedded_mds = MDS(n_components=2, \n",
    "                              normalized_stress='auto', \n",
    "                              dissimilarity='precomputed').fit_transform(dissimilarity_mat.values)"
   ]
  },
  {
   "cell_type": "code",
   "execution_count": null,
   "id": "3b8c94e7-3ab8-41b9-9b90-3cb393a279d7",
   "metadata": {},
   "outputs": [],
   "source": [
    "df_pred = pd.DataFrame(index=df.index).reset_index()"
   ]
  },
  {
   "cell_type": "code",
   "execution_count": null,
   "id": "f0e15685-b51d-4643-b6fc-5e28430fc760",
   "metadata": {},
   "outputs": [],
   "source": [
    "clustering = SpectralClustering(n_clusters=4,\n",
    "                                affinity='precomputed',\n",
    "                                assign_labels='discretize',\n",
    "                                random_state=0)\n",
    "\n",
    "df_pred['spec_labels'] = clustering.fit_predict(affinity_mat.values, y=None)                         "
   ]
  },
  {
   "cell_type": "code",
   "execution_count": null,
   "id": "3f4578b1-b82e-4749-8408-08ba9f359ff6",
   "metadata": {},
   "outputs": [],
   "source": [
    "clustering = AffinityPropagation(damping=0.75,\n",
    "                                 affinity='precomputed',\n",
    "                                 random_state=5)\n",
    "\n",
    "\n",
    "df_pred['aff_labels'] = clustering.fit_predict(affinity_mat.values, y=None)  "
   ]
  },
  {
   "cell_type": "code",
   "execution_count": null,
   "id": "b0ff9ca6-45f0-4d20-b336-09dcff53ffd4",
   "metadata": {},
   "outputs": [],
   "source": [
    "group_models_spec = df_pred.groupby('spec_labels').index.unique()\n",
    "group_models_aff = df_pred.groupby('aff_labels').index.unique()"
   ]
  },
  {
   "cell_type": "code",
   "execution_count": null,
   "id": "eb5fc869-4e7f-4be9-83f7-aba7e73ac19c",
   "metadata": {},
   "outputs": [],
   "source": [
    "lbl_spec = group_models_spec.apply(lambda x: '\\n'.join(textwrap.wrap(', '.join(x), width=50)))\n",
    "lbl_aff = group_models_aff.apply(lambda x: '\\n'.join(textwrap.wrap(', '.join(x), width=50)))"
   ]
  },
  {
   "cell_type": "code",
   "execution_count": null,
   "id": "13029e83-d899-4cde-8830-efa68f976262",
   "metadata": {},
   "outputs": [],
   "source": [
    "fig, axs = plt.subplots(nrows=2, ncols=2, figsize=(14,10))\n",
    "sns.scatterplot(\n",
    "    x = affinity_mat_embedded_tsne[:,0],\n",
    "    y = affinity_mat_embedded_tsne[:,1],\n",
    "    hue = df_pred['spec_labels'],\n",
    "    palette = 'tab10',\n",
    "    ax=axs[0, 0],\n",
    "    legend=False,\n",
    "    s=100\n",
    ")\n",
    "axs[0,0].set_title('TSNE with SpectralClustering')\n",
    "\n",
    "sns.scatterplot(\n",
    "    x = dissim_mat_embedded_mds[:,0],\n",
    "    y = dissim_mat_embedded_mds[:,1],\n",
    "    hue = df_pred['spec_labels'],\n",
    "    palette = 'tab10',\n",
    "    ax=axs[0, 1],\n",
    "    s=100\n",
    ")\n",
    "axs[0, 1].set_title('MDS with SpectralClustering')\n",
    "\n",
    "sns.scatterplot(\n",
    "    x = affinity_mat_embedded_tsne[:,0],\n",
    "    y = affinity_mat_embedded_tsne[:,1],\n",
    "    hue = df_pred['aff_labels'],\n",
    "    palette = 'tab10',\n",
    "    ax=axs[1, 0],\n",
    "    legend=False,\n",
    "    s=100\n",
    ")\n",
    "axs[1,0].set_title('TSNE with AffinityPropagation')\n",
    "sns.scatterplot(\n",
    "    x = dissim_mat_embedded_mds[:,0],\n",
    "    y = dissim_mat_embedded_mds[:,1],\n",
    "    hue = df_pred['aff_labels'],\n",
    "    palette = 'tab10',\n",
    "    ax=axs[1, 1],\n",
    "    s=100\n",
    ")\n",
    "axs[1, 1].set_title('MDS with AffinityPropagation')\n",
    "\n",
    "for ax in axs[:,1].flat:\n",
    "    legend = ax.legend(bbox_to_anchor=(1.05, 1), loc='upper left')\n",
    "    legend_labels = lbl_spec if ax in axs[0,:] else lbl_aff\n",
    "    legend.set_title('Labels')\n",
    "    for i, label in legend_labels.items():\n",
    "        legend.get_texts()[i].set_text(f\"{label}\")\n",
    "fig.suptitle(f\"{dataset.upper()} RSA {corr_method} correlation clustering\")\n",
    "plt.tight_layout()\n",
    "plt.savefig(f'scatter_plots_clusters_rsa_{corr_method}.pdf', format='pdf')"
   ]
  },
  {
   "cell_type": "code",
   "execution_count": null,
   "id": "ccd6fd02-4824-454a-9a27-9d3c5f8216eb",
   "metadata": {},
   "outputs": [],
   "source": []
  }
 ],
 "metadata": {
  "kernelspec": {
   "display_name": "Python 3 (ipykernel)",
   "language": "python",
   "name": "python3"
  },
  "language_info": {
   "codemirror_mode": {
    "name": "ipython",
    "version": 3
   },
   "file_extension": ".py",
   "mimetype": "text/x-python",
   "name": "python",
   "nbconvert_exporter": "python",
   "pygments_lexer": "ipython3",
   "version": "3.9.17"
  }
 },
 "nbformat": 4,
 "nbformat_minor": 5
}

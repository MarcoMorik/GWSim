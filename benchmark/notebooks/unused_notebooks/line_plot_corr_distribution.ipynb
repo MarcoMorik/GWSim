{
 "cells": [
  {
   "cell_type": "code",
   "execution_count": null,
   "id": "29d1d0c8-c2ef-440c-85c3-8c18d12a2529",
   "metadata": {},
   "outputs": [],
   "source": [
    "import sys\n",
    "from itertools import combinations\n",
    "from pathlib import Path\n",
    "\n",
    "import matplotlib.pyplot as plt\n",
    "import numpy as np\n",
    "import pandas as pd\n",
    "import seaborn as sns\n",
    "import json\n",
    "\n",
    "from constants import (anchor_name_mapping, available_data, exclude_models, exclude_models_w_mae, model_config_file)\n",
    "from helper import load_model_configs_and_allowed_models, load_similarity_matrices, save_or_show\n",
    "\n",
    "sys.path.append('..')\n",
    "from scripts.helper import parse_datasets\n",
    "from constants import sim_metric_name_mapping"
   ]
  },
  {
   "cell_type": "code",
   "execution_count": null,
   "id": "5f1117c1-b686-4b0a-a8a4-74a2a389b16e",
   "metadata": {},
   "outputs": [],
   "source": [
    "base_path_similarity_matrices = Path('/home/space/diverse_priors/model_similarities')\n",
    "sim_metrics = [\n",
    "    'cka_kernel_rbf_unbiased_sigma_0.4',\n",
    "    'cka_kernel_linear_unbiased',\n",
    "]\n",
    "sim_metrics_mapped = [sim_metric_name_mapping[k] for k in sim_metrics]\n",
    "\n",
    "ds_list = parse_datasets('../scripts/webdatasets_w_insub10k.txt')\n",
    "ds_list = list(map(lambda x: x.replace('/', '_'), ds_list))\n",
    "\n",
    "cm = 0.393701\n",
    "\n",
    "anchors = [\n",
    "    'OpenCLIP_RN50_openai',\n",
    "    'OpenCLIP_ViT-L-14_openai',\n",
    "    'simclr-rn50',\n",
    "    'dinov2-vit-large-p14',\n",
    "    'resnet50',\n",
    "    'vit_large_patch16_224',\n",
    "]\n",
    "\n",
    "curr_data = available_data[3]\n",
    "curr_data_wo_ext = curr_data.split('.')[0]\n",
    "agg_data_path = Path(f'/home/space/diverse_priors/results/aggregated/r_coeff_dist/{curr_data}')\n",
    "tmp = pd.read_csv(agg_data_path)\n",
    "print(curr_data, tmp.shape)\n",
    "\n",
    "SAVE = True\n",
    "storing_path = Path(f'/home/space/diverse_priors/results/plots/distribution_similarity/{curr_data_wo_ext}')\n",
    "if SAVE:\n",
    "    storing_path.mkdir(parents=True, exist_ok=True)"
   ]
  },
  {
   "cell_type": "code",
   "execution_count": null,
   "id": "2417f211-e054-48e0-bac8-a08751a339fd",
   "metadata": {},
   "outputs": [],
   "source": [
    "curr_excl_models = exclude_models_w_mae if 'mae' in curr_data else exclude_models\n",
    "\n",
    "model_configs, allowed_models = load_model_configs_and_allowed_models(\n",
    "    path=model_config_file,\n",
    "    exclude_models=curr_excl_models,\n",
    "    exclude_alignment=True,\n",
    ")"
   ]
  },
  {
   "cell_type": "markdown",
   "id": "e8fcc57c-e6e5-43e4-a3b3-4508fadc02dd",
   "metadata": {},
   "source": [
    "### Line plot distributions"
   ]
  },
  {
   "cell_type": "code",
   "execution_count": null,
   "id": "16d4a1cd-b93a-4a11-b93d-26f4cd8ef1a0",
   "metadata": {},
   "outputs": [],
   "source": [
    "r_df = pd.read_csv(agg_data_path)"
   ]
  },
  {
   "cell_type": "code",
   "execution_count": null,
   "id": "b65e3d66-5412-4223-9e4a-3991d8309e61",
   "metadata": {},
   "outputs": [],
   "source": [
    "r_df = r_df[r_df['Anchor Model'].isin(anchors)]\n",
    "sim_mets = sim_metrics_mapped\n",
    "n = len(anchors)\n",
    "m = len(sim_metrics_mapped)\n",
    "\n",
    "include_all = False\n",
    "\n",
    "for comp_cat in r_df['Comparison category'].unique():\n",
    "    subset = r_df[r_df['Comparison category'] == comp_cat]\n",
    "    comp_cat_orig = subset['Comparison category (orig. name)'].unique()[0]\n",
    "    fig, axes = plt.subplots(nrows=m, ncols=n, figsize=(n * 6 * cm, m * 3.5 * cm), sharex=True, sharey=False)\n",
    "    handles, labels = [], []\n",
    "    for anchor in anchors:\n",
    "        for sim_metric in sim_mets:\n",
    "            group_data = subset[(subset['Anchor Model'] == anchor) & (subset['Similarity metric'] == sim_metric)]\n",
    "            key = (anchor, sim_metric)\n",
    "            idx_row = list(anchors).index(key[0])\n",
    "            idx_col = list(sim_mets).index(key[1])\n",
    "            ax = axes[idx_col, idx_row]\n",
    "\n",
    "            if not include_all:\n",
    "                group_data = group_data[group_data['Comparison values'] != 'All']\n",
    "\n",
    "            hue_order = sorted(list(group_data['Comparison values'].unique()))\n",
    "            if include_all:\n",
    "                hue_order = hue_order[1:] + hue_order[:1]\n",
    "            elif comp_cat == 'Model size':\n",
    "                hue_order = ['small', 'medium', 'large', 'xlarge']\n",
    "\n",
    "            sns.kdeplot(\n",
    "                group_data,\n",
    "                x='r coeff',\n",
    "                hue='Comparison values',\n",
    "                hue_order=hue_order,\n",
    "                ax=ax\n",
    "            )\n",
    "\n",
    "            ax.axvline(0.5, c='grey', ls=':', alpha=0.5, zorder=-1, lw=0.75)\n",
    "            ax.set_xlim([-0.5, 1.1])\n",
    "\n",
    "            ax.set_title(f\"{anchor_name_mapping[key[0]]}\" if idx_col == 0 else \"\", fontsize=11,\n",
    "                         color=sns.color_palette('tab10', 10).as_hex()[\n",
    "                             hue_order.index(model_configs.loc[key[0]][comp_cat_orig])])\n",
    "            ax.set_xlabel('' if idx_col < (m - 1) else 'Correlation coefficient')\n",
    "            ax.set_ylabel('' if idx_row > 0 else f\"{key[1]}\\nDensity\", fontsize=11)\n",
    "\n",
    "            if idx_col == 0 and idx_row == n - 1:\n",
    "                sns.move_legend(ax, loc='upper left', title=comp_cat, bbox_to_anchor=(1, 1), fontsize=11,\n",
    "                                title_fontsize=11, frameon=False)\n",
    "            else:\n",
    "                ax.get_legend().remove()\n",
    "\n",
    "    fig.tight_layout()\n",
    "    save_or_show(fig,\n",
    "                 storing_path / f'line_plot_{comp_cat.replace(\" \", \"_\")}.pdf',\n",
    "                 SAVE)\n"
   ]
  },
  {
   "cell_type": "markdown",
   "id": "2f83e625-4318-4126-9e07-10571dd0d1f7",
   "metadata": {},
   "source": [
    "#### Wasserstein distance data "
   ]
  },
  {
   "cell_type": "code",
   "execution_count": null,
   "id": "30518977-a125-4a87-8f1e-bc8d8129386a",
   "metadata": {},
   "outputs": [],
   "source": [
    "from itertools import combinations\n",
    "from scipy.stats import wasserstein_distance\n",
    "\n",
    "sim_metrics = r_df['Similarity metric'].unique()\n",
    "metric_combs = list(combinations(sim_metrics, 2))\n",
    "\n",
    "rows = []\n",
    "\n",
    "for key, group_data in r_df.groupby(['Anchor Model', 'Comparison category', 'Comparison values']):\n",
    "    for met1, met2 in metric_combs:\n",
    "        r_vals_met1 = group_data[group_data['Similarity metric'] == met1]['r coeff']\n",
    "        r_vals_met2 = group_data[group_data['Similarity metric'] == met2]['r coeff']\n",
    "        ws_dist = wasserstein_distance(r_vals_met1, r_vals_met2)\n",
    "        rows.append({\n",
    "            'Anchor Model': key[0],\n",
    "            'Comparison category': key[1],\n",
    "            'Comparison values': key[2],\n",
    "            'Metric1': met1,\n",
    "            'Metric2': met2,\n",
    "            'wasserstei': ws_dist\n",
    "        })\n",
    "ws_df = pd.DataFrame(rows)"
   ]
  },
  {
   "cell_type": "code",
   "execution_count": null,
   "id": "dcd683c9-c64b-4aa5-b86a-4a1075f1d5d6",
   "metadata": {},
   "outputs": [],
   "source": [
    "if SAVE:\n",
    "    ws_df.to_csv(storing_path / 'ws_distances.csv', index=False)"
   ]
  }
 ],
 "metadata": {
  "kernelspec": {
   "display_name": "Python 3 (ipykernel)",
   "language": "python",
   "name": "python3"
  },
  "language_info": {
   "codemirror_mode": {
    "name": "ipython",
    "version": 3
   },
   "file_extension": ".py",
   "mimetype": "text/x-python",
   "name": "python",
   "nbconvert_exporter": "python",
   "pygments_lexer": "ipython3",
   "version": "3.10.13"
  }
 },
 "nbformat": 4,
 "nbformat_minor": 5
}

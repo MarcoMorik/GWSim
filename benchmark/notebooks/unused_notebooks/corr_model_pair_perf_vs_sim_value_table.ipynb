{
 "cells": [
  {
   "cell_type": "code",
   "id": "22f88e1e-0ced-4d1e-8684-e5c6c3560294",
   "metadata": {
    "ExecuteTime": {
     "end_time": "2024-09-10T11:17:15.149298Z",
     "start_time": "2024-09-10T11:17:14.613999Z"
    }
   },
   "source": [
    "import json\n",
    "import sys\n",
    "from pathlib import Path\n",
    "\n",
    "import matplotlib.pyplot as plt\n",
    "import numpy as np\n",
    "import pandas as pd\n",
    "import seaborn as sns\n",
    "from scipy.stats import spearmanr, pearsonr\n",
    "\n",
    "from constants import exclude_models, exclude_models_w_mae, ds_name_mapping, cat_name_mapping\n",
    "from helper import load_model_configs_and_allowed_models, save_or_show\n",
    "\n",
    "sys.path.append('..')\n",
    "from scripts.helper import parse_datasets"
   ],
   "outputs": [],
   "execution_count": 1
  },
  {
   "cell_type": "code",
   "id": "4a9c7d53-9388-462f-aea4-1481454938fb",
   "metadata": {
    "ExecuteTime": {
     "end_time": "2024-09-10T11:17:15.242723Z",
     "start_time": "2024-09-10T11:17:15.152566Z"
    }
   },
   "source": [
    "# base_path_aggregated = '/home/space/diverse_priors/results/aggregated'\n",
    "base_path_aggregated = Path('/Users/lciernik/Documents/TUB/projects/divers_prios/results/aggregated')\n",
    "\n",
    "### Config similarity data\n",
    "sim_data = pd.read_csv(base_path_aggregated / 'model_sims/all_metric_ds_model_pair_similarity.csv')\n",
    "\n",
    "### Config performance data\n",
    "ds_list_perf = parse_datasets('../scripts/webdatasets_wo_ood.txt')\n",
    "ds_list_perf = list(map(lambda x: x.replace('/', '_'), ds_list_perf))\n",
    "with open('../scripts/dataset_info.json', 'r') as f:\n",
    "    ds_info = json.load(f)\n",
    "    ds_info = {k.replace('/', '_'): v for k, v in ds_info.items()}\n",
    "\n",
    "results_root = '/home/space/diverse_priors/results/linear_probe/single_model'\n",
    "\n",
    "### Config datasets to include\n",
    "ds_to_include = []\n",
    "ds_with_info = {}\n",
    "# ds_to_include = ['wds_imagenet1k', 'imagenet-subset-10k', 'wds_vtab_flowers', 'wds_vtab_pcam']\n",
    "# ds_with_info = {ds: (ds_name_mapping[ds], ds_info[ds]['domain']) for ds in ds_to_include}\n",
    "# print(ds_with_info)\n",
    "\n",
    "## Storing information\n",
    "suffix = ''\n",
    "# suffix = '_ wo_mae'\n",
    "\n",
    "SAVE = True\n",
    "# f'/home/space/diverse_priors/results/plots/scatter_sim_vs_performance'\n",
    "storing_path = Path(\n",
    "    f'/Users/lciernik/Documents/TUB/projects/divers_prios/results/analysis_model_similarities_across_datasets/scatter_sim_vs_performance'\n",
    ")\n",
    "if SAVE:\n",
    "    storing_path.mkdir(parents=True, exist_ok=True)"
   ],
   "outputs": [],
   "execution_count": 2
  },
  {
   "metadata": {
    "ExecuteTime": {
     "end_time": "2024-09-10T11:17:15.309084Z",
     "start_time": "2024-09-10T11:17:15.306826Z"
    }
   },
   "cell_type": "code",
   "source": "ds_info = pd.DataFrame(ds_info).T",
   "id": "7f8430558fd54db",
   "outputs": [],
   "execution_count": 3
  },
  {
   "cell_type": "code",
   "id": "ce4109a6-f2e8-4357-94c6-9fdfda095f99",
   "metadata": {
    "ExecuteTime": {
     "end_time": "2024-09-10T11:17:15.317069Z",
     "start_time": "2024-09-10T11:17:15.315178Z"
    }
   },
   "source": [
    "## Filter similarity data only for desired datasets\n",
    "if ds_to_include:\n",
    "    sim_data = sim_data[sim_data['DS'].isin(ds_to_include)].reset_index(drop=True)"
   ],
   "outputs": [],
   "execution_count": 4
  },
  {
   "metadata": {
    "ExecuteTime": {
     "end_time": "2024-09-10T11:17:15.324659Z",
     "start_time": "2024-09-10T11:17:15.323041Z"
    }
   },
   "cell_type": "code",
   "source": [
    "## Rename datasets with info\n",
    "if ds_to_include:\n",
    "    sim_data['DS'] = sim_data['DS'].apply(lambda x: f\"{ds_with_info[x][0]} ({ds_with_info[x][1]})\")"
   ],
   "id": "e86e4ea7207b2abc",
   "outputs": [],
   "execution_count": 5
  },
  {
   "cell_type": "code",
   "id": "d62098ae-8f25-4c27-a1b6-454ba74d7708",
   "metadata": {
    "ExecuteTime": {
     "end_time": "2024-09-10T11:17:15.332474Z",
     "start_time": "2024-09-10T11:17:15.330650Z"
    }
   },
   "source": [
    "## Remove MAE models if requested\n",
    "if 'mae' in suffix:\n",
    "    sim_data = sim_data[\n",
    "        ~(sim_data['Model 1'].str.contains('mae') | sim_data['Model 2'].str.contains('mae'))].reset_index(drop=True)"
   ],
   "outputs": [],
   "execution_count": 6
  },
  {
   "cell_type": "code",
   "id": "faa022cd-d2a2-49e3-b32f-ba830e73caa1",
   "metadata": {
    "ExecuteTime": {
     "end_time": "2024-09-10T11:17:16.852418Z",
     "start_time": "2024-09-10T11:17:15.338185Z"
    }
   },
   "source": [
    "## Post-process 'pair' columns\n",
    "def pp_pair_col(df_col):\n",
    "    return df_col.apply(eval).apply(lambda x: f\"{cat_name_mapping[x[0]]}, {cat_name_mapping[x[1]]}\")\n",
    "\n",
    "\n",
    "pair_columns = [col for col in sim_data.columns if 'pair' in col]\n",
    "sim_data[pair_columns] = sim_data[pair_columns].apply(pp_pair_col, axis=0)"
   ],
   "outputs": [],
   "execution_count": 7
  },
  {
   "cell_type": "code",
   "id": "4a906935-71d2-4ed4-955b-424e2f7c8fb8",
   "metadata": {
    "ExecuteTime": {
     "end_time": "2024-09-10T11:17:16.866616Z",
     "start_time": "2024-09-10T11:17:16.860139Z"
    }
   },
   "source": [
    "curr_excl_models = exclude_models_w_mae if 'mae' in suffix else exclude_models\n",
    "\n",
    "model_configs, allowed_models = load_model_configs_and_allowed_models(\n",
    "    path='../scripts/models_config_wo_barlowtwins_n_alignment.json',\n",
    "    exclude_models=exclude_models,\n",
    "    exclude_alignment=True,\n",
    ")\n",
    "allowed_models"
   ],
   "outputs": [
    {
     "name": "stdout",
     "output_type": "stream",
     "text": [
      "Nr. models original=63\n"
     ]
    },
    {
     "data": {
      "text/plain": [
       "['Kakaobrain_Align',\n",
       " 'OpenCLIP_EVA01-g-14-plus_merged2b_s11b_b114k',\n",
       " 'OpenCLIP_EVA01-g-14_laion400m_s11b_b41k',\n",
       " 'OpenCLIP_EVA02-B-16_merged2b_s8b_b131k',\n",
       " 'OpenCLIP_EVA02-L-14_merged2b_s4b_b131k',\n",
       " 'OpenCLIP_RN50_openai',\n",
       " 'OpenCLIP_ViT-B-16-SigLIP_webli',\n",
       " 'OpenCLIP_ViT-B-16_laion2b_s34b_b88k',\n",
       " 'OpenCLIP_ViT-B-16_laion400m_e32',\n",
       " 'OpenCLIP_ViT-B-16_openai',\n",
       " 'OpenCLIP_ViT-L-14_laion2b_s32b_b82k',\n",
       " 'OpenCLIP_ViT-L-14_laion400m_e32',\n",
       " 'OpenCLIP_ViT-L-14_openai',\n",
       " 'vit_huge_patch14_clip_224.laion2b',\n",
       " 'dino-rn50',\n",
       " 'dino-vit-base-p16',\n",
       " 'dino-vit-small-p16',\n",
       " 'dino-xcit-medium-24-p16',\n",
       " 'dino-xcit-small-12-p16',\n",
       " 'dinov2-vit-base-p14',\n",
       " 'dinov2-vit-giant-p14',\n",
       " 'dinov2-vit-large-p14',\n",
       " 'dinov2-vit-small-p14',\n",
       " 'jigsaw-rn50',\n",
       " 'mae-vit-base-p16',\n",
       " 'mae-vit-huge-p14',\n",
       " 'mae-vit-large-p16',\n",
       " 'mocov2-rn50',\n",
       " 'pirl-rn50',\n",
       " 'rotnet-rn50',\n",
       " 'simclr-rn50',\n",
       " 'swav-rn50',\n",
       " 'vicreg-rn50',\n",
       " 'beit_base_patch16_224',\n",
       " 'beit_base_patch16_224.in22k_ft_in22k',\n",
       " 'beit_large_patch16_224',\n",
       " 'beit_large_patch16_224.in22k_ft_in22k',\n",
       " 'convnext_base',\n",
       " 'convnext_large',\n",
       " 'deit3_base_patch16_224',\n",
       " 'deit3_base_patch16_224.fb_in22k_ft_in1k',\n",
       " 'deit3_large_patch16_224',\n",
       " 'deit3_large_patch16_224.fb_in22k_ft_in1k',\n",
       " 'efficientnet_b3',\n",
       " 'efficientnet_b4',\n",
       " 'efficientnet_b5',\n",
       " 'efficientnet_b6',\n",
       " 'efficientnet_b7',\n",
       " 'resnet152',\n",
       " 'resnet50',\n",
       " 'resnext50_32x4d',\n",
       " 'seresnet50',\n",
       " 'swin_base_patch4_window7_224',\n",
       " 'swin_base_patch4_window7_224.ms_in22k',\n",
       " 'swin_large_patch4_window7_224',\n",
       " 'swin_large_patch4_window7_224.ms_in22k',\n",
       " 'vgg16',\n",
       " 'vgg19',\n",
       " 'vit_base_patch16_224',\n",
       " 'vit_base_patch16_224.augreg_in21k',\n",
       " 'vit_huge_patch14_224.orig_in21k',\n",
       " 'vit_large_patch16_224',\n",
       " 'vit_large_patch16_224.augreg_in21k']"
      ]
     },
     "execution_count": 8,
     "metadata": {},
     "output_type": "execute_result"
    }
   ],
   "execution_count": 8
  },
  {
   "cell_type": "code",
   "id": "87cc003f-9ecd-417b-96fd-6ef8df216e2c",
   "metadata": {
    "ExecuteTime": {
     "end_time": "2024-09-10T11:17:16.881038Z",
     "start_time": "2024-09-10T11:17:16.879345Z"
    }
   },
   "source": [
    "# res = []\n",
    "# for ds, mid in product(ds_list_perf, allowed_models):\n",
    "#     performance = retrieve_performance(\n",
    "#         model_id=mid, \n",
    "#         dataset_id=ds, \n",
    "#         metric_column='test_lp_acc1',\n",
    "#         results_root='/home/space/diverse_priors/results/linear_probe/single_model',\n",
    "#         regularization=\"weight_decay\",\n",
    "#         allow_db_results=False\n",
    "#     )\n",
    "#     res.append({\n",
    "#         'DS': ds,\n",
    "#         'Model': mid,\n",
    "#         'TestAcc': performance\n",
    "#     })\n",
    "# perf_res = pd.DataFrame(res)"
   ],
   "outputs": [],
   "execution_count": 9
  },
  {
   "cell_type": "code",
   "id": "d5e3e893-a2dd-46b0-9c7d-1dd195cf2bd5",
   "metadata": {
    "ExecuteTime": {
     "end_time": "2024-09-10T11:17:16.891695Z",
     "start_time": "2024-09-10T11:17:16.890072Z"
    }
   },
   "source": "# perf_res.to_csv(base_path_aggregated/ f'single_model_performance/all_ds{suffix}.csv', index=False)",
   "outputs": [],
   "execution_count": 10
  },
  {
   "cell_type": "code",
   "id": "ea041adb-439f-41f2-bf7d-e6c6b7002ab5",
   "metadata": {
    "ExecuteTime": {
     "end_time": "2024-09-10T11:17:16.903479Z",
     "start_time": "2024-09-10T11:17:16.900514Z"
    }
   },
   "source": "perf_res = pd.read_csv(base_path_aggregated / f'single_model_performance/all_ds.csv')",
   "outputs": [],
   "execution_count": 11
  },
  {
   "metadata": {
    "ExecuteTime": {
     "end_time": "2024-09-10T11:17:16.917065Z",
     "start_time": "2024-09-10T11:17:16.913094Z"
    }
   },
   "cell_type": "code",
   "source": [
    "if ds_to_include:\n",
    "    perf_res = perf_res[perf_res['DS'].isin(ds_to_include)].reset_index(drop=True)\n",
    "    perf_res['DS'] = perf_res['DS'].apply(lambda x: f\"{ds_with_info[x][0]} ({ds_with_info[x][1]})\")\n",
    "else:\n",
    "    perf_res.loc[perf_res['DS'] == 'wds_imagenet1k', 'DS'] = 'imagenet-subset-10k'\n",
    "perf_res['DS'].value_counts()"
   ],
   "id": "442331298e1b7c85",
   "outputs": [
    {
     "data": {
      "text/plain": [
       "DS\n",
       "wds_fer2013                      62\n",
       "wds_vtab_eurosat                 62\n",
       "nonliving26                      62\n",
       "living17                         62\n",
       "entity30                         62\n",
       "entity13                         62\n",
       "cifar100-coarse                  62\n",
       "wds_vtab_svhn                    62\n",
       "wds_vtab_resisc45                62\n",
       "wds_vtab_pcam                    62\n",
       "wds_vtab_pets                    62\n",
       "wds_vtab_flowers                 62\n",
       "wds_vtab_dtd                     62\n",
       "wds_voc2007                      62\n",
       "wds_vtab_dmlab                   62\n",
       "wds_vtab_diabetic_retinopathy    62\n",
       "wds_vtab_cifar100                62\n",
       "wds_vtab_cifar10                 62\n",
       "wds_vtab_caltech101              62\n",
       "wds_country211                   62\n",
       "wds_gtsrb                        62\n",
       "wds_stl10                        62\n",
       "wds_fgvc_aircraft                62\n",
       "wds_cars                         62\n",
       "imagenet-subset-10k              62\n",
       "Name: count, dtype: int64"
      ]
     },
     "execution_count": 12,
     "metadata": {},
     "output_type": "execute_result"
    }
   ],
   "execution_count": 12
  },
  {
   "cell_type": "code",
   "id": "7a588a9f-92df-4445-bcb1-bb8de121d082",
   "metadata": {
    "ExecuteTime": {
     "end_time": "2024-09-10T11:17:16.943870Z",
     "start_time": "2024-09-10T11:17:16.941686Z"
    }
   },
   "source": [
    "def get_model_perf(row):\n",
    "    m1_perf = perf_res.loc[(perf_res['Model'] == row['Model 1']) & (perf_res['DS'] == row['DS']), 'TestAcc'].item()\n",
    "    m2_perf = perf_res.loc[(perf_res['Model'] == row['Model 2']) & (perf_res['DS'] == row['DS']), 'TestAcc'].item()\n",
    "    return m1_perf, m2_perf, np.abs(m1_perf - m2_perf)\n"
   ],
   "outputs": [],
   "execution_count": 13
  },
  {
   "cell_type": "code",
   "id": "a23fb4e6-5465-4286-9c86-b970694da0b7",
   "metadata": {
    "ExecuteTime": {
     "end_time": "2024-09-10T11:17:55.437979Z",
     "start_time": "2024-09-10T11:17:16.965832Z"
    }
   },
   "source": [
    "performance_per_pair = pd.DataFrame(sim_data.apply(get_model_perf, axis=1).tolist(),\n",
    "                                    columns=['Model 1 perf.', 'Model 2 perf.', 'abs. diff. perf.']).reset_index()"
   ],
   "outputs": [],
   "execution_count": 14
  },
  {
   "cell_type": "code",
   "id": "e05604c7-52f7-4cf1-87cc-51a10ab4fa08",
   "metadata": {
    "ExecuteTime": {
     "end_time": "2024-09-10T11:17:55.453120Z",
     "start_time": "2024-09-10T11:17:55.441668Z"
    }
   },
   "source": [
    "sim_data_new = pd.concat([sim_data, performance_per_pair], axis=1)"
   ],
   "outputs": [],
   "execution_count": 15
  },
  {
   "metadata": {
    "ExecuteTime": {
     "end_time": "2024-09-10T11:17:55.513649Z",
     "start_time": "2024-09-10T11:17:55.464711Z"
    }
   },
   "cell_type": "code",
   "source": [
    "def get_correlation(subset_data):\n",
    "    corr_sp, _ = spearmanr(subset_data['Similarity value'], subset_data['abs. diff. perf.'])\n",
    "    corr_pr, _ = pearsonr(subset_data['Similarity value'], subset_data['abs. diff. perf.'])\n",
    "    return {'spearmanr': corr_sp, 'pearsonr': corr_pr}\n",
    "\n",
    "\n",
    "r_coeffs = sim_data_new.groupby(['Similarity metric', 'DS'])[['Similarity value', 'abs. diff. perf.']].apply(\n",
    "    get_correlation)\n",
    "r_coeffs = pd.DataFrame(r_coeffs.tolist(), index=r_coeffs.index)"
   ],
   "id": "d9a8822f47a78afd",
   "outputs": [],
   "execution_count": 16
  },
  {
   "metadata": {
    "ExecuteTime": {
     "end_time": "2024-09-10T11:17:55.528301Z",
     "start_time": "2024-09-10T11:17:55.526267Z"
    }
   },
   "cell_type": "code",
   "source": "r_coeffs['DS category'] = r_coeffs.index.get_level_values('DS').map(ds_info['domain'])",
   "id": "547e57ea860fa8f4",
   "outputs": [],
   "execution_count": 17
  },
  {
   "metadata": {
    "ExecuteTime": {
     "end_time": "2024-09-10T11:17:55.542858Z",
     "start_time": "2024-09-10T11:17:55.540840Z"
    }
   },
   "cell_type": "code",
   "source": "r_coeffs = r_coeffs.reset_index()",
   "id": "93a9c40c71231ca7",
   "outputs": [],
   "execution_count": 18
  },
  {
   "metadata": {
    "ExecuteTime": {
     "end_time": "2024-09-10T12:25:36.051012Z",
     "start_time": "2024-09-10T12:25:35.712172Z"
    }
   },
   "cell_type": "code",
   "source": [
    "sns.set_style('ticks')\n",
    "fig, axes = plt.subplots(nrows=1, ncols=2, figsize=(15, 4), sharex=True, sharey=True)\n",
    "sns.boxplot(\n",
    "    data=r_coeffs,\n",
    "    x='DS category',\n",
    "    y='spearmanr',\n",
    "    hue='Similarity metric',\n",
    "    palette='viridis',\n",
    "    ax=axes[0],\n",
    "    \n",
    ")\n",
    "sns.boxplot(\n",
    "    data=r_coeffs,\n",
    "    x='DS category',\n",
    "    y='pearsonr',\n",
    "    hue='Similarity metric',\n",
    "    palette='viridis',\n",
    "    ax=axes[1],\n",
    ")\n",
    "# axes[0].xaxis.set_tick_params(rotation=20)\n",
    "axes[0].get_legend().remove()\n",
    "axes[0].set_title('Spearman correlation')\n",
    "# axes[1].xaxis.set_tick_params(rotation=20)\n",
    "axes[1].set_title('Pearson correlation')\n",
    "sns.move_legend(axes[1], loc='upper left', title='Similarity metric', bbox_to_anchor=(1, 1), fontsize=12, title_fontsize=12, frameon=False)\n",
    "fig.tight_layout()\n"
   ],
   "id": "54c469822b3499e6",
   "outputs": [
    {
     "data": {
      "text/plain": [
       "<Figure size 1500x400 with 2 Axes>"
      ],
      "image/png": "[encoded data removed]"
     },
     "metadata": {},
     "output_type": "display_data"
    }
   ],
   "execution_count": 40
  },
  {
   "metadata": {
    "ExecuteTime": {
     "end_time": "2024-09-10T12:29:57.539231Z",
     "start_time": "2024-09-10T12:29:57.529983Z"
    }
   },
   "cell_type": "code",
   "source": "r_coeffs.groupby(['Similarity metric'])['pearsonr'].describe()[['count', 'mean', 'std', '25%', '50%', '75%']]",
   "id": "e173ed140d380288",
   "outputs": [
    {
     "data": {
      "text/plain": [
       "                   count      mean       std       25%       50%       75%\n",
       "Similarity metric                                                         \n",
       "CKA RBF 0.4         25.0 -0.516294  0.184417 -0.654995 -0.552316 -0.414638\n",
       "CKA linear          25.0 -0.524533  0.177001 -0.649691 -0.553572 -0.394361"
      ],
      "text/html": [
       "<div>\n",
       "<style scoped>\n",
       "    .dataframe tbody tr th:only-of-type {\n",
       "        vertical-align: middle;\n",
       "    }\n",
       "\n",
       "    .dataframe tbody tr th {\n",
       "        vertical-align: top;\n",
       "    }\n",
       "\n",
       "    .dataframe thead th {\n",
       "        text-align: right;\n",
       "    }\n",
       "</style>\n",
       "<table border=\"1\" class=\"dataframe\">\n",
       "  <thead>\n",
       "    <tr style=\"text-align: right;\">\n",
       "      <th></th>\n",
       "      <th>count</th>\n",
       "      <th>mean</th>\n",
       "      <th>std</th>\n",
       "      <th>25%</th>\n",
       "      <th>50%</th>\n",
       "      <th>75%</th>\n",
       "    </tr>\n",
       "    <tr>\n",
       "      <th>Similarity metric</th>\n",
       "      <th></th>\n",
       "      <th></th>\n",
       "      <th></th>\n",
       "      <th></th>\n",
       "      <th></th>\n",
       "      <th></th>\n",
       "    </tr>\n",
       "  </thead>\n",
       "  <tbody>\n",
       "    <tr>\n",
       "      <th>CKA RBF 0.4</th>\n",
       "      <td>25.0</td>\n",
       "      <td>-0.516294</td>\n",
       "      <td>0.184417</td>\n",
       "      <td>-0.654995</td>\n",
       "      <td>-0.552316</td>\n",
       "      <td>-0.414638</td>\n",
       "    </tr>\n",
       "    <tr>\n",
       "      <th>CKA linear</th>\n",
       "      <td>25.0</td>\n",
       "      <td>-0.524533</td>\n",
       "      <td>0.177001</td>\n",
       "      <td>-0.649691</td>\n",
       "      <td>-0.553572</td>\n",
       "      <td>-0.394361</td>\n",
       "    </tr>\n",
       "  </tbody>\n",
       "</table>\n",
       "</div>"
      ]
     },
     "execution_count": 42,
     "metadata": {},
     "output_type": "execute_result"
    }
   ],
   "execution_count": 42
  },
  {
   "metadata": {
    "ExecuteTime": {
     "end_time": "2024-09-10T12:30:25.535919Z",
     "start_time": "2024-09-10T12:30:25.528712Z"
    }
   },
   "cell_type": "code",
   "source": "r_coeffs.groupby(['Similarity metric'])['spearmanr'].describe()[['count', 'mean', 'std', '25%', '50%', '75%']]",
   "id": "a4727e17b58354b4",
   "outputs": [
    {
     "data": {
      "text/plain": [
       "                   count      mean       std       25%       50%       75%\n",
       "Similarity metric                                                         \n",
       "CKA RBF 0.4         25.0 -0.502889  0.191838 -0.650372 -0.581079 -0.408980\n",
       "CKA linear          25.0 -0.504189  0.182802 -0.634004 -0.555781 -0.374608"
      ],
      "text/html": [
       "<div>\n",
       "<style scoped>\n",
       "    .dataframe tbody tr th:only-of-type {\n",
       "        vertical-align: middle;\n",
       "    }\n",
       "\n",
       "    .dataframe tbody tr th {\n",
       "        vertical-align: top;\n",
       "    }\n",
       "\n",
       "    .dataframe thead th {\n",
       "        text-align: right;\n",
       "    }\n",
       "</style>\n",
       "<table border=\"1\" class=\"dataframe\">\n",
       "  <thead>\n",
       "    <tr style=\"text-align: right;\">\n",
       "      <th></th>\n",
       "      <th>count</th>\n",
       "      <th>mean</th>\n",
       "      <th>std</th>\n",
       "      <th>25%</th>\n",
       "      <th>50%</th>\n",
       "      <th>75%</th>\n",
       "    </tr>\n",
       "    <tr>\n",
       "      <th>Similarity metric</th>\n",
       "      <th></th>\n",
       "      <th></th>\n",
       "      <th></th>\n",
       "      <th></th>\n",
       "      <th></th>\n",
       "      <th></th>\n",
       "    </tr>\n",
       "  </thead>\n",
       "  <tbody>\n",
       "    <tr>\n",
       "      <th>CKA RBF 0.4</th>\n",
       "      <td>25.0</td>\n",
       "      <td>-0.502889</td>\n",
       "      <td>0.191838</td>\n",
       "      <td>-0.650372</td>\n",
       "      <td>-0.581079</td>\n",
       "      <td>-0.408980</td>\n",
       "    </tr>\n",
       "    <tr>\n",
       "      <th>CKA linear</th>\n",
       "      <td>25.0</td>\n",
       "      <td>-0.504189</td>\n",
       "      <td>0.182802</td>\n",
       "      <td>-0.634004</td>\n",
       "      <td>-0.555781</td>\n",
       "      <td>-0.374608</td>\n",
       "    </tr>\n",
       "  </tbody>\n",
       "</table>\n",
       "</div>"
      ]
     },
     "execution_count": 43,
     "metadata": {},
     "output_type": "execute_result"
    }
   ],
   "execution_count": 43
  },
  {
   "metadata": {
    "ExecuteTime": {
     "end_time": "2024-09-10T12:24:45.069839Z",
     "start_time": "2024-09-10T12:24:45.050091Z"
    }
   },
   "cell_type": "code",
   "source": "r_coeffs.groupby(['Similarity metric', 'DS category'])['pearsonr'].describe()[['count', 'mean', 'std', '25%', '50%', '75%']]",
   "id": "1abc0eab021421c7",
   "outputs": [
    {
     "data": {
      "text/plain": [
       "                                           count      mean       std  \\\n",
       "Similarity metric DS category                                          \n",
       "CKA RBF 0.4       Natural (multi-domain)    12.0 -0.500012  0.180502   \n",
       "                  Natural (single-domain)    6.0 -0.606654  0.194930   \n",
       "                  Specialized                4.0 -0.395884  0.205435   \n",
       "                  Structured                 3.0 -0.561249  0.111830   \n",
       "CKA linear        Natural (multi-domain)    12.0 -0.514809  0.156917   \n",
       "                  Natural (single-domain)    6.0 -0.603776  0.203656   \n",
       "                  Specialized                4.0 -0.409035  0.211402   \n",
       "                  Structured                 3.0 -0.558946  0.148121   \n",
       "\n",
       "                                                25%       50%       75%  \n",
       "Similarity metric DS category                                            \n",
       "CKA RBF 0.4       Natural (multi-domain)  -0.645624 -0.547962 -0.389511  \n",
       "                  Natural (single-domain) -0.742167 -0.635932 -0.584034  \n",
       "                  Specialized             -0.481683 -0.426247 -0.340448  \n",
       "                  Structured              -0.623140 -0.591285 -0.514377  \n",
       "CKA linear        Natural (multi-domain)  -0.653724 -0.551599 -0.357696  \n",
       "                  Natural (single-domain) -0.738772 -0.607755 -0.557379  \n",
       "                  Specialized             -0.503522 -0.424580 -0.330093  \n",
       "                  Structured              -0.637635 -0.579636 -0.490602  "
      ],
      "text/html": [
       "<div>\n",
       "<style scoped>\n",
       "    .dataframe tbody tr th:only-of-type {\n",
       "        vertical-align: middle;\n",
       "    }\n",
       "\n",
       "    .dataframe tbody tr th {\n",
       "        vertical-align: top;\n",
       "    }\n",
       "\n",
       "    .dataframe thead th {\n",
       "        text-align: right;\n",
       "    }\n",
       "</style>\n",
       "<table border=\"1\" class=\"dataframe\">\n",
       "  <thead>\n",
       "    <tr style=\"text-align: right;\">\n",
       "      <th></th>\n",
       "      <th></th>\n",
       "      <th>count</th>\n",
       "      <th>mean</th>\n",
       "      <th>std</th>\n",
       "      <th>25%</th>\n",
       "      <th>50%</th>\n",
       "      <th>75%</th>\n",
       "    </tr>\n",
       "    <tr>\n",
       "      <th>Similarity metric</th>\n",
       "      <th>DS category</th>\n",
       "      <th></th>\n",
       "      <th></th>\n",
       "      <th></th>\n",
       "      <th></th>\n",
       "      <th></th>\n",
       "      <th></th>\n",
       "    </tr>\n",
       "  </thead>\n",
       "  <tbody>\n",
       "    <tr>\n",
       "      <th rowspan=\"4\" valign=\"top\">CKA RBF 0.4</th>\n",
       "      <th>Natural (multi-domain)</th>\n",
       "      <td>12.0</td>\n",
       "      <td>-0.500012</td>\n",
       "      <td>0.180502</td>\n",
       "      <td>-0.645624</td>\n",
       "      <td>-0.547962</td>\n",
       "      <td>-0.389511</td>\n",
       "    </tr>\n",
       "    <tr>\n",
       "      <th>Natural (single-domain)</th>\n",
       "      <td>6.0</td>\n",
       "      <td>-0.606654</td>\n",
       "      <td>0.194930</td>\n",
       "      <td>-0.742167</td>\n",
       "      <td>-0.635932</td>\n",
       "      <td>-0.584034</td>\n",
       "    </tr>\n",
       "    <tr>\n",
       "      <th>Specialized</th>\n",
       "      <td>4.0</td>\n",
       "      <td>-0.395884</td>\n",
       "      <td>0.205435</td>\n",
       "      <td>-0.481683</td>\n",
       "      <td>-0.426247</td>\n",
       "      <td>-0.340448</td>\n",
       "    </tr>\n",
       "    <tr>\n",
       "      <th>Structured</th>\n",
       "      <td>3.0</td>\n",
       "      <td>-0.561249</td>\n",
       "      <td>0.111830</td>\n",
       "      <td>-0.623140</td>\n",
       "      <td>-0.591285</td>\n",
       "      <td>-0.514377</td>\n",
       "    </tr>\n",
       "    <tr>\n",
       "      <th rowspan=\"4\" valign=\"top\">CKA linear</th>\n",
       "      <th>Natural (multi-domain)</th>\n",
       "      <td>12.0</td>\n",
       "      <td>-0.514809</td>\n",
       "      <td>0.156917</td>\n",
       "      <td>-0.653724</td>\n",
       "      <td>-0.551599</td>\n",
       "      <td>-0.357696</td>\n",
       "    </tr>\n",
       "    <tr>\n",
       "      <th>Natural (single-domain)</th>\n",
       "      <td>6.0</td>\n",
       "      <td>-0.603776</td>\n",
       "      <td>0.203656</td>\n",
       "      <td>-0.738772</td>\n",
       "      <td>-0.607755</td>\n",
       "      <td>-0.557379</td>\n",
       "    </tr>\n",
       "    <tr>\n",
       "      <th>Specialized</th>\n",
       "      <td>4.0</td>\n",
       "      <td>-0.409035</td>\n",
       "      <td>0.211402</td>\n",
       "      <td>-0.503522</td>\n",
       "      <td>-0.424580</td>\n",
       "      <td>-0.330093</td>\n",
       "    </tr>\n",
       "    <tr>\n",
       "      <th>Structured</th>\n",
       "      <td>3.0</td>\n",
       "      <td>-0.558946</td>\n",
       "      <td>0.148121</td>\n",
       "      <td>-0.637635</td>\n",
       "      <td>-0.579636</td>\n",
       "      <td>-0.490602</td>\n",
       "    </tr>\n",
       "  </tbody>\n",
       "</table>\n",
       "</div>"
      ]
     },
     "execution_count": 39,
     "metadata": {},
     "output_type": "execute_result"
    }
   ],
   "execution_count": 39
  },
  {
   "metadata": {
    "ExecuteTime": {
     "end_time": "2024-09-10T11:27:04.723070Z",
     "start_time": "2024-09-10T11:27:04.713220Z"
    }
   },
   "cell_type": "code",
   "source": "r_coeffs.groupby(['Similarity metric', 'DS category'])[['spearmanr', 'pearsonr']].agg(['count', 'mean', 'std', 'median'])",
   "id": "51eeb28992ab8202",
   "outputs": [
    {
     "data": {
      "text/plain": [
       "                                          spearmanr                      \\\n",
       "                                              count      mean       std   \n",
       "Similarity metric DS category                                             \n",
       "CKA RBF 0.4       Natural (multi-domain)         12 -0.483855  0.185368   \n",
       "                  Natural (single-domain)         6 -0.563930  0.221324   \n",
       "                  Specialized                     4 -0.443327  0.252738   \n",
       "                  Structured                      3 -0.536357  0.110605   \n",
       "CKA linear        Natural (multi-domain)         12 -0.497038  0.162061   \n",
       "                  Natural (single-domain)         6 -0.543590  0.221620   \n",
       "                  Specialized                     4 -0.442234  0.255558   \n",
       "                  Structured                      3 -0.536599  0.146888   \n",
       "\n",
       "                                                    pearsonr            \\\n",
       "                                             median    count      mean   \n",
       "Similarity metric DS category                                            \n",
       "CKA RBF 0.4       Natural (multi-domain)  -0.504944       12 -0.500012   \n",
       "                  Natural (single-domain) -0.620131        6 -0.606654   \n",
       "                  Specialized             -0.473712        4 -0.395884   \n",
       "                  Structured              -0.592000        3 -0.561249   \n",
       "CKA linear        Natural (multi-domain)  -0.505722       12 -0.514809   \n",
       "                  Natural (single-domain) -0.587427        6 -0.603776   \n",
       "                  Specialized             -0.462515        4 -0.409035   \n",
       "                  Structured              -0.574058        3 -0.558946   \n",
       "\n",
       "                                                               \n",
       "                                                std    median  \n",
       "Similarity metric DS category                                  \n",
       "CKA RBF 0.4       Natural (multi-domain)   0.180502 -0.547962  \n",
       "                  Natural (single-domain)  0.194930 -0.635932  \n",
       "                  Specialized              0.205435 -0.426247  \n",
       "                  Structured               0.111830 -0.591285  \n",
       "CKA linear        Natural (multi-domain)   0.156917 -0.551599  \n",
       "                  Natural (single-domain)  0.203656 -0.607755  \n",
       "                  Specialized              0.211402 -0.424580  \n",
       "                  Structured               0.148121 -0.579636  "
      ],
      "text/html": [
       "<div>\n",
       "<style scoped>\n",
       "    .dataframe tbody tr th:only-of-type {\n",
       "        vertical-align: middle;\n",
       "    }\n",
       "\n",
       "    .dataframe tbody tr th {\n",
       "        vertical-align: top;\n",
       "    }\n",
       "\n",
       "    .dataframe thead tr th {\n",
       "        text-align: left;\n",
       "    }\n",
       "\n",
       "    .dataframe thead tr:last-of-type th {\n",
       "        text-align: right;\n",
       "    }\n",
       "</style>\n",
       "<table border=\"1\" class=\"dataframe\">\n",
       "  <thead>\n",
       "    <tr>\n",
       "      <th></th>\n",
       "      <th></th>\n",
       "      <th colspan=\"4\" halign=\"left\">spearmanr</th>\n",
       "      <th colspan=\"4\" halign=\"left\">pearsonr</th>\n",
       "    </tr>\n",
       "    <tr>\n",
       "      <th></th>\n",
       "      <th></th>\n",
       "      <th>count</th>\n",
       "      <th>mean</th>\n",
       "      <th>std</th>\n",
       "      <th>median</th>\n",
       "      <th>count</th>\n",
       "      <th>mean</th>\n",
       "      <th>std</th>\n",
       "      <th>median</th>\n",
       "    </tr>\n",
       "    <tr>\n",
       "      <th>Similarity metric</th>\n",
       "      <th>DS category</th>\n",
       "      <th></th>\n",
       "      <th></th>\n",
       "      <th></th>\n",
       "      <th></th>\n",
       "      <th></th>\n",
       "      <th></th>\n",
       "      <th></th>\n",
       "      <th></th>\n",
       "    </tr>\n",
       "  </thead>\n",
       "  <tbody>\n",
       "    <tr>\n",
       "      <th rowspan=\"4\" valign=\"top\">CKA RBF 0.4</th>\n",
       "      <th>Natural (multi-domain)</th>\n",
       "      <td>12</td>\n",
       "      <td>-0.483855</td>\n",
       "      <td>0.185368</td>\n",
       "      <td>-0.504944</td>\n",
       "      <td>12</td>\n",
       "      <td>-0.500012</td>\n",
       "      <td>0.180502</td>\n",
       "      <td>-0.547962</td>\n",
       "    </tr>\n",
       "    <tr>\n",
       "      <th>Natural (single-domain)</th>\n",
       "      <td>6</td>\n",
       "      <td>-0.563930</td>\n",
       "      <td>0.221324</td>\n",
       "      <td>-0.620131</td>\n",
       "      <td>6</td>\n",
       "      <td>-0.606654</td>\n",
       "      <td>0.194930</td>\n",
       "      <td>-0.635932</td>\n",
       "    </tr>\n",
       "    <tr>\n",
       "      <th>Specialized</th>\n",
       "      <td>4</td>\n",
       "      <td>-0.443327</td>\n",
       "      <td>0.252738</td>\n",
       "      <td>-0.473712</td>\n",
       "      <td>4</td>\n",
       "      <td>-0.395884</td>\n",
       "      <td>0.205435</td>\n",
       "      <td>-0.426247</td>\n",
       "    </tr>\n",
       "    <tr>\n",
       "      <th>Structured</th>\n",
       "      <td>3</td>\n",
       "      <td>-0.536357</td>\n",
       "      <td>0.110605</td>\n",
       "      <td>-0.592000</td>\n",
       "      <td>3</td>\n",
       "      <td>-0.561249</td>\n",
       "      <td>0.111830</td>\n",
       "      <td>-0.591285</td>\n",
       "    </tr>\n",
       "    <tr>\n",
       "      <th rowspan=\"4\" valign=\"top\">CKA linear</th>\n",
       "      <th>Natural (multi-domain)</th>\n",
       "      <td>12</td>\n",
       "      <td>-0.497038</td>\n",
       "      <td>0.162061</td>\n",
       "      <td>-0.505722</td>\n",
       "      <td>12</td>\n",
       "      <td>-0.514809</td>\n",
       "      <td>0.156917</td>\n",
       "      <td>-0.551599</td>\n",
       "    </tr>\n",
       "    <tr>\n",
       "      <th>Natural (single-domain)</th>\n",
       "      <td>6</td>\n",
       "      <td>-0.543590</td>\n",
       "      <td>0.221620</td>\n",
       "      <td>-0.587427</td>\n",
       "      <td>6</td>\n",
       "      <td>-0.603776</td>\n",
       "      <td>0.203656</td>\n",
       "      <td>-0.607755</td>\n",
       "    </tr>\n",
       "    <tr>\n",
       "      <th>Specialized</th>\n",
       "      <td>4</td>\n",
       "      <td>-0.442234</td>\n",
       "      <td>0.255558</td>\n",
       "      <td>-0.462515</td>\n",
       "      <td>4</td>\n",
       "      <td>-0.409035</td>\n",
       "      <td>0.211402</td>\n",
       "      <td>-0.424580</td>\n",
       "    </tr>\n",
       "    <tr>\n",
       "      <th>Structured</th>\n",
       "      <td>3</td>\n",
       "      <td>-0.536599</td>\n",
       "      <td>0.146888</td>\n",
       "      <td>-0.574058</td>\n",
       "      <td>3</td>\n",
       "      <td>-0.558946</td>\n",
       "      <td>0.148121</td>\n",
       "      <td>-0.579636</td>\n",
       "    </tr>\n",
       "  </tbody>\n",
       "</table>\n",
       "</div>"
      ]
     },
     "execution_count": 33,
     "metadata": {},
     "output_type": "execute_result"
    }
   ],
   "execution_count": 33
  },
  {
   "metadata": {
    "ExecuteTime": {
     "end_time": "2024-09-10T11:19:19.012248Z",
     "start_time": "2024-09-10T11:19:18.961269Z"
    }
   },
   "cell_type": "code",
   "source": "print(r_coeffs.groupby(['Similarity metric', 'DS category'])[['spearmanr', 'pearsonr']].agg(['mean', 'std']).to_latex())",
   "id": "ad46b9fa13ac7943",
   "outputs": [
    {
     "name": "stdout",
     "output_type": "stream",
     "text": [
      "\\begin{tabular}{llrrrr}\n",
      "\\toprule\n",
      " &  & \\multicolumn{2}{r}{spearmanr} & \\multicolumn{2}{r}{pearsonr} \\\\\n",
      " &  & mean & std & mean & std \\\\\n",
      "Similarity metric & DS category &  &  &  &  \\\\\n",
      "\\midrule\n",
      "\\multirow[t]{4}{*}{CKA RBF 0.4} & Natural (multi-domain) & -0.483855 & 0.185368 & -0.500012 & 0.180502 \\\\\n",
      " & Natural (single-domain) & -0.563930 & 0.221324 & -0.606654 & 0.194930 \\\\\n",
      " & Specialized & -0.443327 & 0.252738 & -0.395884 & 0.205435 \\\\\n",
      " & Structured & -0.536357 & 0.110605 & -0.561249 & 0.111830 \\\\\n",
      "\\cline{1-6}\n",
      "\\multirow[t]{4}{*}{CKA linear} & Natural (multi-domain) & -0.497038 & 0.162061 & -0.514809 & 0.156917 \\\\\n",
      " & Natural (single-domain) & -0.543590 & 0.221620 & -0.603776 & 0.203656 \\\\\n",
      " & Specialized & -0.442234 & 0.255558 & -0.409035 & 0.211402 \\\\\n",
      " & Structured & -0.536599 & 0.146888 & -0.558946 & 0.148121 \\\\\n",
      "\\cline{1-6}\n",
      "\\bottomrule\n",
      "\\end{tabular}\n",
      "\n"
     ]
    }
   ],
   "execution_count": 30
  }
 ],
 "metadata": {
  "kernelspec": {
   "display_name": "Python 3 (ipykernel)",
   "language": "python",
   "name": "python3"
  },
  "language_info": {
   "codemirror_mode": {
    "name": "ipython",
    "version": 3
   },
   "file_extension": ".py",
   "mimetype": "text/x-python",
   "name": "python",
   "nbconvert_exporter": "python",
   "pygments_lexer": "ipython3",
   "version": "3.10.13"
  }
 },
 "nbformat": 4,
 "nbformat_minor": 5
}

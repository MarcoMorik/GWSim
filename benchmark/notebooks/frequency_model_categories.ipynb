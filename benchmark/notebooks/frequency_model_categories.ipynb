{
 "cells": [
  {
   "cell_type": "code",
   "execution_count": null,
   "id": "72cfa1c3-f664-4713-ab23-9127c296db83",
   "metadata": {},
   "outputs": [],
   "source": [
    "import json \n",
    "import pandas as pd\n",
    "import seaborn as sns\n",
    "from pathlib import Path\n",
    "import matplotlib.pyplot as plt\n",
    "from helper import save_or_show, load_model_configs_and_allowed_models\n",
    "from constants import exclude_models"
   ]
  },
  {
   "cell_type": "code",
   "execution_count": null,
   "id": "7ac0528e-48ff-4e4c-abf6-45593b5f80ea",
   "metadata": {},
   "outputs": [],
   "source": [
    "SAVE = True\n",
    "storing_path = Path('/home/space/diverse_priors/results/plots/model_categories')\n",
    "if SAVE:\n",
    "    storing_path.mkdir(parents=True, exist_ok=True)"
   ]
  },
  {
   "cell_type": "code",
   "execution_count": null,
   "id": "70042f7b-2063-404e-b9b5-f26cd3cf9d54",
   "metadata": {},
   "outputs": [],
   "source": [
    "model_configs, allowed_models = load_model_configs_and_allowed_models(\n",
    "    path='../scripts/models_config_wo_barlowtwins_n_alignment.json',\n",
    "    exclude_models=exclude_models,\n",
    "    exclude_alignment=True,\n",
    ")\n",
    "\n",
    "print(model_configs.shape, len(allowed_models))"
   ]
  },
  {
   "cell_type": "code",
   "execution_count": null,
   "id": "9bd84652-ef10-4b9f-b93a-2de696198d20",
   "metadata": {},
   "outputs": [],
   "source": [
    "model_categories = ['objective', 'architecture_class', 'dataset_class', 'size_class']\n",
    "model_cat_mapping = {'objective':'Objective', 'architecture_class':'Architecture', 'dataset_class':'DS size', 'size_class':'Model size'}"
   ]
  },
  {
   "cell_type": "code",
   "execution_count": null,
   "id": "552fe361-4625-481b-a0aa-d9ca17181910",
   "metadata": {},
   "outputs": [],
   "source": [
    "# for mcat in model_categories:\n",
    "#     print(model_cat_mapping[mcat])\n",
    "#     print(model_configs[mcat].value_counts().sort_index())\n",
    "#     print()"
   ]
  },
  {
   "cell_type": "code",
   "execution_count": null,
   "id": "2659993c-1f14-4c50-a638-c2222a3f5293",
   "metadata": {},
   "outputs": [],
   "source": [
    "fig, axs = plt.subplots(nrows=2, ncols=3, figsize=(3*3, 2*3))\n",
    "cnt = 0 \n",
    "for i, mc1 in enumerate(model_categories):\n",
    "    for j, mc2 in enumerate(model_categories):\n",
    "        if i>=j:\n",
    "            continue\n",
    "        tmp = pd.pivot_table(model_configs.reset_index(), index=mc1, columns=mc2, values='index', aggfunc='count')\n",
    "        tmp[tmp.isna()] = 0\n",
    "        ax = axs[cnt//3, cnt%3]\n",
    "        sns.heatmap(tmp, annot=True, ax=ax, cmap='Purples', cbar=False, annot_kws={'size': 13})\n",
    "        ax.set_title(f\"{model_cat_mapping[mc1]} vs {model_cat_mapping[mc2]}\", fontsize=11)\n",
    "        ax.set_xlabel('')\n",
    "        ax.set_ylabel('')\n",
    "        ax.tick_params('x', rotation=90, labelsize=11)\n",
    "        ax.tick_params('y', rotation=0, labelsize=11)\n",
    "        cnt += 1\n",
    "fig.tight_layout()\n",
    "save_or_show(fig, storing_path / f'frequency_model_categories_wo_alignment_no_model_duplicates.pdf', SAVE)"
   ]
  },
  {
   "cell_type": "code",
   "execution_count": null,
   "id": "97572d91-a600-48b6-a72d-b57e2182ae4b",
   "metadata": {},
   "outputs": [],
   "source": []
  }
 ],
 "metadata": {
  "kernelspec": {
   "display_name": "Python 3 (ipykernel)",
   "language": "python",
   "name": "python3"
  },
  "language_info": {
   "codemirror_mode": {
    "name": "ipython",
    "version": 3
   },
   "file_extension": ".py",
   "mimetype": "text/x-python",
   "name": "python",
   "nbconvert_exporter": "python",
   "pygments_lexer": "ipython3",
   "version": "3.10.13"
  }
 },
 "nbformat": 4,
 "nbformat_minor": 5
}

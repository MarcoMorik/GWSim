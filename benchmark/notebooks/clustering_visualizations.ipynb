{
 "cells": [
  {
   "cell_type": "code",
   "execution_count": null,
   "id": "d4d93ca9-81a7-492d-90e7-b3bded7f6ea6",
   "metadata": {},
   "outputs": [],
   "source": [
    "import textwrap\n",
    "from pathlib import Path\n",
    "\n",
    "import matplotlib.pyplot as plt\n",
    "import numpy as np\n",
    "import pandas as pd\n",
    "import seaborn as sns\n",
    "import torch\n",
    "from sklearn.manifold import TSNE\n",
    "\n",
    "from constants import sim_metric_name_mapping as name_mapping"
   ]
  },
  {
   "cell_type": "code",
   "execution_count": null,
   "id": "3884568f-7576-4274-ad39-8310e11f2cea",
   "metadata": {},
   "outputs": [],
   "source": [
    "def check_path(path):\n",
    "    if not path.exists():\n",
    "        raise FileNotFoundError(f\"Directory {str(path)} does not exists!\")\n",
    "\n",
    "\n",
    "dataset = 'imagenet-subset-10k'\n",
    "# model similarity matrices\n",
    "model_sim_root_path = Path('/home/space/diverse_priors/model_similarities')\n",
    "model_sim_path = model_sim_root_path / dataset\n",
    "check_path(model_sim_path)\n",
    "\n",
    "# clusterings \n",
    "clustering_root_path = Path('/home/space/diverse_priors/clustering/')\n",
    "clustering_path = clustering_root_path / dataset\n",
    "check_path(clustering_path)"
   ]
  },
  {
   "cell_type": "code",
   "execution_count": null,
   "id": "a9a39100-3b15-4f88-8574-dbc5aadaf790",
   "metadata": {},
   "outputs": [],
   "source": [
    "SAVE = True\n",
    "storing_path = clustering_path / 'plots' / 'models_filtered_tuned_wd_in1k'\n",
    "\n",
    "if SAVE:\n",
    "    storing_path.mkdir(parents=True, exist_ok=True)"
   ]
  },
  {
   "cell_type": "code",
   "execution_count": null,
   "id": "84ce40e2-b664-4b26-9b9f-b89443e85b96",
   "metadata": {},
   "outputs": [],
   "source": [
    "def get_model_ids(fn):\n",
    "    with open(fn, 'r') as file:\n",
    "        lines = file.readlines()\n",
    "    lines = [line.strip() for line in lines]\n",
    "    return lines"
   ]
  },
  {
   "cell_type": "code",
   "execution_count": null,
   "id": "9b080e39-2455-4de5-a1a4-c0014f2a0fb2",
   "metadata": {},
   "outputs": [],
   "source": [
    "sim_mats = {}\n",
    "storing_paths = {}\n",
    "for sim_method in model_sim_path.rglob(\"**/similarity_matrix.pt\"):\n",
    "    print(sim_method)\n",
    "    model_ids_fn = sim_method.parent / 'model_ids.txt'\n",
    "    if model_ids_fn.exists():\n",
    "        model_ids = get_model_ids(model_ids_fn)\n",
    "    else:\n",
    "        raise FileNotFoundError(f'{str(model_ids_fn)} does not exist.')\n",
    "\n",
    "    sim_mat = torch.load(sim_method)\n",
    "    sim_mats[sim_method.parent.name] = pd.DataFrame(sim_mat, index=model_ids, columns=model_ids)\n",
    "    np.fill_diagonal(sim_mats[sim_method.parent.name].values, 1)\n",
    "\n",
    "sim_mats = {x: sim_mats[x] for x in name_mapping.keys()}"
   ]
  },
  {
   "cell_type": "code",
   "execution_count": null,
   "id": "43262973-94a1-4fbd-9c08-a67461ef4f57",
   "metadata": {},
   "outputs": [],
   "source": [
    "# Check all matrices have the same index\n",
    "first_index = next(iter(sim_mats.values())).index\n",
    "all_same_index = all(df.index.equals(first_index) for df in sim_mats.values())\n",
    "if not all_same_index:\n",
    "    raise ValueError('All DataFrames must have the same index.')"
   ]
  },
  {
   "cell_type": "code",
   "execution_count": null,
   "id": "00c7501b-5cdc-42ce-ab97-64afbdd1c759",
   "metadata": {},
   "outputs": [],
   "source": [
    "# lbl_assignment_methods = ['kmeans', 'discretize', 'cluster_qr']\n",
    "lbl_assignment_methods = ['cluster_qr']"
   ]
  },
  {
   "cell_type": "code",
   "execution_count": null,
   "id": "61696006-6d84-4c5c-8558-bd5d17edb8d3",
   "metadata": {},
   "outputs": [],
   "source": [
    "clustering_labels = {k: {k1: pd.DataFrame(index=first_index) for k1 in lbl_assignment_methods} for k in sim_mats.keys()}"
   ]
  },
  {
   "cell_type": "code",
   "execution_count": null,
   "id": "779401d6-46d0-4822-a822-cd4b584f51e7",
   "metadata": {
    "scrolled": true
   },
   "outputs": [],
   "source": [
    "## For each clustering get all cluster_labels.csv\n",
    "for clust_fn in clustering_path.rglob(\"**/cluster_labels.csv\"):\n",
    "\n",
    "    split_path = str(clust_fn).split(\"/\")\n",
    "\n",
    "    metric_key = split_path[-4]\n",
    "    num_clusters = split_path[-3]\n",
    "    lbl_assignment = split_path[-2]\n",
    "    if lbl_assignment not in lbl_assignment_methods:\n",
    "        continue\n",
    "\n",
    "    print(clust_fn)\n",
    "    num_clusters = f\"{num_clusters.split('_')[-1]} clusters\"\n",
    "\n",
    "    df = pd.read_csv(clust_fn, index_col='Unnamed: 0')\n",
    "    clustering_labels[metric_key][lbl_assignment].loc[:, num_clusters] = df['cluster'].astype('category')"
   ]
  },
  {
   "cell_type": "code",
   "execution_count": null,
   "id": "b2614d6a-6845-4388-95e5-13b657c37fc7",
   "metadata": {},
   "outputs": [],
   "source": [
    "clustering_labels['cka_kernel_linear_unbiased']['cluster_qr']"
   ]
  },
  {
   "cell_type": "code",
   "execution_count": null,
   "id": "443ccbc9-9cf9-4200-acce-f7bd572d53ae",
   "metadata": {},
   "outputs": [],
   "source": [
    "clustering_labels = {\n",
    "    k: {k1: df[sorted(df.columns.tolist())] for k1, df in sub_dict.items()} for k, sub_dict in\n",
    "    clustering_labels.items()}\n",
    "\n",
    "clustering_labels = {k: {k1: df[~df['3 clusters'].isna()].copy() for k1, df in sub_dict.items()} for k, sub_dict in\n",
    "                     clustering_labels.items()}"
   ]
  },
  {
   "cell_type": "code",
   "execution_count": null,
   "id": "b507c840-f645-4093-9962-b18ebbd2fbb0",
   "metadata": {},
   "outputs": [],
   "source": [
    "clustering_labels['cka_kernel_linear_unbiased']['cluster_qr'].head()"
   ]
  },
  {
   "cell_type": "code",
   "execution_count": null,
   "id": "86a5cab7-57cc-4b2f-b6eb-4c5071e28fbf",
   "metadata": {},
   "outputs": [],
   "source": [
    "available_models = sorted(clustering_labels['cka_kernel_linear_unbiased']['cluster_qr'].index.tolist())"
   ]
  },
  {
   "cell_type": "code",
   "execution_count": null,
   "id": "e031b43e-ba3d-4b2e-8e05-240589df20c1",
   "metadata": {},
   "outputs": [],
   "source": [
    "# Get for each similarity metric TSNE embeddings\n",
    "tsne_embeddings = {}\n",
    "for key, sim_mat in sim_mats.items():\n",
    "    tmp = sim_mat.loc[available_models, available_models]\n",
    "    dissimilarity_mat = 1 - tmp.values\n",
    "    tsne_embeddings[key] = TSNE(n_components=2,\n",
    "                                learning_rate='auto',\n",
    "                                init='random',\n",
    "                                perplexity=10,\n",
    "                                metric='precomputed',\n",
    "                                random_state=42\n",
    "                                ).fit_transform(dissimilarity_mat)"
   ]
  },
  {
   "cell_type": "code",
   "execution_count": null,
   "id": "c7571393-2831-440b-b830-7ff3e4c9baa2",
   "metadata": {},
   "outputs": [],
   "source": [
    "lbl_assignment_method = lbl_assignment_methods[-1]\n",
    "lbl_assignment_method"
   ]
  },
  {
   "cell_type": "code",
   "execution_count": null,
   "id": "1099eb2c-50d4-4236-9cc0-bf081c40213c",
   "metadata": {},
   "outputs": [],
   "source": [
    "lbl_assignment_clustering_labels = {k: sub_dict[lbl_assignment_method] for k, sub_dict in clustering_labels.items()}"
   ]
  },
  {
   "cell_type": "code",
   "execution_count": null,
   "id": "2618fcfe-5e96-4875-a993-72a7c0cacb9f",
   "metadata": {},
   "outputs": [],
   "source": [
    "n = len(sim_mats.keys())\n",
    "m = lbl_assignment_clustering_labels['cka_kernel_linear_unbiased'].shape[1]\n",
    "fig, axs = plt.subplots(nrows=m, ncols=n, figsize=(3 * n, 3 * m))\n",
    "\n",
    "for i, (key, embedd) in enumerate(tsne_embeddings.items()):\n",
    "    for j, col in enumerate(lbl_assignment_clustering_labels[key]):\n",
    "        lbls = lbl_assignment_clustering_labels[key][col]\n",
    "        sns.scatterplot(\n",
    "            x=embedd[:, 0],\n",
    "            y=embedd[:, 1],\n",
    "            hue=lbls,\n",
    "            palette='tab10',\n",
    "            legend=False,\n",
    "            s=75,\n",
    "            ax=axs[j, i],\n",
    "            alpha=0.6\n",
    "        )\n",
    "        if j == 0:\n",
    "            axs[j, i].set_title(f'{name_mapping[key]}', fontsize=16)\n",
    "        if i == 0:\n",
    "            axs[j, i].set_ylabel(f'{col}', fontsize=16)\n",
    "plt.tight_layout()\n",
    "if SAVE:\n",
    "    fig.savefig(storing_path / f'tsne_clustering_{lbl_assignment_method}_overview.pdf')\n",
    "    plt.close(fig)\n",
    "else:\n",
    "    plt.show(fig)"
   ]
  },
  {
   "cell_type": "code",
   "execution_count": null,
   "id": "33830fea-e364-4507-82a3-c803c8e24896",
   "metadata": {},
   "outputs": [],
   "source": [
    "import plotly.graph_objects as go\n",
    "from plotly.subplots import make_subplots\n",
    "import plotly.io as pio\n",
    "import plotly.express as px\n",
    "\n",
    "# Define number of rows and columns for the subplots\n",
    "n = len(sim_mats.keys())\n",
    "m = lbl_assignment_clustering_labels['cka_kernel_linear_unbiased'].shape[1]\n",
    "\n",
    "# Create subplot grid\n",
    "fig = make_subplots(\n",
    "    rows=m,\n",
    "    cols=n,\n",
    "    subplot_titles=[f'{name_mapping[key]}' for key in tsne_embeddings] * m\n",
    ")\n",
    "\n",
    "categories = lbl_assignment_clustering_labels['cka_kernel_rbf_unbiased_sigma_0.2']['7 clusters'].cat.categories.tolist()\n",
    "\n",
    "color_palette = px.colors.qualitative.T10\n",
    "label_to_color = {label: color_palette[label] for label in categories}\n",
    "\n",
    "for i, (key, embedd) in enumerate(tsne_embeddings.items()):\n",
    "    for j, col in enumerate(lbl_assignment_clustering_labels[key]):\n",
    "        lbls = lbl_assignment_clustering_labels[key][col]\n",
    "        colors = [label_to_color[label] for label in lbls]\n",
    "        scatter = go.Scatter(\n",
    "            x=embedd[:, 0],\n",
    "            y=embedd[:, 1],\n",
    "            mode='markers',\n",
    "            marker=dict(color=colors,\n",
    "                        size=7),\n",
    "            showlegend=False,\n",
    "            hovertext=lbls.index.tolist()\n",
    "        )\n",
    "        fig.add_trace(scatter, row=j + 1, col=i + 1)\n",
    "\n",
    "# Update axis labels and titles\n",
    "for i, col in enumerate(lbl_assignment_clustering_labels[key]):\n",
    "    fig.update_yaxes(title_text=f'{col}', row=i + 1, col=1)\n",
    "\n",
    "for i in range(n):\n",
    "    fig.update_xaxes(title_text='t-SNE Dimension', row=m, col=i + 1)\n",
    "\n",
    "fig.update_layout(height=300 * m, width=300 * n, title_text=\"t-SNE Plots\", showlegend=False)\n",
    "\n",
    "if SAVE:\n",
    "    fig_html = storing_path / f'tsne_clustering_{lbl_assignment_method}_overview.html'\n",
    "    pio.write_html(fig, file=fig_html, auto_open=True)\n",
    "fig.show()\n"
   ]
  },
  {
   "cell_type": "code",
   "execution_count": null,
   "id": "aa49ca93-2f68-44f0-91b2-8f30c5adcee2",
   "metadata": {},
   "outputs": [],
   "source": [
    "for i, (key, embedd) in enumerate(tsne_embeddings.items()):\n",
    "    curr_storing_path = storing_path / key\n",
    "    print(f\"Creating single plots for {key} ...\")\n",
    "    for j, col in enumerate(lbl_assignment_clustering_labels[key]):\n",
    "\n",
    "        lbls = lbl_assignment_clustering_labels[key][col]\n",
    "\n",
    "        ax = sns.scatterplot(\n",
    "            x=embedd[:, 0],\n",
    "            y=embedd[:, 1],\n",
    "            hue=lbls,\n",
    "            palette='tab10',\n",
    "            # legend=False,\n",
    "            s=75,\n",
    "            alpha=0.6\n",
    "        )\n",
    "        curr_df = lbl_assignment_clustering_labels[key].reset_index().groupby(col)\n",
    "        group_models_spec = curr_df.index.unique()\n",
    "        lbl_spec = group_models_spec.apply(lambda x: '\\n'.join(textwrap.wrap(', '.join(x), width=50)))\n",
    "        legend = ax.legend(bbox_to_anchor=(1.05, 1), loc='upper left')\n",
    "        legend.set_title('Labels')\n",
    "        for k, label in lbl_spec.items():\n",
    "            legend.get_texts()[k].set_text(f\"{label}\")\n",
    "\n",
    "        ax.set_title(\n",
    "            f\"{name_mapping[key]} on {dataset.capitalize()} with {len(lbl_spec)} clusters ({lbl_assignment_method}).\")\n",
    "        if SAVE:\n",
    "            curr_storing_path.mkdir(parents=True, exist_ok=True)\n",
    "            plt.savefig(curr_storing_path / f\"{col.replace(' ', '_')}_{lbl_assignment_method}.pdf\", bbox_inches='tight')\n",
    "            plt.close()\n",
    "        else:\n",
    "            plt.show()"
   ]
  }
 ],
 "metadata": {
  "kernelspec": {
   "display_name": "Python 3 (ipykernel)",
   "language": "python",
   "name": "python3"
  },
  "language_info": {
   "codemirror_mode": {
    "name": "ipython",
    "version": 3
   },
   "file_extension": ".py",
   "mimetype": "text/x-python",
   "name": "python",
   "nbconvert_exporter": "python",
   "pygments_lexer": "ipython3",
   "version": "3.10.13"
  }
 },
 "nbformat": 4,
 "nbformat_minor": 5
}

{
 "cells": [
  {
   "cell_type": "code",
   "execution_count": null,
   "id": "29d1d0c8-c2ef-440c-85c3-8c18d12a2529",
   "metadata": {},
   "outputs": [],
   "source": [
    "import sys\n",
    "from pathlib import Path\n",
    "\n",
    "import matplotlib.pyplot as plt\n",
    "import numpy as np\n",
    "import pandas as pd\n",
    "import seaborn as sns\n",
    "from matplotlib.colors import LinearSegmentedColormap\n",
    "from textwrap import wrap\n",
    "import matplotlib.patches as mpatches\n",
    "from itertools import combinations\n",
    "from scipy.stats import pearsonr, spearmanr\n",
    "\n",
    "from constants import (\n",
    "    model_size_order,\n",
    "    fontsizes,\n",
    "    cat_color_mapping\n",
    ")\n",
    "from helper import save_or_show\n",
    "\n",
    "sys.path.append('..')\n",
    "from scripts.helper import parse_datasets\n",
    "from constants import sim_metric_name_mapping\n",
    "\n",
    "sns.set_style('ticks')"
   ]
  },
  {
   "cell_type": "markdown",
   "id": "8ed5976b0e4d4f5b",
   "metadata": {},
   "source": [
    "#### Global variables"
   ]
  },
  {
   "cell_type": "code",
   "execution_count": null,
   "id": "5f1117c1-b686-4b0a-a8a4-74a2a389b16e",
   "metadata": {},
   "outputs": [],
   "source": [
    "# Datasets\n",
    "ds_list = parse_datasets('../scripts/webdatasets_w_insub10k.txt')\n",
    "ds_list = list(map(lambda x: x.replace('/', '_'), ds_list))\n",
    "\n",
    "# Experiment configuration\n",
    "corr_type = 'spearmanr'  # 'pearsonr', 'spearmanr'\n",
    "suffix = ''  # '', '_wo_mae'\n",
    "exp_conf = f'{corr_type}{suffix}'\n",
    "\n",
    "# Path to correlation data\n",
    "base_path = Path('/home/space/diverse_priors/results/aggregated/r_coeff_dist/with_cats_as_anchors')\n",
    "# base_path = Path('/Users/lciernik/Documents/TUB/projects/divers_prios/results/aggregated/r_coeff_dist/with_cats_as_anchors')\n",
    "data_path = base_path / f'agg_{corr_type}_all_ds_with_rsa{suffix}.csv'\n",
    "\n",
    "# Storing path\n",
    "SAVE = True\n",
    "storing_path = Path(\n",
    "    f'/home/space/diverse_priors/results/plots/dist_r_coeff_cats_as_anchors_comp_local_global/{exp_conf}'\n",
    ")\n",
    "if SAVE:\n",
    "    storing_path.mkdir(parents=True, exist_ok=True)\n",
    "\n",
    "# Plotting helper\n",
    "cm = 0.393701"
   ]
  },
  {
   "cell_type": "markdown",
   "id": "3db38f9b75317de3",
   "metadata": {},
   "source": [
    "#### Load data"
   ]
  },
  {
   "cell_type": "code",
   "execution_count": null,
   "id": "9db2fc6abf38f147",
   "metadata": {},
   "outputs": [],
   "source": [
    "r_coeff_data = pd.read_csv(data_path)\n",
    "r_coeff_data = r_coeff_data[r_coeff_data['ds1'].isin(ds_list) & r_coeff_data['ds2'].isin(ds_list)].reset_index(drop=True).copy()"
   ]
  },
  {
   "cell_type": "code",
   "execution_count": null,
   "id": "59d0b6b8-1b09-4555-90fd-f7c2390c3676",
   "metadata": {},
   "outputs": [],
   "source": [
    "from scipy import stats\n",
    "combs = [('CKA linear', 'CKA RBF 0.4'), ('CKA linear', 'RSA spearman')]\n",
    "fig, axs = plt.subplots(nrows=1, ncols=2, figsize=(12, 5))  # Increased width for better visibility\n",
    "\n",
    "for i, (x, y) in enumerate(combs):\n",
    "    dat1 = r_coeff_data[r_coeff_data['Similarity metric'] == x]\n",
    "    dat2 = r_coeff_data[r_coeff_data['Similarity metric'] == y]\n",
    "    dat1 = dat1.set_index(['ds1', 'ds2', 'anchor_cat', 'other_cat'])\n",
    "    dat2 = dat2.set_index(['ds1', 'ds2', 'anchor_cat', 'other_cat'])\n",
    "    \n",
    "    dat1.columns = [col + ' sm1' for col in dat1.columns]\n",
    "    dat2.columns = [col + ' sm2' for col in dat2.columns]\n",
    "    dat_concat = pd.concat([dat1, dat2], axis=1)\n",
    "    \n",
    "    ax = axs[i]\n",
    "    sns.scatterplot(data=dat_concat, x=\"r coeff sm1\", y=\"r coeff sm2\", alpha=0.25, s=5, ax=ax)\n",
    "    \n",
    "    ax.set_xlabel(f'r coeff. ({x})', fontsize=fontsizes['label'])\n",
    "    ax.set_ylabel(f'r coeff. ({y})', fontsize=fontsizes['label'])\n",
    "    ax.tick_params(labelsize=fontsizes['ticks'])\n",
    "    \n",
    "    r, p = stats.pearsonr(dat_concat['r coeff sm1'], dat_concat['r coeff sm2'])\n",
    "    ax.text(0.05, 0.95, f'Overall r = {r:.2f}\\np-value < 0.001', transform=ax.transAxes, \n",
    "            verticalalignment='top', fontsize=fontsizes['legend'])\n",
    "\n",
    "save_or_show(fig, storing_path / f'consistency_local_global_scatter_plot{suffix}.pdf', SAVE)"
   ]
  },
  {
   "cell_type": "code",
   "execution_count": null,
   "id": "b143d5ca-c23f-4482-a48e-37982914da3b",
   "metadata": {},
   "outputs": [],
   "source": []
  }
 ],
 "metadata": {
  "kernelspec": {
   "display_name": "Python 3 (ipykernel)",
   "language": "python",
   "name": "python3"
  },
  "language_info": {
   "codemirror_mode": {
    "name": "ipython",
    "version": 3
   },
   "file_extension": ".py",
   "mimetype": "text/x-python",
   "name": "python",
   "nbconvert_exporter": "python",
   "pygments_lexer": "ipython3",
   "version": "3.10.13"
  }
 },
 "nbformat": 4,
 "nbformat_minor": 5
}

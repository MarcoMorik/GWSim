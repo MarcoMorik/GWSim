{
 "cells": [
  {
   "cell_type": "markdown",
   "metadata": {},
   "source": [
    "FIRST run: python create_results_dfs.py [--ensemble] [--datasets ...] <br>\n",
    "This will create the results dataframes in OUTPUT_ROOT (usually: aggregated/...)"
   ]
  },
  {
   "cell_type": "code",
   "execution_count": null,
   "metadata": {
    "ExecuteTime": {
     "end_time": "2024-06-24T11:44:08.547081Z",
     "start_time": "2024-06-24T11:44:08.542141Z"
    },
    "collapsed": true
   },
   "outputs": [],
   "source": [
    "import os\n",
    "import pandas as pd\n",
    "\n",
    "OUTPUT_ROOT = \"/home/space/diverse_priors/results/aggregated/\"\n",
    "ood_datasets = [\"wds_imagenet-a\",\"wds_imagenet-r\",\"wds_imagenet_sketch\",\"wds_imagenetv2\"]"
   ]
  },
  {
   "cell_type": "markdown",
   "metadata": {},
   "source": [
    "## Looking at individual results"
   ]
  },
  {
   "cell_type": "code",
   "execution_count": null,
   "metadata": {
    "ExecuteTime": {
     "end_time": "2024-06-24T11:44:09.003405Z",
     "start_time": "2024-06-24T11:44:08.984126Z"
    }
   },
   "outputs": [],
   "source": [
    "dataset = ood_datasets[-1]\n",
    "path = os.path.join(OUTPUT_ROOT, dataset+\"/single_model/results_imagenet1k.pkl\")\n",
    "df = pd.read_pickle(path)\n",
    "\n",
    "print(df.keys())"
   ]
  },
  {
   "cell_type": "code",
   "execution_count": null,
   "metadata": {
    "ExecuteTime": {
     "end_time": "2024-06-24T11:44:10.331952Z",
     "start_time": "2024-06-24T11:44:10.315961Z"
    }
   },
   "outputs": [],
   "source": [
    " df[df['test_lp_acc1'] == df['test_lp_acc1'].max()][[\"model_ids\", \"test_lp_acc1\"]]"
   ]
  },
  {
   "cell_type": "markdown",
   "metadata": {
    "ExecuteTime": {
     "end_time": "2024-06-21T11:35:10.053593Z",
     "start_time": "2024-06-21T11:35:10.049721Z"
    }
   },
   "source": [
    "### Single model: Iterating over datasets"
   ]
  },
  {
   "cell_type": "code",
   "execution_count": null,
   "metadata": {
    "ExecuteTime": {
     "end_time": "2024-06-24T11:44:50.707891Z",
     "start_time": "2024-06-24T11:44:50.636068Z"
    }
   },
   "outputs": [],
   "source": [
    "for ds in ood_datasets:\n",
    "    path = path = os.path.join(OUTPUT_ROOT, ds+\"/single_model/results_imagenet1k.pkl\")\n",
    "    df = pd.read_pickle(path)\n",
    "    to_display=df[df['test_lp_acc1'] == df['test_lp_acc1'].max()][[\"model_ids\", \"test_lp_acc1\"]]\n",
    "    display(to_display)\n",
    "    print(ds, to_display[\"model_ids\"].iloc[0])"
   ]
  },
  {
   "cell_type": "markdown",
   "metadata": {},
   "source": [
    "## Looking at ensemble results"
   ]
  },
  {
   "cell_type": "code",
   "execution_count": null,
   "metadata": {
    "ExecuteTime": {
     "end_time": "2024-06-24T11:45:03.249164Z",
     "start_time": "2024-06-24T11:44:57.404188Z"
    }
   },
   "outputs": [],
   "source": [
    "dataset = ood_datasets[-1]\n",
    "path = os.path.join(OUTPUT_ROOT, dataset+\"/combined_models/results_imagenet1k.pkl\")\n",
    "df = pd.read_pickle(path)\n",
    "\n",
    "print(df.keys())"
   ]
  },
  {
   "cell_type": "code",
   "execution_count": null,
   "metadata": {
    "ExecuteTime": {
     "end_time": "2024-06-24T11:45:03.251233Z",
     "start_time": "2024-06-24T11:45:03.251220Z"
    }
   },
   "outputs": [],
   "source": [
    " df[df['test_lp_acc1'] == df['test_lp_acc1'].max()][[\"model_ids\", \"sampling_method\", \"test_lp_acc1\"]]"
   ]
  },
  {
   "cell_type": "markdown",
   "metadata": {},
   "source": [
    "### Combined models: Iterating over datasets"
   ]
  },
  {
   "cell_type": "code",
   "execution_count": null,
   "metadata": {
    "ExecuteTime": {
     "end_time": "2024-06-21T12:00:32.367344Z",
     "start_time": "2024-06-21T12:00:32.103293Z"
    }
   },
   "outputs": [],
   "source": [
    "for ds in ood_datasets:\n",
    "    path = path = os.path.join(OUTPUT_ROOT, ds+\"/combined_models/results_imagenet1k.pkl\")\n",
    "    df = pd.read_pickle(path)\n",
    "    to_display=df[df['test_lp_acc1'] == df['test_lp_acc1'].max()][[\"model_ids\", \"sampling_method\", \"test_lp_acc1\"]]\n",
    "    display(to_display)\n",
    "    print(ds, to_display[\"model_ids\"].iloc[0])"
   ]
  }
 ],
 "metadata": {
  "kernelspec": {
   "display_name": "divers",
   "language": "python",
   "name": "divers"
  },
  "language_info": {
   "codemirror_mode": {
    "name": "ipython",
    "version": 3
   },
   "file_extension": ".py",
   "mimetype": "text/x-python",
   "name": "python",
   "nbconvert_exporter": "python",
   "pygments_lexer": "ipython3",
   "version": "3.9.18"
  }
 },
 "nbformat": 4,
 "nbformat_minor": 2
}

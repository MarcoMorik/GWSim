{
 "cells": [
  {
   "cell_type": "markdown",
   "metadata": {},
   "source": [
    "FIRST run: python create_results_dfs.py [--ensemble] [--datasets ...] <br>\n",
    "This will create the results dataframes in OUTPUT_ROOT (usually: aggregated/...)"
   ]
  },
  {
   "cell_type": "code",
   "execution_count": 1,
   "metadata": {
    "ExecuteTime": {
     "end_time": "2024-06-21T12:00:10.999958Z",
     "start_time": "2024-06-21T12:00:05.893321Z"
    }
   },
   "outputs": [],
   "source": [
    "import os\n",
    "import pandas as pd\n",
    "\n",
    "OUTPUT_ROOT = \"/home/space/diverse_priors/results_old/aggregated/\" # !OLD results\n",
    "ood_datasets = [\"wds_imagenet-a\",\"wds_imagenet-r\",\"wds_imagenet_sketch\",\"wds_imagenetv2\"]"
   ]
  },
  {
   "cell_type": "markdown",
   "metadata": {},
   "source": [
    "## Looking at individual results"
   ]
  },
  {
   "cell_type": "code",
   "execution_count": 2,
   "metadata": {
    "ExecuteTime": {
     "end_time": "2024-06-21T12:00:11.095231Z",
     "start_time": "2024-06-21T12:00:11.003543Z"
    }
   },
   "outputs": [
    {
     "name": "stdout",
     "output_type": "stream",
     "text": [
      "Index(['task', 'mode', 'dataset', 'feature_normalization', 'feature_alignment',\n",
      "       'val_proportion', 'model_ids', 'model_source', 'fewshot_k',\n",
      "       'fewshot_lr', 'fewshot_epochs', 'batch_size', 'seed', 'test_lp_acc1',\n",
      "       'test_lp_acc5', 'test_lp_mean_per_class_recall', 'best_weight_decay'],\n",
      "      dtype='object')\n"
     ]
    }
   ],
   "source": [
    "dataset = ood_datasets[-1]\n",
    "path = os.path.join(OUTPUT_ROOT, dataset+\"/single_model/results_imagenet1k.pkl\")\n",
    "df = pd.read_pickle(path)\n",
    "\n",
    "print(df.keys())"
   ]
  },
  {
   "cell_type": "code",
   "execution_count": 3,
   "metadata": {
    "ExecuteTime": {
     "end_time": "2024-06-21T12:00:11.163918Z",
     "start_time": "2024-06-21T12:00:11.097626Z"
    }
   },
   "outputs": [
    {
     "data": {
      "text/html": [
       "<div>\n",
       "<style scoped>\n",
       "    .dataframe tbody tr th:only-of-type {\n",
       "        vertical-align: middle;\n",
       "    }\n",
       "\n",
       "    .dataframe tbody tr th {\n",
       "        vertical-align: top;\n",
       "    }\n",
       "\n",
       "    .dataframe thead th {\n",
       "        text-align: right;\n",
       "    }\n",
       "</style>\n",
       "<table border=\"1\" class=\"dataframe\">\n",
       "  <thead>\n",
       "    <tr style=\"text-align: right;\">\n",
       "      <th></th>\n",
       "      <th>model_ids</th>\n",
       "      <th>test_lp_acc1</th>\n",
       "    </tr>\n",
       "  </thead>\n",
       "  <tbody>\n",
       "    <tr>\n",
       "      <th>9</th>\n",
       "      <td>\"[\\\"deit3_large_patch16_224.fb_in22k_ft_in1k\\\"]\"</td>\n",
       "      <td>0.7798</td>\n",
       "    </tr>\n",
       "  </tbody>\n",
       "</table>\n",
       "</div>"
      ],
      "text/plain": [
       "                                          model_ids  test_lp_acc1\n",
       "9  \"[\\\"deit3_large_patch16_224.fb_in22k_ft_in1k\\\"]\"        0.7798"
      ]
     },
     "execution_count": 3,
     "metadata": {},
     "output_type": "execute_result"
    }
   ],
   "source": [
    " df[df['test_lp_acc1'] == df['test_lp_acc1'].max()][[\"model_ids\", \"test_lp_acc1\"]]"
   ]
  },
  {
   "cell_type": "markdown",
   "metadata": {
    "ExecuteTime": {
     "end_time": "2024-06-21T11:35:10.053593Z",
     "start_time": "2024-06-21T11:35:10.049721Z"
    }
   },
   "source": [
    "### Single model: Iterating over datasets"
   ]
  },
  {
   "cell_type": "code",
   "execution_count": 4,
   "metadata": {
    "ExecuteTime": {
     "end_time": "2024-06-21T12:00:11.354492Z",
     "start_time": "2024-06-21T12:00:11.167335Z"
    }
   },
   "outputs": [
    {
     "data": {
      "text/html": [
       "<div>\n",
       "<style scoped>\n",
       "    .dataframe tbody tr th:only-of-type {\n",
       "        vertical-align: middle;\n",
       "    }\n",
       "\n",
       "    .dataframe tbody tr th {\n",
       "        vertical-align: top;\n",
       "    }\n",
       "\n",
       "    .dataframe thead th {\n",
       "        text-align: right;\n",
       "    }\n",
       "</style>\n",
       "<table border=\"1\" class=\"dataframe\">\n",
       "  <thead>\n",
       "    <tr style=\"text-align: right;\">\n",
       "      <th></th>\n",
       "      <th>model_ids</th>\n",
       "      <th>test_lp_acc1</th>\n",
       "    </tr>\n",
       "  </thead>\n",
       "  <tbody>\n",
       "    <tr>\n",
       "      <th>1</th>\n",
       "      <td>\"[\\\"OpenCLIP_EVA02-L-14_merged2b_s4b_b131k\\\"]\"</td>\n",
       "      <td>0.735067</td>\n",
       "    </tr>\n",
       "  </tbody>\n",
       "</table>\n",
       "</div>"
      ],
      "text/plain": [
       "                                        model_ids  test_lp_acc1\n",
       "1  \"[\\\"OpenCLIP_EVA02-L-14_merged2b_s4b_b131k\\\"]\"      0.735067"
      ]
     },
     "metadata": {},
     "output_type": "display_data"
    },
    {
     "name": "stdout",
     "output_type": "stream",
     "text": [
      "wds_imagenet-a [OpenCLIP_EVA02-L-14_merged2b_s4b_b131k]\n"
     ]
    },
    {
     "data": {
      "text/html": [
       "<div>\n",
       "<style scoped>\n",
       "    .dataframe tbody tr th:only-of-type {\n",
       "        vertical-align: middle;\n",
       "    }\n",
       "\n",
       "    .dataframe tbody tr th {\n",
       "        vertical-align: top;\n",
       "    }\n",
       "\n",
       "    .dataframe thead th {\n",
       "        text-align: right;\n",
       "    }\n",
       "</style>\n",
       "<table border=\"1\" class=\"dataframe\">\n",
       "  <thead>\n",
       "    <tr style=\"text-align: right;\">\n",
       "      <th></th>\n",
       "      <th>model_ids</th>\n",
       "      <th>test_lp_acc1</th>\n",
       "    </tr>\n",
       "  </thead>\n",
       "  <tbody>\n",
       "    <tr>\n",
       "      <th>7</th>\n",
       "      <td>\"[\\\"OpenCLIP_EVA01-g-14_laion400m_s11b_b41k\\\"]\"</td>\n",
       "      <td>0.909733</td>\n",
       "    </tr>\n",
       "  </tbody>\n",
       "</table>\n",
       "</div>"
      ],
      "text/plain": [
       "                                         model_ids  test_lp_acc1\n",
       "7  \"[\\\"OpenCLIP_EVA01-g-14_laion400m_s11b_b41k\\\"]\"      0.909733"
      ]
     },
     "metadata": {},
     "output_type": "display_data"
    },
    {
     "name": "stdout",
     "output_type": "stream",
     "text": [
      "wds_imagenet-r [OpenCLIP_EVA01-g-14_laion400m_s11b_b41k]\n"
     ]
    },
    {
     "data": {
      "text/html": [
       "<div>\n",
       "<style scoped>\n",
       "    .dataframe tbody tr th:only-of-type {\n",
       "        vertical-align: middle;\n",
       "    }\n",
       "\n",
       "    .dataframe tbody tr th {\n",
       "        vertical-align: top;\n",
       "    }\n",
       "\n",
       "    .dataframe thead th {\n",
       "        text-align: right;\n",
       "    }\n",
       "</style>\n",
       "<table border=\"1\" class=\"dataframe\">\n",
       "  <thead>\n",
       "    <tr style=\"text-align: right;\">\n",
       "      <th></th>\n",
       "      <th>model_ids</th>\n",
       "      <th>test_lp_acc1</th>\n",
       "    </tr>\n",
       "  </thead>\n",
       "  <tbody>\n",
       "    <tr>\n",
       "      <th>7</th>\n",
       "      <td>\"[\\\"OpenCLIP_EVA01-g-14_laion400m_s11b_b41k\\\"]\"</td>\n",
       "      <td>0.661361</td>\n",
       "    </tr>\n",
       "  </tbody>\n",
       "</table>\n",
       "</div>"
      ],
      "text/plain": [
       "                                         model_ids  test_lp_acc1\n",
       "7  \"[\\\"OpenCLIP_EVA01-g-14_laion400m_s11b_b41k\\\"]\"      0.661361"
      ]
     },
     "metadata": {},
     "output_type": "display_data"
    },
    {
     "name": "stdout",
     "output_type": "stream",
     "text": [
      "wds_imagenet_sketch [OpenCLIP_EVA01-g-14_laion400m_s11b_b41k]\n"
     ]
    },
    {
     "data": {
      "text/html": [
       "<div>\n",
       "<style scoped>\n",
       "    .dataframe tbody tr th:only-of-type {\n",
       "        vertical-align: middle;\n",
       "    }\n",
       "\n",
       "    .dataframe tbody tr th {\n",
       "        vertical-align: top;\n",
       "    }\n",
       "\n",
       "    .dataframe thead th {\n",
       "        text-align: right;\n",
       "    }\n",
       "</style>\n",
       "<table border=\"1\" class=\"dataframe\">\n",
       "  <thead>\n",
       "    <tr style=\"text-align: right;\">\n",
       "      <th></th>\n",
       "      <th>model_ids</th>\n",
       "      <th>test_lp_acc1</th>\n",
       "    </tr>\n",
       "  </thead>\n",
       "  <tbody>\n",
       "    <tr>\n",
       "      <th>9</th>\n",
       "      <td>\"[\\\"deit3_large_patch16_224.fb_in22k_ft_in1k\\\"]\"</td>\n",
       "      <td>0.7798</td>\n",
       "    </tr>\n",
       "  </tbody>\n",
       "</table>\n",
       "</div>"
      ],
      "text/plain": [
       "                                          model_ids  test_lp_acc1\n",
       "9  \"[\\\"deit3_large_patch16_224.fb_in22k_ft_in1k\\\"]\"        0.7798"
      ]
     },
     "metadata": {},
     "output_type": "display_data"
    },
    {
     "name": "stdout",
     "output_type": "stream",
     "text": [
      "wds_imagenetv2 [deit3_large_patch16_224.fb_in22k_ft_in1k]\n"
     ]
    }
   ],
   "source": [
    "for ds in ood_datasets:\n",
    "    path = path = os.path.join(OUTPUT_ROOT, ds+\"/single_model/results_imagenet1k.pkl\")\n",
    "    df = pd.read_pickle(path)\n",
    "    to_display=df[df['test_lp_acc1'] == df['test_lp_acc1'].max()][[\"model_ids\", \"test_lp_acc1\"]]\n",
    "    display(to_display)\n",
    "    print(ds, to_display[\"model_ids\"].iloc[0].replace('\"','').replace('\\\\',''))"
   ]
  },
  {
   "cell_type": "markdown",
   "metadata": {},
   "source": [
    "## Looking at ensemble results"
   ]
  },
  {
   "cell_type": "code",
   "execution_count": 5,
   "metadata": {
    "ExecuteTime": {
     "end_time": "2024-06-21T12:00:11.447946Z",
     "start_time": "2024-06-21T12:00:11.356103Z"
    }
   },
   "outputs": [
    {
     "name": "stdout",
     "output_type": "stream",
     "text": [
      "Index(['task', 'mode', 'combiner', 'dataset', 'feature_normalization',\n",
      "       'feature_alignment', 'val_proportion', 'model_ids', 'model_source',\n",
      "       'fewshot_k', 'fewshot_lr', 'fewshot_epochs', 'batch_size', 'seed',\n",
      "       'test_lp_acc1', 'test_lp_acc5', 'test_lp_mean_per_class_recall',\n",
      "       'n_models', 'n_samples', 'sampling_method', 'similarity_method',\n",
      "       'num_clusters', 'clustering_method', 'cluster_id', 'cka_kernel',\n",
      "       'cka_sigma', 'cka_unbiased', 'rsa_method', 'rsa_correlation', 'models',\n",
      "       'sample_id'],\n",
      "      dtype='object')\n"
     ]
    }
   ],
   "source": [
    "dataset = ood_datasets[-1]\n",
    "path = os.path.join(OUTPUT_ROOT, dataset+\"/combined_models/results_imagenet1k.pkl\")\n",
    "df = pd.read_pickle(path)\n",
    "\n",
    "print(df.keys())"
   ]
  },
  {
   "cell_type": "code",
   "execution_count": 6,
   "metadata": {
    "ExecuteTime": {
     "end_time": "2024-06-21T12:00:11.458390Z",
     "start_time": "2024-06-21T12:00:11.449582Z"
    }
   },
   "outputs": [
    {
     "data": {
      "text/html": [
       "<div>\n",
       "<style scoped>\n",
       "    .dataframe tbody tr th:only-of-type {\n",
       "        vertical-align: middle;\n",
       "    }\n",
       "\n",
       "    .dataframe tbody tr th {\n",
       "        vertical-align: top;\n",
       "    }\n",
       "\n",
       "    .dataframe thead th {\n",
       "        text-align: right;\n",
       "    }\n",
       "</style>\n",
       "<table border=\"1\" class=\"dataframe\">\n",
       "  <thead>\n",
       "    <tr style=\"text-align: right;\">\n",
       "      <th></th>\n",
       "      <th>model_ids</th>\n",
       "      <th>sampling_method</th>\n",
       "      <th>test_lp_acc1</th>\n",
       "    </tr>\n",
       "  </thead>\n",
       "  <tbody>\n",
       "    <tr>\n",
       "      <th>358</th>\n",
       "      <td>\"[\\\"OpenCLIP_EVA02-L-14_merged2b_s4b_b131k\\\", ...</td>\n",
       "      <td>top-k</td>\n",
       "      <td>0.7996</td>\n",
       "    </tr>\n",
       "    <tr>\n",
       "      <th>359</th>\n",
       "      <td>\"[\\\"OpenCLIP_EVA02-L-14_merged2b_s4b_b131k\\\", ...</td>\n",
       "      <td>top-k</td>\n",
       "      <td>0.7996</td>\n",
       "    </tr>\n",
       "    <tr>\n",
       "      <th>2206</th>\n",
       "      <td>\"[\\\"OpenCLIP_EVA02-L-14_merged2b_s4b_b131k\\\", ...</td>\n",
       "      <td>top-k</td>\n",
       "      <td>0.7996</td>\n",
       "    </tr>\n",
       "    <tr>\n",
       "      <th>2207</th>\n",
       "      <td>\"[\\\"OpenCLIP_EVA02-L-14_merged2b_s4b_b131k\\\", ...</td>\n",
       "      <td>top-k</td>\n",
       "      <td>0.7996</td>\n",
       "    </tr>\n",
       "  </tbody>\n",
       "</table>\n",
       "</div>"
      ],
      "text/plain": [
       "                                              model_ids sampling_method  \\\n",
       "358   \"[\\\"OpenCLIP_EVA02-L-14_merged2b_s4b_b131k\\\", ...           top-k   \n",
       "359   \"[\\\"OpenCLIP_EVA02-L-14_merged2b_s4b_b131k\\\", ...           top-k   \n",
       "2206  \"[\\\"OpenCLIP_EVA02-L-14_merged2b_s4b_b131k\\\", ...           top-k   \n",
       "2207  \"[\\\"OpenCLIP_EVA02-L-14_merged2b_s4b_b131k\\\", ...           top-k   \n",
       "\n",
       "      test_lp_acc1  \n",
       "358         0.7996  \n",
       "359         0.7996  \n",
       "2206        0.7996  \n",
       "2207        0.7996  "
      ]
     },
     "execution_count": 6,
     "metadata": {},
     "output_type": "execute_result"
    }
   ],
   "source": [
    " df[df['test_lp_acc1'] == df['test_lp_acc1'].max()][[\"model_ids\", \"sampling_method\", \"test_lp_acc1\"]]"
   ]
  },
  {
   "cell_type": "markdown",
   "metadata": {},
   "source": [
    "### Combined models: Iterating over datasets"
   ]
  },
  {
   "cell_type": "code",
   "execution_count": 8,
   "metadata": {
    "ExecuteTime": {
     "end_time": "2024-06-21T12:00:32.367344Z",
     "start_time": "2024-06-21T12:00:32.103293Z"
    }
   },
   "outputs": [
    {
     "data": {
      "text/html": [
       "<div>\n",
       "<style scoped>\n",
       "    .dataframe tbody tr th:only-of-type {\n",
       "        vertical-align: middle;\n",
       "    }\n",
       "\n",
       "    .dataframe tbody tr th {\n",
       "        vertical-align: top;\n",
       "    }\n",
       "\n",
       "    .dataframe thead th {\n",
       "        text-align: right;\n",
       "    }\n",
       "</style>\n",
       "<table border=\"1\" class=\"dataframe\">\n",
       "  <thead>\n",
       "    <tr style=\"text-align: right;\">\n",
       "      <th></th>\n",
       "      <th>model_ids</th>\n",
       "      <th>sampling_method</th>\n",
       "      <th>test_lp_acc1</th>\n",
       "    </tr>\n",
       "  </thead>\n",
       "  <tbody>\n",
       "    <tr>\n",
       "      <th>4140</th>\n",
       "      <td>\"[\\\"OpenCLIP_EVA02-L-14_merged2b_s4b_b131k\\\", ...</td>\n",
       "      <td>one_cluster</td>\n",
       "      <td>0.7584</td>\n",
       "    </tr>\n",
       "    <tr>\n",
       "      <th>4143</th>\n",
       "      <td>\"[\\\"OpenCLIP_EVA02-L-14_merged2b_s4b_b131k\\\", ...</td>\n",
       "      <td>one_cluster</td>\n",
       "      <td>0.7584</td>\n",
       "    </tr>\n",
       "  </tbody>\n",
       "</table>\n",
       "</div>"
      ],
      "text/plain": [
       "                                              model_ids sampling_method  \\\n",
       "4140  \"[\\\"OpenCLIP_EVA02-L-14_merged2b_s4b_b131k\\\", ...     one_cluster   \n",
       "4143  \"[\\\"OpenCLIP_EVA02-L-14_merged2b_s4b_b131k\\\", ...     one_cluster   \n",
       "\n",
       "      test_lp_acc1  \n",
       "4140        0.7584  \n",
       "4143        0.7584  "
      ]
     },
     "metadata": {},
     "output_type": "display_data"
    },
    {
     "name": "stdout",
     "output_type": "stream",
     "text": [
      "wds_imagenet-a [OpenCLIP_EVA02-L-14_merged2b_s4b_b131k, dinov2-vit-large-p14, swin_base_patch4_window7_224]\n"
     ]
    },
    {
     "data": {
      "text/html": [
       "<div>\n",
       "<style scoped>\n",
       "    .dataframe tbody tr th:only-of-type {\n",
       "        vertical-align: middle;\n",
       "    }\n",
       "\n",
       "    .dataframe tbody tr th {\n",
       "        vertical-align: top;\n",
       "    }\n",
       "\n",
       "    .dataframe thead th {\n",
       "        text-align: right;\n",
       "    }\n",
       "</style>\n",
       "<table border=\"1\" class=\"dataframe\">\n",
       "  <thead>\n",
       "    <tr style=\"text-align: right;\">\n",
       "      <th></th>\n",
       "      <th>model_ids</th>\n",
       "      <th>sampling_method</th>\n",
       "      <th>test_lp_acc1</th>\n",
       "    </tr>\n",
       "  </thead>\n",
       "  <tbody>\n",
       "    <tr>\n",
       "      <th>1755</th>\n",
       "      <td>\"[\\\"OpenCLIP_EVA01-g-14_laion400m_s11b_b41k\\\",...</td>\n",
       "      <td>one_cluster</td>\n",
       "      <td>0.8917</td>\n",
       "    </tr>\n",
       "    <tr>\n",
       "      <th>1862</th>\n",
       "      <td>\"[\\\"OpenCLIP_EVA01-g-14_laion400m_s11b_b41k\\\",...</td>\n",
       "      <td>one_cluster</td>\n",
       "      <td>0.8917</td>\n",
       "    </tr>\n",
       "    <tr>\n",
       "      <th>3526</th>\n",
       "      <td>\"[\\\"OpenCLIP_EVA01-g-14_laion400m_s11b_b41k\\\",...</td>\n",
       "      <td>one_cluster</td>\n",
       "      <td>0.8917</td>\n",
       "    </tr>\n",
       "  </tbody>\n",
       "</table>\n",
       "</div>"
      ],
      "text/plain": [
       "                                              model_ids sampling_method  \\\n",
       "1755  \"[\\\"OpenCLIP_EVA01-g-14_laion400m_s11b_b41k\\\",...     one_cluster   \n",
       "1862  \"[\\\"OpenCLIP_EVA01-g-14_laion400m_s11b_b41k\\\",...     one_cluster   \n",
       "3526  \"[\\\"OpenCLIP_EVA01-g-14_laion400m_s11b_b41k\\\",...     one_cluster   \n",
       "\n",
       "      test_lp_acc1  \n",
       "1755        0.8917  \n",
       "1862        0.8917  \n",
       "3526        0.8917  "
      ]
     },
     "metadata": {},
     "output_type": "display_data"
    },
    {
     "name": "stdout",
     "output_type": "stream",
     "text": [
      "wds_imagenet-r [OpenCLIP_EVA01-g-14_laion400m_s11b_b41k, dinov2-vit-large-p14_gLocal, efficientnet_b4]\n"
     ]
    },
    {
     "data": {
      "text/html": [
       "<div>\n",
       "<style scoped>\n",
       "    .dataframe tbody tr th:only-of-type {\n",
       "        vertical-align: middle;\n",
       "    }\n",
       "\n",
       "    .dataframe tbody tr th {\n",
       "        vertical-align: top;\n",
       "    }\n",
       "\n",
       "    .dataframe thead th {\n",
       "        text-align: right;\n",
       "    }\n",
       "</style>\n",
       "<table border=\"1\" class=\"dataframe\">\n",
       "  <thead>\n",
       "    <tr style=\"text-align: right;\">\n",
       "      <th></th>\n",
       "      <th>model_ids</th>\n",
       "      <th>sampling_method</th>\n",
       "      <th>test_lp_acc1</th>\n",
       "    </tr>\n",
       "  </thead>\n",
       "  <tbody>\n",
       "    <tr>\n",
       "      <th>4135</th>\n",
       "      <td>\"[\\\"OpenCLIP_EVA02-L-14_merged2b_s4b_b131k\\\", ...</td>\n",
       "      <td>one_cluster</td>\n",
       "      <td>0.664957</td>\n",
       "    </tr>\n",
       "  </tbody>\n",
       "</table>\n",
       "</div>"
      ],
      "text/plain": [
       "                                              model_ids sampling_method  \\\n",
       "4135  \"[\\\"OpenCLIP_EVA02-L-14_merged2b_s4b_b131k\\\", ...     one_cluster   \n",
       "\n",
       "      test_lp_acc1  \n",
       "4135      0.664957  "
      ]
     },
     "metadata": {},
     "output_type": "display_data"
    },
    {
     "name": "stdout",
     "output_type": "stream",
     "text": [
      "wds_imagenet_sketch [OpenCLIP_EVA02-L-14_merged2b_s4b_b131k, dinov2-vit-large-p14, swin_base_patch4_window7_224]\n"
     ]
    },
    {
     "data": {
      "text/html": [
       "<div>\n",
       "<style scoped>\n",
       "    .dataframe tbody tr th:only-of-type {\n",
       "        vertical-align: middle;\n",
       "    }\n",
       "\n",
       "    .dataframe tbody tr th {\n",
       "        vertical-align: top;\n",
       "    }\n",
       "\n",
       "    .dataframe thead th {\n",
       "        text-align: right;\n",
       "    }\n",
       "</style>\n",
       "<table border=\"1\" class=\"dataframe\">\n",
       "  <thead>\n",
       "    <tr style=\"text-align: right;\">\n",
       "      <th></th>\n",
       "      <th>model_ids</th>\n",
       "      <th>sampling_method</th>\n",
       "      <th>test_lp_acc1</th>\n",
       "    </tr>\n",
       "  </thead>\n",
       "  <tbody>\n",
       "    <tr>\n",
       "      <th>358</th>\n",
       "      <td>\"[\\\"OpenCLIP_EVA02-L-14_merged2b_s4b_b131k\\\", ...</td>\n",
       "      <td>top-k</td>\n",
       "      <td>0.7996</td>\n",
       "    </tr>\n",
       "    <tr>\n",
       "      <th>359</th>\n",
       "      <td>\"[\\\"OpenCLIP_EVA02-L-14_merged2b_s4b_b131k\\\", ...</td>\n",
       "      <td>top-k</td>\n",
       "      <td>0.7996</td>\n",
       "    </tr>\n",
       "    <tr>\n",
       "      <th>2206</th>\n",
       "      <td>\"[\\\"OpenCLIP_EVA02-L-14_merged2b_s4b_b131k\\\", ...</td>\n",
       "      <td>top-k</td>\n",
       "      <td>0.7996</td>\n",
       "    </tr>\n",
       "    <tr>\n",
       "      <th>2207</th>\n",
       "      <td>\"[\\\"OpenCLIP_EVA02-L-14_merged2b_s4b_b131k\\\", ...</td>\n",
       "      <td>top-k</td>\n",
       "      <td>0.7996</td>\n",
       "    </tr>\n",
       "  </tbody>\n",
       "</table>\n",
       "</div>"
      ],
      "text/plain": [
       "                                              model_ids sampling_method  \\\n",
       "358   \"[\\\"OpenCLIP_EVA02-L-14_merged2b_s4b_b131k\\\", ...           top-k   \n",
       "359   \"[\\\"OpenCLIP_EVA02-L-14_merged2b_s4b_b131k\\\", ...           top-k   \n",
       "2206  \"[\\\"OpenCLIP_EVA02-L-14_merged2b_s4b_b131k\\\", ...           top-k   \n",
       "2207  \"[\\\"OpenCLIP_EVA02-L-14_merged2b_s4b_b131k\\\", ...           top-k   \n",
       "\n",
       "      test_lp_acc1  \n",
       "358         0.7996  \n",
       "359         0.7996  \n",
       "2206        0.7996  \n",
       "2207        0.7996  "
      ]
     },
     "metadata": {},
     "output_type": "display_data"
    },
    {
     "name": "stdout",
     "output_type": "stream",
     "text": [
      "wds_imagenetv2 [OpenCLIP_EVA02-L-14_merged2b_s4b_b131k, convnext_large, deit3_large_patch16_224.fb_in22k_ft_in1k]\n"
     ]
    }
   ],
   "source": [
    "for ds in ood_datasets:\n",
    "    path = path = os.path.join(OUTPUT_ROOT, ds+\"/combined_models/results_imagenet1k.pkl\")\n",
    "    df = pd.read_pickle(path)\n",
    "    to_display=df[df['test_lp_acc1'] == df['test_lp_acc1'].max()][[\"model_ids\", \"sampling_method\", \"test_lp_acc1\"]]\n",
    "    display(to_display)\n",
    "    print(ds, to_display[\"model_ids\"].iloc[0].replace('\"','').replace('\\\\',''))"
   ]
  }
 ],
 "metadata": {
  "kernelspec": {
   "display_name": "divers",
   "language": "python",
   "name": "divers"
  },
  "language_info": {
   "codemirror_mode": {
    "name": "ipython",
    "version": 3
   },
   "file_extension": ".py",
   "mimetype": "text/x-python",
   "name": "python",
   "nbconvert_exporter": "python",
   "pygments_lexer": "ipython3",
   "version": "3.9.18"
  }
 },
 "nbformat": 4,
 "nbformat_minor": 2
}
